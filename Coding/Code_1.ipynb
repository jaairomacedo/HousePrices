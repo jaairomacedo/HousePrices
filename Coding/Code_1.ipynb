{
 "cells": [
  {
   "cell_type": "markdown",
   "metadata": {},
   "source": [
    "<span style=\"font-size: 15px;\">\n",
    " ----------------------------------------------------------------- <br>\n",
    " Project: House Prices Prediction <br>\n",
    " Author: Jairo Macedo <br>\n",
    " Created: June 2024 <br>\n",
    " Last Modified: [04, 2025] | By: Jairo Macedo <br>\n",
    " ----------------------------------------------------------------- <br>\n",
    " Description: <br>\n",
    " This Python notebook contains the code and analysis for the project <br>\n",
    " \"House Prices Prediction\". The goal is to model and predict house prices <br>\n",
    " using a variety of property features. The dataset comes from a Kaggle <br>\n",
    " competition and includes rich details about homes and their sale prices. <br>\n",
    " ----------------------------------------------------------------- <br>\n",
    " The analysis is structured as follows: <br>\n",
    " 1. Data Import and Exploration: Loading and understanding the dataset. <br>\n",
    " 2. Feature Engineering: Creating and selecting relevant variables. <br>\n",
    " 3. Modeling: Applying and tuning machine learning models to predict prices. <br>\n",
    " 4. Evaluation: Assessing model performance and accuracy. <br>\n",
    " 5. Submission: Preparing results for Kaggle submission. <br>\n",
    " ----------------------------------------------------------------- <br>\n",
    "\n",
    "<br>\n",
    "<b>File Descriptions</b> <br>\n",
    "- <code>train.csv</code> – The training set <br>\n",
    "- <code>test.csv</code> – The test set <br>\n",
    "- <code>data_description.txt</code> – Full description of each column, originally prepared by Dean De Cock but lightly edited to match the column names used here <br>\n",
    "- <code>sample_submission.csv</code> – A benchmark submission from a linear regression on year and month of sale, lot square footage, and number of bedrooms <br>\n",
    "</span>\n"
   ]
  },
  {
   "cell_type": "markdown",
   "metadata": {},
   "source": [
    "# Packages ⚙️ and data 🗂️"
   ]
  },
  {
   "cell_type": "code",
   "execution_count": 321,
   "metadata": {},
   "outputs": [],
   "source": [
    "# ================================\n",
    "# Data Handling and Utilities\n",
    "# ================================\n",
    "import pandas as pd            # Data manipulation\n",
    "import numpy as np             # Numerical operations\n",
    "\n",
    "import matplotlib.pyplot as plt # Visualization and diagnostic plots\n",
    "\n",
    "import zipfile                 # Reading compressed .zip files\n",
    "from support import zip_path   # Path to the .zip file\n",
    "from support import results_path  # Importing the path for saving results\n",
    "\n",
    "import matplotlib.pyplot as plt\n",
    "import seaborn as sns\n",
    "\n",
    "# ================================\n",
    "# Machine Learning Models\n",
    "# ================================\n",
    "from sklearn.model_selection import train_test_split   # Splitting dataset into training and testing sets\n",
    "from sklearn.linear_model import LinearRegression      # Ordinary Least Squares (baseline model)\n",
    "from sklearn import tree                               # Decision Tree Regressor (non-parametric model)\n",
    "from sklearn.neighbors import KNeighborsRegressor      # K-Nearest Neighbors Regressor (non-parametric model)\n",
    "\n",
    "# ================================\n",
    "# Model Evaluation Metrics\n",
    "# ================================\n",
    "from sklearn.metrics import mean_absolute_error        # Mean Absolute Error (MAE)\n",
    "from sklearn.metrics import mean_squared_error         # Mean Squared Error (MSE and RMSE)\n",
    "from sklearn.metrics import r2_score                   # R-squared (goodness-of-fit)"
   ]
  },
  {
   "cell_type": "code",
   "execution_count": 322,
   "metadata": {},
   "outputs": [],
   "source": [
    "# Setting the global random seed for reproducibility\n",
    "np.random.seed(42)"
   ]
  },
  {
   "cell_type": "code",
   "execution_count": 323,
   "metadata": {},
   "outputs": [],
   "source": [
    "# Open the zip and read train.csv directly\n",
    "with zipfile.ZipFile(zip_path) as z:\n",
    "    with z.open('train.csv') as f:\n",
    "        df_train = pd.read_csv(f)"
   ]
  },
  {
   "cell_type": "code",
   "execution_count": 324,
   "metadata": {},
   "outputs": [],
   "source": [
    "# Open the zip and read test.csv directly\n",
    "with zipfile.ZipFile(zip_path) as z:\n",
    "    with z.open('test.csv') as f:\n",
    "        df_test = pd.read_csv(f)"
   ]
  },
  {
   "cell_type": "markdown",
   "metadata": {},
   "source": [
    "# Hi, data! 👋"
   ]
  },
  {
   "cell_type": "markdown",
   "metadata": {},
   "source": [
    "### Explore it"
   ]
  },
  {
   "cell_type": "code",
   "execution_count": 325,
   "metadata": {},
   "outputs": [
    {
     "data": {
      "application/vnd.microsoft.datawrangler.viewer.v0+json": {
       "columns": [
        {
         "name": "index",
         "rawType": "int64",
         "type": "integer"
        },
        {
         "name": "Id",
         "rawType": "int64",
         "type": "integer"
        },
        {
         "name": "MSSubClass",
         "rawType": "int64",
         "type": "integer"
        },
        {
         "name": "MSZoning",
         "rawType": "object",
         "type": "string"
        },
        {
         "name": "LotFrontage",
         "rawType": "float64",
         "type": "float"
        },
        {
         "name": "LotArea",
         "rawType": "int64",
         "type": "integer"
        },
        {
         "name": "Street",
         "rawType": "object",
         "type": "string"
        },
        {
         "name": "Alley",
         "rawType": "object",
         "type": "unknown"
        },
        {
         "name": "LotShape",
         "rawType": "object",
         "type": "string"
        },
        {
         "name": "LandContour",
         "rawType": "object",
         "type": "string"
        },
        {
         "name": "Utilities",
         "rawType": "object",
         "type": "string"
        },
        {
         "name": "LotConfig",
         "rawType": "object",
         "type": "string"
        },
        {
         "name": "LandSlope",
         "rawType": "object",
         "type": "string"
        },
        {
         "name": "Neighborhood",
         "rawType": "object",
         "type": "string"
        },
        {
         "name": "Condition1",
         "rawType": "object",
         "type": "string"
        },
        {
         "name": "Condition2",
         "rawType": "object",
         "type": "string"
        },
        {
         "name": "BldgType",
         "rawType": "object",
         "type": "string"
        },
        {
         "name": "HouseStyle",
         "rawType": "object",
         "type": "string"
        },
        {
         "name": "OverallQual",
         "rawType": "int64",
         "type": "integer"
        },
        {
         "name": "OverallCond",
         "rawType": "int64",
         "type": "integer"
        },
        {
         "name": "YearBuilt",
         "rawType": "int64",
         "type": "integer"
        },
        {
         "name": "YearRemodAdd",
         "rawType": "int64",
         "type": "integer"
        },
        {
         "name": "RoofStyle",
         "rawType": "object",
         "type": "string"
        },
        {
         "name": "RoofMatl",
         "rawType": "object",
         "type": "string"
        },
        {
         "name": "Exterior1st",
         "rawType": "object",
         "type": "string"
        },
        {
         "name": "Exterior2nd",
         "rawType": "object",
         "type": "string"
        },
        {
         "name": "MasVnrType",
         "rawType": "object",
         "type": "unknown"
        },
        {
         "name": "MasVnrArea",
         "rawType": "float64",
         "type": "float"
        },
        {
         "name": "ExterQual",
         "rawType": "object",
         "type": "string"
        },
        {
         "name": "ExterCond",
         "rawType": "object",
         "type": "string"
        },
        {
         "name": "Foundation",
         "rawType": "object",
         "type": "string"
        },
        {
         "name": "BsmtQual",
         "rawType": "object",
         "type": "string"
        },
        {
         "name": "BsmtCond",
         "rawType": "object",
         "type": "string"
        },
        {
         "name": "BsmtExposure",
         "rawType": "object",
         "type": "string"
        },
        {
         "name": "BsmtFinType1",
         "rawType": "object",
         "type": "string"
        },
        {
         "name": "BsmtFinSF1",
         "rawType": "int64",
         "type": "integer"
        },
        {
         "name": "BsmtFinType2",
         "rawType": "object",
         "type": "string"
        },
        {
         "name": "BsmtFinSF2",
         "rawType": "int64",
         "type": "integer"
        },
        {
         "name": "BsmtUnfSF",
         "rawType": "int64",
         "type": "integer"
        },
        {
         "name": "TotalBsmtSF",
         "rawType": "int64",
         "type": "integer"
        },
        {
         "name": "Heating",
         "rawType": "object",
         "type": "string"
        },
        {
         "name": "HeatingQC",
         "rawType": "object",
         "type": "string"
        },
        {
         "name": "CentralAir",
         "rawType": "object",
         "type": "string"
        },
        {
         "name": "Electrical",
         "rawType": "object",
         "type": "string"
        },
        {
         "name": "1stFlrSF",
         "rawType": "int64",
         "type": "integer"
        },
        {
         "name": "2ndFlrSF",
         "rawType": "int64",
         "type": "integer"
        },
        {
         "name": "LowQualFinSF",
         "rawType": "int64",
         "type": "integer"
        },
        {
         "name": "GrLivArea",
         "rawType": "int64",
         "type": "integer"
        },
        {
         "name": "BsmtFullBath",
         "rawType": "int64",
         "type": "integer"
        },
        {
         "name": "BsmtHalfBath",
         "rawType": "int64",
         "type": "integer"
        },
        {
         "name": "FullBath",
         "rawType": "int64",
         "type": "integer"
        },
        {
         "name": "HalfBath",
         "rawType": "int64",
         "type": "integer"
        },
        {
         "name": "BedroomAbvGr",
         "rawType": "int64",
         "type": "integer"
        },
        {
         "name": "KitchenAbvGr",
         "rawType": "int64",
         "type": "integer"
        },
        {
         "name": "KitchenQual",
         "rawType": "object",
         "type": "string"
        },
        {
         "name": "TotRmsAbvGrd",
         "rawType": "int64",
         "type": "integer"
        },
        {
         "name": "Functional",
         "rawType": "object",
         "type": "string"
        },
        {
         "name": "Fireplaces",
         "rawType": "int64",
         "type": "integer"
        },
        {
         "name": "FireplaceQu",
         "rawType": "object",
         "type": "unknown"
        },
        {
         "name": "GarageType",
         "rawType": "object",
         "type": "string"
        },
        {
         "name": "GarageYrBlt",
         "rawType": "float64",
         "type": "float"
        },
        {
         "name": "GarageFinish",
         "rawType": "object",
         "type": "string"
        },
        {
         "name": "GarageCars",
         "rawType": "int64",
         "type": "integer"
        },
        {
         "name": "GarageArea",
         "rawType": "int64",
         "type": "integer"
        },
        {
         "name": "GarageQual",
         "rawType": "object",
         "type": "string"
        },
        {
         "name": "GarageCond",
         "rawType": "object",
         "type": "string"
        },
        {
         "name": "PavedDrive",
         "rawType": "object",
         "type": "string"
        },
        {
         "name": "WoodDeckSF",
         "rawType": "int64",
         "type": "integer"
        },
        {
         "name": "OpenPorchSF",
         "rawType": "int64",
         "type": "integer"
        },
        {
         "name": "EnclosedPorch",
         "rawType": "int64",
         "type": "integer"
        },
        {
         "name": "3SsnPorch",
         "rawType": "int64",
         "type": "integer"
        },
        {
         "name": "ScreenPorch",
         "rawType": "int64",
         "type": "integer"
        },
        {
         "name": "PoolArea",
         "rawType": "int64",
         "type": "integer"
        },
        {
         "name": "PoolQC",
         "rawType": "object",
         "type": "unknown"
        },
        {
         "name": "Fence",
         "rawType": "object",
         "type": "unknown"
        },
        {
         "name": "MiscFeature",
         "rawType": "object",
         "type": "unknown"
        },
        {
         "name": "MiscVal",
         "rawType": "int64",
         "type": "integer"
        },
        {
         "name": "MoSold",
         "rawType": "int64",
         "type": "integer"
        },
        {
         "name": "YrSold",
         "rawType": "int64",
         "type": "integer"
        },
        {
         "name": "SaleType",
         "rawType": "object",
         "type": "string"
        },
        {
         "name": "SaleCondition",
         "rawType": "object",
         "type": "string"
        },
        {
         "name": "SalePrice",
         "rawType": "int64",
         "type": "integer"
        }
       ],
       "conversionMethod": "pd.DataFrame",
       "ref": "dc799167-e0eb-4c55-954a-340190070970",
       "rows": [
        [
         "0",
         "1",
         "60",
         "RL",
         "65.0",
         "8450",
         "Pave",
         null,
         "Reg",
         "Lvl",
         "AllPub",
         "Inside",
         "Gtl",
         "CollgCr",
         "Norm",
         "Norm",
         "1Fam",
         "2Story",
         "7",
         "5",
         "2003",
         "2003",
         "Gable",
         "CompShg",
         "VinylSd",
         "VinylSd",
         "BrkFace",
         "196.0",
         "Gd",
         "TA",
         "PConc",
         "Gd",
         "TA",
         "No",
         "GLQ",
         "706",
         "Unf",
         "0",
         "150",
         "856",
         "GasA",
         "Ex",
         "Y",
         "SBrkr",
         "856",
         "854",
         "0",
         "1710",
         "1",
         "0",
         "2",
         "1",
         "3",
         "1",
         "Gd",
         "8",
         "Typ",
         "0",
         null,
         "Attchd",
         "2003.0",
         "RFn",
         "2",
         "548",
         "TA",
         "TA",
         "Y",
         "0",
         "61",
         "0",
         "0",
         "0",
         "0",
         null,
         null,
         null,
         "0",
         "2",
         "2008",
         "WD",
         "Normal",
         "208500"
        ],
        [
         "1",
         "2",
         "20",
         "RL",
         "80.0",
         "9600",
         "Pave",
         null,
         "Reg",
         "Lvl",
         "AllPub",
         "FR2",
         "Gtl",
         "Veenker",
         "Feedr",
         "Norm",
         "1Fam",
         "1Story",
         "6",
         "8",
         "1976",
         "1976",
         "Gable",
         "CompShg",
         "MetalSd",
         "MetalSd",
         null,
         "0.0",
         "TA",
         "TA",
         "CBlock",
         "Gd",
         "TA",
         "Gd",
         "ALQ",
         "978",
         "Unf",
         "0",
         "284",
         "1262",
         "GasA",
         "Ex",
         "Y",
         "SBrkr",
         "1262",
         "0",
         "0",
         "1262",
         "0",
         "1",
         "2",
         "0",
         "3",
         "1",
         "TA",
         "6",
         "Typ",
         "1",
         "TA",
         "Attchd",
         "1976.0",
         "RFn",
         "2",
         "460",
         "TA",
         "TA",
         "Y",
         "298",
         "0",
         "0",
         "0",
         "0",
         "0",
         null,
         null,
         null,
         "0",
         "5",
         "2007",
         "WD",
         "Normal",
         "181500"
        ],
        [
         "2",
         "3",
         "60",
         "RL",
         "68.0",
         "11250",
         "Pave",
         null,
         "IR1",
         "Lvl",
         "AllPub",
         "Inside",
         "Gtl",
         "CollgCr",
         "Norm",
         "Norm",
         "1Fam",
         "2Story",
         "7",
         "5",
         "2001",
         "2002",
         "Gable",
         "CompShg",
         "VinylSd",
         "VinylSd",
         "BrkFace",
         "162.0",
         "Gd",
         "TA",
         "PConc",
         "Gd",
         "TA",
         "Mn",
         "GLQ",
         "486",
         "Unf",
         "0",
         "434",
         "920",
         "GasA",
         "Ex",
         "Y",
         "SBrkr",
         "920",
         "866",
         "0",
         "1786",
         "1",
         "0",
         "2",
         "1",
         "3",
         "1",
         "Gd",
         "6",
         "Typ",
         "1",
         "TA",
         "Attchd",
         "2001.0",
         "RFn",
         "2",
         "608",
         "TA",
         "TA",
         "Y",
         "0",
         "42",
         "0",
         "0",
         "0",
         "0",
         null,
         null,
         null,
         "0",
         "9",
         "2008",
         "WD",
         "Normal",
         "223500"
        ]
       ],
       "shape": {
        "columns": 81,
        "rows": 3
       }
      },
      "text/html": [
       "<div>\n",
       "<style scoped>\n",
       "    .dataframe tbody tr th:only-of-type {\n",
       "        vertical-align: middle;\n",
       "    }\n",
       "\n",
       "    .dataframe tbody tr th {\n",
       "        vertical-align: top;\n",
       "    }\n",
       "\n",
       "    .dataframe thead th {\n",
       "        text-align: right;\n",
       "    }\n",
       "</style>\n",
       "<table border=\"1\" class=\"dataframe\">\n",
       "  <thead>\n",
       "    <tr style=\"text-align: right;\">\n",
       "      <th></th>\n",
       "      <th>Id</th>\n",
       "      <th>MSSubClass</th>\n",
       "      <th>MSZoning</th>\n",
       "      <th>LotFrontage</th>\n",
       "      <th>LotArea</th>\n",
       "      <th>Street</th>\n",
       "      <th>Alley</th>\n",
       "      <th>LotShape</th>\n",
       "      <th>LandContour</th>\n",
       "      <th>Utilities</th>\n",
       "      <th>...</th>\n",
       "      <th>PoolArea</th>\n",
       "      <th>PoolQC</th>\n",
       "      <th>Fence</th>\n",
       "      <th>MiscFeature</th>\n",
       "      <th>MiscVal</th>\n",
       "      <th>MoSold</th>\n",
       "      <th>YrSold</th>\n",
       "      <th>SaleType</th>\n",
       "      <th>SaleCondition</th>\n",
       "      <th>SalePrice</th>\n",
       "    </tr>\n",
       "  </thead>\n",
       "  <tbody>\n",
       "    <tr>\n",
       "      <th>0</th>\n",
       "      <td>1</td>\n",
       "      <td>60</td>\n",
       "      <td>RL</td>\n",
       "      <td>65.0</td>\n",
       "      <td>8450</td>\n",
       "      <td>Pave</td>\n",
       "      <td>NaN</td>\n",
       "      <td>Reg</td>\n",
       "      <td>Lvl</td>\n",
       "      <td>AllPub</td>\n",
       "      <td>...</td>\n",
       "      <td>0</td>\n",
       "      <td>NaN</td>\n",
       "      <td>NaN</td>\n",
       "      <td>NaN</td>\n",
       "      <td>0</td>\n",
       "      <td>2</td>\n",
       "      <td>2008</td>\n",
       "      <td>WD</td>\n",
       "      <td>Normal</td>\n",
       "      <td>208500</td>\n",
       "    </tr>\n",
       "    <tr>\n",
       "      <th>1</th>\n",
       "      <td>2</td>\n",
       "      <td>20</td>\n",
       "      <td>RL</td>\n",
       "      <td>80.0</td>\n",
       "      <td>9600</td>\n",
       "      <td>Pave</td>\n",
       "      <td>NaN</td>\n",
       "      <td>Reg</td>\n",
       "      <td>Lvl</td>\n",
       "      <td>AllPub</td>\n",
       "      <td>...</td>\n",
       "      <td>0</td>\n",
       "      <td>NaN</td>\n",
       "      <td>NaN</td>\n",
       "      <td>NaN</td>\n",
       "      <td>0</td>\n",
       "      <td>5</td>\n",
       "      <td>2007</td>\n",
       "      <td>WD</td>\n",
       "      <td>Normal</td>\n",
       "      <td>181500</td>\n",
       "    </tr>\n",
       "    <tr>\n",
       "      <th>2</th>\n",
       "      <td>3</td>\n",
       "      <td>60</td>\n",
       "      <td>RL</td>\n",
       "      <td>68.0</td>\n",
       "      <td>11250</td>\n",
       "      <td>Pave</td>\n",
       "      <td>NaN</td>\n",
       "      <td>IR1</td>\n",
       "      <td>Lvl</td>\n",
       "      <td>AllPub</td>\n",
       "      <td>...</td>\n",
       "      <td>0</td>\n",
       "      <td>NaN</td>\n",
       "      <td>NaN</td>\n",
       "      <td>NaN</td>\n",
       "      <td>0</td>\n",
       "      <td>9</td>\n",
       "      <td>2008</td>\n",
       "      <td>WD</td>\n",
       "      <td>Normal</td>\n",
       "      <td>223500</td>\n",
       "    </tr>\n",
       "  </tbody>\n",
       "</table>\n",
       "<p>3 rows × 81 columns</p>\n",
       "</div>"
      ],
      "text/plain": [
       "   Id  MSSubClass MSZoning  LotFrontage  LotArea Street Alley LotShape  \\\n",
       "0   1          60       RL         65.0     8450   Pave   NaN      Reg   \n",
       "1   2          20       RL         80.0     9600   Pave   NaN      Reg   \n",
       "2   3          60       RL         68.0    11250   Pave   NaN      IR1   \n",
       "\n",
       "  LandContour Utilities  ... PoolArea PoolQC Fence MiscFeature MiscVal MoSold  \\\n",
       "0         Lvl    AllPub  ...        0    NaN   NaN         NaN       0      2   \n",
       "1         Lvl    AllPub  ...        0    NaN   NaN         NaN       0      5   \n",
       "2         Lvl    AllPub  ...        0    NaN   NaN         NaN       0      9   \n",
       "\n",
       "  YrSold  SaleType  SaleCondition  SalePrice  \n",
       "0   2008        WD         Normal     208500  \n",
       "1   2007        WD         Normal     181500  \n",
       "2   2008        WD         Normal     223500  \n",
       "\n",
       "[3 rows x 81 columns]"
      ]
     },
     "execution_count": 325,
     "metadata": {},
     "output_type": "execute_result"
    }
   ],
   "source": [
    "df_train.head(3)"
   ]
  },
  {
   "cell_type": "code",
   "execution_count": 326,
   "metadata": {},
   "outputs": [
    {
     "name": "stdout",
     "output_type": "stream",
     "text": [
      "<class 'pandas.core.frame.DataFrame'>\n",
      "RangeIndex: 1460 entries, 0 to 1459\n",
      "Data columns (total 81 columns):\n",
      " #   Column         Non-Null Count  Dtype  \n",
      "---  ------         --------------  -----  \n",
      " 0   Id             1460 non-null   int64  \n",
      " 1   MSSubClass     1460 non-null   int64  \n",
      " 2   MSZoning       1460 non-null   object \n",
      " 3   LotFrontage    1201 non-null   float64\n",
      " 4   LotArea        1460 non-null   int64  \n",
      " 5   Street         1460 non-null   object \n",
      " 6   Alley          91 non-null     object \n",
      " 7   LotShape       1460 non-null   object \n",
      " 8   LandContour    1460 non-null   object \n",
      " 9   Utilities      1460 non-null   object \n",
      " 10  LotConfig      1460 non-null   object \n",
      " 11  LandSlope      1460 non-null   object \n",
      " 12  Neighborhood   1460 non-null   object \n",
      " 13  Condition1     1460 non-null   object \n",
      " 14  Condition2     1460 non-null   object \n",
      " 15  BldgType       1460 non-null   object \n",
      " 16  HouseStyle     1460 non-null   object \n",
      " 17  OverallQual    1460 non-null   int64  \n",
      " 18  OverallCond    1460 non-null   int64  \n",
      " 19  YearBuilt      1460 non-null   int64  \n",
      " 20  YearRemodAdd   1460 non-null   int64  \n",
      " 21  RoofStyle      1460 non-null   object \n",
      " 22  RoofMatl       1460 non-null   object \n",
      " 23  Exterior1st    1460 non-null   object \n",
      " 24  Exterior2nd    1460 non-null   object \n",
      " 25  MasVnrType     588 non-null    object \n",
      " 26  MasVnrArea     1452 non-null   float64\n",
      " 27  ExterQual      1460 non-null   object \n",
      " 28  ExterCond      1460 non-null   object \n",
      " 29  Foundation     1460 non-null   object \n",
      " 30  BsmtQual       1423 non-null   object \n",
      " 31  BsmtCond       1423 non-null   object \n",
      " 32  BsmtExposure   1422 non-null   object \n",
      " 33  BsmtFinType1   1423 non-null   object \n",
      " 34  BsmtFinSF1     1460 non-null   int64  \n",
      " 35  BsmtFinType2   1422 non-null   object \n",
      " 36  BsmtFinSF2     1460 non-null   int64  \n",
      " 37  BsmtUnfSF      1460 non-null   int64  \n",
      " 38  TotalBsmtSF    1460 non-null   int64  \n",
      " 39  Heating        1460 non-null   object \n",
      " 40  HeatingQC      1460 non-null   object \n",
      " 41  CentralAir     1460 non-null   object \n",
      " 42  Electrical     1459 non-null   object \n",
      " 43  1stFlrSF       1460 non-null   int64  \n",
      " 44  2ndFlrSF       1460 non-null   int64  \n",
      " 45  LowQualFinSF   1460 non-null   int64  \n",
      " 46  GrLivArea      1460 non-null   int64  \n",
      " 47  BsmtFullBath   1460 non-null   int64  \n",
      " 48  BsmtHalfBath   1460 non-null   int64  \n",
      " 49  FullBath       1460 non-null   int64  \n",
      " 50  HalfBath       1460 non-null   int64  \n",
      " 51  BedroomAbvGr   1460 non-null   int64  \n",
      " 52  KitchenAbvGr   1460 non-null   int64  \n",
      " 53  KitchenQual    1460 non-null   object \n",
      " 54  TotRmsAbvGrd   1460 non-null   int64  \n",
      " 55  Functional     1460 non-null   object \n",
      " 56  Fireplaces     1460 non-null   int64  \n",
      " 57  FireplaceQu    770 non-null    object \n",
      " 58  GarageType     1379 non-null   object \n",
      " 59  GarageYrBlt    1379 non-null   float64\n",
      " 60  GarageFinish   1379 non-null   object \n",
      " 61  GarageCars     1460 non-null   int64  \n",
      " 62  GarageArea     1460 non-null   int64  \n",
      " 63  GarageQual     1379 non-null   object \n",
      " 64  GarageCond     1379 non-null   object \n",
      " 65  PavedDrive     1460 non-null   object \n",
      " 66  WoodDeckSF     1460 non-null   int64  \n",
      " 67  OpenPorchSF    1460 non-null   int64  \n",
      " 68  EnclosedPorch  1460 non-null   int64  \n",
      " 69  3SsnPorch      1460 non-null   int64  \n",
      " 70  ScreenPorch    1460 non-null   int64  \n",
      " 71  PoolArea       1460 non-null   int64  \n",
      " 72  PoolQC         7 non-null      object \n",
      " 73  Fence          281 non-null    object \n",
      " 74  MiscFeature    54 non-null     object \n",
      " 75  MiscVal        1460 non-null   int64  \n",
      " 76  MoSold         1460 non-null   int64  \n",
      " 77  YrSold         1460 non-null   int64  \n",
      " 78  SaleType       1460 non-null   object \n",
      " 79  SaleCondition  1460 non-null   object \n",
      " 80  SalePrice      1460 non-null   int64  \n",
      "dtypes: float64(3), int64(35), object(43)\n",
      "memory usage: 924.0+ KB\n"
     ]
    }
   ],
   "source": [
    "df_train.info()"
   ]
  },
  {
   "cell_type": "code",
   "execution_count": 327,
   "metadata": {},
   "outputs": [
    {
     "name": "stdout",
     "output_type": "stream",
     "text": [
      "<class 'pandas.core.frame.DataFrame'>\n",
      "RangeIndex: 1459 entries, 0 to 1458\n",
      "Data columns (total 80 columns):\n",
      " #   Column         Non-Null Count  Dtype  \n",
      "---  ------         --------------  -----  \n",
      " 0   Id             1459 non-null   int64  \n",
      " 1   MSSubClass     1459 non-null   int64  \n",
      " 2   MSZoning       1455 non-null   object \n",
      " 3   LotFrontage    1232 non-null   float64\n",
      " 4   LotArea        1459 non-null   int64  \n",
      " 5   Street         1459 non-null   object \n",
      " 6   Alley          107 non-null    object \n",
      " 7   LotShape       1459 non-null   object \n",
      " 8   LandContour    1459 non-null   object \n",
      " 9   Utilities      1457 non-null   object \n",
      " 10  LotConfig      1459 non-null   object \n",
      " 11  LandSlope      1459 non-null   object \n",
      " 12  Neighborhood   1459 non-null   object \n",
      " 13  Condition1     1459 non-null   object \n",
      " 14  Condition2     1459 non-null   object \n",
      " 15  BldgType       1459 non-null   object \n",
      " 16  HouseStyle     1459 non-null   object \n",
      " 17  OverallQual    1459 non-null   int64  \n",
      " 18  OverallCond    1459 non-null   int64  \n",
      " 19  YearBuilt      1459 non-null   int64  \n",
      " 20  YearRemodAdd   1459 non-null   int64  \n",
      " 21  RoofStyle      1459 non-null   object \n",
      " 22  RoofMatl       1459 non-null   object \n",
      " 23  Exterior1st    1458 non-null   object \n",
      " 24  Exterior2nd    1458 non-null   object \n",
      " 25  MasVnrType     565 non-null    object \n",
      " 26  MasVnrArea     1444 non-null   float64\n",
      " 27  ExterQual      1459 non-null   object \n",
      " 28  ExterCond      1459 non-null   object \n",
      " 29  Foundation     1459 non-null   object \n",
      " 30  BsmtQual       1415 non-null   object \n",
      " 31  BsmtCond       1414 non-null   object \n",
      " 32  BsmtExposure   1415 non-null   object \n",
      " 33  BsmtFinType1   1417 non-null   object \n",
      " 34  BsmtFinSF1     1458 non-null   float64\n",
      " 35  BsmtFinType2   1417 non-null   object \n",
      " 36  BsmtFinSF2     1458 non-null   float64\n",
      " 37  BsmtUnfSF      1458 non-null   float64\n",
      " 38  TotalBsmtSF    1458 non-null   float64\n",
      " 39  Heating        1459 non-null   object \n",
      " 40  HeatingQC      1459 non-null   object \n",
      " 41  CentralAir     1459 non-null   object \n",
      " 42  Electrical     1459 non-null   object \n",
      " 43  1stFlrSF       1459 non-null   int64  \n",
      " 44  2ndFlrSF       1459 non-null   int64  \n",
      " 45  LowQualFinSF   1459 non-null   int64  \n",
      " 46  GrLivArea      1459 non-null   int64  \n",
      " 47  BsmtFullBath   1457 non-null   float64\n",
      " 48  BsmtHalfBath   1457 non-null   float64\n",
      " 49  FullBath       1459 non-null   int64  \n",
      " 50  HalfBath       1459 non-null   int64  \n",
      " 51  BedroomAbvGr   1459 non-null   int64  \n",
      " 52  KitchenAbvGr   1459 non-null   int64  \n",
      " 53  KitchenQual    1458 non-null   object \n",
      " 54  TotRmsAbvGrd   1459 non-null   int64  \n",
      " 55  Functional     1457 non-null   object \n",
      " 56  Fireplaces     1459 non-null   int64  \n",
      " 57  FireplaceQu    729 non-null    object \n",
      " 58  GarageType     1383 non-null   object \n",
      " 59  GarageYrBlt    1381 non-null   float64\n",
      " 60  GarageFinish   1381 non-null   object \n",
      " 61  GarageCars     1458 non-null   float64\n",
      " 62  GarageArea     1458 non-null   float64\n",
      " 63  GarageQual     1381 non-null   object \n",
      " 64  GarageCond     1381 non-null   object \n",
      " 65  PavedDrive     1459 non-null   object \n",
      " 66  WoodDeckSF     1459 non-null   int64  \n",
      " 67  OpenPorchSF    1459 non-null   int64  \n",
      " 68  EnclosedPorch  1459 non-null   int64  \n",
      " 69  3SsnPorch      1459 non-null   int64  \n",
      " 70  ScreenPorch    1459 non-null   int64  \n",
      " 71  PoolArea       1459 non-null   int64  \n",
      " 72  PoolQC         3 non-null      object \n",
      " 73  Fence          290 non-null    object \n",
      " 74  MiscFeature    51 non-null     object \n",
      " 75  MiscVal        1459 non-null   int64  \n",
      " 76  MoSold         1459 non-null   int64  \n",
      " 77  YrSold         1459 non-null   int64  \n",
      " 78  SaleType       1458 non-null   object \n",
      " 79  SaleCondition  1459 non-null   object \n",
      "dtypes: float64(11), int64(26), object(43)\n",
      "memory usage: 912.0+ KB\n"
     ]
    }
   ],
   "source": [
    "df_test.info()"
   ]
  },
  {
   "cell_type": "code",
   "execution_count": 328,
   "metadata": {},
   "outputs": [
    {
     "name": "stdout",
     "output_type": "stream",
     "text": [
      "PoolQC          99.52%\n",
      "MiscFeature     96.30%\n",
      "Alley           93.77%\n",
      "Fence           80.75%\n",
      "MasVnrType      59.73%\n",
      "FireplaceQu     47.26%\n",
      "LotFrontage     17.74%\n",
      "GarageQual       5.55%\n",
      "GarageFinish     5.55%\n",
      "GarageType       5.55%\n",
      "GarageYrBlt      5.55%\n",
      "GarageCond       5.55%\n",
      "BsmtFinType2     2.60%\n",
      "BsmtExposure     2.60%\n",
      "BsmtCond         2.53%\n",
      "BsmtQual         2.53%\n",
      "BsmtFinType1     2.53%\n",
      "MasVnrArea       0.55%\n",
      "Electrical       0.07%\n",
      "Condition2       0.00%\n",
      "dtype: object\n"
     ]
    }
   ],
   "source": [
    "# Check for missing values (Top 20)\n",
    "missing_percent = (df_train.isnull().sum() / df_train.shape[0] * 100).sort_values(ascending=False).head(20)\n",
    "missing_percent = missing_percent.apply(lambda x: f\"{x:.2f}%\")\n",
    "print(missing_percent)\n",
    "\n",
    "del missing_percent"
   ]
  },
  {
   "cell_type": "markdown",
   "metadata": {},
   "source": [
    "<a id='4top'></a>\n",
    "\n",
    "- **The first 4 columns have more than 80% missing values in the training set**\n",
    "    - Instead of dropping these columns, let's understand what each one represents:\n",
    "        - **PoolQC**: **Quality** of the pool  \n",
    "            - NA: No Pool  \n",
    "        - **MiscFeature**: Miscellaneous features not covered in other categories  \n",
    "            - NA: None  \n",
    "        - **Alley**: Type of alley access to the property  \n",
    "            - NA: No alley access  \n",
    "        - **Fence**: **Quality** of the fence  \n",
    "            - NA: No Fence  \n",
    "\n",
    "- In these cases, **NA is not missing data, <font color= '#A22538' >it is information</font>**\n",
    "\n",
    "- Therefore, we should explore the values in these columns and their **relationship with the sale price**\n"
   ]
  },
  {
   "cell_type": "code",
   "execution_count": 329,
   "metadata": {},
   "outputs": [
    {
     "name": "stdout",
     "output_type": "stream",
     "text": [
      "PoolQC          99.79%\n",
      "MiscFeature     96.50%\n",
      "Alley           92.67%\n",
      "Fence           80.12%\n",
      "MasVnrType      61.27%\n",
      "FireplaceQu     50.03%\n",
      "LotFrontage     15.56%\n",
      "GarageYrBlt      5.35%\n",
      "GarageCond       5.35%\n",
      "GarageFinish     5.35%\n",
      "GarageQual       5.35%\n",
      "GarageType       5.21%\n",
      "BsmtCond         3.08%\n",
      "BsmtQual         3.02%\n",
      "BsmtExposure     3.02%\n",
      "BsmtFinType1     2.88%\n",
      "BsmtFinType2     2.88%\n",
      "MasVnrArea       1.03%\n",
      "MSZoning         0.27%\n",
      "BsmtHalfBath     0.14%\n",
      "dtype: object\n"
     ]
    }
   ],
   "source": [
    "# Check for missing values (Top 20)\n",
    "missing_percent = (df_test.isnull().sum() / df_test.shape[0] * 100).sort_values(ascending=False).head(20)\n",
    "missing_percent = missing_percent.apply(lambda x: f\"{x:.2f}%\")\n",
    "print(missing_percent)\n",
    "\n",
    "del missing_percent"
   ]
  },
  {
   "cell_type": "markdown",
   "metadata": {},
   "source": [
    "### Data cleaning "
   ]
  },
  {
   "cell_type": "code",
   "execution_count": 330,
   "metadata": {},
   "outputs": [],
   "source": [
    "# We can replace the missing values in the first column with -1\n",
    "df_train[['PoolQC','MiscFeature','Alley','Fence']] = df_train[['PoolQC','MiscFeature','Alley','Fence']].fillna(-1)"
   ]
  },
  {
   "cell_type": "code",
   "execution_count": 331,
   "metadata": {},
   "outputs": [],
   "source": [
    "# We can replace the missing values in the first column with -1\n",
    "df_test[['PoolQC','MiscFeature','Alley','Fence']] = df_test[['PoolQC','MiscFeature','Alley','Fence']].fillna(-1)"
   ]
  },
  {
   "cell_type": "code",
   "execution_count": 332,
   "metadata": {},
   "outputs": [
    {
     "data": {
      "image/png": "[encoded data removed]",
      "text/plain": [
       "<Figure size 1200x700 with 4 Axes>"
      ]
     },
     "metadata": {},
     "output_type": "display_data"
    }
   ],
   "source": [
    "# Visualizing the relationship between categorical features and SalePrice with custom color\n",
    "\n",
    "# Custom color (dark wine red)\n",
    "rgb_color = (162 / 255, 37 / 255, 56 / 255)\n",
    "\n",
    "fig, ax = plt.subplots(ncols=2, nrows=2, figsize=(12, 7))\n",
    "fig.suptitle('Sale Price vs Categorical Features', fontsize=16, fontweight='bold', color=rgb_color)\n",
    "\n",
    "sns.boxplot(x=df_train.PoolQC, y=df_train.SalePrice / 100000, ax=ax[0,0], color=rgb_color)\n",
    "ax[0,0].set_ylabel('SalePrice (x100,000)', color=rgb_color)\n",
    "ax[0,0].set_title('Sale Price vs PoolQC', color=rgb_color)\n",
    "ax[0,0].tick_params(axis='x', rotation=45)\n",
    "\n",
    "sns.boxplot(x=df_train.MiscFeature, y=df_train.SalePrice / 100000, ax=ax[0,1], color=rgb_color)\n",
    "ax[0,1].set_ylabel('SalePrice (x100,000)', color=rgb_color)\n",
    "ax[0,1].set_title('Sale Price vs MiscFeature', color=rgb_color)\n",
    "ax[0,1].tick_params(axis='x', rotation=45)\n",
    "\n",
    "sns.boxplot(x=df_train.Alley, y=df_train.SalePrice / 100000, ax=ax[1,0], color=rgb_color)\n",
    "ax[1,0].set_ylabel('SalePrice (x100,000)', color=rgb_color)\n",
    "ax[1,0].set_title('Sale Price vs Alley', color=rgb_color)\n",
    "ax[1,0].tick_params(axis='x', rotation=45)\n",
    "\n",
    "sns.boxplot(x=df_train.Fence, y=df_train.SalePrice / 100000, ax=ax[1,1], color=rgb_color)\n",
    "ax[1,1].set_ylabel('SalePrice (x100,000)', color=rgb_color)\n",
    "ax[1,1].set_title('Sale Price vs Fence', color=rgb_color)\n",
    "ax[1,1].tick_params(axis='x', rotation=45)\n",
    "\n",
    "plt.tight_layout(rect=[0, 0.03, 1, 0.95])\n",
    "plt.show()"
   ]
  },
  {
   "cell_type": "markdown",
   "metadata": {},
   "source": [
    "<a id='FireplaceQu'></a>\n",
    "- **Now analyzing the <font color='#A22538'>FireplaceQu</font> column**\n",
    "- There are 2 fireplace-related columns:\n",
    "    - **Fireplaces**: Number of fireplaces  \n",
    "    - **FireplaceQu**: Fireplace quality"
   ]
  },
  {
   "cell_type": "code",
   "execution_count": 333,
   "metadata": {},
   "outputs": [
    {
     "data": {
      "text/plain": [
       "Fireplaces  FireplaceQu\n",
       "0           NaN            690\n",
       "1           Gd             324\n",
       "            TA             259\n",
       "2           Gd              54\n",
       "            TA              53\n",
       "1           Fa              28\n",
       "            Po              20\n",
       "            Ex              19\n",
       "2           Fa               4\n",
       "            Ex               4\n",
       "3           Gd               2\n",
       "            Ex               1\n",
       "            Fa               1\n",
       "            TA               1\n",
       "Name: count, dtype: int64"
      ]
     },
     "execution_count": 333,
     "metadata": {},
     "output_type": "execute_result"
    }
   ],
   "source": [
    "# Visualizing the number of records in each label\n",
    "df_train[['Fireplaces', 'FireplaceQu']].value_counts(dropna=False)"
   ]
  },
  {
   "cell_type": "code",
   "execution_count": 334,
   "metadata": {},
   "outputs": [
    {
     "data": {
      "text/plain": [
       "Fireplaces  FireplaceQu\n",
       "0           NaN            730\n",
       "1           Gd             303\n",
       "            TA             236\n",
       "2           Gd              58\n",
       "            TA              39\n",
       "1           Fa              35\n",
       "            Po              26\n",
       "            Ex              18\n",
       "2           Fa               6\n",
       "3           TA               3\n",
       "            Gd               3\n",
       "2           Ex               1\n",
       "4           TA               1\n",
       "Name: count, dtype: int64"
      ]
     },
     "execution_count": 334,
     "metadata": {},
     "output_type": "execute_result"
    }
   ],
   "source": [
    "# Visualizing the number of records in each label\n",
    "df_test[['Fireplaces', 'FireplaceQu']].value_counts(dropna=False)"
   ]
  },
  {
   "cell_type": "code",
   "execution_count": 335,
   "metadata": {},
   "outputs": [],
   "source": [
    "# Adjusting this column\n",
    "# This NaN is also meaningful — it indicates that there is no fireplace\n",
    "df_train[['FireplaceQu']] = df_train[['FireplaceQu']].fillna(-1)"
   ]
  },
  {
   "cell_type": "code",
   "execution_count": 336,
   "metadata": {},
   "outputs": [],
   "source": [
    "# Adjusting this column\n",
    "# This NaN is also meaningful — it indicates that there is no fireplace\n",
    "df_test[['FireplaceQu']] = df_test[['FireplaceQu']].fillna(-1)"
   ]
  },
  {
   "cell_type": "code",
   "execution_count": 337,
   "metadata": {},
   "outputs": [
    {
     "name": "stdout",
     "output_type": "stream",
     "text": [
      "MasVnrType      59.73%\n",
      "LotFrontage     17.74%\n",
      "GarageType       5.55%\n",
      "GarageCond       5.55%\n",
      "GarageFinish     5.55%\n",
      "GarageYrBlt      5.55%\n",
      "GarageQual       5.55%\n",
      "BsmtExposure     2.60%\n",
      "BsmtFinType2     2.60%\n",
      "BsmtQual         2.53%\n",
      "BsmtCond         2.53%\n",
      "BsmtFinType1     2.53%\n",
      "MasVnrArea       0.55%\n",
      "Electrical       0.07%\n",
      "Id               0.00%\n",
      "MSZoning         0.00%\n",
      "MSSubClass       0.00%\n",
      "HouseStyle       0.00%\n",
      "BldgType         0.00%\n",
      "Condition2       0.00%\n",
      "dtype: object\n"
     ]
    }
   ],
   "source": [
    "# Check for missing values (Top 20)\n",
    "missing_percent = (df_train.isnull().sum() / df_train.shape[0] * 100).sort_values(ascending=False).head(20)\n",
    "missing_percent = missing_percent.apply(lambda x: f\"{x:.2f}%\")\n",
    "print(missing_percent)\n",
    "\n",
    "del missing_percent"
   ]
  },
  {
   "cell_type": "code",
   "execution_count": 338,
   "metadata": {},
   "outputs": [
    {
     "name": "stdout",
     "output_type": "stream",
     "text": [
      "MasVnrType      61.27%\n",
      "LotFrontage     15.56%\n",
      "GarageYrBlt      5.35%\n",
      "GarageQual       5.35%\n",
      "GarageFinish     5.35%\n",
      "GarageCond       5.35%\n",
      "GarageType       5.21%\n",
      "BsmtCond         3.08%\n",
      "BsmtQual         3.02%\n",
      "BsmtExposure     3.02%\n",
      "BsmtFinType1     2.88%\n",
      "BsmtFinType2     2.88%\n",
      "MasVnrArea       1.03%\n",
      "MSZoning         0.27%\n",
      "Utilities        0.14%\n",
      "BsmtHalfBath     0.14%\n",
      "BsmtFullBath     0.14%\n",
      "Functional       0.14%\n",
      "KitchenQual      0.07%\n",
      "BsmtFinSF2       0.07%\n",
      "dtype: object\n"
     ]
    }
   ],
   "source": [
    "# Check for missing values (Top 20)\n",
    "missing_percent = (df_test.isnull().sum() / df_test.shape[0] * 100).sort_values(ascending=False).head(20)\n",
    "missing_percent = missing_percent.apply(lambda x: f\"{x:.2f}%\")\n",
    "print(missing_percent)\n",
    "\n",
    "del missing_percent"
   ]
  },
  {
   "cell_type": "code",
   "execution_count": 339,
   "metadata": {},
   "outputs": [
    {
     "data": {
      "text/plain": [
       "MasVnrType      872\n",
       "LotFrontage     259\n",
       "GarageType       81\n",
       "GarageCond       81\n",
       "GarageFinish     81\n",
       "GarageYrBlt      81\n",
       "GarageQual       81\n",
       "BsmtExposure     38\n",
       "BsmtFinType2     38\n",
       "BsmtQual         37\n",
       "dtype: int64"
      ]
     },
     "execution_count": 339,
     "metadata": {},
     "output_type": "execute_result"
    }
   ],
   "source": [
    "# Checking the number of missing values\n",
    "df_train.isnull().sum().sort_values(ascending=False).head(10)"
   ]
  },
  {
   "cell_type": "code",
   "execution_count": 340,
   "metadata": {},
   "outputs": [
    {
     "data": {
      "text/plain": [
       "MasVnrType      894\n",
       "LotFrontage     227\n",
       "GarageYrBlt      78\n",
       "GarageQual       78\n",
       "GarageFinish     78\n",
       "GarageCond       78\n",
       "GarageType       76\n",
       "BsmtCond         45\n",
       "BsmtQual         44\n",
       "BsmtExposure     44\n",
       "dtype: int64"
      ]
     },
     "execution_count": 340,
     "metadata": {},
     "output_type": "execute_result"
    }
   ],
   "source": [
    "# Checking the number of missing values\n",
    "df_test.isnull().sum().sort_values(ascending=False).head(10)"
   ]
  },
  {
   "cell_type": "markdown",
   "metadata": {},
   "source": [
    "<a id='LotFrontage'></a>\n",
    "- **<font color='#A22538'>LotFrontage</font>: Linear feet of street connected to the property**\n"
   ]
  },
  {
   "cell_type": "code",
   "execution_count": 341,
   "metadata": {},
   "outputs": [
    {
     "data": {
      "text/plain": [
       "LotConfig\n",
       "Inside     134\n",
       "Corner      62\n",
       "CulDSac     49\n",
       "FR2         14\n",
       "Name: count, dtype: int64"
      ]
     },
     "execution_count": 341,
     "metadata": {},
     "output_type": "execute_result"
    }
   ],
   "source": [
    "# Understanding the types of properties with missing values\n",
    "df_train.loc[df_train.LotFrontage.isnull(), 'LotConfig'].value_counts()"
   ]
  },
  {
   "cell_type": "code",
   "execution_count": 342,
   "metadata": {},
   "outputs": [
    {
     "data": {
      "text/plain": [
       "LotConfig\n",
       "Corner     84.039801\n",
       "CulDSac    59.911111\n",
       "FR2        63.515152\n",
       "FR3        70.750000\n",
       "Inside     67.715686\n",
       "Name: LotFrontage, dtype: float64"
      ]
     },
     "execution_count": 342,
     "metadata": {},
     "output_type": "execute_result"
    }
   ],
   "source": [
    "# Checking the average LotFrontage by property type\n",
    "df_train.groupby('LotConfig')['LotFrontage'].mean()"
   ]
  },
  {
   "cell_type": "code",
   "execution_count": 343,
   "metadata": {},
   "outputs": [],
   "source": [
    "# In this case, the missing value seems to be a data issue\n",
    "# Replacing missing values with the mean based on LotConfig\n",
    "df_train['LotFrontage'] = df_train['LotFrontage'].fillna(df_train.groupby('LotConfig')['LotFrontage'].transform('mean'))\n",
    "\n",
    "df_test['LotFrontage'] = df_test['LotFrontage'].fillna(df_test.groupby('LotConfig')['LotFrontage'].transform('mean'))"
   ]
  },
  {
   "cell_type": "markdown",
   "metadata": {},
   "source": [
    "<a id=\"garagem\"></a>\n",
    "- **Evaluating the <font color='#A22538'>garage-related columns</font>**\n",
    "    - **GarageType**: Garage location  \n",
    "        - **NA: No Garage**  \n",
    "    - **GarageYrBlt**: Year the garage was built  \n",
    "    - **GarageFinish**: Interior finish of the garage  \n",
    "        - **NA: No Garage**  \n",
    "    - **GarageCars**: Garage size in car capacity  \n",
    "    - **GarageArea**: Garage size in square feet  \n",
    "    - **GarageQual**: Garage quality  \n",
    "        - **NA: No Garage**  \n",
    "    - **GarageCond**: Garage condition  \n",
    "        - **NA: No Garage**"
   ]
  },
  {
   "cell_type": "markdown",
   "metadata": {},
   "source": [
    "- **<font color= '#A22538'>Data train</font>**"
   ]
  },
  {
   "cell_type": "code",
   "execution_count": 344,
   "metadata": {},
   "outputs": [
    {
     "data": {
      "text/plain": [
       "GarageType  GarageYrBlt  GarageFinish  GarageCars  GarageArea  GarageQual  GarageCond\n",
       "NaN         NaN          NaN           0           0           NaN         NaN           81\n",
       "Name: count, dtype: int64"
      ]
     },
     "execution_count": 344,
     "metadata": {},
     "output_type": "execute_result"
    }
   ],
   "source": [
    "# Checking for columns that contain 'Garage' in their name\n",
    "col = df_train.columns[df_train.columns.str.contains(\"Garage\")]\n",
    "\n",
    "# Filtering the dataset\n",
    "df_train.loc[df_train.GarageType.isnull(), col].value_counts(dropna=False)"
   ]
  },
  {
   "cell_type": "code",
   "execution_count": 345,
   "metadata": {},
   "outputs": [
    {
     "data": {
      "application/vnd.microsoft.datawrangler.viewer.v0+json": {
       "columns": [
        {
         "name": "index",
         "rawType": "int64",
         "type": "integer"
        },
        {
         "name": "GarageType",
         "rawType": "object",
         "type": "unknown"
        },
        {
         "name": "GarageYrBlt",
         "rawType": "float64",
         "type": "float"
        },
        {
         "name": "GarageFinish",
         "rawType": "object",
         "type": "unknown"
        },
        {
         "name": "GarageQual",
         "rawType": "object",
         "type": "unknown"
        },
        {
         "name": "GarageCond",
         "rawType": "object",
         "type": "unknown"
        }
       ],
       "conversionMethod": "pd.DataFrame",
       "ref": "ab74a146-dba2-4111-a3eb-a2270820422b",
       "rows": [
        [
         "39",
         null,
         null,
         null,
         null,
         null
        ],
        [
         "48",
         null,
         null,
         null,
         null,
         null
        ],
        [
         "78",
         null,
         null,
         null,
         null,
         null
        ]
       ],
       "shape": {
        "columns": 5,
        "rows": 3
       }
      },
      "text/html": [
       "<div>\n",
       "<style scoped>\n",
       "    .dataframe tbody tr th:only-of-type {\n",
       "        vertical-align: middle;\n",
       "    }\n",
       "\n",
       "    .dataframe tbody tr th {\n",
       "        vertical-align: top;\n",
       "    }\n",
       "\n",
       "    .dataframe thead th {\n",
       "        text-align: right;\n",
       "    }\n",
       "</style>\n",
       "<table border=\"1\" class=\"dataframe\">\n",
       "  <thead>\n",
       "    <tr style=\"text-align: right;\">\n",
       "      <th></th>\n",
       "      <th>GarageType</th>\n",
       "      <th>GarageYrBlt</th>\n",
       "      <th>GarageFinish</th>\n",
       "      <th>GarageQual</th>\n",
       "      <th>GarageCond</th>\n",
       "    </tr>\n",
       "  </thead>\n",
       "  <tbody>\n",
       "    <tr>\n",
       "      <th>39</th>\n",
       "      <td>NaN</td>\n",
       "      <td>NaN</td>\n",
       "      <td>NaN</td>\n",
       "      <td>NaN</td>\n",
       "      <td>NaN</td>\n",
       "    </tr>\n",
       "    <tr>\n",
       "      <th>48</th>\n",
       "      <td>NaN</td>\n",
       "      <td>NaN</td>\n",
       "      <td>NaN</td>\n",
       "      <td>NaN</td>\n",
       "      <td>NaN</td>\n",
       "    </tr>\n",
       "    <tr>\n",
       "      <th>78</th>\n",
       "      <td>NaN</td>\n",
       "      <td>NaN</td>\n",
       "      <td>NaN</td>\n",
       "      <td>NaN</td>\n",
       "      <td>NaN</td>\n",
       "    </tr>\n",
       "  </tbody>\n",
       "</table>\n",
       "</div>"
      ],
      "text/plain": [
       "   GarageType  GarageYrBlt GarageFinish GarageQual GarageCond\n",
       "39        NaN          NaN          NaN        NaN        NaN\n",
       "48        NaN          NaN          NaN        NaN        NaN\n",
       "78        NaN          NaN          NaN        NaN        NaN"
      ]
     },
     "execution_count": 345,
     "metadata": {},
     "output_type": "execute_result"
    }
   ],
   "source": [
    "# Checking for columns that contain 'Garage' in their name\n",
    "col = df_train.columns[df_train.columns.str.contains(\"Garage\")]\n",
    "\n",
    "# We can select only the columns with missing values\n",
    "df_train.loc[df_train.GarageType.isnull(), col[[0,1,2,5,6]]].head(3)"
   ]
  },
  {
   "cell_type": "code",
   "execution_count": 346,
   "metadata": {},
   "outputs": [
    {
     "data": {
      "text/plain": [
       "GarageType  GarageYrBlt  GarageFinish  GarageQual  GarageCond\n",
       "NaN         NaN          NaN           NaN         NaN           81\n",
       "Name: count, dtype: int64"
      ]
     },
     "execution_count": 346,
     "metadata": {},
     "output_type": "execute_result"
    }
   ],
   "source": [
    "# Checking for columns that contain 'Garage' in their name\n",
    "col = df_train.columns[df_train.columns.str.contains(\"Garage\")]\n",
    "\n",
    "# Checking the values if there is NA in a column and other is not NA\n",
    "df_train.loc[df_train.GarageType.isnull(), col[[0,1,2,5,6]]].value_counts(dropna=False) "
   ]
  },
  {
   "cell_type": "code",
   "execution_count": 347,
   "metadata": {},
   "outputs": [],
   "source": [
    "# Checking for columns that contain 'Garage' in their name\n",
    "col = df_train.columns[df_train.columns.str.contains(\"Garage\")]\n",
    "\n",
    "# And replace these values with -1\n",
    "df_train.loc[df_train.GarageType.isnull(), col[[0,1,2,5,6]]] = -1"
   ]
  },
  {
   "cell_type": "code",
   "execution_count": 348,
   "metadata": {},
   "outputs": [
    {
     "data": {
      "text/plain": [
       "GarageType  GarageYrBlt  GarageFinish  GarageCars  GarageArea  GarageQual  GarageCond\n",
       "-1          -1.0         -1            0           0           -1          -1            81\n",
       "Name: count, dtype: int64"
      ]
     },
     "execution_count": 348,
     "metadata": {},
     "output_type": "execute_result"
    }
   ],
   "source": [
    "# Checking for columns that contain 'Garage' in their name\n",
    "col= df_train.columns[df_train.columns.str.contains(\"Garage\")]\n",
    "\n",
    "# Checking again when the number of cars is equal to 0\n",
    "df_train.loc[df_train.GarageCars == 0, col].value_counts(dropna=False)"
   ]
  },
  {
   "cell_type": "code",
   "execution_count": 349,
   "metadata": {},
   "outputs": [
    {
     "data": {
      "text/plain": [
       "MasVnrType      872\n",
       "BsmtExposure     38\n",
       "BsmtFinType2     38\n",
       "BsmtCond         37\n",
       "BsmtFinType1     37\n",
       "BsmtQual         37\n",
       "MasVnrArea        8\n",
       "Electrical        1\n",
       "LandContour       0\n",
       "dtype: int64"
      ]
     },
     "execution_count": 349,
     "metadata": {},
     "output_type": "execute_result"
    }
   ],
   "source": [
    "# Summarizing missing values in the training dataset\n",
    "df_train.isnull().sum().sort_values(ascending=False).head(9)"
   ]
  },
  {
   "cell_type": "markdown",
   "metadata": {},
   "source": [
    "- **<font color= '#A22538'>Data test</font>**"
   ]
  },
  {
   "cell_type": "code",
   "execution_count": 350,
   "metadata": {},
   "outputs": [
    {
     "data": {
      "text/plain": [
       "MasVnrType      894\n",
       "GarageFinish     78\n",
       "GarageYrBlt      78\n",
       "GarageQual       78\n",
       "GarageCond       78\n",
       "GarageType       76\n",
       "BsmtCond         45\n",
       "BsmtQual         44\n",
       "BsmtExposure     44\n",
       "dtype: int64"
      ]
     },
     "execution_count": 350,
     "metadata": {},
     "output_type": "execute_result"
    }
   ],
   "source": [
    "# Summarizing missing values in the training dataset                          \n",
    "df_test.isnull().sum().sort_values(ascending=False).head(9)"
   ]
  },
  {
   "cell_type": "code",
   "execution_count": 351,
   "metadata": {},
   "outputs": [
    {
     "data": {
      "text/plain": [
       "GarageType  GarageYrBlt  GarageFinish  GarageCars  GarageArea  GarageQual  GarageCond\n",
       "NaN         NaN          NaN           0.0         0.0         NaN         NaN           76\n",
       "Detchd      NaN          NaN           1.0         360.0       NaN         NaN            1\n",
       "                                       NaN         NaN         NaN         NaN            1\n",
       "Name: count, dtype: int64"
      ]
     },
     "execution_count": 351,
     "metadata": {},
     "output_type": "execute_result"
    }
   ],
   "source": [
    "# Checking for columns that contain 'Garage' in their name\n",
    "col = df_test.columns[df_test.columns.str.contains(\"Garage\")]\n",
    "\n",
    "# Checking the values if there is NA in a column and other is not NA\n",
    "df_test.loc[df_test.GarageCond.isnull(), col].value_counts(dropna=False)"
   ]
  },
  {
   "cell_type": "code",
   "execution_count": 352,
   "metadata": {},
   "outputs": [
    {
     "data": {
      "application/vnd.microsoft.datawrangler.viewer.v0+json": {
       "columns": [
        {
         "name": "index",
         "rawType": "int64",
         "type": "integer"
        },
        {
         "name": "GarageType",
         "rawType": "object",
         "type": "unknown"
        },
        {
         "name": "GarageYrBlt",
         "rawType": "float64",
         "type": "float"
        },
        {
         "name": "GarageFinish",
         "rawType": "object",
         "type": "unknown"
        },
        {
         "name": "GarageQual",
         "rawType": "object",
         "type": "unknown"
        },
        {
         "name": "GarageCond",
         "rawType": "object",
         "type": "unknown"
        }
       ],
       "conversionMethod": "pd.DataFrame",
       "ref": "62995bfc-f54f-470e-b31b-896074d39db0",
       "rows": [
        [
         "53",
         null,
         null,
         null,
         null,
         null
        ],
        [
         "71",
         null,
         null,
         null,
         null,
         null
        ],
        [
         "79",
         null,
         null,
         null,
         null,
         null
        ]
       ],
       "shape": {
        "columns": 5,
        "rows": 3
       }
      },
      "text/html": [
       "<div>\n",
       "<style scoped>\n",
       "    .dataframe tbody tr th:only-of-type {\n",
       "        vertical-align: middle;\n",
       "    }\n",
       "\n",
       "    .dataframe tbody tr th {\n",
       "        vertical-align: top;\n",
       "    }\n",
       "\n",
       "    .dataframe thead th {\n",
       "        text-align: right;\n",
       "    }\n",
       "</style>\n",
       "<table border=\"1\" class=\"dataframe\">\n",
       "  <thead>\n",
       "    <tr style=\"text-align: right;\">\n",
       "      <th></th>\n",
       "      <th>GarageType</th>\n",
       "      <th>GarageYrBlt</th>\n",
       "      <th>GarageFinish</th>\n",
       "      <th>GarageQual</th>\n",
       "      <th>GarageCond</th>\n",
       "    </tr>\n",
       "  </thead>\n",
       "  <tbody>\n",
       "    <tr>\n",
       "      <th>53</th>\n",
       "      <td>NaN</td>\n",
       "      <td>NaN</td>\n",
       "      <td>NaN</td>\n",
       "      <td>NaN</td>\n",
       "      <td>NaN</td>\n",
       "    </tr>\n",
       "    <tr>\n",
       "      <th>71</th>\n",
       "      <td>NaN</td>\n",
       "      <td>NaN</td>\n",
       "      <td>NaN</td>\n",
       "      <td>NaN</td>\n",
       "      <td>NaN</td>\n",
       "    </tr>\n",
       "    <tr>\n",
       "      <th>79</th>\n",
       "      <td>NaN</td>\n",
       "      <td>NaN</td>\n",
       "      <td>NaN</td>\n",
       "      <td>NaN</td>\n",
       "      <td>NaN</td>\n",
       "    </tr>\n",
       "  </tbody>\n",
       "</table>\n",
       "</div>"
      ],
      "text/plain": [
       "   GarageType  GarageYrBlt GarageFinish GarageQual GarageCond\n",
       "53        NaN          NaN          NaN        NaN        NaN\n",
       "71        NaN          NaN          NaN        NaN        NaN\n",
       "79        NaN          NaN          NaN        NaN        NaN"
      ]
     },
     "execution_count": 352,
     "metadata": {},
     "output_type": "execute_result"
    }
   ],
   "source": [
    "# Checking for columns that contain 'Garage' in their name\n",
    "col = df_test.columns[df_test.columns.str.contains(\"Garage\")]\n",
    "\n",
    "# We can select only the columns with missing values\n",
    "df_test.loc[df_test.GarageType.isnull(), col[[0,1,2,5,6]]].head(3)"
   ]
  },
  {
   "cell_type": "code",
   "execution_count": 353,
   "metadata": {},
   "outputs": [
    {
     "data": {
      "text/plain": [
       "GarageType  GarageYrBlt  GarageFinish  GarageQual  GarageCond\n",
       "NaN         NaN          NaN           NaN         NaN           76\n",
       "Name: count, dtype: int64"
      ]
     },
     "execution_count": 353,
     "metadata": {},
     "output_type": "execute_result"
    }
   ],
   "source": [
    "# Checking for columns that contain 'Garage' in their name\n",
    "col = df_test.columns[df_test.columns.str.contains(\"Garage\")]\n",
    "\n",
    "# Checking the values, verify differences between columns\n",
    "df_test.loc[df_test.GarageType.isnull(), col[[0,1,2,5,6]]].value_counts(dropna=False)"
   ]
  },
  {
   "cell_type": "code",
   "execution_count": 354,
   "metadata": {},
   "outputs": [],
   "source": [
    "# Checking for columns that contain 'Garage' in their name\n",
    "col = df_test.columns[df_test.columns.str.contains(\"Garage\")]\n",
    "\n",
    "df_test.loc[df_test.GarageType.isnull(), col[[0,1,2,5,6]]] = -1"
   ]
  },
  {
   "cell_type": "code",
   "execution_count": 355,
   "metadata": {},
   "outputs": [
    {
     "data": {
      "text/plain": [
       "GarageType  GarageYrBlt  GarageFinish  GarageCars  GarageArea  GarageQual  GarageCond\n",
       "-1          -1.0         -1            0.0         0.0         -1          -1            76\n",
       "Name: count, dtype: int64"
      ]
     },
     "execution_count": 355,
     "metadata": {},
     "output_type": "execute_result"
    }
   ],
   "source": [
    "# Checking for columns that contain 'Garage' in their name\n",
    "col= df_test.columns[df_test.columns.str.contains(\"Garage\")]\n",
    "\n",
    "# Checking again when the number of cars is equal to 0\n",
    "df_test.loc[df_test.GarageCars == 0, col].value_counts(dropna=False)"
   ]
  },
  {
   "cell_type": "markdown",
   "metadata": {},
   "source": [
    "- Now let's investigate the rows where all garage-related columns are empty but `GarageType` is \"Detchd\""
   ]
  },
  {
   "cell_type": "code",
   "execution_count": 356,
   "metadata": {},
   "outputs": [
    {
     "data": {
      "application/vnd.microsoft.datawrangler.viewer.v0+json": {
       "columns": [
        {
         "name": "index",
         "rawType": "int64",
         "type": "integer"
        },
        {
         "name": "GarageType",
         "rawType": "object",
         "type": "string"
        },
        {
         "name": "GarageYrBlt",
         "rawType": "float64",
         "type": "float"
        },
        {
         "name": "GarageFinish",
         "rawType": "object",
         "type": "unknown"
        },
        {
         "name": "GarageCars",
         "rawType": "float64",
         "type": "float"
        },
        {
         "name": "GarageArea",
         "rawType": "float64",
         "type": "float"
        },
        {
         "name": "GarageQual",
         "rawType": "object",
         "type": "unknown"
        },
        {
         "name": "GarageCond",
         "rawType": "object",
         "type": "unknown"
        }
       ],
       "conversionMethod": "pd.DataFrame",
       "ref": "1d7ba14b-07ec-44f6-b09f-d19a0d13fb16",
       "rows": [
        [
         "666",
         "Detchd",
         null,
         null,
         "1.0",
         "360.0",
         null,
         null
        ],
        [
         "1116",
         "Detchd",
         null,
         null,
         null,
         null,
         null,
         null
        ]
       ],
       "shape": {
        "columns": 7,
        "rows": 2
       }
      },
      "text/html": [
       "<div>\n",
       "<style scoped>\n",
       "    .dataframe tbody tr th:only-of-type {\n",
       "        vertical-align: middle;\n",
       "    }\n",
       "\n",
       "    .dataframe tbody tr th {\n",
       "        vertical-align: top;\n",
       "    }\n",
       "\n",
       "    .dataframe thead th {\n",
       "        text-align: right;\n",
       "    }\n",
       "</style>\n",
       "<table border=\"1\" class=\"dataframe\">\n",
       "  <thead>\n",
       "    <tr style=\"text-align: right;\">\n",
       "      <th></th>\n",
       "      <th>GarageType</th>\n",
       "      <th>GarageYrBlt</th>\n",
       "      <th>GarageFinish</th>\n",
       "      <th>GarageCars</th>\n",
       "      <th>GarageArea</th>\n",
       "      <th>GarageQual</th>\n",
       "      <th>GarageCond</th>\n",
       "    </tr>\n",
       "  </thead>\n",
       "  <tbody>\n",
       "    <tr>\n",
       "      <th>666</th>\n",
       "      <td>Detchd</td>\n",
       "      <td>NaN</td>\n",
       "      <td>NaN</td>\n",
       "      <td>1.0</td>\n",
       "      <td>360.0</td>\n",
       "      <td>NaN</td>\n",
       "      <td>NaN</td>\n",
       "    </tr>\n",
       "    <tr>\n",
       "      <th>1116</th>\n",
       "      <td>Detchd</td>\n",
       "      <td>NaN</td>\n",
       "      <td>NaN</td>\n",
       "      <td>NaN</td>\n",
       "      <td>NaN</td>\n",
       "      <td>NaN</td>\n",
       "      <td>NaN</td>\n",
       "    </tr>\n",
       "  </tbody>\n",
       "</table>\n",
       "</div>"
      ],
      "text/plain": [
       "     GarageType  GarageYrBlt GarageFinish  GarageCars  GarageArea GarageQual  \\\n",
       "666      Detchd          NaN          NaN         1.0       360.0        NaN   \n",
       "1116     Detchd          NaN          NaN         NaN         NaN        NaN   \n",
       "\n",
       "     GarageCond  \n",
       "666         NaN  \n",
       "1116        NaN  "
      ]
     },
     "execution_count": 356,
     "metadata": {},
     "output_type": "execute_result"
    }
   ],
   "source": [
    "# Understanding these columns\n",
    "df_test.loc[df_test.GarageCond.isnull(), col]\n"
   ]
  },
  {
   "cell_type": "markdown",
   "metadata": {},
   "source": [
    "- Now let's investigate column GarageYrBlt"
   ]
  },
  {
   "cell_type": "code",
   "execution_count": 357,
   "metadata": {},
   "outputs": [],
   "source": [
    "# Let's check the values when GarageType == \"Detchd\"\n",
    "df_test2 = df_test.loc[(df_test.GarageType == 'Detchd') & (df_test.GarageYrBlt != -1)]"
   ]
  },
  {
   "cell_type": "code",
   "execution_count": 358,
   "metadata": {},
   "outputs": [
    {
     "name": "stdout",
     "output_type": "stream",
     "text": [
      "GarageYrBlt     1.000000\n",
      "YearBuilt       0.615951\n",
      "GarageArea      0.494670\n",
      "GarageCars      0.413711\n",
      "YearRemodAdd    0.321667\n",
      "Name: GarageYrBlt, dtype: float64\n"
     ]
    }
   ],
   "source": [
    "# 1. Filter the DataFrame to include only detached garages (Detchd) with valid year built\n",
    "df_test2 = df_test.loc[(df_test.GarageType == 'Detchd') & (df_test.GarageYrBlt != -1)]\n",
    "\n",
    "# 2. Select only numeric columns to avoid \"could not convert string to float\" error\n",
    "df_test2_numeric = df_test2.select_dtypes(include='number')\n",
    "\n",
    "# 3. Calculate the correlation of all numeric variables with 'GarageYrBlt'\n",
    "top_corrs = df_test2_numeric.corr()['GarageYrBlt'].sort_values(ascending=False).head(5)\n",
    "print(top_corrs)\n"
   ]
  },
  {
   "cell_type": "code",
   "execution_count": 359,
   "metadata": {},
   "outputs": [
    {
     "data": {
      "image/png": "[encoded data removed]",
      "text/plain": [
       "<Figure size 500x400 with 1 Axes>"
      ]
     },
     "metadata": {},
     "output_type": "display_data"
    }
   ],
   "source": [
    "# Custom dark wine red color\n",
    "rgb_color = (162 / 255, 37 / 255, 56 / 255)\n",
    "\n",
    "# Set up a smaller figure\n",
    "fig, ax = plt.subplots(figsize=(5, 4))  # smaller size\n",
    "\n",
    "# Scatter plot\n",
    "ax.scatter(df_test2.GarageYrBlt, df_test2.YearBuilt, color=rgb_color, alpha=0.7, edgecolors='none', s=60)\n",
    "\n",
    "# Labels and title\n",
    "ax.set_xlabel('Garage Year Built', fontsize=11)\n",
    "ax.set_ylabel('House Year Built', fontsize=11)\n",
    "ax.set_title('Garage vs House Year Built (Detached)', fontsize=13)\n",
    "\n",
    "# No grid\n",
    "ax.grid(False)\n",
    "\n",
    "# Clean layout\n",
    "plt.tight_layout()\n",
    "plt.show()\n",
    "\n"
   ]
  },
  {
   "cell_type": "code",
   "execution_count": 360,
   "metadata": {},
   "outputs": [
    {
     "data": {
      "text/plain": [
       "CheckYears\n",
       "True     1127\n",
       "False     332\n",
       "Name: count, dtype: int64"
      ]
     },
     "execution_count": 360,
     "metadata": {},
     "output_type": "execute_result"
    }
   ],
   "source": [
    "# Create a new column that checks if the garage year is the same as the house year\n",
    "df_test['CheckYears'] = df_test.GarageYrBlt == df_test.YearBuilt\n",
    "\n",
    "# Count how many times the condition is True or False\n",
    "df_test.CheckYears.value_counts()\n"
   ]
  },
  {
   "cell_type": "code",
   "execution_count": 361,
   "metadata": {},
   "outputs": [],
   "source": [
    "df_test = df_test.drop('CheckYears',axis=1)"
   ]
  },
  {
   "cell_type": "code",
   "execution_count": 362,
   "metadata": {},
   "outputs": [],
   "source": [
    "# Check the house construction years for rows where GarageCond is missing\n",
    "df_test.loc[df_test.GarageCond.isnull(), 'YearBuilt']\n",
    "\n",
    "# Replace missing GarageYrBlt values with the house's construction year (YearBuilt)\n",
    "df_test.loc[df_test.GarageCond.isnull(), 'GarageYrBlt'] = df_test.loc[df_test.GarageCond.isnull(), 'YearBuilt']\n"
   ]
  },
  {
   "cell_type": "markdown",
   "metadata": {},
   "source": [
    "- Now let's investigate column GarageFinish"
   ]
  },
  {
   "cell_type": "code",
   "execution_count": 363,
   "metadata": {},
   "outputs": [
    {
     "data": {
      "text/plain": [
       "GarageFinish\n",
       "Unf    365\n",
       "RFn     15\n",
       "Fin     10\n",
       "Name: count, dtype: int64"
      ]
     },
     "execution_count": 363,
     "metadata": {},
     "output_type": "execute_result"
    }
   ],
   "source": [
    "# Check the most frequent values of GarageFinish when GarageType is 'Detchd'\n",
    "df_test.loc[(df_test.GarageType == 'Detchd'), 'GarageFinish'].value_counts()"
   ]
  },
  {
   "cell_type": "code",
   "execution_count": 364,
   "metadata": {},
   "outputs": [
    {
     "name": "stdout",
     "output_type": "stream",
     "text": [
      "Unf\n"
     ]
    }
   ],
   "source": [
    "# Get the mode of GarageFinish for 'Detchd' garage type\n",
    "most_common_finish = df_test.loc[(df_test.GarageType == 'Detchd'), 'GarageFinish'].mode()[0]\n",
    "print(most_common_finish)"
   ]
  },
  {
   "cell_type": "code",
   "execution_count": 365,
   "metadata": {},
   "outputs": [],
   "source": [
    "# Replace missing GarageFinish values with the mode, only for 'Detchd' garages\n",
    "df_test.loc[(df_test.GarageType == 'Detchd') & (df_test.GarageFinish.isnull()), 'GarageFinish'] = most_common_finish"
   ]
  },
  {
   "cell_type": "markdown",
   "metadata": {},
   "source": [
    "- Now let's investigate column GarageQual and GarageCond"
   ]
  },
  {
   "cell_type": "code",
   "execution_count": 366,
   "metadata": {},
   "outputs": [
    {
     "data": {
      "text/plain": [
       "GarageQual  GarageCond\n",
       "TA          TA            309\n",
       "Fa          TA             38\n",
       "            Fa             19\n",
       "TA          Fa             16\n",
       "Fa          Po              3\n",
       "Gd          Ex              1\n",
       "Po          Po              1\n",
       "            Fa              1\n",
       "TA          Gd              1\n",
       "            Po              1\n",
       "Name: count, dtype: int64"
      ]
     },
     "execution_count": 366,
     "metadata": {},
     "output_type": "execute_result"
    }
   ],
   "source": [
    "# Check value combinations of GarageQual and GarageCond when GarageType is 'Detchd'\n",
    "df_test.loc[(df_test.GarageType == 'Detchd'), ['GarageQual', 'GarageCond']].value_counts()"
   ]
  },
  {
   "cell_type": "code",
   "execution_count": 367,
   "metadata": {},
   "outputs": [
    {
     "name": "stdout",
     "output_type": "stream",
     "text": [
      "TA TA\n"
     ]
    }
   ],
   "source": [
    "# Get the mode for GarageQual and GarageCond among 'Detchd' garages\n",
    "mode_garage_qual = df_test.loc[(df_test.GarageType == 'Detchd'), 'GarageQual'].mode()[0]\n",
    "mode_garage_cond = df_test.loc[(df_test.GarageType == 'Detchd'), 'GarageCond'].mode()[0]\n",
    "print(mode_garage_qual, mode_garage_cond)"
   ]
  },
  {
   "cell_type": "code",
   "execution_count": 368,
   "metadata": {},
   "outputs": [],
   "source": [
    "# Replace missing GarageQual values with the most common one\n",
    "df_test.loc[(df_test.GarageType == 'Detchd') & (df_test.GarageQual.isnull()), 'GarageQual'] = mode_garage_qual\n",
    "# Replace missing GarageCond values with the most common one\n",
    "df_test.loc[(df_test.GarageType == 'Detchd') & (df_test.GarageCond.isnull()), 'GarageCond'] = mode_garage_cond"
   ]
  },
  {
   "cell_type": "markdown",
   "metadata": {},
   "source": [
    "- Column GarageCars and GarageArea"
   ]
  },
  {
   "cell_type": "code",
   "execution_count": 369,
   "metadata": {},
   "outputs": [
    {
     "name": "stdout",
     "output_type": "stream",
     "text": [
      "GarageCars      1.519182\n",
      "GarageArea    412.202046\n",
      "dtype: float64\n"
     ]
    }
   ],
   "source": [
    "# Calculate the mean of GarageCars and GarageArea for detached garages\n",
    "mean_values = df_test.loc[df_test.GarageType == 'Detchd', ['GarageCars', 'GarageArea']].mean()\n",
    "print(mean_values)"
   ]
  },
  {
   "cell_type": "code",
   "execution_count": 370,
   "metadata": {},
   "outputs": [
    {
     "name": "stdout",
     "output_type": "stream",
     "text": [
      "[  2. 412.]\n"
     ]
    }
   ],
   "source": [
    "# Round the mean values (you can't have half a car!)\n",
    "mean_values = round(mean_values, 0)\n",
    "print(mean_values.values)"
   ]
  },
  {
   "cell_type": "code",
   "execution_count": 371,
   "metadata": {},
   "outputs": [
    {
     "data": {
      "application/vnd.microsoft.datawrangler.viewer.v0+json": {
       "columns": [
        {
         "name": "index",
         "rawType": "int64",
         "type": "integer"
        },
        {
         "name": "Functional",
         "rawType": "object",
         "type": "string"
        },
        {
         "name": "Fireplaces",
         "rawType": "int64",
         "type": "integer"
        },
        {
         "name": "FireplaceQu",
         "rawType": "object",
         "type": "unknown"
        },
        {
         "name": "GarageType",
         "rawType": "object",
         "type": "string"
        },
        {
         "name": "GarageYrBlt",
         "rawType": "float64",
         "type": "float"
        },
        {
         "name": "GarageFinish",
         "rawType": "object",
         "type": "string"
        },
        {
         "name": "GarageCars",
         "rawType": "float64",
         "type": "float"
        },
        {
         "name": "GarageArea",
         "rawType": "float64",
         "type": "float"
        },
        {
         "name": "GarageQual",
         "rawType": "object",
         "type": "string"
        },
        {
         "name": "GarageCond",
         "rawType": "object",
         "type": "string"
        },
        {
         "name": "PavedDrive",
         "rawType": "object",
         "type": "string"
        },
        {
         "name": "WoodDeckSF",
         "rawType": "int64",
         "type": "integer"
        },
        {
         "name": "OpenPorchSF",
         "rawType": "int64",
         "type": "integer"
        },
        {
         "name": "EnclosedPorch",
         "rawType": "int64",
         "type": "integer"
        },
        {
         "name": "3SsnPorch",
         "rawType": "int64",
         "type": "integer"
        }
       ],
       "conversionMethod": "pd.DataFrame",
       "ref": "30422b0c-dde9-4028-95ce-3bd81b8c33f6",
       "rows": [
        [
         "666",
         "Typ",
         "0",
         "-1",
         "Detchd",
         "1910.0",
         "Unf",
         "1.0",
         "360.0",
         "TA",
         "TA",
         "Y",
         "64",
         "0",
         "180",
         "0"
        ],
        [
         "1116",
         "Typ",
         "0",
         "-1",
         "Detchd",
         "1923.0",
         "Unf",
         "2.0",
         "412.0",
         "TA",
         "TA",
         "Y",
         "174",
         "0",
         "212",
         "0"
        ]
       ],
       "shape": {
        "columns": 15,
        "rows": 2
       }
      },
      "text/html": [
       "<div>\n",
       "<style scoped>\n",
       "    .dataframe tbody tr th:only-of-type {\n",
       "        vertical-align: middle;\n",
       "    }\n",
       "\n",
       "    .dataframe tbody tr th {\n",
       "        vertical-align: top;\n",
       "    }\n",
       "\n",
       "    .dataframe thead th {\n",
       "        text-align: right;\n",
       "    }\n",
       "</style>\n",
       "<table border=\"1\" class=\"dataframe\">\n",
       "  <thead>\n",
       "    <tr style=\"text-align: right;\">\n",
       "      <th></th>\n",
       "      <th>Functional</th>\n",
       "      <th>Fireplaces</th>\n",
       "      <th>FireplaceQu</th>\n",
       "      <th>GarageType</th>\n",
       "      <th>GarageYrBlt</th>\n",
       "      <th>GarageFinish</th>\n",
       "      <th>GarageCars</th>\n",
       "      <th>GarageArea</th>\n",
       "      <th>GarageQual</th>\n",
       "      <th>GarageCond</th>\n",
       "      <th>PavedDrive</th>\n",
       "      <th>WoodDeckSF</th>\n",
       "      <th>OpenPorchSF</th>\n",
       "      <th>EnclosedPorch</th>\n",
       "      <th>3SsnPorch</th>\n",
       "    </tr>\n",
       "  </thead>\n",
       "  <tbody>\n",
       "    <tr>\n",
       "      <th>666</th>\n",
       "      <td>Typ</td>\n",
       "      <td>0</td>\n",
       "      <td>-1</td>\n",
       "      <td>Detchd</td>\n",
       "      <td>1910.0</td>\n",
       "      <td>Unf</td>\n",
       "      <td>1.0</td>\n",
       "      <td>360.0</td>\n",
       "      <td>TA</td>\n",
       "      <td>TA</td>\n",
       "      <td>Y</td>\n",
       "      <td>64</td>\n",
       "      <td>0</td>\n",
       "      <td>180</td>\n",
       "      <td>0</td>\n",
       "    </tr>\n",
       "    <tr>\n",
       "      <th>1116</th>\n",
       "      <td>Typ</td>\n",
       "      <td>0</td>\n",
       "      <td>-1</td>\n",
       "      <td>Detchd</td>\n",
       "      <td>1923.0</td>\n",
       "      <td>Unf</td>\n",
       "      <td>2.0</td>\n",
       "      <td>412.0</td>\n",
       "      <td>TA</td>\n",
       "      <td>TA</td>\n",
       "      <td>Y</td>\n",
       "      <td>174</td>\n",
       "      <td>0</td>\n",
       "      <td>212</td>\n",
       "      <td>0</td>\n",
       "    </tr>\n",
       "  </tbody>\n",
       "</table>\n",
       "</div>"
      ],
      "text/plain": [
       "     Functional  Fireplaces FireplaceQu GarageType  GarageYrBlt GarageFinish  \\\n",
       "666         Typ           0          -1     Detchd       1910.0          Unf   \n",
       "1116        Typ           0          -1     Detchd       1923.0          Unf   \n",
       "\n",
       "      GarageCars  GarageArea GarageQual GarageCond PavedDrive  WoodDeckSF  \\\n",
       "666          1.0       360.0         TA         TA          Y          64   \n",
       "1116         2.0       412.0         TA         TA          Y         174   \n",
       "\n",
       "      OpenPorchSF  EnclosedPorch  3SsnPorch  \n",
       "666             0            180          0  \n",
       "1116            0            212          0  "
      ]
     },
     "execution_count": 371,
     "metadata": {},
     "output_type": "execute_result"
    }
   ],
   "source": [
    "# Fill missing values ONLY for GarageCars and GarageArea, for detached garages\n",
    "df_test.loc[(df_test.GarageType == 'Detchd') & (df_test.GarageCars.isnull()), 'GarageCars'] = mean_values['GarageCars']\n",
    "df_test.loc[(df_test.GarageType == 'Detchd') & (df_test.GarageArea.isnull()), 'GarageArea'] = mean_values['GarageArea']\n",
    "\n",
    "# Check how those values look in specific rows\n",
    "df_test.iloc[[666, 1116], 55:70]"
   ]
  },
  {
   "cell_type": "code",
   "execution_count": 372,
   "metadata": {},
   "outputs": [
    {
     "data": {
      "text/plain": [
       "MasVnrType      894\n",
       "BsmtCond         45\n",
       "BsmtExposure     44\n",
       "BsmtQual         44\n",
       "BsmtFinType2     42\n",
       "BsmtFinType1     42\n",
       "MasVnrArea       15\n",
       "MSZoning          4\n",
       "BsmtFullBath      2\n",
       "Utilities         2\n",
       "dtype: int64"
      ]
     },
     "execution_count": 372,
     "metadata": {},
     "output_type": "execute_result"
    }
   ],
   "source": [
    "# Summarize the 10 columns with the most missing values\n",
    "df_test.isnull().sum().sort_values(ascending=False).head(10)"
   ]
  },
  {
   "cell_type": "markdown",
   "metadata": {},
   "source": [
    "<a id=\"basement\"></a>\n",
    "- **Evaluating the <font color= '#A22538' >basement-related columns</font>**\n",
    "    - **NA: No Basement**"
   ]
  },
  {
   "cell_type": "code",
   "execution_count": 373,
   "metadata": {},
   "outputs": [
    {
     "data": {
      "text/plain": [
       "Index(['BsmtQual', 'BsmtCond', 'BsmtExposure', 'BsmtFinType1', 'BsmtFinType2'], dtype='object')"
      ]
     },
     "execution_count": 373,
     "metadata": {},
     "output_type": "execute_result"
    }
   ],
   "source": [
    "# Checking columns that contain 'Bsmt' in the name and have missing values\n",
    "col = df_train.columns[df_train.columns.str.contains(\"Bsmt\") & (df_train.isnull().any())]\n",
    "col"
   ]
  },
  {
   "cell_type": "code",
   "execution_count": 374,
   "metadata": {},
   "outputs": [
    {
     "data": {
      "text/plain": [
       "BsmtQual  BsmtCond  BsmtExposure  BsmtFinType1  BsmtFinType2\n",
       "NaN       NaN       NaN           NaN           NaN             37\n",
       "Gd        TA        No            GLQ           NaN              1\n",
       "Name: count, dtype: int64"
      ]
     },
     "execution_count": 374,
     "metadata": {},
     "output_type": "execute_result"
    }
   ],
   "source": [
    "# Analyzing the values\n",
    "df_train.loc[df_train.BsmtFinType2.isnull(), col].value_counts(dropna=False)"
   ]
  },
  {
   "cell_type": "code",
   "execution_count": 375,
   "metadata": {},
   "outputs": [
    {
     "data": {
      "text/plain": [
       "BsmtFinType2  BsmtFinSF2\n",
       "NaN           0             37\n",
       "              479            1\n",
       "Name: count, dtype: int64"
      ]
     },
     "execution_count": 375,
     "metadata": {},
     "output_type": "execute_result"
    }
   ],
   "source": [
    "# Checking the value combinations of 'BsmtFinType2' and 'BsmtFinSF2' where 'BsmtFinType2' is missing\n",
    "df_train.loc[df_train.BsmtFinType2.isnull(), ['BsmtFinType2', 'BsmtFinSF2']].value_counts(dropna=False)"
   ]
  },
  {
   "cell_type": "code",
   "execution_count": 376,
   "metadata": {},
   "outputs": [
    {
     "data": {
      "text/plain": [
       "'Unf'"
      ]
     },
     "execution_count": 376,
     "metadata": {},
     "output_type": "execute_result"
    }
   ],
   "source": [
    "# Checking the mode of BsmtFinType2\n",
    "mod_BsmtFinType2 = df_train.BsmtFinType2.mode()[0]\n",
    "mod_BsmtFinType2"
   ]
  },
  {
   "cell_type": "code",
   "execution_count": 377,
   "metadata": {},
   "outputs": [],
   "source": [
    "# Replacing missing values with 'Unf' where BsmtFinSF2 is not 0\n",
    "df_train.loc[(df_train.BsmtFinType2.isnull()) & (df_train.BsmtFinSF2 != 0), 'BsmtFinType2'] = mod_BsmtFinType2"
   ]
  },
  {
   "cell_type": "code",
   "execution_count": 378,
   "metadata": {},
   "outputs": [
    {
     "data": {
      "text/plain": [
       "BsmtExposure\n",
       "No    953\n",
       "Av    221\n",
       "Gd    134\n",
       "Mn    114\n",
       "Name: count, dtype: int64"
      ]
     },
     "execution_count": 378,
     "metadata": {},
     "output_type": "execute_result"
    }
   ],
   "source": [
    "# Analyzing the values for BsmtExposure\n",
    "df_train.BsmtExposure.value_counts()"
   ]
  },
  {
   "cell_type": "code",
   "execution_count": 379,
   "metadata": {},
   "outputs": [
    {
     "data": {
      "text/plain": [
       "'No'"
      ]
     },
     "execution_count": 379,
     "metadata": {},
     "output_type": "execute_result"
    }
   ],
   "source": [
    "# And again, we can see the most frequent value\n",
    "mod_BsmtExposure = df_train.BsmtExposure.mode()[0]\n",
    "mod_BsmtExposure"
   ]
  },
  {
   "cell_type": "code",
   "execution_count": 380,
   "metadata": {},
   "outputs": [],
   "source": [
    "# Replacing missing values with \"No\" (the most frequent value)\n",
    "df_train.loc[df_train.BsmtExposure.isnull(), 'BsmtExposure'] = mod_BsmtExposure"
   ]
  },
  {
   "cell_type": "code",
   "execution_count": 381,
   "metadata": {},
   "outputs": [
    {
     "data": {
      "text/plain": [
       "Index(['BsmtQual', 'BsmtCond', 'BsmtExposure', 'BsmtFinType1', 'BsmtFinType2'], dtype='object')"
      ]
     },
     "execution_count": 381,
     "metadata": {},
     "output_type": "execute_result"
    }
   ],
   "source": [
    "# Remembering the columns that contain 'Bsmt'\n",
    "col"
   ]
  },
  {
   "cell_type": "code",
   "execution_count": 382,
   "metadata": {},
   "outputs": [
    {
     "data": {
      "text/plain": [
       "Index(['BsmtQual', 'BsmtCond', 'BsmtExposure', 'BsmtFinType1', 'BsmtFinSF1',\n",
       "       'BsmtFinType2', 'BsmtFinSF2', 'BsmtUnfSF', 'TotalBsmtSF',\n",
       "       'BsmtFullBath', 'BsmtHalfBath'],\n",
       "      dtype='object')"
      ]
     },
     "execution_count": 382,
     "metadata": {},
     "output_type": "execute_result"
    }
   ],
   "source": [
    "# Checking columns that contain 'Bsmt' in the name and have missing values\n",
    "col = df_test.columns[df_test.columns.str.contains(\"Bsmt\") & (df_test.isnull().any())]\n",
    "col"
   ]
  },
  {
   "cell_type": "code",
   "execution_count": 383,
   "metadata": {},
   "outputs": [
    {
     "data": {
      "text/plain": [
       "BsmtQual  BsmtCond  BsmtExposure  BsmtFinType1  BsmtFinSF1  BsmtFinType2  BsmtFinSF2  BsmtUnfSF  TotalBsmtSF  BsmtFullBath  BsmtHalfBath\n",
       "NaN       NaN       NaN           NaN           0.0         NaN           0.0         0.0        0.0          0.0           0.0             40\n",
       "                                                                                                              NaN           NaN              1\n",
       "                                                NaN         NaN           NaN         NaN        NaN          NaN           NaN              1\n",
       "Name: count, dtype: int64"
      ]
     },
     "execution_count": 383,
     "metadata": {},
     "output_type": "execute_result"
    }
   ],
   "source": [
    "# Analyzing the values\n",
    "df_test.loc[df_test.BsmtFinType2.isnull(), col].value_counts(dropna=False)"
   ]
  },
  {
   "cell_type": "code",
   "execution_count": 384,
   "metadata": {},
   "outputs": [
    {
     "data": {
      "application/vnd.microsoft.datawrangler.viewer.v0+json": {
       "columns": [
        {
         "name": "index",
         "rawType": "int64",
         "type": "integer"
        },
        {
         "name": "BsmtQual",
         "rawType": "object",
         "type": "unknown"
        },
        {
         "name": "BsmtCond",
         "rawType": "object",
         "type": "string"
        },
        {
         "name": "BsmtExposure",
         "rawType": "object",
         "type": "string"
        },
        {
         "name": "BsmtFinType1",
         "rawType": "object",
         "type": "string"
        },
        {
         "name": "BsmtFinSF1",
         "rawType": "float64",
         "type": "float"
        },
        {
         "name": "BsmtFinType2",
         "rawType": "object",
         "type": "string"
        },
        {
         "name": "BsmtFinSF2",
         "rawType": "float64",
         "type": "float"
        },
        {
         "name": "BsmtUnfSF",
         "rawType": "float64",
         "type": "float"
        },
        {
         "name": "TotalBsmtSF",
         "rawType": "float64",
         "type": "float"
        },
        {
         "name": "BsmtFullBath",
         "rawType": "float64",
         "type": "float"
        },
        {
         "name": "BsmtHalfBath",
         "rawType": "float64",
         "type": "float"
        }
       ],
       "conversionMethod": "pd.DataFrame",
       "ref": "f5afbd4d-4760-4852-a81d-7b1c1045d569",
       "rows": [
        [
         "757",
         null,
         "Fa",
         "No",
         "Unf",
         "0.0",
         "Unf",
         "0.0",
         "173.0",
         "173.0",
         "0.0",
         "0.0"
        ],
        [
         "758",
         null,
         "TA",
         "No",
         "Unf",
         "0.0",
         "Unf",
         "0.0",
         "356.0",
         "356.0",
         "0.0",
         "0.0"
        ]
       ],
       "shape": {
        "columns": 11,
        "rows": 2
       }
      },
      "text/html": [
       "<div>\n",
       "<style scoped>\n",
       "    .dataframe tbody tr th:only-of-type {\n",
       "        vertical-align: middle;\n",
       "    }\n",
       "\n",
       "    .dataframe tbody tr th {\n",
       "        vertical-align: top;\n",
       "    }\n",
       "\n",
       "    .dataframe thead th {\n",
       "        text-align: right;\n",
       "    }\n",
       "</style>\n",
       "<table border=\"1\" class=\"dataframe\">\n",
       "  <thead>\n",
       "    <tr style=\"text-align: right;\">\n",
       "      <th></th>\n",
       "      <th>BsmtQual</th>\n",
       "      <th>BsmtCond</th>\n",
       "      <th>BsmtExposure</th>\n",
       "      <th>BsmtFinType1</th>\n",
       "      <th>BsmtFinSF1</th>\n",
       "      <th>BsmtFinType2</th>\n",
       "      <th>BsmtFinSF2</th>\n",
       "      <th>BsmtUnfSF</th>\n",
       "      <th>TotalBsmtSF</th>\n",
       "      <th>BsmtFullBath</th>\n",
       "      <th>BsmtHalfBath</th>\n",
       "    </tr>\n",
       "  </thead>\n",
       "  <tbody>\n",
       "    <tr>\n",
       "      <th>757</th>\n",
       "      <td>NaN</td>\n",
       "      <td>Fa</td>\n",
       "      <td>No</td>\n",
       "      <td>Unf</td>\n",
       "      <td>0.0</td>\n",
       "      <td>Unf</td>\n",
       "      <td>0.0</td>\n",
       "      <td>173.0</td>\n",
       "      <td>173.0</td>\n",
       "      <td>0.0</td>\n",
       "      <td>0.0</td>\n",
       "    </tr>\n",
       "    <tr>\n",
       "      <th>758</th>\n",
       "      <td>NaN</td>\n",
       "      <td>TA</td>\n",
       "      <td>No</td>\n",
       "      <td>Unf</td>\n",
       "      <td>0.0</td>\n",
       "      <td>Unf</td>\n",
       "      <td>0.0</td>\n",
       "      <td>356.0</td>\n",
       "      <td>356.0</td>\n",
       "      <td>0.0</td>\n",
       "      <td>0.0</td>\n",
       "    </tr>\n",
       "  </tbody>\n",
       "</table>\n",
       "</div>"
      ],
      "text/plain": [
       "    BsmtQual BsmtCond BsmtExposure BsmtFinType1  BsmtFinSF1 BsmtFinType2  \\\n",
       "757      NaN       Fa           No          Unf         0.0          Unf   \n",
       "758      NaN       TA           No          Unf         0.0          Unf   \n",
       "\n",
       "     BsmtFinSF2  BsmtUnfSF  TotalBsmtSF  BsmtFullBath  BsmtHalfBath  \n",
       "757         0.0      173.0        173.0           0.0           0.0  \n",
       "758         0.0      356.0        356.0           0.0           0.0  "
      ]
     },
     "execution_count": 384,
     "metadata": {},
     "output_type": "execute_result"
    }
   ],
   "source": [
    "# Selecting rows where BsmtQual is missing but BsmtCond is present\n",
    "df_test.loc[(df_test.BsmtQual.isnull()) & (df_test.BsmtCond.notnull()),col]\n"
   ]
  },
  {
   "cell_type": "code",
   "execution_count": 385,
   "metadata": {},
   "outputs": [
    {
     "data": {
      "text/plain": [
       "'TA'"
      ]
     },
     "execution_count": 385,
     "metadata": {},
     "output_type": "execute_result"
    }
   ],
   "source": [
    "# We can see the most frequent value\n",
    "df_test.BsmtQual.mode()[0]"
   ]
  },
  {
   "cell_type": "code",
   "execution_count": 386,
   "metadata": {},
   "outputs": [],
   "source": [
    "# Replacing missing values with \"No\" (the most frequent value)\n",
    "df_test.loc[(df_test.BsmtQual.isnull()) & (df_test.BsmtCond.notnull()),'BsmtQual'] = df_test.BsmtQual.mode()[0]"
   ]
  },
  {
   "cell_type": "code",
   "execution_count": 387,
   "metadata": {},
   "outputs": [
    {
     "data": {
      "application/vnd.microsoft.datawrangler.viewer.v0+json": {
       "columns": [
        {
         "name": "index",
         "rawType": "int64",
         "type": "integer"
        },
        {
         "name": "BsmtQual",
         "rawType": "object",
         "type": "string"
        },
        {
         "name": "BsmtCond",
         "rawType": "object",
         "type": "string"
        },
        {
         "name": "BsmtExposure",
         "rawType": "object",
         "type": "string"
        },
        {
         "name": "BsmtFinType1",
         "rawType": "object",
         "type": "string"
        },
        {
         "name": "BsmtFinSF1",
         "rawType": "float64",
         "type": "float"
        },
        {
         "name": "BsmtFinType2",
         "rawType": "object",
         "type": "string"
        },
        {
         "name": "BsmtFinSF2",
         "rawType": "float64",
         "type": "float"
        },
        {
         "name": "BsmtUnfSF",
         "rawType": "float64",
         "type": "float"
        },
        {
         "name": "TotalBsmtSF",
         "rawType": "float64",
         "type": "float"
        },
        {
         "name": "Heating",
         "rawType": "object",
         "type": "string"
        }
       ],
       "conversionMethod": "pd.DataFrame",
       "ref": "d010c540-bda4-4d1b-9fcd-51e801e6830f",
       "rows": [
        [
         "757",
         "TA",
         "Fa",
         "No",
         "Unf",
         "0.0",
         "Unf",
         "0.0",
         "173.0",
         "173.0",
         "GasA"
        ],
        [
         "758",
         "TA",
         "TA",
         "No",
         "Unf",
         "0.0",
         "Unf",
         "0.0",
         "356.0",
         "356.0",
         "GasA"
        ]
       ],
       "shape": {
        "columns": 10,
        "rows": 2
       }
      },
      "text/html": [
       "<div>\n",
       "<style scoped>\n",
       "    .dataframe tbody tr th:only-of-type {\n",
       "        vertical-align: middle;\n",
       "    }\n",
       "\n",
       "    .dataframe tbody tr th {\n",
       "        vertical-align: top;\n",
       "    }\n",
       "\n",
       "    .dataframe thead th {\n",
       "        text-align: right;\n",
       "    }\n",
       "</style>\n",
       "<table border=\"1\" class=\"dataframe\">\n",
       "  <thead>\n",
       "    <tr style=\"text-align: right;\">\n",
       "      <th></th>\n",
       "      <th>BsmtQual</th>\n",
       "      <th>BsmtCond</th>\n",
       "      <th>BsmtExposure</th>\n",
       "      <th>BsmtFinType1</th>\n",
       "      <th>BsmtFinSF1</th>\n",
       "      <th>BsmtFinType2</th>\n",
       "      <th>BsmtFinSF2</th>\n",
       "      <th>BsmtUnfSF</th>\n",
       "      <th>TotalBsmtSF</th>\n",
       "      <th>Heating</th>\n",
       "    </tr>\n",
       "  </thead>\n",
       "  <tbody>\n",
       "    <tr>\n",
       "      <th>757</th>\n",
       "      <td>TA</td>\n",
       "      <td>Fa</td>\n",
       "      <td>No</td>\n",
       "      <td>Unf</td>\n",
       "      <td>0.0</td>\n",
       "      <td>Unf</td>\n",
       "      <td>0.0</td>\n",
       "      <td>173.0</td>\n",
       "      <td>173.0</td>\n",
       "      <td>GasA</td>\n",
       "    </tr>\n",
       "    <tr>\n",
       "      <th>758</th>\n",
       "      <td>TA</td>\n",
       "      <td>TA</td>\n",
       "      <td>No</td>\n",
       "      <td>Unf</td>\n",
       "      <td>0.0</td>\n",
       "      <td>Unf</td>\n",
       "      <td>0.0</td>\n",
       "      <td>356.0</td>\n",
       "      <td>356.0</td>\n",
       "      <td>GasA</td>\n",
       "    </tr>\n",
       "  </tbody>\n",
       "</table>\n",
       "</div>"
      ],
      "text/plain": [
       "    BsmtQual BsmtCond BsmtExposure BsmtFinType1  BsmtFinSF1 BsmtFinType2  \\\n",
       "757       TA       Fa           No          Unf         0.0          Unf   \n",
       "758       TA       TA           No          Unf         0.0          Unf   \n",
       "\n",
       "     BsmtFinSF2  BsmtUnfSF  TotalBsmtSF Heating  \n",
       "757         0.0      173.0        173.0    GasA  \n",
       "758         0.0      356.0        356.0    GasA  "
      ]
     },
     "execution_count": 387,
     "metadata": {},
     "output_type": "execute_result"
    }
   ],
   "source": [
    "df_test.iloc[757:759,30:40]"
   ]
  },
  {
   "cell_type": "code",
   "execution_count": 388,
   "metadata": {},
   "outputs": [
    {
     "data": {
      "text/plain": [
       "BsmtQual  BsmtCond  BsmtExposure  BsmtFinType1  BsmtFinSF1  BsmtFinType2  BsmtFinSF2  BsmtUnfSF  TotalBsmtSF  BsmtFullBath  BsmtHalfBath\n",
       "NaN       NaN       NaN           NaN           0.0         NaN           0.0         0.0        0.0          0.0           0.0             40\n",
       "                                                                                                              NaN           NaN              1\n",
       "                                                NaN         NaN           NaN         NaN        NaN          NaN           NaN              1\n",
       "Name: count, dtype: int64"
      ]
     },
     "execution_count": 388,
     "metadata": {},
     "output_type": "execute_result"
    }
   ],
   "source": [
    "df_test.loc[df_test.BsmtQual.isnull(),col].value_counts(dropna=False)"
   ]
  },
  {
   "cell_type": "code",
   "execution_count": 389,
   "metadata": {},
   "outputs": [],
   "source": [
    "df_test.loc[df_test.BsmtQual.isnull(),['BsmtFinSF1','BsmtFinSF2','BsmtUnfSF','TotalBsmtSF','BsmtFullBath','BsmtHalfBath']] = 0\n",
    "\n",
    "df_test.loc[df_test.BsmtQual.isnull(),['BsmtQual','BsmtCond','BsmtExposure','BsmtFinType1','BsmtFinType2']] = -1"
   ]
  },
  {
   "cell_type": "code",
   "execution_count": 390,
   "metadata": {},
   "outputs": [
    {
     "data": {
      "text/plain": [
       "Series([], Name: count, dtype: int64)"
      ]
     },
     "execution_count": 390,
     "metadata": {},
     "output_type": "execute_result"
    }
   ],
   "source": [
    "df_test.loc[df_test.BsmtQual.isnull(),col].value_counts(dropna=False)"
   ]
  },
  {
   "cell_type": "code",
   "execution_count": 391,
   "metadata": {},
   "outputs": [
    {
     "data": {
      "text/plain": [
       "MasVnrType      894\n",
       "MasVnrArea       15\n",
       "MSZoning          4\n",
       "BsmtCond          3\n",
       "BsmtExposure      2\n",
       "Utilities         2\n",
       "Functional        2\n",
       "Exterior2nd       1\n",
       "Exterior1st       1\n",
       "KitchenQual       1\n",
       "dtype: int64"
      ]
     },
     "execution_count": 391,
     "metadata": {},
     "output_type": "execute_result"
    }
   ],
   "source": [
    "# Checking the number of missing values\n",
    "df_test.isnull().sum().sort_values(ascending=False).head(10)"
   ]
  },
  {
   "cell_type": "code",
   "execution_count": 392,
   "metadata": {},
   "outputs": [
    {
     "data": {
      "text/plain": [
       "BsmtQual  BsmtCond  BsmtExposure  BsmtFinType1  BsmtFinSF1  BsmtFinType2  BsmtFinSF2  BsmtUnfSF  TotalBsmtSF  BsmtFullBath  BsmtHalfBath\n",
       "Gd        NaN       Mn            GLQ           1044.0      Rec           382.0       0.0        1426.0       1.0           0.0             1\n",
       "TA        NaN       Av            ALQ           755.0       Unf           0.0         240.0      995.0        0.0           0.0             1\n",
       "                    No            BLQ           1033.0      Unf           0.0         94.0       1127.0       0.0           1.0             1\n",
       "Name: count, dtype: int64"
      ]
     },
     "execution_count": 392,
     "metadata": {},
     "output_type": "execute_result"
    }
   ],
   "source": [
    "# BsmtCond\n",
    "df_test.loc[df_test.BsmtCond.isnull(),col].value_counts(dropna=False)"
   ]
  },
  {
   "cell_type": "code",
   "execution_count": 393,
   "metadata": {},
   "outputs": [],
   "source": [
    "df_test.BsmtCond.mode()[0]\n",
    "df_test.loc[df_test.BsmtCond.isnull(),'BsmtCond'] = df_test.BsmtCond.mode()[0]"
   ]
  },
  {
   "cell_type": "code",
   "execution_count": 394,
   "metadata": {},
   "outputs": [
    {
     "data": {
      "text/plain": [
       "BsmtQual  BsmtCond  BsmtExposure  BsmtFinType1  BsmtFinSF1  BsmtFinType2  BsmtFinSF2  BsmtUnfSF  TotalBsmtSF  BsmtFullBath  BsmtHalfBath\n",
       "Gd        TA        NaN           Unf           0.0         Unf           0.0         725.0      725.0        0.0           0.0             1\n",
       "                                                                                      1595.0     1595.0       0.0           0.0             1\n",
       "Name: count, dtype: int64"
      ]
     },
     "execution_count": 394,
     "metadata": {},
     "output_type": "execute_result"
    }
   ],
   "source": [
    "# BsmtExposure\n",
    "df_test.loc[df_test.BsmtExposure.isnull(),col].value_counts(dropna=False)"
   ]
  },
  {
   "cell_type": "code",
   "execution_count": 395,
   "metadata": {},
   "outputs": [],
   "source": [
    "df_test.loc[df_test.BsmtExposure.isnull(),'BsmtExposure'] = df_test.BsmtExposure.mode()[0]"
   ]
  },
  {
   "cell_type": "code",
   "execution_count": 396,
   "metadata": {},
   "outputs": [
    {
     "data": {
      "text/plain": [
       "MasVnrType      872\n",
       "BsmtFinType1     37\n",
       "BsmtCond         37\n",
       "BsmtQual         37\n",
       "BsmtFinType2     37\n",
       "MasVnrArea        8\n",
       "Electrical        1\n",
       "MSSubClass        0\n",
       "LandContour       0\n",
       "Utilities         0\n",
       "dtype: int64"
      ]
     },
     "execution_count": 396,
     "metadata": {},
     "output_type": "execute_result"
    }
   ],
   "source": [
    "# Verify train data\n",
    "df_train.isnull().sum().sort_values(ascending=False).head(10)"
   ]
  },
  {
   "cell_type": "markdown",
   "metadata": {},
   "source": [
    "<a id='restante_teste'></a>\n",
    "- **Analyzing the remaining test dataset**\n",
    "- **Understanding these columns**\n",
    "    - **<font color='#A22538'>MSZoning</font>**: Area where the house is located  \n",
    "        - NA: The information was not added to the dataset (missing information)\n",
    "    - **<font color='#A22538'>Functional</font>**: House functionalities  \n",
    "        - NA: The information was not added to the dataset (missing information)\n",
    "    - **<font color='#A22538'>Utilities</font>**: Available utilities  \n",
    "        - NA: The information was not added to the dataset (missing information)\n"
   ]
  },
  {
   "cell_type": "code",
   "execution_count": 397,
   "metadata": {},
   "outputs": [
    {
     "data": {
      "text/plain": [
       "'RL'"
      ]
     },
     "execution_count": 397,
     "metadata": {},
     "output_type": "execute_result"
    }
   ],
   "source": [
    "df_test.MSZoning.mode()[0]"
   ]
  },
  {
   "cell_type": "code",
   "execution_count": 398,
   "metadata": {},
   "outputs": [],
   "source": [
    "df_test.loc[df_test.MSZoning.isnull(),'MSZoning'] = df_test.MSZoning.mode()[0]"
   ]
  },
  {
   "cell_type": "code",
   "execution_count": 399,
   "metadata": {},
   "outputs": [
    {
     "data": {
      "text/plain": [
       "Utilities\n",
       "AllPub    1457\n",
       "Name: count, dtype: int64"
      ]
     },
     "execution_count": 399,
     "metadata": {},
     "output_type": "execute_result"
    }
   ],
   "source": [
    "df_test.Utilities.value_counts()"
   ]
  },
  {
   "cell_type": "code",
   "execution_count": 400,
   "metadata": {},
   "outputs": [],
   "source": [
    "df_test.loc[df_test.Utilities.isnull(),'Utilities'] = df_test.Utilities.mode()[0]"
   ]
  },
  {
   "cell_type": "code",
   "execution_count": 401,
   "metadata": {},
   "outputs": [
    {
     "data": {
      "text/plain": [
       "Functional\n",
       "Typ     1357\n",
       "Min2      36\n",
       "Min1      34\n",
       "Mod       20\n",
       "Maj1       5\n",
       "Maj2       4\n",
       "Sev        1\n",
       "Name: count, dtype: int64"
      ]
     },
     "execution_count": 401,
     "metadata": {},
     "output_type": "execute_result"
    }
   ],
   "source": [
    "df_test.Functional.value_counts()"
   ]
  },
  {
   "cell_type": "code",
   "execution_count": 402,
   "metadata": {},
   "outputs": [],
   "source": [
    "df_test.loc[df_test.Functional.isnull(),'Functional'] = df_test.Functional.mode()[0]"
   ]
  },
  {
   "cell_type": "code",
   "execution_count": 403,
   "metadata": {},
   "outputs": [
    {
     "name": "stdout",
     "output_type": "stream",
     "text": [
      "VinylSd\n",
      "WD\n",
      "VinylSd\n",
      "TA\n"
     ]
    }
   ],
   "source": [
    "\n",
    "print(df_test.Exterior2nd.mode()[0])\n",
    "print(df_test.SaleType.mode()[0])\n",
    "print(df_test.Exterior1st.mode()[0])\n",
    "print(df_test.KitchenQual.mode()[0])"
   ]
  },
  {
   "cell_type": "code",
   "execution_count": 404,
   "metadata": {},
   "outputs": [],
   "source": [
    "\n",
    "df_test.loc[df_test.Exterior2nd.isnull(),'Exterior2nd'] = df_test.Exterior2nd.mode()[0]\n",
    "df_test.loc[df_test.SaleType.isnull(),'SaleType'] = df_test.SaleType.mode()[0]\n",
    "df_test.loc[df_test.Exterior1st.isnull(),'Exterior1st'] = df_test.Exterior1st.mode()[0]\n",
    "df_test.loc[df_test.KitchenQual.isnull(),'KitchenQual'] = df_test.KitchenQual.mode()[0]"
   ]
  },
  {
   "cell_type": "code",
   "execution_count": 405,
   "metadata": {},
   "outputs": [
    {
     "data": {
      "text/plain": [
       "MasVnrType    894\n",
       "MasVnrArea     15\n",
       "Id              0\n",
       "MSSubClass      0\n",
       "LotArea         0\n",
       "dtype: int64"
      ]
     },
     "execution_count": 405,
     "metadata": {},
     "output_type": "execute_result"
    }
   ],
   "source": [
    "\n",
    "df_test.isnull().sum().sort_values(ascending=False).head(5)"
   ]
  },
  {
   "cell_type": "code",
   "execution_count": 406,
   "metadata": {},
   "outputs": [
    {
     "data": {
      "text/plain": [
       "MasVnrType      872\n",
       "BsmtFinType1     37\n",
       "BsmtCond         37\n",
       "BsmtQual         37\n",
       "BsmtFinType2     37\n",
       "MasVnrArea        8\n",
       "Electrical        1\n",
       "MSSubClass        0\n",
       "LandContour       0\n",
       "Utilities         0\n",
       "dtype: int64"
      ]
     },
     "execution_count": 406,
     "metadata": {},
     "output_type": "execute_result"
    }
   ],
   "source": [
    "df_train.isnull().sum().sort_values(ascending=False).head(10)"
   ]
  },
  {
   "cell_type": "code",
   "execution_count": 407,
   "metadata": {},
   "outputs": [],
   "source": [
    "df_train.to_csv('train_2.csv', index=False)\n",
    "df_test.to_csv('test_2.csv', index=False)"
   ]
  },
  {
   "cell_type": "markdown",
   "metadata": {},
   "source": [
    "## Test data"
   ]
  },
  {
   "cell_type": "markdown",
   "metadata": {},
   "source": [
    "### Explore it"
   ]
  },
  {
   "cell_type": "code",
   "execution_count": 408,
   "metadata": {},
   "outputs": [
    {
     "data": {
      "application/vnd.microsoft.datawrangler.viewer.v0+json": {
       "columns": [
        {
         "name": "index",
         "rawType": "int64",
         "type": "integer"
        },
        {
         "name": "Id",
         "rawType": "int64",
         "type": "integer"
        },
        {
         "name": "MSSubClass",
         "rawType": "int64",
         "type": "integer"
        },
        {
         "name": "MSZoning",
         "rawType": "object",
         "type": "string"
        },
        {
         "name": "LotFrontage",
         "rawType": "float64",
         "type": "float"
        },
        {
         "name": "LotArea",
         "rawType": "int64",
         "type": "integer"
        },
        {
         "name": "Street",
         "rawType": "object",
         "type": "string"
        },
        {
         "name": "Alley",
         "rawType": "object",
         "type": "unknown"
        },
        {
         "name": "LotShape",
         "rawType": "object",
         "type": "string"
        },
        {
         "name": "LandContour",
         "rawType": "object",
         "type": "string"
        },
        {
         "name": "Utilities",
         "rawType": "object",
         "type": "string"
        },
        {
         "name": "LotConfig",
         "rawType": "object",
         "type": "string"
        },
        {
         "name": "LandSlope",
         "rawType": "object",
         "type": "string"
        },
        {
         "name": "Neighborhood",
         "rawType": "object",
         "type": "string"
        },
        {
         "name": "Condition1",
         "rawType": "object",
         "type": "string"
        },
        {
         "name": "Condition2",
         "rawType": "object",
         "type": "string"
        },
        {
         "name": "BldgType",
         "rawType": "object",
         "type": "string"
        },
        {
         "name": "HouseStyle",
         "rawType": "object",
         "type": "string"
        },
        {
         "name": "OverallQual",
         "rawType": "int64",
         "type": "integer"
        },
        {
         "name": "OverallCond",
         "rawType": "int64",
         "type": "integer"
        },
        {
         "name": "YearBuilt",
         "rawType": "int64",
         "type": "integer"
        },
        {
         "name": "YearRemodAdd",
         "rawType": "int64",
         "type": "integer"
        },
        {
         "name": "RoofStyle",
         "rawType": "object",
         "type": "string"
        },
        {
         "name": "RoofMatl",
         "rawType": "object",
         "type": "string"
        },
        {
         "name": "Exterior1st",
         "rawType": "object",
         "type": "string"
        },
        {
         "name": "Exterior2nd",
         "rawType": "object",
         "type": "string"
        },
        {
         "name": "MasVnrType",
         "rawType": "object",
         "type": "unknown"
        },
        {
         "name": "MasVnrArea",
         "rawType": "float64",
         "type": "float"
        },
        {
         "name": "ExterQual",
         "rawType": "object",
         "type": "string"
        },
        {
         "name": "ExterCond",
         "rawType": "object",
         "type": "string"
        },
        {
         "name": "Foundation",
         "rawType": "object",
         "type": "string"
        },
        {
         "name": "BsmtQual",
         "rawType": "object",
         "type": "string"
        },
        {
         "name": "BsmtCond",
         "rawType": "object",
         "type": "string"
        },
        {
         "name": "BsmtExposure",
         "rawType": "object",
         "type": "string"
        },
        {
         "name": "BsmtFinType1",
         "rawType": "object",
         "type": "string"
        },
        {
         "name": "BsmtFinSF1",
         "rawType": "float64",
         "type": "float"
        },
        {
         "name": "BsmtFinType2",
         "rawType": "object",
         "type": "string"
        },
        {
         "name": "BsmtFinSF2",
         "rawType": "float64",
         "type": "float"
        },
        {
         "name": "BsmtUnfSF",
         "rawType": "float64",
         "type": "float"
        },
        {
         "name": "TotalBsmtSF",
         "rawType": "float64",
         "type": "float"
        },
        {
         "name": "Heating",
         "rawType": "object",
         "type": "string"
        },
        {
         "name": "HeatingQC",
         "rawType": "object",
         "type": "string"
        },
        {
         "name": "CentralAir",
         "rawType": "object",
         "type": "string"
        },
        {
         "name": "Electrical",
         "rawType": "object",
         "type": "string"
        },
        {
         "name": "1stFlrSF",
         "rawType": "int64",
         "type": "integer"
        },
        {
         "name": "2ndFlrSF",
         "rawType": "int64",
         "type": "integer"
        },
        {
         "name": "LowQualFinSF",
         "rawType": "int64",
         "type": "integer"
        },
        {
         "name": "GrLivArea",
         "rawType": "int64",
         "type": "integer"
        },
        {
         "name": "BsmtFullBath",
         "rawType": "float64",
         "type": "float"
        },
        {
         "name": "BsmtHalfBath",
         "rawType": "float64",
         "type": "float"
        },
        {
         "name": "FullBath",
         "rawType": "int64",
         "type": "integer"
        },
        {
         "name": "HalfBath",
         "rawType": "int64",
         "type": "integer"
        },
        {
         "name": "BedroomAbvGr",
         "rawType": "int64",
         "type": "integer"
        },
        {
         "name": "KitchenAbvGr",
         "rawType": "int64",
         "type": "integer"
        },
        {
         "name": "KitchenQual",
         "rawType": "object",
         "type": "string"
        },
        {
         "name": "TotRmsAbvGrd",
         "rawType": "int64",
         "type": "integer"
        },
        {
         "name": "Functional",
         "rawType": "object",
         "type": "string"
        },
        {
         "name": "Fireplaces",
         "rawType": "int64",
         "type": "integer"
        },
        {
         "name": "FireplaceQu",
         "rawType": "object",
         "type": "unknown"
        },
        {
         "name": "GarageType",
         "rawType": "object",
         "type": "string"
        },
        {
         "name": "GarageYrBlt",
         "rawType": "float64",
         "type": "float"
        },
        {
         "name": "GarageFinish",
         "rawType": "object",
         "type": "string"
        },
        {
         "name": "GarageCars",
         "rawType": "float64",
         "type": "float"
        },
        {
         "name": "GarageArea",
         "rawType": "float64",
         "type": "float"
        },
        {
         "name": "GarageQual",
         "rawType": "object",
         "type": "string"
        },
        {
         "name": "GarageCond",
         "rawType": "object",
         "type": "string"
        },
        {
         "name": "PavedDrive",
         "rawType": "object",
         "type": "string"
        },
        {
         "name": "WoodDeckSF",
         "rawType": "int64",
         "type": "integer"
        },
        {
         "name": "OpenPorchSF",
         "rawType": "int64",
         "type": "integer"
        },
        {
         "name": "EnclosedPorch",
         "rawType": "int64",
         "type": "integer"
        },
        {
         "name": "3SsnPorch",
         "rawType": "int64",
         "type": "integer"
        },
        {
         "name": "ScreenPorch",
         "rawType": "int64",
         "type": "integer"
        },
        {
         "name": "PoolArea",
         "rawType": "int64",
         "type": "integer"
        },
        {
         "name": "PoolQC",
         "rawType": "object",
         "type": "unknown"
        },
        {
         "name": "Fence",
         "rawType": "object",
         "type": "unknown"
        },
        {
         "name": "MiscFeature",
         "rawType": "object",
         "type": "unknown"
        },
        {
         "name": "MiscVal",
         "rawType": "int64",
         "type": "integer"
        },
        {
         "name": "MoSold",
         "rawType": "int64",
         "type": "integer"
        },
        {
         "name": "YrSold",
         "rawType": "int64",
         "type": "integer"
        },
        {
         "name": "SaleType",
         "rawType": "object",
         "type": "string"
        },
        {
         "name": "SaleCondition",
         "rawType": "object",
         "type": "string"
        }
       ],
       "conversionMethod": "pd.DataFrame",
       "ref": "139d1ea1-5e51-43ca-b395-ed034005b9fe",
       "rows": [
        [
         "0",
         "1461",
         "20",
         "RH",
         "80.0",
         "11622",
         "Pave",
         "-1",
         "Reg",
         "Lvl",
         "AllPub",
         "Inside",
         "Gtl",
         "NAmes",
         "Feedr",
         "Norm",
         "1Fam",
         "1Story",
         "5",
         "6",
         "1961",
         "1961",
         "Gable",
         "CompShg",
         "VinylSd",
         "VinylSd",
         null,
         "0.0",
         "TA",
         "TA",
         "CBlock",
         "TA",
         "TA",
         "No",
         "Rec",
         "468.0",
         "LwQ",
         "144.0",
         "270.0",
         "882.0",
         "GasA",
         "TA",
         "Y",
         "SBrkr",
         "896",
         "0",
         "0",
         "896",
         "0.0",
         "0.0",
         "1",
         "0",
         "2",
         "1",
         "TA",
         "5",
         "Typ",
         "0",
         "-1",
         "Attchd",
         "1961.0",
         "Unf",
         "1.0",
         "730.0",
         "TA",
         "TA",
         "Y",
         "140",
         "0",
         "0",
         "0",
         "120",
         "0",
         "-1",
         "MnPrv",
         "-1",
         "0",
         "6",
         "2010",
         "WD",
         "Normal"
        ],
        [
         "1",
         "1462",
         "20",
         "RL",
         "81.0",
         "14267",
         "Pave",
         "-1",
         "IR1",
         "Lvl",
         "AllPub",
         "Corner",
         "Gtl",
         "NAmes",
         "Norm",
         "Norm",
         "1Fam",
         "1Story",
         "6",
         "6",
         "1958",
         "1958",
         "Hip",
         "CompShg",
         "Wd Sdng",
         "Wd Sdng",
         "BrkFace",
         "108.0",
         "TA",
         "TA",
         "CBlock",
         "TA",
         "TA",
         "No",
         "ALQ",
         "923.0",
         "Unf",
         "0.0",
         "406.0",
         "1329.0",
         "GasA",
         "TA",
         "Y",
         "SBrkr",
         "1329",
         "0",
         "0",
         "1329",
         "0.0",
         "0.0",
         "1",
         "1",
         "3",
         "1",
         "Gd",
         "6",
         "Typ",
         "0",
         "-1",
         "Attchd",
         "1958.0",
         "Unf",
         "1.0",
         "312.0",
         "TA",
         "TA",
         "Y",
         "393",
         "36",
         "0",
         "0",
         "0",
         "0",
         "-1",
         "-1",
         "Gar2",
         "12500",
         "6",
         "2010",
         "WD",
         "Normal"
        ],
        [
         "2",
         "1463",
         "60",
         "RL",
         "74.0",
         "13830",
         "Pave",
         "-1",
         "IR1",
         "Lvl",
         "AllPub",
         "Inside",
         "Gtl",
         "Gilbert",
         "Norm",
         "Norm",
         "1Fam",
         "2Story",
         "5",
         "5",
         "1997",
         "1998",
         "Gable",
         "CompShg",
         "VinylSd",
         "VinylSd",
         null,
         "0.0",
         "TA",
         "TA",
         "PConc",
         "Gd",
         "TA",
         "No",
         "GLQ",
         "791.0",
         "Unf",
         "0.0",
         "137.0",
         "928.0",
         "GasA",
         "Gd",
         "Y",
         "SBrkr",
         "928",
         "701",
         "0",
         "1629",
         "0.0",
         "0.0",
         "2",
         "1",
         "3",
         "1",
         "TA",
         "6",
         "Typ",
         "1",
         "TA",
         "Attchd",
         "1997.0",
         "Fin",
         "2.0",
         "482.0",
         "TA",
         "TA",
         "Y",
         "212",
         "34",
         "0",
         "0",
         "0",
         "0",
         "-1",
         "MnPrv",
         "-1",
         "0",
         "3",
         "2010",
         "WD",
         "Normal"
        ]
       ],
       "shape": {
        "columns": 80,
        "rows": 3
       }
      },
      "text/html": [
       "<div>\n",
       "<style scoped>\n",
       "    .dataframe tbody tr th:only-of-type {\n",
       "        vertical-align: middle;\n",
       "    }\n",
       "\n",
       "    .dataframe tbody tr th {\n",
       "        vertical-align: top;\n",
       "    }\n",
       "\n",
       "    .dataframe thead th {\n",
       "        text-align: right;\n",
       "    }\n",
       "</style>\n",
       "<table border=\"1\" class=\"dataframe\">\n",
       "  <thead>\n",
       "    <tr style=\"text-align: right;\">\n",
       "      <th></th>\n",
       "      <th>Id</th>\n",
       "      <th>MSSubClass</th>\n",
       "      <th>MSZoning</th>\n",
       "      <th>LotFrontage</th>\n",
       "      <th>LotArea</th>\n",
       "      <th>Street</th>\n",
       "      <th>Alley</th>\n",
       "      <th>LotShape</th>\n",
       "      <th>LandContour</th>\n",
       "      <th>Utilities</th>\n",
       "      <th>...</th>\n",
       "      <th>ScreenPorch</th>\n",
       "      <th>PoolArea</th>\n",
       "      <th>PoolQC</th>\n",
       "      <th>Fence</th>\n",
       "      <th>MiscFeature</th>\n",
       "      <th>MiscVal</th>\n",
       "      <th>MoSold</th>\n",
       "      <th>YrSold</th>\n",
       "      <th>SaleType</th>\n",
       "      <th>SaleCondition</th>\n",
       "    </tr>\n",
       "  </thead>\n",
       "  <tbody>\n",
       "    <tr>\n",
       "      <th>0</th>\n",
       "      <td>1461</td>\n",
       "      <td>20</td>\n",
       "      <td>RH</td>\n",
       "      <td>80.0</td>\n",
       "      <td>11622</td>\n",
       "      <td>Pave</td>\n",
       "      <td>-1</td>\n",
       "      <td>Reg</td>\n",
       "      <td>Lvl</td>\n",
       "      <td>AllPub</td>\n",
       "      <td>...</td>\n",
       "      <td>120</td>\n",
       "      <td>0</td>\n",
       "      <td>-1</td>\n",
       "      <td>MnPrv</td>\n",
       "      <td>-1</td>\n",
       "      <td>0</td>\n",
       "      <td>6</td>\n",
       "      <td>2010</td>\n",
       "      <td>WD</td>\n",
       "      <td>Normal</td>\n",
       "    </tr>\n",
       "    <tr>\n",
       "      <th>1</th>\n",
       "      <td>1462</td>\n",
       "      <td>20</td>\n",
       "      <td>RL</td>\n",
       "      <td>81.0</td>\n",
       "      <td>14267</td>\n",
       "      <td>Pave</td>\n",
       "      <td>-1</td>\n",
       "      <td>IR1</td>\n",
       "      <td>Lvl</td>\n",
       "      <td>AllPub</td>\n",
       "      <td>...</td>\n",
       "      <td>0</td>\n",
       "      <td>0</td>\n",
       "      <td>-1</td>\n",
       "      <td>-1</td>\n",
       "      <td>Gar2</td>\n",
       "      <td>12500</td>\n",
       "      <td>6</td>\n",
       "      <td>2010</td>\n",
       "      <td>WD</td>\n",
       "      <td>Normal</td>\n",
       "    </tr>\n",
       "    <tr>\n",
       "      <th>2</th>\n",
       "      <td>1463</td>\n",
       "      <td>60</td>\n",
       "      <td>RL</td>\n",
       "      <td>74.0</td>\n",
       "      <td>13830</td>\n",
       "      <td>Pave</td>\n",
       "      <td>-1</td>\n",
       "      <td>IR1</td>\n",
       "      <td>Lvl</td>\n",
       "      <td>AllPub</td>\n",
       "      <td>...</td>\n",
       "      <td>0</td>\n",
       "      <td>0</td>\n",
       "      <td>-1</td>\n",
       "      <td>MnPrv</td>\n",
       "      <td>-1</td>\n",
       "      <td>0</td>\n",
       "      <td>3</td>\n",
       "      <td>2010</td>\n",
       "      <td>WD</td>\n",
       "      <td>Normal</td>\n",
       "    </tr>\n",
       "  </tbody>\n",
       "</table>\n",
       "<p>3 rows × 80 columns</p>\n",
       "</div>"
      ],
      "text/plain": [
       "     Id  MSSubClass MSZoning  LotFrontage  LotArea Street Alley LotShape  \\\n",
       "0  1461          20       RH         80.0    11622   Pave    -1      Reg   \n",
       "1  1462          20       RL         81.0    14267   Pave    -1      IR1   \n",
       "2  1463          60       RL         74.0    13830   Pave    -1      IR1   \n",
       "\n",
       "  LandContour Utilities  ... ScreenPorch PoolArea PoolQC  Fence MiscFeature  \\\n",
       "0         Lvl    AllPub  ...         120        0     -1  MnPrv          -1   \n",
       "1         Lvl    AllPub  ...           0        0     -1     -1        Gar2   \n",
       "2         Lvl    AllPub  ...           0        0     -1  MnPrv          -1   \n",
       "\n",
       "  MiscVal MoSold  YrSold  SaleType  SaleCondition  \n",
       "0       0      6    2010        WD         Normal  \n",
       "1   12500      6    2010        WD         Normal  \n",
       "2       0      3    2010        WD         Normal  \n",
       "\n",
       "[3 rows x 80 columns]"
      ]
     },
     "execution_count": 408,
     "metadata": {},
     "output_type": "execute_result"
    }
   ],
   "source": [
    "df_test.head(3)"
   ]
  },
  {
   "cell_type": "code",
   "execution_count": 409,
   "metadata": {},
   "outputs": [
    {
     "data": {
      "text/plain": [
       "(1459, 80)"
      ]
     },
     "execution_count": 409,
     "metadata": {},
     "output_type": "execute_result"
    }
   ],
   "source": [
    "df_test.shape"
   ]
  },
  {
   "cell_type": "code",
   "execution_count": 410,
   "metadata": {},
   "outputs": [
    {
     "name": "stdout",
     "output_type": "stream",
     "text": [
      "<class 'pandas.core.frame.DataFrame'>\n",
      "RangeIndex: 1459 entries, 0 to 1458\n",
      "Data columns (total 80 columns):\n",
      " #   Column         Non-Null Count  Dtype  \n",
      "---  ------         --------------  -----  \n",
      " 0   Id             1459 non-null   int64  \n",
      " 1   MSSubClass     1459 non-null   int64  \n",
      " 2   MSZoning       1459 non-null   object \n",
      " 3   LotFrontage    1459 non-null   float64\n",
      " 4   LotArea        1459 non-null   int64  \n",
      " 5   Street         1459 non-null   object \n",
      " 6   Alley          1459 non-null   object \n",
      " 7   LotShape       1459 non-null   object \n",
      " 8   LandContour    1459 non-null   object \n",
      " 9   Utilities      1459 non-null   object \n",
      " 10  LotConfig      1459 non-null   object \n",
      " 11  LandSlope      1459 non-null   object \n",
      " 12  Neighborhood   1459 non-null   object \n",
      " 13  Condition1     1459 non-null   object \n",
      " 14  Condition2     1459 non-null   object \n",
      " 15  BldgType       1459 non-null   object \n",
      " 16  HouseStyle     1459 non-null   object \n",
      " 17  OverallQual    1459 non-null   int64  \n",
      " 18  OverallCond    1459 non-null   int64  \n",
      " 19  YearBuilt      1459 non-null   int64  \n",
      " 20  YearRemodAdd   1459 non-null   int64  \n",
      " 21  RoofStyle      1459 non-null   object \n",
      " 22  RoofMatl       1459 non-null   object \n",
      " 23  Exterior1st    1459 non-null   object \n",
      " 24  Exterior2nd    1459 non-null   object \n",
      " 25  MasVnrType     565 non-null    object \n",
      " 26  MasVnrArea     1444 non-null   float64\n",
      " 27  ExterQual      1459 non-null   object \n",
      " 28  ExterCond      1459 non-null   object \n",
      " 29  Foundation     1459 non-null   object \n",
      " 30  BsmtQual       1459 non-null   object \n",
      " 31  BsmtCond       1459 non-null   object \n",
      " 32  BsmtExposure   1459 non-null   object \n",
      " 33  BsmtFinType1   1459 non-null   object \n",
      " 34  BsmtFinSF1     1459 non-null   float64\n",
      " 35  BsmtFinType2   1459 non-null   object \n",
      " 36  BsmtFinSF2     1459 non-null   float64\n",
      " 37  BsmtUnfSF      1459 non-null   float64\n",
      " 38  TotalBsmtSF    1459 non-null   float64\n",
      " 39  Heating        1459 non-null   object \n",
      " 40  HeatingQC      1459 non-null   object \n",
      " 41  CentralAir     1459 non-null   object \n",
      " 42  Electrical     1459 non-null   object \n",
      " 43  1stFlrSF       1459 non-null   int64  \n",
      " 44  2ndFlrSF       1459 non-null   int64  \n",
      " 45  LowQualFinSF   1459 non-null   int64  \n",
      " 46  GrLivArea      1459 non-null   int64  \n",
      " 47  BsmtFullBath   1459 non-null   float64\n",
      " 48  BsmtHalfBath   1459 non-null   float64\n",
      " 49  FullBath       1459 non-null   int64  \n",
      " 50  HalfBath       1459 non-null   int64  \n",
      " 51  BedroomAbvGr   1459 non-null   int64  \n",
      " 52  KitchenAbvGr   1459 non-null   int64  \n",
      " 53  KitchenQual    1459 non-null   object \n",
      " 54  TotRmsAbvGrd   1459 non-null   int64  \n",
      " 55  Functional     1459 non-null   object \n",
      " 56  Fireplaces     1459 non-null   int64  \n",
      " 57  FireplaceQu    1459 non-null   object \n",
      " 58  GarageType     1459 non-null   object \n",
      " 59  GarageYrBlt    1459 non-null   float64\n",
      " 60  GarageFinish   1459 non-null   object \n",
      " 61  GarageCars     1459 non-null   float64\n",
      " 62  GarageArea     1459 non-null   float64\n",
      " 63  GarageQual     1459 non-null   object \n",
      " 64  GarageCond     1459 non-null   object \n",
      " 65  PavedDrive     1459 non-null   object \n",
      " 66  WoodDeckSF     1459 non-null   int64  \n",
      " 67  OpenPorchSF    1459 non-null   int64  \n",
      " 68  EnclosedPorch  1459 non-null   int64  \n",
      " 69  3SsnPorch      1459 non-null   int64  \n",
      " 70  ScreenPorch    1459 non-null   int64  \n",
      " 71  PoolArea       1459 non-null   int64  \n",
      " 72  PoolQC         1459 non-null   object \n",
      " 73  Fence          1459 non-null   object \n",
      " 74  MiscFeature    1459 non-null   object \n",
      " 75  MiscVal        1459 non-null   int64  \n",
      " 76  MoSold         1459 non-null   int64  \n",
      " 77  YrSold         1459 non-null   int64  \n",
      " 78  SaleType       1459 non-null   object \n",
      " 79  SaleCondition  1459 non-null   object \n",
      "dtypes: float64(11), int64(26), object(43)\n",
      "memory usage: 912.0+ KB\n"
     ]
    }
   ],
   "source": [
    "df_test.info()"
   ]
  },
  {
   "cell_type": "code",
   "execution_count": 411,
   "metadata": {},
   "outputs": [
    {
     "name": "stdout",
     "output_type": "stream",
     "text": [
      "MasVnrType      61.27%\n",
      "MasVnrArea       1.03%\n",
      "Id               0.00%\n",
      "MSSubClass       0.00%\n",
      "LotArea          0.00%\n",
      "Street           0.00%\n",
      "MSZoning         0.00%\n",
      "LotFrontage      0.00%\n",
      "LandContour      0.00%\n",
      "Utilities        0.00%\n",
      "LotConfig        0.00%\n",
      "LandSlope        0.00%\n",
      "Neighborhood     0.00%\n",
      "Condition1       0.00%\n",
      "Alley            0.00%\n",
      "LotShape         0.00%\n",
      "BldgType         0.00%\n",
      "Condition2       0.00%\n",
      "HouseStyle       0.00%\n",
      "OverallQual      0.00%\n",
      "dtype: object\n"
     ]
    }
   ],
   "source": [
    "# Check for missing values (Top 20)\n",
    "missing_percent = (df_test.isnull().sum() / df_test.shape[0] * 100).sort_values(ascending=False).head(20)\n",
    "missing_percent = missing_percent.apply(lambda x: f\"{x:.2f}%\")\n",
    "print(missing_percent)\n",
    "\n",
    "del missing_percent"
   ]
  },
  {
   "cell_type": "markdown",
   "metadata": {},
   "source": [
    "### Data cleaning "
   ]
  },
  {
   "cell_type": "code",
   "execution_count": 412,
   "metadata": {},
   "outputs": [],
   "source": [
    "# Here we will drop columns with more than 10% missing values\n",
    "drop = df_test.columns[df_test.isnull().sum()/df_test.shape[0] > 0.1]\n",
    "df_test = df_test.drop(drop,axis=1)"
   ]
  },
  {
   "cell_type": "code",
   "execution_count": 413,
   "metadata": {},
   "outputs": [],
   "source": [
    "# Now we will fill the missing values with -1\n",
    "df_test = df_test.fillna(-1)"
   ]
  },
  {
   "cell_type": "code",
   "execution_count": 414,
   "metadata": {},
   "outputs": [],
   "source": [
    "# Selecting only numeric columns and creating a new DataFrame\n",
    "col = df_test.columns[df_test.dtypes != 'object']\n",
    "df_test = df_test.loc[:, col]\n",
    "\n",
    "del col"
   ]
  },
  {
   "cell_type": "markdown",
   "metadata": {},
   "source": [
    "# Model 🛠️"
   ]
  },
  {
   "cell_type": "markdown",
   "metadata": {},
   "source": [
    "## Sets"
   ]
  },
  {
   "cell_type": "code",
   "execution_count": 415,
   "metadata": {},
   "outputs": [],
   "source": [
    "# Explanatory variables (X) and the outcome variable (y)\n",
    "X = df_train.drop('SalePrice', axis=1)  # Explanatory variables (covariates)\n",
    "y = df_train['SalePrice']               # Outcome variable of interest"
   ]
  },
  {
   "cell_type": "code",
   "execution_count": 416,
   "metadata": {},
   "outputs": [],
   "source": [
    "# Dividing the sample into estimation and validation sets\n",
    "X_train, X_test, y_train, y_test = train_test_split(\n",
    "    X, y, test_size=0.33, random_state=42  # 33% of the sample is set aside for out-of-sample evaluation\n",
    ")"
   ]
  },
  {
   "cell_type": "markdown",
   "metadata": {},
   "source": [
    "## Linear Regression"
   ]
  },
  {
   "cell_type": "code",
   "execution_count": 417,
   "metadata": {},
   "outputs": [
    {
     "ename": "ValueError",
     "evalue": "could not convert string to float: 'RL'",
     "output_type": "error",
     "traceback": [
      "\u001b[1;31m---------------------------------------------------------------------------\u001b[0m",
      "\u001b[1;31mValueError\u001b[0m                                Traceback (most recent call last)",
      "\u001b[1;32m~\\AppData\\Local\\Temp\\ipykernel_27508\\1949069262.py\u001b[0m in \u001b[0;36m?\u001b[1;34m()\u001b[0m\n\u001b[0;32m      1\u001b[0m \u001b[1;31m# Estimating the baseline linear regression model using the training sample\u001b[0m\u001b[1;33m\u001b[0m\u001b[1;33m\u001b[0m\u001b[0m\n\u001b[1;32m----> 2\u001b[1;33m \u001b[0mreg_lr\u001b[0m \u001b[1;33m=\u001b[0m \u001b[0mLinearRegression\u001b[0m\u001b[1;33m(\u001b[0m\u001b[1;33m)\u001b[0m\u001b[1;33m.\u001b[0m\u001b[0mfit\u001b[0m\u001b[1;33m(\u001b[0m\u001b[0mX_train\u001b[0m\u001b[1;33m,\u001b[0m \u001b[0my_train\u001b[0m\u001b[1;33m)\u001b[0m\u001b[1;33m\u001b[0m\u001b[1;33m\u001b[0m\u001b[0m\n\u001b[0m",
      "\u001b[1;32mc:\\Users\\USER\\AppData\\Local\\Programs\\Python\\Python313\\Lib\\site-packages\\sklearn\\base.py\u001b[0m in \u001b[0;36m?\u001b[1;34m(estimator, *args, **kwargs)\u001b[0m\n\u001b[0;32m   1385\u001b[0m                 skip_parameter_validation=(\n\u001b[0;32m   1386\u001b[0m                     \u001b[0mprefer_skip_nested_validation\u001b[0m \u001b[1;32mor\u001b[0m \u001b[0mglobal_skip_validation\u001b[0m\u001b[1;33m\u001b[0m\u001b[1;33m\u001b[0m\u001b[0m\n\u001b[0;32m   1387\u001b[0m                 \u001b[1;33m)\u001b[0m\u001b[1;33m\u001b[0m\u001b[1;33m\u001b[0m\u001b[0m\n\u001b[0;32m   1388\u001b[0m             \u001b[1;33m)\u001b[0m\u001b[1;33m:\u001b[0m\u001b[1;33m\u001b[0m\u001b[1;33m\u001b[0m\u001b[0m\n\u001b[1;32m-> 1389\u001b[1;33m                 \u001b[1;32mreturn\u001b[0m \u001b[0mfit_method\u001b[0m\u001b[1;33m(\u001b[0m\u001b[0mestimator\u001b[0m\u001b[1;33m,\u001b[0m \u001b[1;33m*\u001b[0m\u001b[0margs\u001b[0m\u001b[1;33m,\u001b[0m \u001b[1;33m**\u001b[0m\u001b[0mkwargs\u001b[0m\u001b[1;33m)\u001b[0m\u001b[1;33m\u001b[0m\u001b[1;33m\u001b[0m\u001b[0m\n\u001b[0m",
      "\u001b[1;32mc:\\Users\\USER\\AppData\\Local\\Programs\\Python\\Python313\\Lib\\site-packages\\sklearn\\linear_model\\_base.py\u001b[0m in \u001b[0;36m?\u001b[1;34m(self, X, y, sample_weight)\u001b[0m\n\u001b[0;32m    597\u001b[0m         \u001b[0mn_jobs_\u001b[0m \u001b[1;33m=\u001b[0m \u001b[0mself\u001b[0m\u001b[1;33m.\u001b[0m\u001b[0mn_jobs\u001b[0m\u001b[1;33m\u001b[0m\u001b[1;33m\u001b[0m\u001b[0m\n\u001b[0;32m    598\u001b[0m \u001b[1;33m\u001b[0m\u001b[0m\n\u001b[0;32m    599\u001b[0m         \u001b[0maccept_sparse\u001b[0m \u001b[1;33m=\u001b[0m \u001b[1;32mFalse\u001b[0m \u001b[1;32mif\u001b[0m \u001b[0mself\u001b[0m\u001b[1;33m.\u001b[0m\u001b[0mpositive\u001b[0m \u001b[1;32melse\u001b[0m \u001b[1;33m[\u001b[0m\u001b[1;34m\"csr\"\u001b[0m\u001b[1;33m,\u001b[0m \u001b[1;34m\"csc\"\u001b[0m\u001b[1;33m,\u001b[0m \u001b[1;34m\"coo\"\u001b[0m\u001b[1;33m]\u001b[0m\u001b[1;33m\u001b[0m\u001b[1;33m\u001b[0m\u001b[0m\n\u001b[0;32m    600\u001b[0m \u001b[1;33m\u001b[0m\u001b[0m\n\u001b[1;32m--> 601\u001b[1;33m         X, y = validate_data(\n\u001b[0m\u001b[0;32m    602\u001b[0m             \u001b[0mself\u001b[0m\u001b[1;33m,\u001b[0m\u001b[1;33m\u001b[0m\u001b[1;33m\u001b[0m\u001b[0m\n\u001b[0;32m    603\u001b[0m             \u001b[0mX\u001b[0m\u001b[1;33m,\u001b[0m\u001b[1;33m\u001b[0m\u001b[1;33m\u001b[0m\u001b[0m\n\u001b[0;32m    604\u001b[0m             \u001b[0my\u001b[0m\u001b[1;33m,\u001b[0m\u001b[1;33m\u001b[0m\u001b[1;33m\u001b[0m\u001b[0m\n",
      "\u001b[1;32mc:\\Users\\USER\\AppData\\Local\\Programs\\Python\\Python313\\Lib\\site-packages\\sklearn\\utils\\validation.py\u001b[0m in \u001b[0;36m?\u001b[1;34m(_estimator, X, y, reset, validate_separately, skip_check_array, **check_params)\u001b[0m\n\u001b[0;32m   2957\u001b[0m             \u001b[1;32mif\u001b[0m \u001b[1;34m\"estimator\"\u001b[0m \u001b[1;32mnot\u001b[0m \u001b[1;32min\u001b[0m \u001b[0mcheck_y_params\u001b[0m\u001b[1;33m:\u001b[0m\u001b[1;33m\u001b[0m\u001b[1;33m\u001b[0m\u001b[0m\n\u001b[0;32m   2958\u001b[0m                 \u001b[0mcheck_y_params\u001b[0m \u001b[1;33m=\u001b[0m \u001b[1;33m{\u001b[0m\u001b[1;33m**\u001b[0m\u001b[0mdefault_check_params\u001b[0m\u001b[1;33m,\u001b[0m \u001b[1;33m**\u001b[0m\u001b[0mcheck_y_params\u001b[0m\u001b[1;33m}\u001b[0m\u001b[1;33m\u001b[0m\u001b[1;33m\u001b[0m\u001b[0m\n\u001b[0;32m   2959\u001b[0m             \u001b[0my\u001b[0m \u001b[1;33m=\u001b[0m \u001b[0mcheck_array\u001b[0m\u001b[1;33m(\u001b[0m\u001b[0my\u001b[0m\u001b[1;33m,\u001b[0m \u001b[0minput_name\u001b[0m\u001b[1;33m=\u001b[0m\u001b[1;34m\"y\"\u001b[0m\u001b[1;33m,\u001b[0m \u001b[1;33m**\u001b[0m\u001b[0mcheck_y_params\u001b[0m\u001b[1;33m)\u001b[0m\u001b[1;33m\u001b[0m\u001b[1;33m\u001b[0m\u001b[0m\n\u001b[0;32m   2960\u001b[0m         \u001b[1;32melse\u001b[0m\u001b[1;33m:\u001b[0m\u001b[1;33m\u001b[0m\u001b[1;33m\u001b[0m\u001b[0m\n\u001b[1;32m-> 2961\u001b[1;33m             \u001b[0mX\u001b[0m\u001b[1;33m,\u001b[0m \u001b[0my\u001b[0m \u001b[1;33m=\u001b[0m \u001b[0mcheck_X_y\u001b[0m\u001b[1;33m(\u001b[0m\u001b[0mX\u001b[0m\u001b[1;33m,\u001b[0m \u001b[0my\u001b[0m\u001b[1;33m,\u001b[0m \u001b[1;33m**\u001b[0m\u001b[0mcheck_params\u001b[0m\u001b[1;33m)\u001b[0m\u001b[1;33m\u001b[0m\u001b[1;33m\u001b[0m\u001b[0m\n\u001b[0m\u001b[0;32m   2962\u001b[0m         \u001b[0mout\u001b[0m \u001b[1;33m=\u001b[0m \u001b[0mX\u001b[0m\u001b[1;33m,\u001b[0m \u001b[0my\u001b[0m\u001b[1;33m\u001b[0m\u001b[1;33m\u001b[0m\u001b[0m\n\u001b[0;32m   2963\u001b[0m \u001b[1;33m\u001b[0m\u001b[0m\n\u001b[0;32m   2964\u001b[0m     \u001b[1;32mif\u001b[0m \u001b[1;32mnot\u001b[0m \u001b[0mno_val_X\u001b[0m \u001b[1;32mand\u001b[0m \u001b[0mcheck_params\u001b[0m\u001b[1;33m.\u001b[0m\u001b[0mget\u001b[0m\u001b[1;33m(\u001b[0m\u001b[1;34m\"ensure_2d\"\u001b[0m\u001b[1;33m,\u001b[0m \u001b[1;32mTrue\u001b[0m\u001b[1;33m)\u001b[0m\u001b[1;33m:\u001b[0m\u001b[1;33m\u001b[0m\u001b[1;33m\u001b[0m\u001b[0m\n",
      "\u001b[1;32mc:\\Users\\USER\\AppData\\Local\\Programs\\Python\\Python313\\Lib\\site-packages\\sklearn\\utils\\validation.py\u001b[0m in \u001b[0;36m?\u001b[1;34m(X, y, accept_sparse, accept_large_sparse, dtype, order, copy, force_writeable, force_all_finite, ensure_all_finite, ensure_2d, allow_nd, multi_output, ensure_min_samples, ensure_min_features, y_numeric, estimator)\u001b[0m\n\u001b[0;32m   1366\u001b[0m         \u001b[1;33m)\u001b[0m\u001b[1;33m\u001b[0m\u001b[1;33m\u001b[0m\u001b[0m\n\u001b[0;32m   1367\u001b[0m \u001b[1;33m\u001b[0m\u001b[0m\n\u001b[0;32m   1368\u001b[0m     \u001b[0mensure_all_finite\u001b[0m \u001b[1;33m=\u001b[0m \u001b[0m_deprecate_force_all_finite\u001b[0m\u001b[1;33m(\u001b[0m\u001b[0mforce_all_finite\u001b[0m\u001b[1;33m,\u001b[0m \u001b[0mensure_all_finite\u001b[0m\u001b[1;33m)\u001b[0m\u001b[1;33m\u001b[0m\u001b[1;33m\u001b[0m\u001b[0m\n\u001b[0;32m   1369\u001b[0m \u001b[1;33m\u001b[0m\u001b[0m\n\u001b[1;32m-> 1370\u001b[1;33m     X = check_array(\n\u001b[0m\u001b[0;32m   1371\u001b[0m         \u001b[0mX\u001b[0m\u001b[1;33m,\u001b[0m\u001b[1;33m\u001b[0m\u001b[1;33m\u001b[0m\u001b[0m\n\u001b[0;32m   1372\u001b[0m         \u001b[0maccept_sparse\u001b[0m\u001b[1;33m=\u001b[0m\u001b[0maccept_sparse\u001b[0m\u001b[1;33m,\u001b[0m\u001b[1;33m\u001b[0m\u001b[1;33m\u001b[0m\u001b[0m\n\u001b[0;32m   1373\u001b[0m         \u001b[0maccept_large_sparse\u001b[0m\u001b[1;33m=\u001b[0m\u001b[0maccept_large_sparse\u001b[0m\u001b[1;33m,\u001b[0m\u001b[1;33m\u001b[0m\u001b[1;33m\u001b[0m\u001b[0m\n",
      "\u001b[1;32mc:\\Users\\USER\\AppData\\Local\\Programs\\Python\\Python313\\Lib\\site-packages\\sklearn\\utils\\validation.py\u001b[0m in \u001b[0;36m?\u001b[1;34m(array, accept_sparse, accept_large_sparse, dtype, order, copy, force_writeable, force_all_finite, ensure_all_finite, ensure_non_negative, ensure_2d, allow_nd, ensure_min_samples, ensure_min_features, estimator, input_name)\u001b[0m\n\u001b[0;32m   1052\u001b[0m                         \u001b[1;33m)\u001b[0m\u001b[1;33m\u001b[0m\u001b[1;33m\u001b[0m\u001b[0m\n\u001b[0;32m   1053\u001b[0m                     \u001b[0marray\u001b[0m \u001b[1;33m=\u001b[0m \u001b[0mxp\u001b[0m\u001b[1;33m.\u001b[0m\u001b[0mastype\u001b[0m\u001b[1;33m(\u001b[0m\u001b[0marray\u001b[0m\u001b[1;33m,\u001b[0m \u001b[0mdtype\u001b[0m\u001b[1;33m,\u001b[0m \u001b[0mcopy\u001b[0m\u001b[1;33m=\u001b[0m\u001b[1;32mFalse\u001b[0m\u001b[1;33m)\u001b[0m\u001b[1;33m\u001b[0m\u001b[1;33m\u001b[0m\u001b[0m\n\u001b[0;32m   1054\u001b[0m                 \u001b[1;32melse\u001b[0m\u001b[1;33m:\u001b[0m\u001b[1;33m\u001b[0m\u001b[1;33m\u001b[0m\u001b[0m\n\u001b[0;32m   1055\u001b[0m                     \u001b[0marray\u001b[0m \u001b[1;33m=\u001b[0m \u001b[0m_asarray_with_order\u001b[0m\u001b[1;33m(\u001b[0m\u001b[0marray\u001b[0m\u001b[1;33m,\u001b[0m \u001b[0morder\u001b[0m\u001b[1;33m=\u001b[0m\u001b[0morder\u001b[0m\u001b[1;33m,\u001b[0m \u001b[0mdtype\u001b[0m\u001b[1;33m=\u001b[0m\u001b[0mdtype\u001b[0m\u001b[1;33m,\u001b[0m \u001b[0mxp\u001b[0m\u001b[1;33m=\u001b[0m\u001b[0mxp\u001b[0m\u001b[1;33m)\u001b[0m\u001b[1;33m\u001b[0m\u001b[1;33m\u001b[0m\u001b[0m\n\u001b[1;32m-> 1056\u001b[1;33m             \u001b[1;32mexcept\u001b[0m \u001b[0mComplexWarning\u001b[0m \u001b[1;32mas\u001b[0m \u001b[0mcomplex_warning\u001b[0m\u001b[1;33m:\u001b[0m\u001b[1;33m\u001b[0m\u001b[1;33m\u001b[0m\u001b[0m\n\u001b[0m\u001b[0;32m   1057\u001b[0m                 raise ValueError(\n\u001b[0;32m   1058\u001b[0m                     \u001b[1;34m\"Complex data not supported\\n{}\\n\"\u001b[0m\u001b[1;33m.\u001b[0m\u001b[0mformat\u001b[0m\u001b[1;33m(\u001b[0m\u001b[0marray\u001b[0m\u001b[1;33m)\u001b[0m\u001b[1;33m\u001b[0m\u001b[1;33m\u001b[0m\u001b[0m\n\u001b[0;32m   1059\u001b[0m                 \u001b[1;33m)\u001b[0m \u001b[1;32mfrom\u001b[0m \u001b[0mcomplex_warning\u001b[0m\u001b[1;33m\u001b[0m\u001b[1;33m\u001b[0m\u001b[0m\n",
      "\u001b[1;32mc:\\Users\\USER\\AppData\\Local\\Programs\\Python\\Python313\\Lib\\site-packages\\sklearn\\utils\\_array_api.py\u001b[0m in \u001b[0;36m?\u001b[1;34m(array, dtype, order, copy, xp, device)\u001b[0m\n\u001b[0;32m    835\u001b[0m         \u001b[1;31m# Use NumPy API to support order\u001b[0m\u001b[1;33m\u001b[0m\u001b[1;33m\u001b[0m\u001b[0m\n\u001b[0;32m    836\u001b[0m         \u001b[1;32mif\u001b[0m \u001b[0mcopy\u001b[0m \u001b[1;32mis\u001b[0m \u001b[1;32mTrue\u001b[0m\u001b[1;33m:\u001b[0m\u001b[1;33m\u001b[0m\u001b[1;33m\u001b[0m\u001b[0m\n\u001b[0;32m    837\u001b[0m             \u001b[0marray\u001b[0m \u001b[1;33m=\u001b[0m \u001b[0mnumpy\u001b[0m\u001b[1;33m.\u001b[0m\u001b[0marray\u001b[0m\u001b[1;33m(\u001b[0m\u001b[0marray\u001b[0m\u001b[1;33m,\u001b[0m \u001b[0morder\u001b[0m\u001b[1;33m=\u001b[0m\u001b[0morder\u001b[0m\u001b[1;33m,\u001b[0m \u001b[0mdtype\u001b[0m\u001b[1;33m=\u001b[0m\u001b[0mdtype\u001b[0m\u001b[1;33m)\u001b[0m\u001b[1;33m\u001b[0m\u001b[1;33m\u001b[0m\u001b[0m\n\u001b[0;32m    838\u001b[0m         \u001b[1;32melse\u001b[0m\u001b[1;33m:\u001b[0m\u001b[1;33m\u001b[0m\u001b[1;33m\u001b[0m\u001b[0m\n\u001b[1;32m--> 839\u001b[1;33m             \u001b[0marray\u001b[0m \u001b[1;33m=\u001b[0m \u001b[0mnumpy\u001b[0m\u001b[1;33m.\u001b[0m\u001b[0masarray\u001b[0m\u001b[1;33m(\u001b[0m\u001b[0marray\u001b[0m\u001b[1;33m,\u001b[0m \u001b[0morder\u001b[0m\u001b[1;33m=\u001b[0m\u001b[0morder\u001b[0m\u001b[1;33m,\u001b[0m \u001b[0mdtype\u001b[0m\u001b[1;33m=\u001b[0m\u001b[0mdtype\u001b[0m\u001b[1;33m)\u001b[0m\u001b[1;33m\u001b[0m\u001b[1;33m\u001b[0m\u001b[0m\n\u001b[0m\u001b[0;32m    840\u001b[0m \u001b[1;33m\u001b[0m\u001b[0m\n\u001b[0;32m    841\u001b[0m         \u001b[1;31m# At this point array is a NumPy ndarray. We convert it to an array\u001b[0m\u001b[1;33m\u001b[0m\u001b[1;33m\u001b[0m\u001b[0m\n\u001b[0;32m    842\u001b[0m         \u001b[1;31m# container that is consistent with the input's namespace.\u001b[0m\u001b[1;33m\u001b[0m\u001b[1;33m\u001b[0m\u001b[0m\n",
      "\u001b[1;32mc:\\Users\\USER\\AppData\\Local\\Programs\\Python\\Python313\\Lib\\site-packages\\pandas\\core\\generic.py\u001b[0m in \u001b[0;36m?\u001b[1;34m(self, dtype, copy)\u001b[0m\n\u001b[0;32m   2149\u001b[0m     def __array__(\n\u001b[0;32m   2150\u001b[0m         \u001b[0mself\u001b[0m\u001b[1;33m,\u001b[0m \u001b[0mdtype\u001b[0m\u001b[1;33m:\u001b[0m \u001b[0mnpt\u001b[0m\u001b[1;33m.\u001b[0m\u001b[0mDTypeLike\u001b[0m \u001b[1;33m|\u001b[0m \u001b[1;32mNone\u001b[0m \u001b[1;33m=\u001b[0m \u001b[1;32mNone\u001b[0m\u001b[1;33m,\u001b[0m \u001b[0mcopy\u001b[0m\u001b[1;33m:\u001b[0m \u001b[0mbool_t\u001b[0m \u001b[1;33m|\u001b[0m \u001b[1;32mNone\u001b[0m \u001b[1;33m=\u001b[0m \u001b[1;32mNone\u001b[0m\u001b[1;33m\u001b[0m\u001b[1;33m\u001b[0m\u001b[0m\n\u001b[0;32m   2151\u001b[0m     \u001b[1;33m)\u001b[0m \u001b[1;33m->\u001b[0m \u001b[0mnp\u001b[0m\u001b[1;33m.\u001b[0m\u001b[0mndarray\u001b[0m\u001b[1;33m:\u001b[0m\u001b[1;33m\u001b[0m\u001b[1;33m\u001b[0m\u001b[0m\n\u001b[0;32m   2152\u001b[0m         \u001b[0mvalues\u001b[0m \u001b[1;33m=\u001b[0m \u001b[0mself\u001b[0m\u001b[1;33m.\u001b[0m\u001b[0m_values\u001b[0m\u001b[1;33m\u001b[0m\u001b[1;33m\u001b[0m\u001b[0m\n\u001b[1;32m-> 2153\u001b[1;33m         \u001b[0marr\u001b[0m \u001b[1;33m=\u001b[0m \u001b[0mnp\u001b[0m\u001b[1;33m.\u001b[0m\u001b[0masarray\u001b[0m\u001b[1;33m(\u001b[0m\u001b[0mvalues\u001b[0m\u001b[1;33m,\u001b[0m \u001b[0mdtype\u001b[0m\u001b[1;33m=\u001b[0m\u001b[0mdtype\u001b[0m\u001b[1;33m)\u001b[0m\u001b[1;33m\u001b[0m\u001b[1;33m\u001b[0m\u001b[0m\n\u001b[0m\u001b[0;32m   2154\u001b[0m         if (\n\u001b[0;32m   2155\u001b[0m             \u001b[0mastype_is_view\u001b[0m\u001b[1;33m(\u001b[0m\u001b[0mvalues\u001b[0m\u001b[1;33m.\u001b[0m\u001b[0mdtype\u001b[0m\u001b[1;33m,\u001b[0m \u001b[0marr\u001b[0m\u001b[1;33m.\u001b[0m\u001b[0mdtype\u001b[0m\u001b[1;33m)\u001b[0m\u001b[1;33m\u001b[0m\u001b[1;33m\u001b[0m\u001b[0m\n\u001b[0;32m   2156\u001b[0m             \u001b[1;32mand\u001b[0m \u001b[0musing_copy_on_write\u001b[0m\u001b[1;33m(\u001b[0m\u001b[1;33m)\u001b[0m\u001b[1;33m\u001b[0m\u001b[1;33m\u001b[0m\u001b[0m\n",
      "\u001b[1;31mValueError\u001b[0m: could not convert string to float: 'RL'"
     ]
    }
   ],
   "source": [
    "# Estimating the baseline linear regression model using the training sample\n",
    "reg_lr = LinearRegression().fit(X_train, y_train)"
   ]
  },
  {
   "cell_type": "code",
   "execution_count": null,
   "metadata": {},
   "outputs": [],
   "source": [
    "# Generating out-of-sample predictions using the test set\n",
    "y_pred_lr = reg_lr.predict(X_test)"
   ]
  },
  {
   "cell_type": "markdown",
   "metadata": {},
   "source": [
    "## Decision tree methods"
   ]
  },
  {
   "cell_type": "code",
   "execution_count": null,
   "metadata": {},
   "outputs": [],
   "source": [
    "# Estimating a decision tree regression model using the training sample\n",
    "reg_tm = tree.DecisionTreeRegressor().fit(X_train, y_train)"
   ]
  },
  {
   "cell_type": "code",
   "execution_count": null,
   "metadata": {},
   "outputs": [],
   "source": [
    "# Generating out-of-sample predictions from the decision tree model\n",
    "y_pred_tm = reg_tm.predict(X_test)"
   ]
  },
  {
   "cell_type": "markdown",
   "metadata": {},
   "source": [
    "## K-Nearest Neighbors Regression"
   ]
  },
  {
   "cell_type": "code",
   "execution_count": null,
   "metadata": {},
   "outputs": [],
   "source": [
    "# Estimating the K-Nearest Neighbors regression model (k=2) using the training sample\n",
    "reg_knn = KNeighborsRegressor(n_neighbors=2).fit(X_train, y_train)"
   ]
  },
  {
   "cell_type": "code",
   "execution_count": null,
   "metadata": {},
   "outputs": [],
   "source": [
    "# Generating out-of-sample predictions from the KNN regression model\n",
    "y_pred_knn = reg_knn.predict(X_test)"
   ]
  },
  {
   "cell_type": "markdown",
   "metadata": {},
   "source": [
    "## Comparing models"
   ]
  },
  {
   "cell_type": "code",
   "execution_count": null,
   "metadata": {},
   "outputs": [
    {
     "name": "stdout",
     "output_type": "stream",
     "text": [
      "Linear Regression:\n",
      "MAE : 23908.330991697116\n",
      "RMSE: 39319.49414258045\n",
      "\n",
      "Decision Tree:\n",
      "MAE : 28025.585062240665\n",
      "RMSE: 51421.96184212487\n",
      "\n",
      "K-Nearest Neighbors (k=2):\n",
      "MAE : 33247.14937759336\n",
      "RMSE: 52277.76847253373\n",
      "\n"
     ]
    }
   ],
   "source": [
    "# ========================================\n",
    "# Evaluating Model Performance\n",
    "# ========================================\n",
    "\n",
    "# --- Linear Regression ---\n",
    "mae_rl = mean_absolute_error(y_test, y_pred_lr)\n",
    "rmse_rl = np.sqrt(mean_squared_error(y_test, y_pred_lr))\n",
    "print(\"Linear Regression:\")\n",
    "print(\"MAE :\", mae_rl)\n",
    "print(\"RMSE:\", rmse_rl)\n",
    "print()\n",
    "\n",
    "# --- Decision Tree ---\n",
    "mae_ad = mean_absolute_error(y_test, y_pred_tm)\n",
    "rmse_ad = np.sqrt(mean_squared_error(y_test, y_pred_tm))\n",
    "print(\"Decision Tree:\")\n",
    "print(\"MAE :\", mae_ad)\n",
    "print(\"RMSE:\", rmse_ad)\n",
    "print()\n",
    "\n",
    "# --- K-Nearest Neighbors (KNN) ---\n",
    "mae_knn = mean_absolute_error(y_test, y_pred_knn)\n",
    "rmse_knn = np.sqrt(mean_squared_error(y_test, y_pred_knn))\n",
    "print(\"K-Nearest Neighbors (k=2):\")\n",
    "print(\"MAE :\", mae_knn)\n",
    "print(\"RMSE:\", rmse_knn)\n",
    "print()\n"
   ]
  },
  {
   "cell_type": "code",
   "execution_count": null,
   "metadata": {},
   "outputs": [
    {
     "name": "stdout",
     "output_type": "stream",
     "text": [
      "Best model based on RMSE:\n",
      "→ Linear Regression had the lowest RMSE.\n"
     ]
    }
   ],
   "source": [
    "# ========================================\n",
    "# Model Comparison Summary\n",
    "# ========================================\n",
    "print(\"Best model based on RMSE:\")\n",
    "\n",
    "min_rmse = min(rmse_rl, rmse_ad, rmse_knn)\n",
    "\n",
    "if min_rmse == rmse_rl:\n",
    "    print(\"→ Linear Regression had the lowest RMSE.\")\n",
    "elif min_rmse == rmse_ad:\n",
    "    print(\"→ Decision Tree had the lowest RMSE.\")\n",
    "else:\n",
    "    print(\"→ K-Nearest Neighbors (k=2) had the lowest RMSE.\")"
   ]
  },
  {
   "cell_type": "code",
   "execution_count": null,
   "metadata": {},
   "outputs": [
    {
     "data": {
      "image/png": "[encoded data removed]",
      "text/plain": [
       "<Figure size 1800x500 with 3 Axes>"
      ]
     },
     "metadata": {},
     "output_type": "display_data"
    }
   ],
   "source": [
    "# ================================================\n",
    "# Visualizing Predicted vs. Actual Values (with color)\n",
    "# ================================================\n",
    "\n",
    "# Custom color (dark wine red)\n",
    "rgb_color = (162 / 255, 37 / 255, 56 / 255)\n",
    "\n",
    "fig, ax = plt.subplots(ncols=3, figsize=(18, 5), constrained_layout=True)\n",
    "\n",
    "# Scaling target values for better axis readability (in 100,000s)\n",
    "scaling = 100000\n",
    "x_range = [0, 8]  # Range for both axes (scaled)\n",
    "\n",
    "# --- Linear Regression ---\n",
    "ax[0].scatter(y_test / scaling, y_pred_lr / scaling, alpha=0.6, edgecolor=rgb_color)\n",
    "ax[0].plot(x_range, x_range, '--', color=rgb_color)  # Reference line (y = x)\n",
    "ax[0].set_title('Linear Regression', color=rgb_color)\n",
    "ax[0].set_xlabel('Actual Price (x100,000)', color=rgb_color)\n",
    "ax[0].set_ylabel('Predicted Price (x100,000)', color=rgb_color)\n",
    "ax[0].set_xlim(x_range)\n",
    "ax[0].set_ylim(x_range)\n",
    "\n",
    "# --- Decision Tree ---\n",
    "ax[1].scatter(y_test / scaling, y_pred_tm / scaling, alpha=0.6, edgecolor=rgb_color)\n",
    "ax[1].plot(x_range, x_range, '--', color=rgb_color)\n",
    "ax[1].set_title('Decision Tree', color=rgb_color)\n",
    "ax[1].set_xlabel('Actual Price (x100,000)', color=rgb_color)\n",
    "ax[1].set_ylabel('Predicted Price (x100,000)', color=rgb_color)\n",
    "ax[1].set_xlim(x_range)\n",
    "ax[1].set_ylim(x_range)\n",
    "\n",
    "# --- KNN ---\n",
    "ax[2].scatter(y_test / scaling, y_pred_knn / scaling, alpha=0.6, edgecolor=rgb_color)\n",
    "ax[2].plot(x_range, x_range, '--', color=rgb_color)\n",
    "ax[2].set_title('K-Nearest Neighbors (k=2)', color=rgb_color)\n",
    "ax[2].set_xlabel('Actual Price (x100,000)', color=rgb_color)\n",
    "ax[2].set_ylabel('Predicted Price (x100,000)', color=rgb_color)\n",
    "ax[2].set_xlim(x_range)\n",
    "ax[2].set_ylim(x_range)\n",
    "\n",
    "# Add a unified title with color\n",
    "plt.suptitle('Predicted vs. Actual Sale Prices by Model', fontsize=16, color=rgb_color)\n",
    "plt.show()"
   ]
  },
  {
   "cell_type": "markdown",
   "metadata": {},
   "source": [
    "We will proceed with **Linear Regression** as our preferred model.  \n",
    "Among the models tested — Linear Regression, Decision Tree, and K-Nearest Neighbors —  \n",
    "**Linear Regression yielded the lowest Root Mean Squared Error (RMSE)**, which is also the evaluation metric used by **Kaggle** for ranking submissions in this competition.\n",
    "\n",
    "This choice reflects both **predictive performance** and **alignment with the competition's scoring criteria**."
   ]
  },
  {
   "cell_type": "markdown",
   "metadata": {},
   "source": [
    "# Deploy 🔮"
   ]
  },
  {
   "cell_type": "code",
   "execution_count": null,
   "metadata": {},
   "outputs": [],
   "source": [
    "# Using the Linear Regression model to generate predictions on the test set\n",
    "y_pred = reg_lr.predict(df_test)"
   ]
  },
  {
   "cell_type": "code",
   "execution_count": null,
   "metadata": {},
   "outputs": [],
   "source": [
    "# Adding the prediction column to the test dataset\n",
    "df_test['SalePrice'] = y_pred"
   ]
  },
  {
   "cell_type": "code",
   "execution_count": null,
   "metadata": {},
   "outputs": [
    {
     "data": {
      "application/vnd.microsoft.datawrangler.viewer.v0+json": {
       "columns": [
        {
         "name": "index",
         "rawType": "int64",
         "type": "integer"
        },
        {
         "name": "Id",
         "rawType": "int64",
         "type": "integer"
        },
        {
         "name": "SalePrice",
         "rawType": "float64",
         "type": "float"
        }
       ],
       "conversionMethod": "pd.DataFrame",
       "ref": "9bcbaedc-e3ab-48f4-b9a0-6f31d8d8ba61",
       "rows": [
        [
         "0",
         "1461",
         "121257.41163573018"
        ],
        [
         "1",
         "1462",
         "133303.5826825283"
        ],
        [
         "2",
         "1463",
         "169238.92885235744"
        ]
       ],
       "shape": {
        "columns": 2,
        "rows": 3
       }
      },
      "text/html": [
       "<div>\n",
       "<style scoped>\n",
       "    .dataframe tbody tr th:only-of-type {\n",
       "        vertical-align: middle;\n",
       "    }\n",
       "\n",
       "    .dataframe tbody tr th {\n",
       "        vertical-align: top;\n",
       "    }\n",
       "\n",
       "    .dataframe thead th {\n",
       "        text-align: right;\n",
       "    }\n",
       "</style>\n",
       "<table border=\"1\" class=\"dataframe\">\n",
       "  <thead>\n",
       "    <tr style=\"text-align: right;\">\n",
       "      <th></th>\n",
       "      <th>Id</th>\n",
       "      <th>SalePrice</th>\n",
       "    </tr>\n",
       "  </thead>\n",
       "  <tbody>\n",
       "    <tr>\n",
       "      <th>0</th>\n",
       "      <td>1461</td>\n",
       "      <td>121257.411636</td>\n",
       "    </tr>\n",
       "    <tr>\n",
       "      <th>1</th>\n",
       "      <td>1462</td>\n",
       "      <td>133303.582683</td>\n",
       "    </tr>\n",
       "    <tr>\n",
       "      <th>2</th>\n",
       "      <td>1463</td>\n",
       "      <td>169238.928852</td>\n",
       "    </tr>\n",
       "  </tbody>\n",
       "</table>\n",
       "</div>"
      ],
      "text/plain": [
       "     Id      SalePrice\n",
       "0  1461  121257.411636\n",
       "1  1462  133303.582683\n",
       "2  1463  169238.928852"
      ]
     },
     "execution_count": 69,
     "metadata": {},
     "output_type": "execute_result"
    }
   ],
   "source": [
    "# Extracting only the Id and predicted SalePrice columns for submission\n",
    "data = df_test[['Id', 'SalePrice']]\n",
    "data.head(3)"
   ]
  },
  {
   "cell_type": "code",
   "execution_count": null,
   "metadata": {},
   "outputs": [],
   "source": [
    "# Exporting the submission file to CSV using f-string\n",
    "data.to_csv(f'{results_path}/result1.csv', index=False)"
   ]
  },
  {
   "cell_type": "code",
   "execution_count": null,
   "metadata": {},
   "outputs": [],
   "source": [
    "# Clears all plots and outputs\n",
    "from IPython.display import clear_output"
   ]
  }
 ],
 "metadata": {
  "kernelspec": {
   "display_name": "Python 3",
   "language": "python",
   "name": "python3"
  },
  "language_info": {
   "codemirror_mode": {
    "name": "ipython",
    "version": 3
   },
   "file_extension": ".py",
   "mimetype": "text/x-python",
   "name": "python",
   "nbconvert_exporter": "python",
   "pygments_lexer": "ipython3",
   "version": "3.13.2"
  }
 },
 "nbformat": 4,
 "nbformat_minor": 2
}
