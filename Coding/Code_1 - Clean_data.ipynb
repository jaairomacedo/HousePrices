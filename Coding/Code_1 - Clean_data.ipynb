{
 "cells": [
  {
   "cell_type": "markdown",
   "metadata": {},
   "source": [
    "<span style=\"font-size: 15px;\">\n",
    " ----------------------------------------------------------------- <br>\n",
    " Project: House Prices Prediction <br>\n",
    " Author: Jairo Macedo <br>\n",
    " Created: June 2024 <br>\n",
    " Last Modified: [04, 2025] | By: Jairo Macedo <br>\n",
    " ----------------------------------------------------------------- <br>\n",
    " Description: <br>\n",
    " This Python notebook contains the code and analysis for the project <br>\n",
    " <b>House Prices Prediction</b>. The goal is to model and predict house prices <br>\n",
    " using a variety of property features. The dataset comes from a Kaggle <br>\n",
    " competition and includes rich details about homes and their sale prices. <br>\n",
    " ----------------------------------------------------------------- <br>\n",
    " The analysis is structured as follows: <br>\n",
    " 1. Data Import and Exploration: Loading and understanding the dataset. <br>\n",
    " 2. Feature Engineering: Creating and selecting relevant variables. <br>\n",
    " 3. Modeling: Applying and tuning machine learning models to predict prices. <br>\n",
    " 4. Evaluation: Assessing model performance and accuracy. <br>\n",
    " 5. Submission: Preparing results for Kaggle submission. <br>\n",
    " ----------------------------------------------------------------- <br>\n",
    "\n",
    "<br>\n",
    "<b>Clean Dataset Files</b> <br>\n",
    "- <code>train_2.csv</code> – The cleaned and preprocessed training set <br>\n",
    "- <code>test_2.csv</code> – The cleaned and preprocessed test set <br>\n",
    "</span>\n",
    "\n"
   ]
  },
  {
   "cell_type": "markdown",
   "metadata": {},
   "source": [
    "# Packages ⚙️ and data 🗂️"
   ]
  },
  {
   "cell_type": "code",
   "execution_count": 128,
   "metadata": {},
   "outputs": [],
   "source": [
    "# ================================\n",
    "# Data Handling and Utilities\n",
    "# ================================\n",
    "import pandas as pd                      # Data manipulation\n",
    "import numpy as np                       # Numerical operations\n",
    "import zipfile                           # Reading compressed .zip files\n",
    "import math                              # Basic math functions\n",
    "\n",
    "from support import zip_path             # Path to the .zip file\n",
    "from support import path         # Path for saving results\n",
    "from support import plot_categorical_boxplots  # Custom plotting function\n",
    "from support import analyze_cat_vs_price  # Custom plotting function\n",
    "\n",
    "from support import plot_categorical_boxplots  # Custom plotting function\n",
    "from support import plot_comp_histogram_boxplot  # Custom plotting function\n",
    "\n",
    "# ================================\n",
    "# Visualization\n",
    "# ================================\n",
    "import matplotlib.pyplot as plt          # Plotting\n",
    "import seaborn as sns                    # Statistical data visualization\n",
    "\n",
    "# ================================\n",
    "# Machine Learning Models\n",
    "# ================================\n",
    "from sklearn.model_selection import train_test_split   # Train/test split\n",
    "from sklearn.linear_model import LinearRegression      # Linear Regression model\n",
    "from sklearn import tree                               # Decision Tree Regressor\n",
    "from sklearn.neighbors import KNeighborsRegressor      # KNN Regressor\n",
    "\n",
    "# ================================\n",
    "# Model Evaluation Metrics\n",
    "# ================================\n",
    "from sklearn.metrics import mean_absolute_error        # MAE\n",
    "from sklearn.metrics import mean_squared_error         # MSE\n",
    "from sklearn.metrics import r2_score                   # R²\n",
    "\n",
    "# ================================\n",
    "# Aesthetics\n",
    "# ================================\n",
    "# Custom color (dark wine red)\n",
    "red_color = (162 / 255, 37 / 255, 56 / 255)\n",
    "\n",
    "\n",
    "\n",
    "\n",
    "\n",
    "import os\n",
    "\n",
    "from scipy.stats import chi2_contingency\n",
    "from scipy.stats import ttest_ind\n",
    "from itertools import combinations\n",
    "\n",
    "from sklearn.preprocessing import OneHotEncoder\n",
    "\n",
    "from sklearn.preprocessing import OrdinalEncoder\n",
    "\n",
    "\n"
   ]
  },
  {
   "cell_type": "code",
   "execution_count": 129,
   "metadata": {},
   "outputs": [],
   "source": [
    "# Setting the global random seed for reproducibility\n",
    "np.random.seed(42)"
   ]
  },
  {
   "cell_type": "code",
   "execution_count": 130,
   "metadata": {},
   "outputs": [],
   "source": [
    "# Open the zip and read train.csv directly\n",
    "with zipfile.ZipFile(zip_path) as z:\n",
    "    with z.open('train.csv') as f:\n",
    "        df_train = pd.read_csv(f)"
   ]
  },
  {
   "cell_type": "code",
   "execution_count": 131,
   "metadata": {},
   "outputs": [],
   "source": [
    "# Open the zip and read test.csv directly\n",
    "with zipfile.ZipFile(zip_path) as z:\n",
    "    with z.open('test.csv') as f:\n",
    "        df_test = pd.read_csv(f)"
   ]
  },
  {
   "cell_type": "markdown",
   "metadata": {},
   "source": [
    "# Hi, data! 👋"
   ]
  },
  {
   "cell_type": "markdown",
   "metadata": {},
   "source": [
    "## Train data"
   ]
  },
  {
   "cell_type": "markdown",
   "metadata": {},
   "source": [
    "### Step 1"
   ]
  },
  {
   "cell_type": "code",
   "execution_count": 132,
   "metadata": {},
   "outputs": [
    {
     "name": "stdout",
     "output_type": "stream",
     "text": [
      "<class 'pandas.core.frame.DataFrame'>\n",
      "RangeIndex: 1460 entries, 0 to 1459\n",
      "Data columns (total 81 columns):\n",
      " #   Column         Non-Null Count  Dtype  \n",
      "---  ------         --------------  -----  \n",
      " 0   Id             1460 non-null   int64  \n",
      " 1   MSSubClass     1460 non-null   int64  \n",
      " 2   MSZoning       1460 non-null   object \n",
      " 3   LotFrontage    1201 non-null   float64\n",
      " 4   LotArea        1460 non-null   int64  \n",
      " 5   Street         1460 non-null   object \n",
      " 6   Alley          91 non-null     object \n",
      " 7   LotShape       1460 non-null   object \n",
      " 8   LandContour    1460 non-null   object \n",
      " 9   Utilities      1460 non-null   object \n",
      " 10  LotConfig      1460 non-null   object \n",
      " 11  LandSlope      1460 non-null   object \n",
      " 12  Neighborhood   1460 non-null   object \n",
      " 13  Condition1     1460 non-null   object \n",
      " 14  Condition2     1460 non-null   object \n",
      " 15  BldgType       1460 non-null   object \n",
      " 16  HouseStyle     1460 non-null   object \n",
      " 17  OverallQual    1460 non-null   int64  \n",
      " 18  OverallCond    1460 non-null   int64  \n",
      " 19  YearBuilt      1460 non-null   int64  \n",
      " 20  YearRemodAdd   1460 non-null   int64  \n",
      " 21  RoofStyle      1460 non-null   object \n",
      " 22  RoofMatl       1460 non-null   object \n",
      " 23  Exterior1st    1460 non-null   object \n",
      " 24  Exterior2nd    1460 non-null   object \n",
      " 25  MasVnrType     588 non-null    object \n",
      " 26  MasVnrArea     1452 non-null   float64\n",
      " 27  ExterQual      1460 non-null   object \n",
      " 28  ExterCond      1460 non-null   object \n",
      " 29  Foundation     1460 non-null   object \n",
      " 30  BsmtQual       1423 non-null   object \n",
      " 31  BsmtCond       1423 non-null   object \n",
      " 32  BsmtExposure   1422 non-null   object \n",
      " 33  BsmtFinType1   1423 non-null   object \n",
      " 34  BsmtFinSF1     1460 non-null   int64  \n",
      " 35  BsmtFinType2   1422 non-null   object \n",
      " 36  BsmtFinSF2     1460 non-null   int64  \n",
      " 37  BsmtUnfSF      1460 non-null   int64  \n",
      " 38  TotalBsmtSF    1460 non-null   int64  \n",
      " 39  Heating        1460 non-null   object \n",
      " 40  HeatingQC      1460 non-null   object \n",
      " 41  CentralAir     1460 non-null   object \n",
      " 42  Electrical     1459 non-null   object \n",
      " 43  1stFlrSF       1460 non-null   int64  \n",
      " 44  2ndFlrSF       1460 non-null   int64  \n",
      " 45  LowQualFinSF   1460 non-null   int64  \n",
      " 46  GrLivArea      1460 non-null   int64  \n",
      " 47  BsmtFullBath   1460 non-null   int64  \n",
      " 48  BsmtHalfBath   1460 non-null   int64  \n",
      " 49  FullBath       1460 non-null   int64  \n",
      " 50  HalfBath       1460 non-null   int64  \n",
      " 51  BedroomAbvGr   1460 non-null   int64  \n",
      " 52  KitchenAbvGr   1460 non-null   int64  \n",
      " 53  KitchenQual    1460 non-null   object \n",
      " 54  TotRmsAbvGrd   1460 non-null   int64  \n",
      " 55  Functional     1460 non-null   object \n",
      " 56  Fireplaces     1460 non-null   int64  \n",
      " 57  FireplaceQu    770 non-null    object \n",
      " 58  GarageType     1379 non-null   object \n",
      " 59  GarageYrBlt    1379 non-null   float64\n",
      " 60  GarageFinish   1379 non-null   object \n",
      " 61  GarageCars     1460 non-null   int64  \n",
      " 62  GarageArea     1460 non-null   int64  \n",
      " 63  GarageQual     1379 non-null   object \n",
      " 64  GarageCond     1379 non-null   object \n",
      " 65  PavedDrive     1460 non-null   object \n",
      " 66  WoodDeckSF     1460 non-null   int64  \n",
      " 67  OpenPorchSF    1460 non-null   int64  \n",
      " 68  EnclosedPorch  1460 non-null   int64  \n",
      " 69  3SsnPorch      1460 non-null   int64  \n",
      " 70  ScreenPorch    1460 non-null   int64  \n",
      " 71  PoolArea       1460 non-null   int64  \n",
      " 72  PoolQC         7 non-null      object \n",
      " 73  Fence          281 non-null    object \n",
      " 74  MiscFeature    54 non-null     object \n",
      " 75  MiscVal        1460 non-null   int64  \n",
      " 76  MoSold         1460 non-null   int64  \n",
      " 77  YrSold         1460 non-null   int64  \n",
      " 78  SaleType       1460 non-null   object \n",
      " 79  SaleCondition  1460 non-null   object \n",
      " 80  SalePrice      1460 non-null   int64  \n",
      "dtypes: float64(3), int64(35), object(43)\n",
      "memory usage: 924.0+ KB\n"
     ]
    }
   ],
   "source": [
    "df_train.info()"
   ]
  },
  {
   "cell_type": "code",
   "execution_count": 133,
   "metadata": {},
   "outputs": [
    {
     "name": "stdout",
     "output_type": "stream",
     "text": [
      "PoolQC          99.52%\n",
      "MiscFeature     96.30%\n",
      "Alley           93.77%\n",
      "Fence           80.75%\n",
      "MasVnrType      59.73%\n",
      "FireplaceQu     47.26%\n",
      "LotFrontage     17.74%\n",
      "GarageQual       5.55%\n",
      "GarageFinish     5.55%\n",
      "GarageType       5.55%\n",
      "GarageYrBlt      5.55%\n",
      "GarageCond       5.55%\n",
      "BsmtFinType2     2.60%\n",
      "BsmtExposure     2.60%\n",
      "BsmtCond         2.53%\n",
      "BsmtQual         2.53%\n",
      "BsmtFinType1     2.53%\n",
      "MasVnrArea       0.55%\n",
      "Electrical       0.07%\n",
      "Condition2       0.00%\n",
      "dtype: object\n"
     ]
    }
   ],
   "source": [
    "# Check Train data for missing values (Top 20)\n",
    "missing_percent = (df_train.isnull().sum() / df_train.shape[0] * 100).sort_values(ascending=False).head(20)\n",
    "missing_percent = missing_percent.apply(lambda x: f\"{x:.2f}%\")\n",
    "print(missing_percent)\n",
    "\n",
    "del missing_percent"
   ]
  },
  {
   "cell_type": "markdown",
   "metadata": {},
   "source": [
    "<a id='4top'></a>\n",
    "\n",
    "- **The first 4 columns have more than 80% missing values in the training set**\n",
    "    - Instead of dropping these columns, let's understand what each one represents:\n",
    "        - **PoolQC**: **Quality** of the pool  \n",
    "            - NA: No Pool  \n",
    "        - **MiscFeature**: Miscellaneous features not covered in other categories  \n",
    "            - NA: None  \n",
    "        - **Alley**: Type of alley access to the property  \n",
    "            - NA: No alley access  \n",
    "        - **Fence**: **Quality** of the fence  \n",
    "            - NA: No Fence  \n",
    "\n",
    "- In these cases, **NA is not missing data, <font color= '#A22538' >it is information</font>**\n",
    "\n",
    "- Therefore, we should explore the values in these columns and their **relationship with the sale price**\n"
   ]
  },
  {
   "cell_type": "code",
   "execution_count": 134,
   "metadata": {},
   "outputs": [],
   "source": [
    "# We can replace the missing values in the first column with -1\n",
    "df_train[['PoolQC','MiscFeature','Alley','Fence']] = df_train[['PoolQC','MiscFeature','Alley','Fence']].fillna(-1)"
   ]
  },
  {
   "cell_type": "code",
   "execution_count": 135,
   "metadata": {},
   "outputs": [
    {
     "data": {
      "image/png": "[encoded data removed]",
      "text/plain": [
       "<Figure size 1000x700 with 4 Axes>"
      ]
     },
     "metadata": {},
     "output_type": "display_data"
    }
   ],
   "source": [
    "# Plot boxplots showing the relationship between SalePrice and selected categorical features\n",
    "plot_categorical_boxplots(\n",
    "    df=df_train,\n",
    "    cat_vars=['PoolQC', 'MiscFeature', 'Alley', 'Fence'],\n",
    "    target='SalePrice',\n",
    "    color=red_color,\n",
    "    title='Sale Price vs Categorical Features',\n",
    "    figsize=(10, 7)\n",
    ")"
   ]
  },
  {
   "cell_type": "markdown",
   "metadata": {},
   "source": [
    "We can see that houses with excellent pool quality (‘Ex’) clearly exhibit higher sale prices, indicating that this feature significantly adds value to the property."
   ]
  },
  {
   "cell_type": "markdown",
   "metadata": {},
   "source": [
    "<a id='FireplaceQu'></a>\n",
    "- **<font color='#A22538'>FireplaceQu</font>: Fireplace quality**  \n",
    "  - There are two fireplace-related columns:  \n",
    "    - **Fireplaces**: Number of fireplaces  \n",
    "    - **FireplaceQu**: Quality of the fireplace, if present  \n",
    "  - **Ex**: Excellent – Exceptional masonry fireplace  \n",
    "  - **Gd**: Good – Masonry fireplace on main level  \n",
    "  - **TA**: Average – Prefabricated fireplace in living area or masonry in basement  \n",
    "  - **Fa**: Fair – Prefabricated fireplace in basement  \n",
    "  - **Po**: Poor – Ben Franklin stove  \n",
    "  - **NA**: No fireplace present  \n",
    "    <!-- Missing values here are genuine: they indicate absence of a fireplace -->\n"
   ]
  },
  {
   "cell_type": "code",
   "execution_count": 136,
   "metadata": {},
   "outputs": [
    {
     "data": {
      "text/plain": [
       "Fireplaces  FireplaceQu\n",
       "0           NaN            690\n",
       "1           Gd             324\n",
       "            TA             259\n",
       "2           Gd              54\n",
       "            TA              53\n",
       "1           Fa              28\n",
       "            Po              20\n",
       "            Ex              19\n",
       "2           Fa               4\n",
       "            Ex               4\n",
       "3           Gd               2\n",
       "            Ex               1\n",
       "            Fa               1\n",
       "            TA               1\n",
       "Name: count, dtype: int64"
      ]
     },
     "execution_count": 136,
     "metadata": {},
     "output_type": "execute_result"
    }
   ],
   "source": [
    "# Visualizing the number of fireplaces\n",
    "df_train[['Fireplaces', 'FireplaceQu']].value_counts(dropna=False)"
   ]
  },
  {
   "cell_type": "code",
   "execution_count": 137,
   "metadata": {},
   "outputs": [],
   "source": [
    "# Adjusting this column\n",
    "# This NaN is also meaningful — it indicates that \"there is no fireplace\"\n",
    "df_train[['FireplaceQu']] = df_train[['FireplaceQu']].fillna(-1)"
   ]
  },
  {
   "cell_type": "markdown",
   "metadata": {},
   "source": [
    "<a id='LotFrontage'></a>\n",
    "- **<font color='#A22538'>LotFrontage</font>: Linear feet of street connected to the property**  \n",
    "  - Missing values are likely due to data omission, not true absence of frontage.  \n",
    "  - They will be imputed using the neighborhood mean to preserve geographic consistency.\n",
    "\n",
    "<a id='LotConfig'></a>\n",
    "- **<font color='#A22538'>LotConfig</font>: Lot configuration**  \n",
    "  - **Inside**: Inside lot, surrounded by other lots with no street corner  \n",
    "  - **Corner**: Corner lot, facing two intersecting streets  \n",
    "  - **CulDSac**: Located in a cul-de-sac, offering more privacy  \n",
    "  - **FR2**: Frontage on two sides of the property  \n",
    "  - **FR3**: Frontage on three sides of the property"
   ]
  },
  {
   "cell_type": "code",
   "execution_count": 138,
   "metadata": {},
   "outputs": [
    {
     "data": {
      "text/plain": [
       "LotConfig\n",
       "Inside     134\n",
       "Corner      62\n",
       "CulDSac     49\n",
       "FR2         14\n",
       "Name: count, dtype: int64"
      ]
     },
     "execution_count": 138,
     "metadata": {},
     "output_type": "execute_result"
    }
   ],
   "source": [
    "# Understanding the types of properties with missing values\n",
    "df_train.loc[df_train.LotFrontage.isnull(), 'LotConfig'].value_counts()"
   ]
  },
  {
   "cell_type": "code",
   "execution_count": 139,
   "metadata": {},
   "outputs": [
    {
     "data": {
      "text/plain": [
       "LotConfig\n",
       "Corner     84.039801\n",
       "CulDSac    59.911111\n",
       "FR2        63.515152\n",
       "FR3        70.750000\n",
       "Inside     67.715686\n",
       "Name: LotFrontage, dtype: float64"
      ]
     },
     "execution_count": 139,
     "metadata": {},
     "output_type": "execute_result"
    }
   ],
   "source": [
    "# Checking the average LotFrontage by property type\n",
    "df_train.groupby('LotConfig')['LotFrontage'].mean()"
   ]
  },
  {
   "cell_type": "code",
   "execution_count": 140,
   "metadata": {},
   "outputs": [],
   "source": [
    "# Missing values in LotFrontage are likely due to data recording issues, not absence of frontage\n",
    "# Imputing missing values using the mean LotFrontage grouped by LotConfig (preserves contextual variation)\n",
    "df_train['LotFrontage'] = df_train['LotFrontage'].fillna(\n",
    "    df_train.groupby('LotConfig')['LotFrontage'].transform('mean'))"
   ]
  },
  {
   "cell_type": "markdown",
   "metadata": {},
   "source": [
    "<a id=\"garagem\"></a>\n",
    "- **Evaluating the <font color='#A22538'>garage-related columns</font>**\n",
    "    - **GarageType**: Garage location  \n",
    "        - **NA: No Garage**  \n",
    "    - **GarageYrBlt**: Year garage was built  \n",
    "    - **GarageFinish**: Interior finish of the garage  \n",
    "        - **NA: No Garage**  \n",
    "    - **GarageCars**: Size of garage in car capacity\n",
    "    - **GarageArea**: Size of garage in square feet\n",
    "    - **GarageQual**: Garage quality  \n",
    "        - **NA: No Garage**  \n",
    "    - **GarageCond**: Garage condition  \n",
    "        - **NA: No Garage**"
   ]
  },
  {
   "cell_type": "code",
   "execution_count": 141,
   "metadata": {},
   "outputs": [
    {
     "data": {
      "text/plain": [
       "GarageType  GarageYrBlt  GarageFinish  GarageCars  GarageArea  GarageQual  GarageCond\n",
       "NaN         NaN          NaN           0           0           NaN         NaN           81\n",
       "Name: count, dtype: int64"
      ]
     },
     "execution_count": 141,
     "metadata": {},
     "output_type": "execute_result"
    }
   ],
   "source": [
    "# Checking for columns that contain 'Garage' in their name\n",
    "col_garage = df_train.columns[df_train.columns.str.contains(\"Garage\")]\n",
    "\n",
    "# Filtering the dataset\n",
    "df_train.loc[df_train.GarageType.isnull(), col_garage].value_counts(dropna=False)"
   ]
  },
  {
   "cell_type": "code",
   "execution_count": 142,
   "metadata": {},
   "outputs": [
    {
     "data": {
      "application/vnd.microsoft.datawrangler.viewer.v0+json": {
       "columns": [
        {
         "name": "index",
         "rawType": "int64",
         "type": "integer"
        },
        {
         "name": "GarageType",
         "rawType": "object",
         "type": "unknown"
        },
        {
         "name": "GarageYrBlt",
         "rawType": "float64",
         "type": "float"
        },
        {
         "name": "GarageFinish",
         "rawType": "object",
         "type": "unknown"
        },
        {
         "name": "GarageCars",
         "rawType": "int64",
         "type": "integer"
        },
        {
         "name": "GarageArea",
         "rawType": "int64",
         "type": "integer"
        },
        {
         "name": "GarageQual",
         "rawType": "object",
         "type": "unknown"
        },
        {
         "name": "GarageCond",
         "rawType": "object",
         "type": "unknown"
        }
       ],
       "conversionMethod": "pd.DataFrame",
       "ref": "ca979f99-c532-4613-a44e-5bbd50f46a5e",
       "rows": [
        [
         "39",
         null,
         null,
         null,
         "0",
         "0",
         null,
         null
        ],
        [
         "48",
         null,
         null,
         null,
         "0",
         "0",
         null,
         null
        ],
        [
         "78",
         null,
         null,
         null,
         "0",
         "0",
         null,
         null
        ]
       ],
       "shape": {
        "columns": 7,
        "rows": 3
       }
      },
      "text/html": [
       "<div>\n",
       "<style scoped>\n",
       "    .dataframe tbody tr th:only-of-type {\n",
       "        vertical-align: middle;\n",
       "    }\n",
       "\n",
       "    .dataframe tbody tr th {\n",
       "        vertical-align: top;\n",
       "    }\n",
       "\n",
       "    .dataframe thead th {\n",
       "        text-align: right;\n",
       "    }\n",
       "</style>\n",
       "<table border=\"1\" class=\"dataframe\">\n",
       "  <thead>\n",
       "    <tr style=\"text-align: right;\">\n",
       "      <th></th>\n",
       "      <th>GarageType</th>\n",
       "      <th>GarageYrBlt</th>\n",
       "      <th>GarageFinish</th>\n",
       "      <th>GarageCars</th>\n",
       "      <th>GarageArea</th>\n",
       "      <th>GarageQual</th>\n",
       "      <th>GarageCond</th>\n",
       "    </tr>\n",
       "  </thead>\n",
       "  <tbody>\n",
       "    <tr>\n",
       "      <th>39</th>\n",
       "      <td>NaN</td>\n",
       "      <td>NaN</td>\n",
       "      <td>NaN</td>\n",
       "      <td>0</td>\n",
       "      <td>0</td>\n",
       "      <td>NaN</td>\n",
       "      <td>NaN</td>\n",
       "    </tr>\n",
       "    <tr>\n",
       "      <th>48</th>\n",
       "      <td>NaN</td>\n",
       "      <td>NaN</td>\n",
       "      <td>NaN</td>\n",
       "      <td>0</td>\n",
       "      <td>0</td>\n",
       "      <td>NaN</td>\n",
       "      <td>NaN</td>\n",
       "    </tr>\n",
       "    <tr>\n",
       "      <th>78</th>\n",
       "      <td>NaN</td>\n",
       "      <td>NaN</td>\n",
       "      <td>NaN</td>\n",
       "      <td>0</td>\n",
       "      <td>0</td>\n",
       "      <td>NaN</td>\n",
       "      <td>NaN</td>\n",
       "    </tr>\n",
       "  </tbody>\n",
       "</table>\n",
       "</div>"
      ],
      "text/plain": [
       "   GarageType  GarageYrBlt GarageFinish  GarageCars  GarageArea GarageQual  \\\n",
       "39        NaN          NaN          NaN           0           0        NaN   \n",
       "48        NaN          NaN          NaN           0           0        NaN   \n",
       "78        NaN          NaN          NaN           0           0        NaN   \n",
       "\n",
       "   GarageCond  \n",
       "39        NaN  \n",
       "48        NaN  \n",
       "78        NaN  "
      ]
     },
     "execution_count": 142,
     "metadata": {},
     "output_type": "execute_result"
    }
   ],
   "source": [
    "# We can select only the columns with missing values\n",
    "df_train.loc[df_train.GarageType.isnull(), col_garage[[0,1,2,3,4,5,6]]].head(3)  "
   ]
  },
  {
   "cell_type": "code",
   "execution_count": 143,
   "metadata": {},
   "outputs": [
    {
     "name": "stdout",
     "output_type": "stream",
     "text": [
      "\n",
      "Checking when 'GarageType' is NaN:\n",
      "GarageType  GarageYrBlt  GarageFinish  GarageCars  GarageArea  GarageQual  GarageCond\n",
      "True        True         True          False       False       True        True          81\n",
      "Name: count, dtype: int64\n",
      "\n",
      "Checking when 'GarageYrBlt' is NaN:\n",
      "GarageType  GarageYrBlt  GarageFinish  GarageCars  GarageArea  GarageQual  GarageCond\n",
      "True        True         True          False       False       True        True          81\n",
      "Name: count, dtype: int64\n",
      "\n",
      "Checking when 'GarageFinish' is NaN:\n",
      "GarageType  GarageYrBlt  GarageFinish  GarageCars  GarageArea  GarageQual  GarageCond\n",
      "True        True         True          False       False       True        True          81\n",
      "Name: count, dtype: int64\n",
      "\n",
      "Checking when 'GarageCars' is NaN:\n",
      "Series([], Name: count, dtype: int64)\n",
      "\n",
      "Checking when 'GarageArea' is NaN:\n",
      "Series([], Name: count, dtype: int64)\n",
      "\n",
      "Checking when 'GarageQual' is NaN:\n",
      "GarageType  GarageYrBlt  GarageFinish  GarageCars  GarageArea  GarageQual  GarageCond\n",
      "True        True         True          False       False       True        True          81\n",
      "Name: count, dtype: int64\n",
      "\n",
      "Checking when 'GarageCond' is NaN:\n",
      "GarageType  GarageYrBlt  GarageFinish  GarageCars  GarageArea  GarageQual  GarageCond\n",
      "True        True         True          False       False       True        True          81\n",
      "Name: count, dtype: int64\n"
     ]
    }
   ],
   "source": [
    "# Loop to check whether, when one column is NaN, the others are also NaN\n",
    "for col in col_garage:\n",
    "    print(f\"\\nChecking when '{col}' is NaN:\")\n",
    "    \n",
    "    # Filter rows where the current column is NaN\n",
    "    subset = df_train.loc[df_train[col].isna(), col_garage]\n",
    "    \n",
    "    # Count the patterns of NaN values across the garage-related columns\n",
    "    pattern_counts = subset.isna().value_counts(dropna=False)\n",
    "    print(pattern_counts)"
   ]
  },
  {
   "cell_type": "code",
   "execution_count": 144,
   "metadata": {},
   "outputs": [],
   "source": [
    "# Replace these values with -1\n",
    "df_train.loc[df_train.GarageType.isnull(), col_garage[[0,1,2,5,6]]] = -1"
   ]
  },
  {
   "cell_type": "code",
   "execution_count": 145,
   "metadata": {},
   "outputs": [
    {
     "data": {
      "text/plain": [
       "GarageType  GarageYrBlt  GarageFinish  GarageCars  GarageArea  GarageQual  GarageCond\n",
       "-1          -1.0         -1            0           0           -1          -1            81\n",
       "Name: count, dtype: int64"
      ]
     },
     "execution_count": 145,
     "metadata": {},
     "output_type": "execute_result"
    }
   ],
   "source": [
    "# Checking again when the number of cars is equal to 0\n",
    "df_train.loc[df_train.GarageCars == 0, col_garage].value_counts(dropna=False)"
   ]
  },
  {
   "cell_type": "markdown",
   "metadata": {},
   "source": [
    "<a id=\"basement\"></a>\n",
    "- **Evaluating the <font color= '#A22538' >basement-related columns</font>**\n",
    "    - **NA: No Basement**"
   ]
  },
  {
   "cell_type": "code",
   "execution_count": 146,
   "metadata": {},
   "outputs": [
    {
     "data": {
      "text/plain": [
       "Index(['BsmtQual', 'BsmtCond', 'BsmtExposure', 'BsmtFinType1', 'BsmtFinType2'], dtype='object')"
      ]
     },
     "execution_count": 146,
     "metadata": {},
     "output_type": "execute_result"
    }
   ],
   "source": [
    "# Checking for columns that contain 'Bsmt' in their name\n",
    "col_Bsmt = df_train.columns[df_train.columns.str.contains(\"Bsmt\") & (df_train.isnull().any())]\n",
    "\n",
    "col_Bsmt"
   ]
  },
  {
   "cell_type": "code",
   "execution_count": 147,
   "metadata": {},
   "outputs": [
    {
     "name": "stdout",
     "output_type": "stream",
     "text": [
      "\n",
      "Checking when 'BsmtQual' is NaN:\n",
      "BsmtQual  BsmtCond  BsmtExposure  BsmtFinType1  BsmtFinType2\n",
      "True      True      True          True          True            37\n",
      "Name: count, dtype: int64\n",
      "\n",
      "Checking when 'BsmtCond' is NaN:\n",
      "BsmtQual  BsmtCond  BsmtExposure  BsmtFinType1  BsmtFinType2\n",
      "True      True      True          True          True            37\n",
      "Name: count, dtype: int64\n",
      "\n",
      "Checking when 'BsmtExposure' is NaN:\n",
      "BsmtQual  BsmtCond  BsmtExposure  BsmtFinType1  BsmtFinType2\n",
      "True      True      True          True          True            37\n",
      "False     False     True          False         False            1\n",
      "Name: count, dtype: int64\n",
      "\n",
      "Checking when 'BsmtFinType1' is NaN:\n",
      "BsmtQual  BsmtCond  BsmtExposure  BsmtFinType1  BsmtFinType2\n",
      "True      True      True          True          True            37\n",
      "Name: count, dtype: int64\n",
      "\n",
      "Checking when 'BsmtFinType2' is NaN:\n",
      "BsmtQual  BsmtCond  BsmtExposure  BsmtFinType1  BsmtFinType2\n",
      "True      True      True          True          True            37\n",
      "False     False     False         False         True             1\n",
      "Name: count, dtype: int64\n"
     ]
    }
   ],
   "source": [
    "# Loop to check whether, when one column is NaN, the others are also NaN\n",
    "for col in col_Bsmt:\n",
    "    print(f\"\\nChecking when '{col}' is NaN:\")\n",
    "    \n",
    "    # Filter rows where the current column is NaN\n",
    "    subset = df_train.loc[df_train[col].isna(), col_Bsmt]\n",
    "    \n",
    "    # Count the patterns of NaN values across the garage-related columns\n",
    "    pattern_counts = subset.isna().value_counts(dropna=False)\n",
    "    print(pattern_counts)"
   ]
  },
  {
   "cell_type": "markdown",
   "metadata": {},
   "source": [
    "<a id=\"basement2\"></a>\n",
    "\n",
    "- **BsmtFinType2**: Rating of basement finished area (if multiple types)  \n",
    "    - **GLQ**: Good Living Quarters  \n",
    "    - **ALQ**: Average Living Quarters  \n",
    "    - **BLQ**: Below Average Living Quarters  \n",
    "    - **Rec**: Average Rec Room  \n",
    "    - **LwQ**: Low Quality  \n",
    "    - **Unf**: Unfinished  \n",
    "    - **NA**: No Basement  \n",
    "\n",
    "- **BsmtFinSF2**: Type 2 finished square feet"
   ]
  },
  {
   "cell_type": "code",
   "execution_count": 148,
   "metadata": {},
   "outputs": [
    {
     "data": {
      "text/plain": [
       "BsmtQual  BsmtCond  BsmtExposure  BsmtFinType1  BsmtFinType2\n",
       "NaN       NaN       NaN           NaN           NaN             37\n",
       "Gd        TA        No            GLQ           NaN              1\n",
       "Name: count, dtype: int64"
      ]
     },
     "execution_count": 148,
     "metadata": {},
     "output_type": "execute_result"
    }
   ],
   "source": [
    "# Analyzing the values\n",
    "df_train.loc[df_train.BsmtFinType2.isnull(), col_Bsmt].value_counts(dropna=False)"
   ]
  },
  {
   "cell_type": "code",
   "execution_count": 149,
   "metadata": {},
   "outputs": [
    {
     "data": {
      "text/plain": [
       "BsmtFinType2  BsmtFinSF2\n",
       "NaN           0             37\n",
       "              479            1\n",
       "Name: count, dtype: int64"
      ]
     },
     "execution_count": 149,
     "metadata": {},
     "output_type": "execute_result"
    }
   ],
   "source": [
    "# Checking the value combinations of 'BsmtFinType2' and 'BsmtFinSF2' where 'BsmtFinType2' is missing\n",
    "df_train.loc[df_train.BsmtFinType2.isnull(), ['BsmtFinType2', 'BsmtFinSF2']].value_counts(dropna=False)"
   ]
  },
  {
   "cell_type": "markdown",
   "metadata": {},
   "source": [
    "It doesn't make sense for **BsmtFinType2** to indicate that there is no basement (NA) while **BsmtFinSF2** reports a positive area value."
   ]
  },
  {
   "cell_type": "code",
   "execution_count": 150,
   "metadata": {},
   "outputs": [
    {
     "data": {
      "text/plain": [
       "BsmtFinType2\n",
       "Unf    1256\n",
       "Rec      54\n",
       "LwQ      46\n",
       "BLQ      33\n",
       "ALQ      19\n",
       "GLQ      14\n",
       "Name: count, dtype: int64"
      ]
     },
     "execution_count": 150,
     "metadata": {},
     "output_type": "execute_result"
    }
   ],
   "source": [
    "# Analyzing the values for BsmtExposure\n",
    "df_train.BsmtFinType2.value_counts()"
   ]
  },
  {
   "cell_type": "code",
   "execution_count": 151,
   "metadata": {},
   "outputs": [
    {
     "data": {
      "text/plain": [
       "'Unf'"
      ]
     },
     "execution_count": 151,
     "metadata": {},
     "output_type": "execute_result"
    }
   ],
   "source": [
    "# Checking the mode of BsmtFinType2\n",
    "mod_BsmtFinType2 = df_train.BsmtFinType2.mode()[0]\n",
    "mod_BsmtFinType2"
   ]
  },
  {
   "cell_type": "code",
   "execution_count": 152,
   "metadata": {},
   "outputs": [],
   "source": [
    "# Replacing missing values with 'Unf' where BsmtFinSF2 is not 0\n",
    "df_train.loc[(df_train.BsmtFinType2.isnull()) & (df_train.BsmtFinSF2 != 0), 'BsmtFinType2'] = mod_BsmtFinType2"
   ]
  },
  {
   "cell_type": "code",
   "execution_count": 153,
   "metadata": {},
   "outputs": [],
   "source": [
    "# Replace these values with -1\n",
    "df_train.loc[df_train.BsmtQual.isnull(), col_Bsmt] = -1"
   ]
  },
  {
   "cell_type": "markdown",
   "metadata": {},
   "source": [
    "<a id=\"bsmt_exposure\"></a>\n",
    "\n",
    "- **Now let's investigate the last basement-related variable: `BsmtExposure`**\n",
    "\n",
    "- **BsmtExposure**: Refers to walkout or garden level walls  \n",
    "    - **Gd**: Good Exposure  \n",
    "    - **Av**: Average Exposure (split levels or foyers typically score average or above)  \n",
    "    - **Mn**: Minimum Exposure  \n",
    "    - **No**: No Exposure  \n",
    "    - **NA**: No Basement  \n"
   ]
  },
  {
   "cell_type": "code",
   "execution_count": 154,
   "metadata": {},
   "outputs": [
    {
     "data": {
      "text/plain": [
       "BsmtExposure\n",
       "No    953\n",
       "Av    221\n",
       "Gd    134\n",
       "Mn    114\n",
       "-1     37\n",
       "Name: count, dtype: int64"
      ]
     },
     "execution_count": 154,
     "metadata": {},
     "output_type": "execute_result"
    }
   ],
   "source": [
    "# Analyzing the values for BsmtExposure\n",
    "df_train.BsmtExposure.value_counts()"
   ]
  },
  {
   "cell_type": "code",
   "execution_count": 155,
   "metadata": {},
   "outputs": [
    {
     "data": {
      "text/plain": [
       "'No'"
      ]
     },
     "execution_count": 155,
     "metadata": {},
     "output_type": "execute_result"
    }
   ],
   "source": [
    "# And again, we can see the most frequent value\n",
    "mod_BsmtExposure = df_train.BsmtExposure.mode()[0]\n",
    "mod_BsmtExposure"
   ]
  },
  {
   "cell_type": "code",
   "execution_count": 156,
   "metadata": {},
   "outputs": [],
   "source": [
    "# Replacing missing values with \"No\" (the most frequent value)\n",
    "df_train.loc[df_train.BsmtExposure.isnull(), 'BsmtExposure'] = mod_BsmtExposure"
   ]
  },
  {
   "cell_type": "code",
   "execution_count": 157,
   "metadata": {},
   "outputs": [
    {
     "data": {
      "text/plain": [
       "MasVnrType     872\n",
       "MasVnrArea       8\n",
       "Electrical       1\n",
       "MSSubClass       0\n",
       "LotArea          0\n",
       "Street           0\n",
       "MSZoning         0\n",
       "LotFrontage      0\n",
       "LandContour      0\n",
       "Utilities        0\n",
       "dtype: int64"
      ]
     },
     "execution_count": 157,
     "metadata": {},
     "output_type": "execute_result"
    }
   ],
   "source": [
    "# Verifying null values in the set\n",
    "df_train.isnull().sum().sort_values(ascending=False).head(10)"
   ]
  },
  {
   "cell_type": "markdown",
   "metadata": {},
   "source": [
    "<a id='MasVnrType'></a>  \n",
    "- **Now analyzing the <font color='#A22538'>MasVnrType</font> column**  \n",
    "- This column refers to the **type of masonry veneer** used in the house:  \n",
    "    - **BrkCmn**: Brick Common  \n",
    "    - **BrkFace**: Brick Face  \n",
    "    - **CBlock**: Cinder Block  \n",
    "    - **None**: No veneer  \n",
    "    - **Stone**: Stone veneer"
   ]
  },
  {
   "cell_type": "code",
   "execution_count": 158,
   "metadata": {},
   "outputs": [
    {
     "data": {
      "application/vnd.microsoft.datawrangler.viewer.v0+json": {
       "columns": [
        {
         "name": "index",
         "rawType": "int64",
         "type": "integer"
        },
        {
         "name": "MasVnrType",
         "rawType": "object",
         "type": "unknown"
        },
        {
         "name": "MasVnrArea",
         "rawType": "float64",
         "type": "float"
        }
       ],
       "conversionMethod": "pd.DataFrame",
       "ref": "b5cceff6-d5d0-4d9d-8781-7b7f8f9345be",
       "rows": [
        [
         "1",
         null,
         "0.0"
        ],
        [
         "3",
         null,
         "0.0"
        ],
        [
         "5",
         null,
         "0.0"
        ],
        [
         "8",
         null,
         "0.0"
        ],
        [
         "9",
         null,
         "0.0"
        ],
        [
         "10",
         null,
         "0.0"
        ],
        [
         "12",
         null,
         "0.0"
        ],
        [
         "15",
         null,
         "0.0"
        ],
        [
         "17",
         null,
         "0.0"
        ],
        [
         "18",
         null,
         "0.0"
        ],
        [
         "19",
         null,
         "0.0"
        ],
        [
         "21",
         null,
         "0.0"
        ],
        [
         "23",
         null,
         "0.0"
        ],
        [
         "24",
         null,
         "0.0"
        ],
        [
         "26",
         null,
         "0.0"
        ],
        [
         "28",
         null,
         "0.0"
        ],
        [
         "29",
         null,
         "0.0"
        ],
        [
         "30",
         null,
         "0.0"
        ],
        [
         "31",
         null,
         "0.0"
        ],
        [
         "32",
         null,
         "0.0"
        ],
        [
         "33",
         null,
         "0.0"
        ],
        [
         "36",
         null,
         "0.0"
        ],
        [
         "38",
         null,
         "0.0"
        ],
        [
         "39",
         null,
         "0.0"
        ],
        [
         "41",
         null,
         "0.0"
        ],
        [
         "42",
         null,
         "0.0"
        ],
        [
         "43",
         null,
         "0.0"
        ],
        [
         "44",
         null,
         "0.0"
        ],
        [
         "46",
         null,
         "0.0"
        ],
        [
         "47",
         null,
         "0.0"
        ],
        [
         "48",
         null,
         "0.0"
        ],
        [
         "49",
         null,
         "0.0"
        ],
        [
         "50",
         null,
         "0.0"
        ],
        [
         "51",
         null,
         "0.0"
        ],
        [
         "52",
         null,
         "0.0"
        ],
        [
         "53",
         null,
         "0.0"
        ],
        [
         "54",
         null,
         "0.0"
        ],
        [
         "57",
         null,
         "0.0"
        ],
        [
         "59",
         null,
         "0.0"
        ],
        [
         "60",
         null,
         "0.0"
        ],
        [
         "61",
         null,
         "0.0"
        ],
        [
         "63",
         null,
         "0.0"
        ],
        [
         "68",
         null,
         "0.0"
        ],
        [
         "69",
         null,
         "0.0"
        ],
        [
         "71",
         null,
         "0.0"
        ],
        [
         "74",
         null,
         "0.0"
        ],
        [
         "75",
         null,
         "0.0"
        ],
        [
         "76",
         null,
         "0.0"
        ],
        [
         "77",
         null,
         "0.0"
        ],
        [
         "78",
         null,
         "0.0"
        ]
       ],
       "shape": {
        "columns": 2,
        "rows": 872
       }
      },
      "text/html": [
       "<div>\n",
       "<style scoped>\n",
       "    .dataframe tbody tr th:only-of-type {\n",
       "        vertical-align: middle;\n",
       "    }\n",
       "\n",
       "    .dataframe tbody tr th {\n",
       "        vertical-align: top;\n",
       "    }\n",
       "\n",
       "    .dataframe thead th {\n",
       "        text-align: right;\n",
       "    }\n",
       "</style>\n",
       "<table border=\"1\" class=\"dataframe\">\n",
       "  <thead>\n",
       "    <tr style=\"text-align: right;\">\n",
       "      <th></th>\n",
       "      <th>MasVnrType</th>\n",
       "      <th>MasVnrArea</th>\n",
       "    </tr>\n",
       "  </thead>\n",
       "  <tbody>\n",
       "    <tr>\n",
       "      <th>1</th>\n",
       "      <td>NaN</td>\n",
       "      <td>0.0</td>\n",
       "    </tr>\n",
       "    <tr>\n",
       "      <th>3</th>\n",
       "      <td>NaN</td>\n",
       "      <td>0.0</td>\n",
       "    </tr>\n",
       "    <tr>\n",
       "      <th>5</th>\n",
       "      <td>NaN</td>\n",
       "      <td>0.0</td>\n",
       "    </tr>\n",
       "    <tr>\n",
       "      <th>8</th>\n",
       "      <td>NaN</td>\n",
       "      <td>0.0</td>\n",
       "    </tr>\n",
       "    <tr>\n",
       "      <th>9</th>\n",
       "      <td>NaN</td>\n",
       "      <td>0.0</td>\n",
       "    </tr>\n",
       "    <tr>\n",
       "      <th>...</th>\n",
       "      <td>...</td>\n",
       "      <td>...</td>\n",
       "    </tr>\n",
       "    <tr>\n",
       "      <th>1454</th>\n",
       "      <td>NaN</td>\n",
       "      <td>0.0</td>\n",
       "    </tr>\n",
       "    <tr>\n",
       "      <th>1455</th>\n",
       "      <td>NaN</td>\n",
       "      <td>0.0</td>\n",
       "    </tr>\n",
       "    <tr>\n",
       "      <th>1457</th>\n",
       "      <td>NaN</td>\n",
       "      <td>0.0</td>\n",
       "    </tr>\n",
       "    <tr>\n",
       "      <th>1458</th>\n",
       "      <td>NaN</td>\n",
       "      <td>0.0</td>\n",
       "    </tr>\n",
       "    <tr>\n",
       "      <th>1459</th>\n",
       "      <td>NaN</td>\n",
       "      <td>0.0</td>\n",
       "    </tr>\n",
       "  </tbody>\n",
       "</table>\n",
       "<p>872 rows × 2 columns</p>\n",
       "</div>"
      ],
      "text/plain": [
       "     MasVnrType  MasVnrArea\n",
       "1           NaN         0.0\n",
       "3           NaN         0.0\n",
       "5           NaN         0.0\n",
       "8           NaN         0.0\n",
       "9           NaN         0.0\n",
       "...         ...         ...\n",
       "1454        NaN         0.0\n",
       "1455        NaN         0.0\n",
       "1457        NaN         0.0\n",
       "1458        NaN         0.0\n",
       "1459        NaN         0.0\n",
       "\n",
       "[872 rows x 2 columns]"
      ]
     },
     "execution_count": 158,
     "metadata": {},
     "output_type": "execute_result"
    }
   ],
   "source": [
    "# Filtering the dataset\n",
    "df_train.loc[df_train.MasVnrType.isnull(),['MasVnrType','MasVnrArea']]"
   ]
  },
  {
   "cell_type": "markdown",
   "metadata": {},
   "source": [
    "There shouldn't be cases where MasVnrArea has a positive value but MasVnrType is missing. Therefore, we fill MasVnrType with its unconditional mode only for rows where MasVnrArea is not null and MasVnrType is null."
   ]
  },
  {
   "cell_type": "code",
   "execution_count": 159,
   "metadata": {},
   "outputs": [],
   "source": [
    "masvnrtype_mode = df_train['MasVnrType'].mode()[0]\n",
    "\n",
    "mask = (df_train['MasVnrType'].isnull()) & (df_train['MasVnrArea'] > 0)\n",
    "\n",
    "df_train.loc[mask, 'MasVnrType'] = masvnrtype_mode"
   ]
  },
  {
   "cell_type": "code",
   "execution_count": 160,
   "metadata": {},
   "outputs": [],
   "source": [
    "df_train['MasVnrType'] = df_train['MasVnrType'].fillna('None')\n",
    "df_train['MasVnrArea'] = df_train['MasVnrArea'].fillna(0)"
   ]
  },
  {
   "cell_type": "code",
   "execution_count": 161,
   "metadata": {},
   "outputs": [
    {
     "data": {
      "text/plain": [
       "MasVnrType\n",
       "None       867\n",
       "BrkFace    450\n",
       "Stone      128\n",
       "BrkCmn      15\n",
       "Name: count, dtype: int64"
      ]
     },
     "execution_count": 161,
     "metadata": {},
     "output_type": "execute_result"
    }
   ],
   "source": [
    "df_train['MasVnrType'].value_counts()"
   ]
  },
  {
   "cell_type": "markdown",
   "metadata": {},
   "source": [
    "<a id=''></a>\n",
    "- **Analyzing the remaining train dataset**\n",
    "- **Understanding these columns**\n",
    "    - **<font color='#A22538'>MSZoning</font>**: Area where the house is located  \n",
    "        - NA: The information was not added to the dataset (missing information)\n",
    "    - **<font color='#A22538'>Functional</font>**: House functionalities  \n",
    "        - NA: The information was not added to the dataset (missing information)\n",
    "    - **<font color='#A22538'>Utilities</font>**: Available utilities  \n",
    "        - NA: The information was not added to the dataset (missing information)\n"
   ]
  },
  {
   "cell_type": "code",
   "execution_count": 162,
   "metadata": {},
   "outputs": [
    {
     "data": {
      "text/plain": [
       "Electrical\n",
       "SBrkr    1334\n",
       "FuseA      94\n",
       "FuseF      27\n",
       "FuseP       3\n",
       "Mix         1\n",
       "NaN         1\n",
       "Name: count, dtype: int64"
      ]
     },
     "execution_count": 162,
     "metadata": {},
     "output_type": "execute_result"
    }
   ],
   "source": [
    "df_train['Electrical'].value_counts(dropna=False)"
   ]
  },
  {
   "cell_type": "code",
   "execution_count": 163,
   "metadata": {},
   "outputs": [],
   "source": [
    "# Checking the mode of Electrical\n",
    "mod_Electrical = df_train.Electrical.mode()[0]\n",
    "\n",
    "# Replacing missing values in the Electrical column\n",
    "df_train.loc[df_train.Electrical.isnull(), 'Electrical'] = mod_Electrical"
   ]
  },
  {
   "cell_type": "code",
   "execution_count": 164,
   "metadata": {},
   "outputs": [
    {
     "name": "stdout",
     "output_type": "stream",
     "text": [
      "Id              0.00%\n",
      "MSSubClass      0.00%\n",
      "MSZoning        0.00%\n",
      "LotFrontage     0.00%\n",
      "LotArea         0.00%\n",
      "Street          0.00%\n",
      "Alley           0.00%\n",
      "LotShape        0.00%\n",
      "LandContour     0.00%\n",
      "Utilities       0.00%\n",
      "LotConfig       0.00%\n",
      "LandSlope       0.00%\n",
      "Neighborhood    0.00%\n",
      "Condition1      0.00%\n",
      "Condition2      0.00%\n",
      "BldgType        0.00%\n",
      "HouseStyle      0.00%\n",
      "OverallQual     0.00%\n",
      "OverallCond     0.00%\n",
      "YearBuilt       0.00%\n",
      "dtype: object\n"
     ]
    }
   ],
   "source": [
    "# Check Train data for missing values (Top 20)\n",
    "missing_percent = (df_train.isnull().sum() / df_train.shape[0] * 100).sort_values(ascending=False).head(20)\n",
    "missing_percent = missing_percent.apply(lambda x: f\"{x:.2f}%\")\n",
    "print(missing_percent)\n",
    "\n",
    "del missing_percent"
   ]
  },
  {
   "cell_type": "markdown",
   "metadata": {},
   "source": []
  },
  {
   "cell_type": "code",
   "execution_count": null,
   "metadata": {},
   "outputs": [],
   "source": []
  },
  {
   "cell_type": "markdown",
   "metadata": {},
   "source": [
    "## Test data"
   ]
  },
  {
   "cell_type": "markdown",
   "metadata": {},
   "source": [
    "### Step 1"
   ]
  },
  {
   "cell_type": "code",
   "execution_count": 165,
   "metadata": {},
   "outputs": [
    {
     "name": "stdout",
     "output_type": "stream",
     "text": [
      "<class 'pandas.core.frame.DataFrame'>\n",
      "RangeIndex: 1459 entries, 0 to 1458\n",
      "Data columns (total 80 columns):\n",
      " #   Column         Non-Null Count  Dtype  \n",
      "---  ------         --------------  -----  \n",
      " 0   Id             1459 non-null   int64  \n",
      " 1   MSSubClass     1459 non-null   int64  \n",
      " 2   MSZoning       1455 non-null   object \n",
      " 3   LotFrontage    1232 non-null   float64\n",
      " 4   LotArea        1459 non-null   int64  \n",
      " 5   Street         1459 non-null   object \n",
      " 6   Alley          107 non-null    object \n",
      " 7   LotShape       1459 non-null   object \n",
      " 8   LandContour    1459 non-null   object \n",
      " 9   Utilities      1457 non-null   object \n",
      " 10  LotConfig      1459 non-null   object \n",
      " 11  LandSlope      1459 non-null   object \n",
      " 12  Neighborhood   1459 non-null   object \n",
      " 13  Condition1     1459 non-null   object \n",
      " 14  Condition2     1459 non-null   object \n",
      " 15  BldgType       1459 non-null   object \n",
      " 16  HouseStyle     1459 non-null   object \n",
      " 17  OverallQual    1459 non-null   int64  \n",
      " 18  OverallCond    1459 non-null   int64  \n",
      " 19  YearBuilt      1459 non-null   int64  \n",
      " 20  YearRemodAdd   1459 non-null   int64  \n",
      " 21  RoofStyle      1459 non-null   object \n",
      " 22  RoofMatl       1459 non-null   object \n",
      " 23  Exterior1st    1458 non-null   object \n",
      " 24  Exterior2nd    1458 non-null   object \n",
      " 25  MasVnrType     565 non-null    object \n",
      " 26  MasVnrArea     1444 non-null   float64\n",
      " 27  ExterQual      1459 non-null   object \n",
      " 28  ExterCond      1459 non-null   object \n",
      " 29  Foundation     1459 non-null   object \n",
      " 30  BsmtQual       1415 non-null   object \n",
      " 31  BsmtCond       1414 non-null   object \n",
      " 32  BsmtExposure   1415 non-null   object \n",
      " 33  BsmtFinType1   1417 non-null   object \n",
      " 34  BsmtFinSF1     1458 non-null   float64\n",
      " 35  BsmtFinType2   1417 non-null   object \n",
      " 36  BsmtFinSF2     1458 non-null   float64\n",
      " 37  BsmtUnfSF      1458 non-null   float64\n",
      " 38  TotalBsmtSF    1458 non-null   float64\n",
      " 39  Heating        1459 non-null   object \n",
      " 40  HeatingQC      1459 non-null   object \n",
      " 41  CentralAir     1459 non-null   object \n",
      " 42  Electrical     1459 non-null   object \n",
      " 43  1stFlrSF       1459 non-null   int64  \n",
      " 44  2ndFlrSF       1459 non-null   int64  \n",
      " 45  LowQualFinSF   1459 non-null   int64  \n",
      " 46  GrLivArea      1459 non-null   int64  \n",
      " 47  BsmtFullBath   1457 non-null   float64\n",
      " 48  BsmtHalfBath   1457 non-null   float64\n",
      " 49  FullBath       1459 non-null   int64  \n",
      " 50  HalfBath       1459 non-null   int64  \n",
      " 51  BedroomAbvGr   1459 non-null   int64  \n",
      " 52  KitchenAbvGr   1459 non-null   int64  \n",
      " 53  KitchenQual    1458 non-null   object \n",
      " 54  TotRmsAbvGrd   1459 non-null   int64  \n",
      " 55  Functional     1457 non-null   object \n",
      " 56  Fireplaces     1459 non-null   int64  \n",
      " 57  FireplaceQu    729 non-null    object \n",
      " 58  GarageType     1383 non-null   object \n",
      " 59  GarageYrBlt    1381 non-null   float64\n",
      " 60  GarageFinish   1381 non-null   object \n",
      " 61  GarageCars     1458 non-null   float64\n",
      " 62  GarageArea     1458 non-null   float64\n",
      " 63  GarageQual     1381 non-null   object \n",
      " 64  GarageCond     1381 non-null   object \n",
      " 65  PavedDrive     1459 non-null   object \n",
      " 66  WoodDeckSF     1459 non-null   int64  \n",
      " 67  OpenPorchSF    1459 non-null   int64  \n",
      " 68  EnclosedPorch  1459 non-null   int64  \n",
      " 69  3SsnPorch      1459 non-null   int64  \n",
      " 70  ScreenPorch    1459 non-null   int64  \n",
      " 71  PoolArea       1459 non-null   int64  \n",
      " 72  PoolQC         3 non-null      object \n",
      " 73  Fence          290 non-null    object \n",
      " 74  MiscFeature    51 non-null     object \n",
      " 75  MiscVal        1459 non-null   int64  \n",
      " 76  MoSold         1459 non-null   int64  \n",
      " 77  YrSold         1459 non-null   int64  \n",
      " 78  SaleType       1458 non-null   object \n",
      " 79  SaleCondition  1459 non-null   object \n",
      "dtypes: float64(11), int64(26), object(43)\n",
      "memory usage: 912.0+ KB\n"
     ]
    }
   ],
   "source": [
    "df_test.info()"
   ]
  },
  {
   "cell_type": "code",
   "execution_count": 166,
   "metadata": {},
   "outputs": [
    {
     "name": "stdout",
     "output_type": "stream",
     "text": [
      "PoolQC          99.79%\n",
      "MiscFeature     96.50%\n",
      "Alley           92.67%\n",
      "Fence           80.12%\n",
      "MasVnrType      61.27%\n",
      "FireplaceQu     50.03%\n",
      "LotFrontage     15.56%\n",
      "GarageYrBlt      5.35%\n",
      "GarageCond       5.35%\n",
      "GarageFinish     5.35%\n",
      "GarageQual       5.35%\n",
      "GarageType       5.21%\n",
      "BsmtCond         3.08%\n",
      "BsmtQual         3.02%\n",
      "BsmtExposure     3.02%\n",
      "BsmtFinType1     2.88%\n",
      "BsmtFinType2     2.88%\n",
      "MasVnrArea       1.03%\n",
      "MSZoning         0.27%\n",
      "BsmtHalfBath     0.14%\n",
      "dtype: object\n"
     ]
    }
   ],
   "source": [
    "# Check Test data for missing values (Top 20)\n",
    "missing_percent = (df_test.isnull().sum() / df_test.shape[0] * 100).sort_values(ascending=False).head(20)\n",
    "missing_percent = missing_percent.apply(lambda x: f\"{x:.2f}%\")\n",
    "print(missing_percent)\n",
    "\n",
    "del missing_percent"
   ]
  },
  {
   "cell_type": "code",
   "execution_count": 167,
   "metadata": {},
   "outputs": [],
   "source": [
    "# We can replace the missing values in the first column with -1\n",
    "df_test[['PoolQC','MiscFeature','Alley','Fence']] = df_test[['PoolQC','MiscFeature','Alley','Fence']].fillna(-1)"
   ]
  },
  {
   "cell_type": "markdown",
   "metadata": {},
   "source": [
    "<a id='FireplaceQu'></a>\n",
    "- **Now analyzing the <font color='#A22538'>FireplaceQu</font> column**\n",
    "- There are 2 fireplace-related columns:\n",
    "    - **Fireplaces**: Number of fireplaces  \n",
    "    - **FireplaceQu**: Fireplace quality"
   ]
  },
  {
   "cell_type": "code",
   "execution_count": 168,
   "metadata": {},
   "outputs": [
    {
     "data": {
      "text/plain": [
       "Fireplaces  FireplaceQu\n",
       "0           NaN            730\n",
       "1           Gd             303\n",
       "            TA             236\n",
       "2           Gd              58\n",
       "            TA              39\n",
       "1           Fa              35\n",
       "            Po              26\n",
       "            Ex              18\n",
       "2           Fa               6\n",
       "3           TA               3\n",
       "            Gd               3\n",
       "2           Ex               1\n",
       "4           TA               1\n",
       "Name: count, dtype: int64"
      ]
     },
     "execution_count": 168,
     "metadata": {},
     "output_type": "execute_result"
    }
   ],
   "source": [
    "# Visualizing the number of records in each label\n",
    "df_test[['Fireplaces', 'FireplaceQu']].value_counts(dropna=False)"
   ]
  },
  {
   "cell_type": "code",
   "execution_count": 169,
   "metadata": {},
   "outputs": [],
   "source": [
    "# Adjusting this column\n",
    "# This NaN is also meaningful — it indicates that there is no fireplace\n",
    "df_test[['FireplaceQu']] = df_test[['FireplaceQu']].fillna(-1)"
   ]
  },
  {
   "cell_type": "markdown",
   "metadata": {},
   "source": [
    "<a id='LotFrontage'></a>\n",
    "- **<font color='#A22538'>LotFrontage</font>: Linear feet of street connected to the property**  \n",
    "  - Missing values are likely due to data omission, not true absence of frontage.  \n",
    "  - They will be imputed using the neighborhood mean to preserve geographic consistency.\n",
    "\n",
    "<a id='LotConfig'></a>\n",
    "- **<font color='#A22538'>LotConfig</font>: Lot configuration**  \n",
    "  - **Inside**: Inside lot, surrounded by other lots with no street corner  \n",
    "  - **Corner**: Corner lot, facing two intersecting streets  \n",
    "  - **CulDSac**: Located in a cul-de-sac, offering more privacy  \n",
    "  - **FR2**: Frontage on two sides of the property  \n",
    "  - **FR3**: Frontage on three sides of the property"
   ]
  },
  {
   "cell_type": "code",
   "execution_count": 170,
   "metadata": {},
   "outputs": [
    {
     "data": {
      "text/plain": [
       "LotConfig\n",
       "Inside     137\n",
       "Corner      42\n",
       "CulDSac     38\n",
       "FR2          6\n",
       "FR3          4\n",
       "Name: count, dtype: int64"
      ]
     },
     "execution_count": 170,
     "metadata": {},
     "output_type": "execute_result"
    }
   ],
   "source": [
    "# Understanding the types of properties with missing values\n",
    "df_test.loc[df_test.LotFrontage.isnull(), 'LotConfig'].value_counts()"
   ]
  },
  {
   "cell_type": "code",
   "execution_count": 171,
   "metadata": {},
   "outputs": [
    {
     "data": {
      "text/plain": [
       "LotConfig\n",
       "Corner     81.373786\n",
       "CulDSac    53.568182\n",
       "FR2        58.968750\n",
       "FR3        85.000000\n",
       "Inside     66.709746\n",
       "Name: LotFrontage, dtype: float64"
      ]
     },
     "execution_count": 171,
     "metadata": {},
     "output_type": "execute_result"
    }
   ],
   "source": [
    "# Checking the average LotFrontage by property type\n",
    "df_test.groupby('LotConfig')['LotFrontage'].mean()"
   ]
  },
  {
   "cell_type": "code",
   "execution_count": 172,
   "metadata": {},
   "outputs": [],
   "source": [
    "# Missing values in LotFrontage are likely due to data recording issues, not absence of frontage\n",
    "# Imputing missing values using the mean LotFrontage grouped by LotConfig (preserves contextual variation)\n",
    "df_test['LotFrontage'] = df_test['LotFrontage'].fillna(\n",
    "    df_test.groupby('LotConfig')['LotFrontage'].transform('mean'))"
   ]
  },
  {
   "cell_type": "markdown",
   "metadata": {},
   "source": [
    "<a id=\"garagem\"></a>\n",
    "- **Evaluating the <font color='#A22538'>garage-related columns</font>**\n",
    "    - **GarageType**: Garage location  \n",
    "        - **NA: No Garage**  \n",
    "    - **GarageYrBlt**: Year garage was built  \n",
    "    - **GarageFinish**: Interior finish of the garage  \n",
    "        - **NA: No Garage**  \n",
    "    - **GarageCars**: Size of garage in car capacity\n",
    "    - **GarageArea**: Size of garage in square feet\n",
    "    - **GarageQual**: Garage quality  \n",
    "        - **NA: No Garage**  \n",
    "    - **GarageCond**: Garage condition  \n",
    "        - **NA: No Garage**"
   ]
  },
  {
   "cell_type": "code",
   "execution_count": 173,
   "metadata": {},
   "outputs": [
    {
     "data": {
      "text/plain": [
       "GarageType  GarageYrBlt  GarageFinish  GarageCars  GarageArea  GarageQual  GarageCond\n",
       "NaN         NaN          NaN           0.0         0.0         NaN         NaN           76\n",
       "Name: count, dtype: int64"
      ]
     },
     "execution_count": 173,
     "metadata": {},
     "output_type": "execute_result"
    }
   ],
   "source": [
    "# Checking for columns that contain 'Garage' in their name\n",
    "col_garage = df_test.columns[df_test.columns.str.contains(\"Garage\")]\n",
    "\n",
    "# Filtering the dataset\n",
    "df_test.loc[df_test.GarageType.isnull(), col_garage].value_counts(dropna=False)"
   ]
  },
  {
   "cell_type": "code",
   "execution_count": 174,
   "metadata": {},
   "outputs": [
    {
     "name": "stdout",
     "output_type": "stream",
     "text": [
      "\n",
      "Checking when 'GarageType' is NaN:\n",
      "GarageType  GarageYrBlt  GarageFinish  GarageCars  GarageArea  GarageQual  GarageCond\n",
      "True        True         True          False       False       True        True          76\n",
      "Name: count, dtype: int64\n",
      "\n",
      "Checking when 'GarageYrBlt' is NaN:\n",
      "GarageType  GarageYrBlt  GarageFinish  GarageCars  GarageArea  GarageQual  GarageCond\n",
      "True        True         True          False       False       True        True          76\n",
      "False       True         True          False       False       True        True           1\n",
      "                                       True        True        True        True           1\n",
      "Name: count, dtype: int64\n",
      "\n",
      "Checking when 'GarageFinish' is NaN:\n",
      "GarageType  GarageYrBlt  GarageFinish  GarageCars  GarageArea  GarageQual  GarageCond\n",
      "True        True         True          False       False       True        True          76\n",
      "False       True         True          False       False       True        True           1\n",
      "                                       True        True        True        True           1\n",
      "Name: count, dtype: int64\n",
      "\n",
      "Checking when 'GarageCars' is NaN:\n",
      "GarageType  GarageYrBlt  GarageFinish  GarageCars  GarageArea  GarageQual  GarageCond\n",
      "False       True         True          True        True        True        True          1\n",
      "Name: count, dtype: int64\n",
      "\n",
      "Checking when 'GarageArea' is NaN:\n",
      "GarageType  GarageYrBlt  GarageFinish  GarageCars  GarageArea  GarageQual  GarageCond\n",
      "False       True         True          True        True        True        True          1\n",
      "Name: count, dtype: int64\n",
      "\n",
      "Checking when 'GarageQual' is NaN:\n",
      "GarageType  GarageYrBlt  GarageFinish  GarageCars  GarageArea  GarageQual  GarageCond\n",
      "True        True         True          False       False       True        True          76\n",
      "False       True         True          False       False       True        True           1\n",
      "                                       True        True        True        True           1\n",
      "Name: count, dtype: int64\n",
      "\n",
      "Checking when 'GarageCond' is NaN:\n",
      "GarageType  GarageYrBlt  GarageFinish  GarageCars  GarageArea  GarageQual  GarageCond\n",
      "True        True         True          False       False       True        True          76\n",
      "False       True         True          False       False       True        True           1\n",
      "                                       True        True        True        True           1\n",
      "Name: count, dtype: int64\n"
     ]
    }
   ],
   "source": [
    "# Loop to check whether, when one column is NaN, the others are also NaN\n",
    "for col in col_garage:\n",
    "    print(f\"\\nChecking when '{col}' is NaN:\")\n",
    "    \n",
    "    # Filter rows where the current column is NaN\n",
    "    subset = df_test.loc[df_test[col].isna(), col_garage]\n",
    "    \n",
    "    # Count the patterns of NaN values across the garage-related columns\n",
    "    pattern_counts = subset.isna().value_counts(dropna=False)\n",
    "    print(pattern_counts)"
   ]
  },
  {
   "cell_type": "code",
   "execution_count": 175,
   "metadata": {},
   "outputs": [],
   "source": [
    "# If GarageType is NaN, then GarageFinish, GarageQual, and GarageCond are also assumed to be NaN\n",
    "# In those cases, replace the selected garage-related columns with -1\n",
    "\n",
    "df_test.loc[df_test.GarageType.isnull(), col_garage[[0,1,2,5,6]]] = -1"
   ]
  },
  {
   "cell_type": "code",
   "execution_count": 176,
   "metadata": {},
   "outputs": [
    {
     "data": {
      "text/plain": [
       "GarageType  GarageYrBlt  GarageFinish  GarageCars  GarageArea  GarageQual  GarageCond\n",
       "Detchd      NaN          NaN           1.0         360.0       NaN         NaN           1\n",
       "                                       NaN         NaN         NaN         NaN           1\n",
       "Name: count, dtype: int64"
      ]
     },
     "execution_count": 176,
     "metadata": {},
     "output_type": "execute_result"
    }
   ],
   "source": [
    "# Filtering the dataset\n",
    "df_test.loc[df_test.GarageYrBlt.isnull(), col_garage].value_counts(dropna=False)"
   ]
  },
  {
   "cell_type": "markdown",
   "metadata": {},
   "source": [
    "<a id=\"garagem\"></a>\n",
    "\n",
    "- **Now let's investigate the rows where all garage-related columns are empty but `GarageType` is <font color='#A22538'>Detchd</font>**\n",
    "    - **GarageType**: Garage location  \n",
    "        - **2Types**: More than one type of garage  \n",
    "        - **Attchd**: Attached to home  \n",
    "        - **Basment**: Basement garage  \n",
    "        - **BuiltIn**: Built-in (garage is part of the house — typically with a room above)  \n",
    "        - **CarPort**: Car port  \n",
    "        - **Detchd**: Detached from home  \n",
    "        - **NA**: No garage "
   ]
  },
  {
   "cell_type": "code",
   "execution_count": 177,
   "metadata": {},
   "outputs": [
    {
     "data": {
      "text/plain": [
       "GarageType  GarageYrBlt  GarageFinish  GarageCars  GarageArea  GarageQual  GarageCond\n",
       "Detchd      NaN          NaN           1.0         360.0       NaN         NaN           1\n",
       "                                       NaN         NaN         NaN         NaN           1\n",
       "Name: count, dtype: int64"
      ]
     },
     "execution_count": 177,
     "metadata": {},
     "output_type": "execute_result"
    }
   ],
   "source": [
    "# Let's check how many rows have all garage-related columns missing when `GarageType` is Detchd:\n",
    "df_test.loc[df_test.GarageCond.isnull(), col_garage].value_counts(dropna=False)"
   ]
  },
  {
   "cell_type": "markdown",
   "metadata": {},
   "source": [
    "The presence of values in GarageCars and GarageArea indicates that the property has a garage.\n",
    "\n",
    "- Now let's investigate column GarageYrBlt"
   ]
  },
  {
   "cell_type": "code",
   "execution_count": 178,
   "metadata": {},
   "outputs": [
    {
     "name": "stdout",
     "output_type": "stream",
     "text": [
      "GarageYrBlt     1.000000\n",
      "YearBuilt       0.615951\n",
      "GarageArea      0.494670\n",
      "GarageCars      0.413711\n",
      "YearRemodAdd    0.321667\n",
      "Name: GarageYrBlt, dtype: float64\n"
     ]
    }
   ],
   "source": [
    "# 1. Filter the DataFrame to include only detached garages (Detchd) with valid year built\n",
    "df_test2 = df_test.loc[(df_test.GarageType == 'Detchd') & (df_test.GarageYrBlt != -1)]\n",
    "\n",
    "# 2. Select only numeric columns to avoid \"could not convert string to float\" error\n",
    "df_test_numeric = df_test2.select_dtypes(include='number')\n",
    "\n",
    "# 3. Calculate the correlation of all numeric variables with 'GarageYrBlt'\n",
    "top_corrs = df_test_numeric.corr()['GarageYrBlt'].sort_values(ascending=False).head(5)\n",
    "print(top_corrs)"
   ]
  },
  {
   "cell_type": "code",
   "execution_count": 179,
   "metadata": {},
   "outputs": [
    {
     "data": {
      "image/png": "[encoded data removed]",
      "text/plain": [
       "<Figure size 500x400 with 1 Axes>"
      ]
     },
     "metadata": {},
     "output_type": "display_data"
    }
   ],
   "source": [
    "# Set up a smaller figure\n",
    "fig, ax = plt.subplots(figsize=(5, 4))  # smaller size\n",
    "\n",
    "# Scatter plot\n",
    "ax.scatter(df_test_numeric.GarageYrBlt, df_test_numeric.YearBuilt, color=red_color, alpha=0.7, edgecolors='none', s=60)\n",
    "\n",
    "# Labels and title\n",
    "ax.set_xlabel('Garage Year Built', fontsize=11)\n",
    "ax.set_ylabel('House Year Built', fontsize=11)\n",
    "ax.set_title('Garage vs House Year Built (Detached)', fontsize=13)\n",
    "\n",
    "# No grid\n",
    "ax.grid(False)\n",
    "\n",
    "# Clean layout\n",
    "plt.tight_layout()\n",
    "plt.show()"
   ]
  },
  {
   "cell_type": "code",
   "execution_count": 180,
   "metadata": {},
   "outputs": [
    {
     "data": {
      "text/plain": [
       "CheckYears\n",
       "True     1127\n",
       "False     332\n",
       "Name: count, dtype: int64"
      ]
     },
     "execution_count": 180,
     "metadata": {},
     "output_type": "execute_result"
    }
   ],
   "source": [
    "# Create a new column that checks if the garage year is the same as the house year\n",
    "df_test['CheckYears'] = df_test.GarageYrBlt == df_test.YearBuilt\n",
    "\n",
    "# Count how many times the condition is True or False\n",
    "df_test.CheckYears.value_counts()"
   ]
  },
  {
   "cell_type": "code",
   "execution_count": 181,
   "metadata": {},
   "outputs": [
    {
     "data": {
      "text/plain": [
       "76"
      ]
     },
     "execution_count": 181,
     "metadata": {},
     "output_type": "execute_result"
    }
   ],
   "source": [
    "# Checking the values when there is no garage\n",
    "df_test.loc[(df_test.CheckYears == False) & (df_test.GarageYrBlt == -1)].shape[0]"
   ]
  },
  {
   "cell_type": "markdown",
   "metadata": {},
   "source": [
    "In most cases where a garage exists, it appears to have been built at the same time as the house."
   ]
  },
  {
   "cell_type": "code",
   "execution_count": 182,
   "metadata": {},
   "outputs": [],
   "source": [
    "df_test = df_test.drop('CheckYears',axis=1)"
   ]
  },
  {
   "cell_type": "code",
   "execution_count": 183,
   "metadata": {},
   "outputs": [
    {
     "data": {
      "text/plain": [
       "666     1910\n",
       "1116    1923\n",
       "Name: YearBuilt, dtype: int64"
      ]
     },
     "execution_count": 183,
     "metadata": {},
     "output_type": "execute_result"
    }
   ],
   "source": [
    "# Check the house construction years for rows where GarageCond is missing\n",
    "df_test.loc[df_test.GarageCond.isnull(), 'YearBuilt']"
   ]
  },
  {
   "cell_type": "code",
   "execution_count": 184,
   "metadata": {},
   "outputs": [],
   "source": [
    "# Replace missing GarageYrBlt values with the house's construction year (YearBuilt)\n",
    "df_test.loc[df_test.GarageCond.isnull(), 'GarageYrBlt'] = df_test.loc[df_test.GarageCond.isnull(), 'YearBuilt']"
   ]
  },
  {
   "cell_type": "markdown",
   "metadata": {},
   "source": [
    "We used two closely related columns — the year the house was built and the year the garage was built — and used one to validate the other."
   ]
  },
  {
   "cell_type": "code",
   "execution_count": 185,
   "metadata": {},
   "outputs": [
    {
     "data": {
      "text/plain": [
       "GarageType  GarageYrBlt  GarageFinish  GarageCars  GarageArea  GarageQual  GarageCond\n",
       "Detchd      1910.0       NaN           1.0         360.0       NaN         NaN           1\n",
       "            1923.0       NaN           NaN         NaN         NaN         NaN           1\n",
       "Name: count, dtype: int64"
      ]
     },
     "execution_count": 185,
     "metadata": {},
     "output_type": "execute_result"
    }
   ],
   "source": [
    "# Let's check how many rows have all garage-related columns missing when `GarageType` is Detchd:\n",
    "df_test.loc[df_test.GarageFinish.isnull(), col_garage].value_counts(dropna=False)"
   ]
  },
  {
   "cell_type": "markdown",
   "metadata": {},
   "source": [
    "<a id=\"garagem\"></a>\n",
    "\n",
    "- **GarageFinish**: Interior finish of the garage\n",
    "    - **Fin**: Finished\n",
    "    - **RFn**: Rough Finished\n",
    "    - **Unf**: Unfinished \n",
    "    - **NA**: No garage "
   ]
  },
  {
   "cell_type": "code",
   "execution_count": 186,
   "metadata": {},
   "outputs": [
    {
     "data": {
      "text/plain": [
       "GarageFinish\n",
       "Unf    365\n",
       "RFn     15\n",
       "Fin     10\n",
       "Name: count, dtype: int64"
      ]
     },
     "execution_count": 186,
     "metadata": {},
     "output_type": "execute_result"
    }
   ],
   "source": [
    "# Check the most frequent values of GarageFinish when GarageType is 'Detchd'\n",
    "df_test.loc[(df_test.GarageType == 'Detchd'), 'GarageFinish'].value_counts()"
   ]
  },
  {
   "cell_type": "code",
   "execution_count": 187,
   "metadata": {},
   "outputs": [
    {
     "name": "stdout",
     "output_type": "stream",
     "text": [
      "Unf\n"
     ]
    }
   ],
   "source": [
    "# Get the mode of GarageFinish for 'Detchd' garage type and there is only one value as the most common\n",
    "most_common_finish = df_test.loc[(df_test.GarageType == 'Detchd'), 'GarageFinish'].mode()[0]\n",
    "print(most_common_finish)"
   ]
  },
  {
   "cell_type": "code",
   "execution_count": 188,
   "metadata": {},
   "outputs": [],
   "source": [
    "# Replace missing GarageFinish values with the mode, only for 'Detchd' garages\n",
    "df_test.loc[(df_test.GarageType == 'Detchd') & (df_test.GarageFinish.isnull()), 'GarageFinish'] = most_common_finish"
   ]
  },
  {
   "cell_type": "markdown",
   "metadata": {},
   "source": [
    "<a id=\"garagem\"></a>\n",
    "\n",
    "Now let's investigate:\n",
    "- **GarageQual**: Garage quality  \n",
    "    - **Ex**: Excellent  \n",
    "    - **Gd**: Good  \n",
    "    - **TA**: Typical/Average  \n",
    "    - **Fa**: Fair  \n",
    "    - **Po**: Poor  \n",
    "    - **NA**: No Garage  \n",
    "\n",
    "- **GarageCond**: Garage condition  \n",
    "    - **Ex**: Excellent  \n",
    "    - **Gd**: Good  \n",
    "    - **TA**: Typical/Average  \n",
    "    - **Fa**: Fair  \n",
    "    - **Po**: Poor  \n",
    "    - **NA**: No Garage "
   ]
  },
  {
   "cell_type": "code",
   "execution_count": 189,
   "metadata": {},
   "outputs": [
    {
     "data": {
      "text/plain": [
       "GarageQual  GarageCond\n",
       "TA          TA            309\n",
       "Fa          TA             38\n",
       "            Fa             19\n",
       "TA          Fa             16\n",
       "Fa          Po              3\n",
       "Gd          Ex              1\n",
       "Po          Po              1\n",
       "            Fa              1\n",
       "TA          Gd              1\n",
       "            Po              1\n",
       "Name: count, dtype: int64"
      ]
     },
     "execution_count": 189,
     "metadata": {},
     "output_type": "execute_result"
    }
   ],
   "source": [
    "# Check value combinations of GarageQual and GarageCond when GarageType is 'Detchd'\n",
    "df_test.loc[(df_test.GarageType == 'Detchd'), ['GarageQual', 'GarageCond']].value_counts()"
   ]
  },
  {
   "cell_type": "markdown",
   "metadata": {},
   "source": [
    "There may have been issues during the audit process that introduced bias into the data, possibly leading evaluators to record values that did not reflect the actual conditions."
   ]
  },
  {
   "cell_type": "code",
   "execution_count": 190,
   "metadata": {},
   "outputs": [
    {
     "name": "stdout",
     "output_type": "stream",
     "text": [
      "TA TA\n"
     ]
    }
   ],
   "source": [
    "# Get the mode for GarageQual and GarageCond among 'Detchd' garages\n",
    "mode_garage_qual = df_test.loc[(df_test.GarageType == 'Detchd'), 'GarageQual'].mode()[0]\n",
    "mode_garage_cond = df_test.loc[(df_test.GarageType == 'Detchd'), 'GarageCond'].mode()[0]\n",
    "print(mode_garage_qual, mode_garage_cond)"
   ]
  },
  {
   "cell_type": "code",
   "execution_count": 191,
   "metadata": {},
   "outputs": [],
   "source": [
    "# Replace missing GarageQual values with the most common one\n",
    "df_test.loc[(df_test.GarageType == 'Detchd') & (df_test.GarageQual.isnull()), 'GarageQual'] = mode_garage_qual\n",
    "# Replace missing GarageCond values with the most common one\n",
    "df_test.loc[(df_test.GarageType == 'Detchd') & (df_test.GarageCond.isnull()), 'GarageCond'] = mode_garage_cond"
   ]
  },
  {
   "cell_type": "markdown",
   "metadata": {},
   "source": [
    "<a id=\"garagem\"></a>\n",
    "\n",
    "Now let's investigate:\n",
    "- **GarageCars**: Size of garage in car capacity\n",
    "\n",
    "- **GarageArea**: Size of garage in square feet "
   ]
  },
  {
   "cell_type": "code",
   "execution_count": 192,
   "metadata": {},
   "outputs": [
    {
     "name": "stdout",
     "output_type": "stream",
     "text": [
      "GarageCars      1.519182\n",
      "GarageArea    412.202046\n",
      "dtype: float64\n"
     ]
    }
   ],
   "source": [
    "# Calculate the mean of GarageCars and GarageArea for detached garages\n",
    "mean_values = df_test.loc[df_test.GarageType == 'Detchd', ['GarageCars', 'GarageArea']].mean()\n",
    "print(mean_values)"
   ]
  },
  {
   "cell_type": "code",
   "execution_count": 193,
   "metadata": {},
   "outputs": [
    {
     "name": "stdout",
     "output_type": "stream",
     "text": [
      "[  2. 412.]\n"
     ]
    }
   ],
   "source": [
    "# We can't have half a car!\n",
    "mean_values = round(mean_values, 0)\n",
    "print(mean_values.values)"
   ]
  },
  {
   "cell_type": "code",
   "execution_count": 194,
   "metadata": {},
   "outputs": [],
   "source": [
    "# Fill missing values ONLY for GarageCars and GarageArea, for detached garages\n",
    "df_test.loc[(df_test.GarageType == 'Detchd') & (df_test.GarageCars.isnull()), 'GarageCars'] = mean_values['GarageCars']\n",
    "df_test.loc[(df_test.GarageType == 'Detchd') & (df_test.GarageArea.isnull()), 'GarageArea'] = mean_values['GarageArea']"
   ]
  },
  {
   "cell_type": "code",
   "execution_count": 195,
   "metadata": {},
   "outputs": [
    {
     "data": {
      "application/vnd.microsoft.datawrangler.viewer.v0+json": {
       "columns": [
        {
         "name": "index",
         "rawType": "int64",
         "type": "integer"
        },
        {
         "name": "Functional",
         "rawType": "object",
         "type": "string"
        },
        {
         "name": "Fireplaces",
         "rawType": "int64",
         "type": "integer"
        },
        {
         "name": "FireplaceQu",
         "rawType": "object",
         "type": "unknown"
        },
        {
         "name": "GarageType",
         "rawType": "object",
         "type": "string"
        },
        {
         "name": "GarageYrBlt",
         "rawType": "float64",
         "type": "float"
        },
        {
         "name": "GarageFinish",
         "rawType": "object",
         "type": "string"
        },
        {
         "name": "GarageCars",
         "rawType": "float64",
         "type": "float"
        },
        {
         "name": "GarageArea",
         "rawType": "float64",
         "type": "float"
        },
        {
         "name": "GarageQual",
         "rawType": "object",
         "type": "string"
        },
        {
         "name": "GarageCond",
         "rawType": "object",
         "type": "string"
        },
        {
         "name": "PavedDrive",
         "rawType": "object",
         "type": "string"
        },
        {
         "name": "WoodDeckSF",
         "rawType": "int64",
         "type": "integer"
        },
        {
         "name": "OpenPorchSF",
         "rawType": "int64",
         "type": "integer"
        },
        {
         "name": "EnclosedPorch",
         "rawType": "int64",
         "type": "integer"
        },
        {
         "name": "3SsnPorch",
         "rawType": "int64",
         "type": "integer"
        }
       ],
       "conversionMethod": "pd.DataFrame",
       "ref": "f77d3731-8b03-4441-a304-9d6ab49bf892",
       "rows": [
        [
         "666",
         "Typ",
         "0",
         "-1",
         "Detchd",
         "1910.0",
         "Unf",
         "1.0",
         "360.0",
         "TA",
         "TA",
         "Y",
         "64",
         "0",
         "180",
         "0"
        ],
        [
         "1116",
         "Typ",
         "0",
         "-1",
         "Detchd",
         "1923.0",
         "Unf",
         "2.0",
         "412.0",
         "TA",
         "TA",
         "Y",
         "174",
         "0",
         "212",
         "0"
        ]
       ],
       "shape": {
        "columns": 15,
        "rows": 2
       }
      },
      "text/html": [
       "<div>\n",
       "<style scoped>\n",
       "    .dataframe tbody tr th:only-of-type {\n",
       "        vertical-align: middle;\n",
       "    }\n",
       "\n",
       "    .dataframe tbody tr th {\n",
       "        vertical-align: top;\n",
       "    }\n",
       "\n",
       "    .dataframe thead th {\n",
       "        text-align: right;\n",
       "    }\n",
       "</style>\n",
       "<table border=\"1\" class=\"dataframe\">\n",
       "  <thead>\n",
       "    <tr style=\"text-align: right;\">\n",
       "      <th></th>\n",
       "      <th>Functional</th>\n",
       "      <th>Fireplaces</th>\n",
       "      <th>FireplaceQu</th>\n",
       "      <th>GarageType</th>\n",
       "      <th>GarageYrBlt</th>\n",
       "      <th>GarageFinish</th>\n",
       "      <th>GarageCars</th>\n",
       "      <th>GarageArea</th>\n",
       "      <th>GarageQual</th>\n",
       "      <th>GarageCond</th>\n",
       "      <th>PavedDrive</th>\n",
       "      <th>WoodDeckSF</th>\n",
       "      <th>OpenPorchSF</th>\n",
       "      <th>EnclosedPorch</th>\n",
       "      <th>3SsnPorch</th>\n",
       "    </tr>\n",
       "  </thead>\n",
       "  <tbody>\n",
       "    <tr>\n",
       "      <th>666</th>\n",
       "      <td>Typ</td>\n",
       "      <td>0</td>\n",
       "      <td>-1</td>\n",
       "      <td>Detchd</td>\n",
       "      <td>1910.0</td>\n",
       "      <td>Unf</td>\n",
       "      <td>1.0</td>\n",
       "      <td>360.0</td>\n",
       "      <td>TA</td>\n",
       "      <td>TA</td>\n",
       "      <td>Y</td>\n",
       "      <td>64</td>\n",
       "      <td>0</td>\n",
       "      <td>180</td>\n",
       "      <td>0</td>\n",
       "    </tr>\n",
       "    <tr>\n",
       "      <th>1116</th>\n",
       "      <td>Typ</td>\n",
       "      <td>0</td>\n",
       "      <td>-1</td>\n",
       "      <td>Detchd</td>\n",
       "      <td>1923.0</td>\n",
       "      <td>Unf</td>\n",
       "      <td>2.0</td>\n",
       "      <td>412.0</td>\n",
       "      <td>TA</td>\n",
       "      <td>TA</td>\n",
       "      <td>Y</td>\n",
       "      <td>174</td>\n",
       "      <td>0</td>\n",
       "      <td>212</td>\n",
       "      <td>0</td>\n",
       "    </tr>\n",
       "  </tbody>\n",
       "</table>\n",
       "</div>"
      ],
      "text/plain": [
       "     Functional  Fireplaces FireplaceQu GarageType  GarageYrBlt GarageFinish  \\\n",
       "666         Typ           0          -1     Detchd       1910.0          Unf   \n",
       "1116        Typ           0          -1     Detchd       1923.0          Unf   \n",
       "\n",
       "      GarageCars  GarageArea GarageQual GarageCond PavedDrive  WoodDeckSF  \\\n",
       "666          1.0       360.0         TA         TA          Y          64   \n",
       "1116         2.0       412.0         TA         TA          Y         174   \n",
       "\n",
       "      OpenPorchSF  EnclosedPorch  3SsnPorch  \n",
       "666             0            180          0  \n",
       "1116            0            212          0  "
      ]
     },
     "execution_count": 195,
     "metadata": {},
     "output_type": "execute_result"
    }
   ],
   "source": [
    "# Check how those values look in specific rows\n",
    "df_test.iloc[[666, 1116], 55:70]"
   ]
  },
  {
   "cell_type": "markdown",
   "metadata": {},
   "source": [
    "We have now completed the analysis of the garage-related variables."
   ]
  },
  {
   "cell_type": "markdown",
   "metadata": {},
   "source": [
    "<a id=\"basement\"></a>\n",
    "- **Evaluating the <font color= '#A22538' >basement-related columns</font>**\n",
    "    - **NA: No Basement**"
   ]
  },
  {
   "cell_type": "code",
   "execution_count": 196,
   "metadata": {},
   "outputs": [
    {
     "data": {
      "text/plain": [
       "Index(['BsmtQual', 'BsmtCond', 'BsmtExposure', 'BsmtFinType1', 'BsmtFinSF1',\n",
       "       'BsmtFinType2', 'BsmtFinSF2', 'BsmtUnfSF', 'TotalBsmtSF',\n",
       "       'BsmtFullBath', 'BsmtHalfBath'],\n",
       "      dtype='object')"
      ]
     },
     "execution_count": 196,
     "metadata": {},
     "output_type": "execute_result"
    }
   ],
   "source": [
    "# Checking for columns that contain 'Bsmt' in their name\n",
    "col_Bsmt = df_test.columns[df_test.columns.str.contains(\"Bsmt\") & (df_test.isnull().any())]\n",
    "\n",
    "col_Bsmt"
   ]
  },
  {
   "cell_type": "code",
   "execution_count": 197,
   "metadata": {},
   "outputs": [
    {
     "name": "stdout",
     "output_type": "stream",
     "text": [
      "\n",
      "Checking when 'BsmtQual' is NaN:\n",
      "BsmtQual  BsmtCond  BsmtExposure  BsmtFinType1  BsmtFinSF1  BsmtFinType2  BsmtFinSF2  BsmtUnfSF  TotalBsmtSF  BsmtFullBath  BsmtHalfBath\n",
      "True      True      True          True          False       True          False       False      False        False         False           40\n",
      "          False     False         False         False       False         False       False      False        False         False            2\n",
      "          True      True          True          False       True          False       False      False        True          True             1\n",
      "                                                True        True          True        True       True         True          True             1\n",
      "Name: count, dtype: int64\n",
      "\n",
      "Checking when 'BsmtCond' is NaN:\n",
      "BsmtQual  BsmtCond  BsmtExposure  BsmtFinType1  BsmtFinSF1  BsmtFinType2  BsmtFinSF2  BsmtUnfSF  TotalBsmtSF  BsmtFullBath  BsmtHalfBath\n",
      "True      True      True          True          False       True          False       False      False        False         False           40\n",
      "False     True      False         False         False       False         False       False      False        False         False            3\n",
      "True      True      True          True          False       True          False       False      False        True          True             1\n",
      "                                                True        True          True        True       True         True          True             1\n",
      "Name: count, dtype: int64\n",
      "\n",
      "Checking when 'BsmtExposure' is NaN:\n",
      "BsmtQual  BsmtCond  BsmtExposure  BsmtFinType1  BsmtFinSF1  BsmtFinType2  BsmtFinSF2  BsmtUnfSF  TotalBsmtSF  BsmtFullBath  BsmtHalfBath\n",
      "True      True      True          True          False       True          False       False      False        False         False           40\n",
      "False     False     True          False         False       False         False       False      False        False         False            2\n",
      "True      True      True          True          False       True          False       False      False        True          True             1\n",
      "                                                True        True          True        True       True         True          True             1\n",
      "Name: count, dtype: int64\n",
      "\n",
      "Checking when 'BsmtFinType1' is NaN:\n",
      "BsmtQual  BsmtCond  BsmtExposure  BsmtFinType1  BsmtFinSF1  BsmtFinType2  BsmtFinSF2  BsmtUnfSF  TotalBsmtSF  BsmtFullBath  BsmtHalfBath\n",
      "True      True      True          True          False       True          False       False      False        False         False           40\n",
      "                                                                                                              True          True             1\n",
      "                                                True        True          True        True       True         True          True             1\n",
      "Name: count, dtype: int64\n",
      "\n",
      "Checking when 'BsmtFinSF1' is NaN:\n",
      "BsmtQual  BsmtCond  BsmtExposure  BsmtFinType1  BsmtFinSF1  BsmtFinType2  BsmtFinSF2  BsmtUnfSF  TotalBsmtSF  BsmtFullBath  BsmtHalfBath\n",
      "True      True      True          True          True        True          True        True       True         True          True            1\n",
      "Name: count, dtype: int64\n",
      "\n",
      "Checking when 'BsmtFinType2' is NaN:\n",
      "BsmtQual  BsmtCond  BsmtExposure  BsmtFinType1  BsmtFinSF1  BsmtFinType2  BsmtFinSF2  BsmtUnfSF  TotalBsmtSF  BsmtFullBath  BsmtHalfBath\n",
      "True      True      True          True          False       True          False       False      False        False         False           40\n",
      "                                                                                                              True          True             1\n",
      "                                                True        True          True        True       True         True          True             1\n",
      "Name: count, dtype: int64\n",
      "\n",
      "Checking when 'BsmtFinSF2' is NaN:\n",
      "BsmtQual  BsmtCond  BsmtExposure  BsmtFinType1  BsmtFinSF1  BsmtFinType2  BsmtFinSF2  BsmtUnfSF  TotalBsmtSF  BsmtFullBath  BsmtHalfBath\n",
      "True      True      True          True          True        True          True        True       True         True          True            1\n",
      "Name: count, dtype: int64\n",
      "\n",
      "Checking when 'BsmtUnfSF' is NaN:\n",
      "BsmtQual  BsmtCond  BsmtExposure  BsmtFinType1  BsmtFinSF1  BsmtFinType2  BsmtFinSF2  BsmtUnfSF  TotalBsmtSF  BsmtFullBath  BsmtHalfBath\n",
      "True      True      True          True          True        True          True        True       True         True          True            1\n",
      "Name: count, dtype: int64\n",
      "\n",
      "Checking when 'TotalBsmtSF' is NaN:\n",
      "BsmtQual  BsmtCond  BsmtExposure  BsmtFinType1  BsmtFinSF1  BsmtFinType2  BsmtFinSF2  BsmtUnfSF  TotalBsmtSF  BsmtFullBath  BsmtHalfBath\n",
      "True      True      True          True          True        True          True        True       True         True          True            1\n",
      "Name: count, dtype: int64\n",
      "\n",
      "Checking when 'BsmtFullBath' is NaN:\n",
      "BsmtQual  BsmtCond  BsmtExposure  BsmtFinType1  BsmtFinSF1  BsmtFinType2  BsmtFinSF2  BsmtUnfSF  TotalBsmtSF  BsmtFullBath  BsmtHalfBath\n",
      "True      True      True          True          False       True          False       False      False        True          True            1\n",
      "                                                True        True          True        True       True         True          True            1\n",
      "Name: count, dtype: int64\n",
      "\n",
      "Checking when 'BsmtHalfBath' is NaN:\n",
      "BsmtQual  BsmtCond  BsmtExposure  BsmtFinType1  BsmtFinSF1  BsmtFinType2  BsmtFinSF2  BsmtUnfSF  TotalBsmtSF  BsmtFullBath  BsmtHalfBath\n",
      "True      True      True          True          False       True          False       False      False        True          True            1\n",
      "                                                True        True          True        True       True         True          True            1\n",
      "Name: count, dtype: int64\n"
     ]
    }
   ],
   "source": [
    "# Loop to check whether, when one column is NaN, the others are also NaN\n",
    "for col in col_Bsmt:\n",
    "    print(f\"\\nChecking when '{col}' is NaN:\")\n",
    "    \n",
    "    # Filter rows where the current column is NaN\n",
    "    subset = df_test.loc[df_test[col].isna(), col_Bsmt]\n",
    "    \n",
    "    # Count the patterns of NaN values across the garage-related columns\n",
    "    pattern_counts = subset.isna().value_counts(dropna=False)\n",
    "    print(pattern_counts)"
   ]
  },
  {
   "cell_type": "markdown",
   "metadata": {},
   "source": [
    "- Evaluating the BsmtQual"
   ]
  },
  {
   "cell_type": "code",
   "execution_count": 198,
   "metadata": {},
   "outputs": [
    {
     "data": {
      "application/vnd.microsoft.datawrangler.viewer.v0+json": {
       "columns": [
        {
         "name": "index",
         "rawType": "int64",
         "type": "integer"
        },
        {
         "name": "BsmtQual",
         "rawType": "object",
         "type": "unknown"
        },
        {
         "name": "BsmtCond",
         "rawType": "object",
         "type": "string"
        },
        {
         "name": "BsmtExposure",
         "rawType": "object",
         "type": "string"
        },
        {
         "name": "BsmtFinType1",
         "rawType": "object",
         "type": "string"
        },
        {
         "name": "BsmtFinSF1",
         "rawType": "float64",
         "type": "float"
        },
        {
         "name": "BsmtFinType2",
         "rawType": "object",
         "type": "string"
        },
        {
         "name": "BsmtFinSF2",
         "rawType": "float64",
         "type": "float"
        },
        {
         "name": "BsmtUnfSF",
         "rawType": "float64",
         "type": "float"
        },
        {
         "name": "TotalBsmtSF",
         "rawType": "float64",
         "type": "float"
        },
        {
         "name": "BsmtFullBath",
         "rawType": "float64",
         "type": "float"
        },
        {
         "name": "BsmtHalfBath",
         "rawType": "float64",
         "type": "float"
        }
       ],
       "conversionMethod": "pd.DataFrame",
       "ref": "bf0aa872-b1fa-4f60-bd52-0b7193add2b1",
       "rows": [
        [
         "757",
         null,
         "Fa",
         "No",
         "Unf",
         "0.0",
         "Unf",
         "0.0",
         "173.0",
         "173.0",
         "0.0",
         "0.0"
        ],
        [
         "758",
         null,
         "TA",
         "No",
         "Unf",
         "0.0",
         "Unf",
         "0.0",
         "356.0",
         "356.0",
         "0.0",
         "0.0"
        ]
       ],
       "shape": {
        "columns": 11,
        "rows": 2
       }
      },
      "text/html": [
       "<div>\n",
       "<style scoped>\n",
       "    .dataframe tbody tr th:only-of-type {\n",
       "        vertical-align: middle;\n",
       "    }\n",
       "\n",
       "    .dataframe tbody tr th {\n",
       "        vertical-align: top;\n",
       "    }\n",
       "\n",
       "    .dataframe thead th {\n",
       "        text-align: right;\n",
       "    }\n",
       "</style>\n",
       "<table border=\"1\" class=\"dataframe\">\n",
       "  <thead>\n",
       "    <tr style=\"text-align: right;\">\n",
       "      <th></th>\n",
       "      <th>BsmtQual</th>\n",
       "      <th>BsmtCond</th>\n",
       "      <th>BsmtExposure</th>\n",
       "      <th>BsmtFinType1</th>\n",
       "      <th>BsmtFinSF1</th>\n",
       "      <th>BsmtFinType2</th>\n",
       "      <th>BsmtFinSF2</th>\n",
       "      <th>BsmtUnfSF</th>\n",
       "      <th>TotalBsmtSF</th>\n",
       "      <th>BsmtFullBath</th>\n",
       "      <th>BsmtHalfBath</th>\n",
       "    </tr>\n",
       "  </thead>\n",
       "  <tbody>\n",
       "    <tr>\n",
       "      <th>757</th>\n",
       "      <td>NaN</td>\n",
       "      <td>Fa</td>\n",
       "      <td>No</td>\n",
       "      <td>Unf</td>\n",
       "      <td>0.0</td>\n",
       "      <td>Unf</td>\n",
       "      <td>0.0</td>\n",
       "      <td>173.0</td>\n",
       "      <td>173.0</td>\n",
       "      <td>0.0</td>\n",
       "      <td>0.0</td>\n",
       "    </tr>\n",
       "    <tr>\n",
       "      <th>758</th>\n",
       "      <td>NaN</td>\n",
       "      <td>TA</td>\n",
       "      <td>No</td>\n",
       "      <td>Unf</td>\n",
       "      <td>0.0</td>\n",
       "      <td>Unf</td>\n",
       "      <td>0.0</td>\n",
       "      <td>356.0</td>\n",
       "      <td>356.0</td>\n",
       "      <td>0.0</td>\n",
       "      <td>0.0</td>\n",
       "    </tr>\n",
       "  </tbody>\n",
       "</table>\n",
       "</div>"
      ],
      "text/plain": [
       "    BsmtQual BsmtCond BsmtExposure BsmtFinType1  BsmtFinSF1 BsmtFinType2  \\\n",
       "757      NaN       Fa           No          Unf         0.0          Unf   \n",
       "758      NaN       TA           No          Unf         0.0          Unf   \n",
       "\n",
       "     BsmtFinSF2  BsmtUnfSF  TotalBsmtSF  BsmtFullBath  BsmtHalfBath  \n",
       "757         0.0      173.0        173.0           0.0           0.0  \n",
       "758         0.0      356.0        356.0           0.0           0.0  "
      ]
     },
     "execution_count": 198,
     "metadata": {},
     "output_type": "execute_result"
    }
   ],
   "source": [
    "# Selecting rows where BsmtQual is missing but BsmtCond is present, we cannot fill it with -1, because -1 means \"No basement\"\n",
    "df_test.loc[(df_test.BsmtQual.isnull()) & (df_test.BsmtCond.notnull()),col_Bsmt]"
   ]
  },
  {
   "cell_type": "code",
   "execution_count": 199,
   "metadata": {},
   "outputs": [
    {
     "data": {
      "text/plain": [
       "0       TA\n",
       "1       TA\n",
       "2       Gd\n",
       "3       Gd\n",
       "4       TA\n",
       "        ..\n",
       "1454    TA\n",
       "1455    TA\n",
       "1456    TA\n",
       "1457    Gd\n",
       "1458    Gd\n",
       "Name: BsmtQual, Length: 1459, dtype: object"
      ]
     },
     "execution_count": 199,
     "metadata": {},
     "output_type": "execute_result"
    }
   ],
   "source": [
    "# Fill missing values in BsmtQual using the conditional mode\n",
    "\n",
    "df_test.groupby(['BsmtCond', 'BsmtExposure', 'BsmtFinType1', 'BsmtFinType2'])['BsmtQual'].transform(lambda x : pd.Series.mode(x)[0])"
   ]
  },
  {
   "cell_type": "code",
   "execution_count": 200,
   "metadata": {},
   "outputs": [],
   "source": [
    "# Compute the mode for each group\n",
    "groupwise_mode = df_test.groupby(['BsmtCond', 'BsmtExposure', 'BsmtFinType1', 'BsmtFinType2'])['BsmtQual']\\\n",
    "                        .transform(lambda x: pd.Series.mode(x)[0])\n",
    "\n",
    "# Create a mask for rows where BsmtQual is missing but BsmtCond is present\n",
    "mask = (df_test['BsmtQual'].isnull()) & (df_test['BsmtCond'].notnull())\n",
    "\n",
    "# Fill only those values\n",
    "df_test.loc[mask, 'BsmtQual'] = groupwise_mode[mask]\n"
   ]
  },
  {
   "cell_type": "code",
   "execution_count": 201,
   "metadata": {},
   "outputs": [
    {
     "data": {
      "application/vnd.microsoft.datawrangler.viewer.v0+json": {
       "columns": [
        {
         "name": "index",
         "rawType": "int64",
         "type": "integer"
        },
        {
         "name": "BsmtQual",
         "rawType": "object",
         "type": "string"
        },
        {
         "name": "BsmtCond",
         "rawType": "object",
         "type": "string"
        },
        {
         "name": "BsmtExposure",
         "rawType": "object",
         "type": "string"
        },
        {
         "name": "BsmtFinType1",
         "rawType": "object",
         "type": "string"
        },
        {
         "name": "BsmtFinSF1",
         "rawType": "float64",
         "type": "float"
        },
        {
         "name": "BsmtFinType2",
         "rawType": "object",
         "type": "string"
        },
        {
         "name": "BsmtFinSF2",
         "rawType": "float64",
         "type": "float"
        },
        {
         "name": "BsmtUnfSF",
         "rawType": "float64",
         "type": "float"
        },
        {
         "name": "TotalBsmtSF",
         "rawType": "float64",
         "type": "float"
        },
        {
         "name": "Heating",
         "rawType": "object",
         "type": "string"
        }
       ],
       "conversionMethod": "pd.DataFrame",
       "ref": "4ebd19aa-c670-4cdf-8413-e36f0a893cb3",
       "rows": [
        [
         "757",
         "TA",
         "Fa",
         "No",
         "Unf",
         "0.0",
         "Unf",
         "0.0",
         "173.0",
         "173.0",
         "GasA"
        ],
        [
         "758",
         "TA",
         "TA",
         "No",
         "Unf",
         "0.0",
         "Unf",
         "0.0",
         "356.0",
         "356.0",
         "GasA"
        ]
       ],
       "shape": {
        "columns": 10,
        "rows": 2
       }
      },
      "text/html": [
       "<div>\n",
       "<style scoped>\n",
       "    .dataframe tbody tr th:only-of-type {\n",
       "        vertical-align: middle;\n",
       "    }\n",
       "\n",
       "    .dataframe tbody tr th {\n",
       "        vertical-align: top;\n",
       "    }\n",
       "\n",
       "    .dataframe thead th {\n",
       "        text-align: right;\n",
       "    }\n",
       "</style>\n",
       "<table border=\"1\" class=\"dataframe\">\n",
       "  <thead>\n",
       "    <tr style=\"text-align: right;\">\n",
       "      <th></th>\n",
       "      <th>BsmtQual</th>\n",
       "      <th>BsmtCond</th>\n",
       "      <th>BsmtExposure</th>\n",
       "      <th>BsmtFinType1</th>\n",
       "      <th>BsmtFinSF1</th>\n",
       "      <th>BsmtFinType2</th>\n",
       "      <th>BsmtFinSF2</th>\n",
       "      <th>BsmtUnfSF</th>\n",
       "      <th>TotalBsmtSF</th>\n",
       "      <th>Heating</th>\n",
       "    </tr>\n",
       "  </thead>\n",
       "  <tbody>\n",
       "    <tr>\n",
       "      <th>757</th>\n",
       "      <td>TA</td>\n",
       "      <td>Fa</td>\n",
       "      <td>No</td>\n",
       "      <td>Unf</td>\n",
       "      <td>0.0</td>\n",
       "      <td>Unf</td>\n",
       "      <td>0.0</td>\n",
       "      <td>173.0</td>\n",
       "      <td>173.0</td>\n",
       "      <td>GasA</td>\n",
       "    </tr>\n",
       "    <tr>\n",
       "      <th>758</th>\n",
       "      <td>TA</td>\n",
       "      <td>TA</td>\n",
       "      <td>No</td>\n",
       "      <td>Unf</td>\n",
       "      <td>0.0</td>\n",
       "      <td>Unf</td>\n",
       "      <td>0.0</td>\n",
       "      <td>356.0</td>\n",
       "      <td>356.0</td>\n",
       "      <td>GasA</td>\n",
       "    </tr>\n",
       "  </tbody>\n",
       "</table>\n",
       "</div>"
      ],
      "text/plain": [
       "    BsmtQual BsmtCond BsmtExposure BsmtFinType1  BsmtFinSF1 BsmtFinType2  \\\n",
       "757       TA       Fa           No          Unf         0.0          Unf   \n",
       "758       TA       TA           No          Unf         0.0          Unf   \n",
       "\n",
       "     BsmtFinSF2  BsmtUnfSF  TotalBsmtSF Heating  \n",
       "757         0.0      173.0        173.0    GasA  \n",
       "758         0.0      356.0        356.0    GasA  "
      ]
     },
     "execution_count": 201,
     "metadata": {},
     "output_type": "execute_result"
    }
   ],
   "source": [
    "df_test.iloc[757:759,30:40]"
   ]
  },
  {
   "cell_type": "code",
   "execution_count": 202,
   "metadata": {},
   "outputs": [
    {
     "data": {
      "text/plain": [
       "BsmtQual  BsmtCond  BsmtExposure  BsmtFinType1  BsmtFinSF1  BsmtFinType2  BsmtFinSF2  BsmtUnfSF  TotalBsmtSF  BsmtFullBath  BsmtHalfBath\n",
       "NaN       NaN       NaN           NaN           0.0         NaN           0.0         0.0        0.0          0.0           0.0             40\n",
       "                                                                                                              NaN           NaN              1\n",
       "                                                NaN         NaN           NaN         NaN        NaN          NaN           NaN              1\n",
       "Name: count, dtype: int64"
      ]
     },
     "execution_count": 202,
     "metadata": {},
     "output_type": "execute_result"
    }
   ],
   "source": [
    "# Now, let's check the values of BsmtQual when it's missing\n",
    "df_test.loc[df_test.BsmtQual.isnull(),col_Bsmt].value_counts(dropna=False)"
   ]
  },
  {
   "cell_type": "code",
   "execution_count": 203,
   "metadata": {},
   "outputs": [],
   "source": [
    "df_test.loc[df_test.BsmtQual.isnull(),['BsmtFinSF1','BsmtFinSF2','BsmtUnfSF','TotalBsmtSF','BsmtFullBath','BsmtHalfBath']] = 0\n",
    "\n",
    "df_test.loc[df_test.BsmtQual.isnull(),['BsmtQual','BsmtCond','BsmtExposure','BsmtFinType1','BsmtFinType2']] = -1"
   ]
  },
  {
   "cell_type": "markdown",
   "metadata": {},
   "source": [
    "- Evaluating the BsmtCond"
   ]
  },
  {
   "cell_type": "code",
   "execution_count": 204,
   "metadata": {},
   "outputs": [
    {
     "data": {
      "text/plain": [
       "BsmtQual  BsmtCond  BsmtExposure  BsmtFinType1  BsmtFinSF1  BsmtFinType2  BsmtFinSF2  BsmtUnfSF  TotalBsmtSF  BsmtFullBath  BsmtHalfBath\n",
       "Gd        NaN       Mn            GLQ           1044.0      Rec           382.0       0.0        1426.0       1.0           0.0             1\n",
       "TA        NaN       Av            ALQ           755.0       Unf           0.0         240.0      995.0        0.0           0.0             1\n",
       "                    No            BLQ           1033.0      Unf           0.0         94.0       1127.0       0.0           1.0             1\n",
       "Name: count, dtype: int64"
      ]
     },
     "execution_count": 204,
     "metadata": {},
     "output_type": "execute_result"
    }
   ],
   "source": [
    "df_test.loc[df_test.BsmtCond.isnull(),col_Bsmt].value_counts(dropna=False)"
   ]
  },
  {
   "cell_type": "code",
   "execution_count": 205,
   "metadata": {},
   "outputs": [],
   "source": [
    "df_test.BsmtCond.mode()[0]\n",
    "df_test.loc[df_test.BsmtCond.isnull(),'BsmtCond'] = df_test.BsmtCond.mode()[0]"
   ]
  },
  {
   "cell_type": "markdown",
   "metadata": {},
   "source": [
    "- Evaluating the BsmtExposure"
   ]
  },
  {
   "cell_type": "code",
   "execution_count": 206,
   "metadata": {},
   "outputs": [
    {
     "data": {
      "text/plain": [
       "BsmtQual  BsmtCond  BsmtExposure  BsmtFinType1  BsmtFinSF1  BsmtFinType2  BsmtFinSF2  BsmtUnfSF  TotalBsmtSF  BsmtFullBath  BsmtHalfBath\n",
       "Gd        TA        NaN           Unf           0.0         Unf           0.0         725.0      725.0        0.0           0.0             1\n",
       "                                                                                      1595.0     1595.0       0.0           0.0             1\n",
       "Name: count, dtype: int64"
      ]
     },
     "execution_count": 206,
     "metadata": {},
     "output_type": "execute_result"
    }
   ],
   "source": [
    "df_test.loc[df_test.BsmtExposure.isnull(),col_Bsmt].value_counts(dropna=False)"
   ]
  },
  {
   "cell_type": "code",
   "execution_count": 207,
   "metadata": {},
   "outputs": [],
   "source": [
    "df_test.loc[df_test.BsmtExposure.isnull(),col_Bsmt].value_counts(dropna=False)\n",
    "df_test.loc[df_test.BsmtExposure.isnull(),'BsmtExposure'] = df_test.BsmtExposure.mode()[0]"
   ]
  },
  {
   "cell_type": "code",
   "execution_count": 208,
   "metadata": {},
   "outputs": [
    {
     "data": {
      "text/plain": [
       "MasVnrType     894\n",
       "MasVnrArea      15\n",
       "MSZoning         4\n",
       "Utilities        2\n",
       "Functional       2\n",
       "Exterior1st      1\n",
       "SaleType         1\n",
       "KitchenQual      1\n",
       "Exterior2nd      1\n",
       "LotShape         0\n",
       "dtype: int64"
      ]
     },
     "execution_count": 208,
     "metadata": {},
     "output_type": "execute_result"
    }
   ],
   "source": [
    "# Verifying null values in the set\n",
    "df_test.isnull().sum().sort_values(ascending=False).head(10)"
   ]
  },
  {
   "cell_type": "markdown",
   "metadata": {},
   "source": [
    "<a id='MasVnrType'></a>  \n",
    "- **Now analyzing the <font color='#A22538'>MasVnrType</font> column**  \n",
    "- This column refers to the **type of masonry veneer** used in the house:  \n",
    "    - **BrkCmn**: Brick Common  \n",
    "    - **BrkFace**: Brick Face  \n",
    "    - **CBlock**: Cinder Block  \n",
    "    - **None**: No veneer  \n",
    "    - **Stone**: Stone veneer"
   ]
  },
  {
   "cell_type": "code",
   "execution_count": 209,
   "metadata": {},
   "outputs": [
    {
     "data": {
      "application/vnd.microsoft.datawrangler.viewer.v0+json": {
       "columns": [
        {
         "name": "index",
         "rawType": "int64",
         "type": "integer"
        },
        {
         "name": "MasVnrType",
         "rawType": "object",
         "type": "unknown"
        },
        {
         "name": "MasVnrArea",
         "rawType": "float64",
         "type": "float"
        }
       ],
       "conversionMethod": "pd.DataFrame",
       "ref": "4a088722-8200-4546-9f5c-96de45097cfa",
       "rows": [
        [
         "0",
         null,
         "0.0"
        ],
        [
         "2",
         null,
         "0.0"
        ],
        [
         "4",
         null,
         "0.0"
        ],
        [
         "5",
         null,
         "0.0"
        ],
        [
         "6",
         null,
         "0.0"
        ],
        [
         "7",
         null,
         "0.0"
        ],
        [
         "8",
         null,
         "0.0"
        ],
        [
         "9",
         null,
         "0.0"
        ],
        [
         "10",
         null,
         "0.0"
        ],
        [
         "13",
         null,
         "0.0"
        ],
        [
         "14",
         null,
         "0.0"
        ],
        [
         "22",
         null,
         "0.0"
        ],
        [
         "24",
         null,
         "0.0"
        ],
        [
         "25",
         null,
         "0.0"
        ],
        [
         "28",
         null,
         "0.0"
        ],
        [
         "29",
         null,
         "0.0"
        ],
        [
         "31",
         null,
         "0.0"
        ],
        [
         "35",
         null,
         "0.0"
        ],
        [
         "36",
         null,
         "0.0"
        ],
        [
         "38",
         null,
         "0.0"
        ],
        [
         "41",
         null,
         "0.0"
        ],
        [
         "42",
         null,
         "0.0"
        ],
        [
         "43",
         null,
         "0.0"
        ],
        [
         "44",
         null,
         "0.0"
        ],
        [
         "46",
         null,
         "0.0"
        ],
        [
         "47",
         null,
         "0.0"
        ],
        [
         "48",
         null,
         "0.0"
        ],
        [
         "50",
         null,
         "0.0"
        ],
        [
         "52",
         null,
         "0.0"
        ],
        [
         "57",
         null,
         "0.0"
        ],
        [
         "62",
         null,
         "0.0"
        ],
        [
         "63",
         null,
         "0.0"
        ],
        [
         "64",
         null,
         "0.0"
        ],
        [
         "65",
         null,
         "0.0"
        ],
        [
         "66",
         null,
         "0.0"
        ],
        [
         "67",
         null,
         "0.0"
        ],
        [
         "68",
         null,
         "0.0"
        ],
        [
         "71",
         null,
         "0.0"
        ],
        [
         "72",
         null,
         "0.0"
        ],
        [
         "73",
         null,
         "0.0"
        ],
        [
         "74",
         null,
         "0.0"
        ],
        [
         "75",
         null,
         "0.0"
        ],
        [
         "76",
         null,
         "0.0"
        ],
        [
         "77",
         null,
         "0.0"
        ],
        [
         "78",
         null,
         "0.0"
        ],
        [
         "79",
         null,
         "0.0"
        ],
        [
         "80",
         null,
         "0.0"
        ],
        [
         "81",
         null,
         "0.0"
        ],
        [
         "82",
         null,
         "0.0"
        ],
        [
         "83",
         null,
         "0.0"
        ]
       ],
       "shape": {
        "columns": 2,
        "rows": 894
       }
      },
      "text/html": [
       "<div>\n",
       "<style scoped>\n",
       "    .dataframe tbody tr th:only-of-type {\n",
       "        vertical-align: middle;\n",
       "    }\n",
       "\n",
       "    .dataframe tbody tr th {\n",
       "        vertical-align: top;\n",
       "    }\n",
       "\n",
       "    .dataframe thead th {\n",
       "        text-align: right;\n",
       "    }\n",
       "</style>\n",
       "<table border=\"1\" class=\"dataframe\">\n",
       "  <thead>\n",
       "    <tr style=\"text-align: right;\">\n",
       "      <th></th>\n",
       "      <th>MasVnrType</th>\n",
       "      <th>MasVnrArea</th>\n",
       "    </tr>\n",
       "  </thead>\n",
       "  <tbody>\n",
       "    <tr>\n",
       "      <th>0</th>\n",
       "      <td>NaN</td>\n",
       "      <td>0.0</td>\n",
       "    </tr>\n",
       "    <tr>\n",
       "      <th>2</th>\n",
       "      <td>NaN</td>\n",
       "      <td>0.0</td>\n",
       "    </tr>\n",
       "    <tr>\n",
       "      <th>4</th>\n",
       "      <td>NaN</td>\n",
       "      <td>0.0</td>\n",
       "    </tr>\n",
       "    <tr>\n",
       "      <th>5</th>\n",
       "      <td>NaN</td>\n",
       "      <td>0.0</td>\n",
       "    </tr>\n",
       "    <tr>\n",
       "      <th>6</th>\n",
       "      <td>NaN</td>\n",
       "      <td>0.0</td>\n",
       "    </tr>\n",
       "    <tr>\n",
       "      <th>...</th>\n",
       "      <td>...</td>\n",
       "      <td>...</td>\n",
       "    </tr>\n",
       "    <tr>\n",
       "      <th>1453</th>\n",
       "      <td>NaN</td>\n",
       "      <td>0.0</td>\n",
       "    </tr>\n",
       "    <tr>\n",
       "      <th>1454</th>\n",
       "      <td>NaN</td>\n",
       "      <td>0.0</td>\n",
       "    </tr>\n",
       "    <tr>\n",
       "      <th>1455</th>\n",
       "      <td>NaN</td>\n",
       "      <td>0.0</td>\n",
       "    </tr>\n",
       "    <tr>\n",
       "      <th>1456</th>\n",
       "      <td>NaN</td>\n",
       "      <td>0.0</td>\n",
       "    </tr>\n",
       "    <tr>\n",
       "      <th>1457</th>\n",
       "      <td>NaN</td>\n",
       "      <td>0.0</td>\n",
       "    </tr>\n",
       "  </tbody>\n",
       "</table>\n",
       "<p>894 rows × 2 columns</p>\n",
       "</div>"
      ],
      "text/plain": [
       "     MasVnrType  MasVnrArea\n",
       "0           NaN         0.0\n",
       "2           NaN         0.0\n",
       "4           NaN         0.0\n",
       "5           NaN         0.0\n",
       "6           NaN         0.0\n",
       "...         ...         ...\n",
       "1453        NaN         0.0\n",
       "1454        NaN         0.0\n",
       "1455        NaN         0.0\n",
       "1456        NaN         0.0\n",
       "1457        NaN         0.0\n",
       "\n",
       "[894 rows x 2 columns]"
      ]
     },
     "execution_count": 209,
     "metadata": {},
     "output_type": "execute_result"
    }
   ],
   "source": [
    "# Filtering the dataset\n",
    "df_test.loc[df_test.MasVnrType.isnull(),['MasVnrType','MasVnrArea']]"
   ]
  },
  {
   "cell_type": "markdown",
   "metadata": {},
   "source": [
    "There shouldn't be cases where MasVnrArea has a positive value but MasVnrType is missing. Therefore, we fill MasVnrType with its unconditional mode only for rows where MasVnrArea is not null and MasVnrType is null."
   ]
  },
  {
   "cell_type": "code",
   "execution_count": 210,
   "metadata": {},
   "outputs": [],
   "source": [
    "masvnrtype_mode = df_test['MasVnrType'].mode()[0]\n",
    "\n",
    "mask = (df_test['MasVnrType'].isnull()) & (df_test['MasVnrArea'] > 0)\n",
    "\n",
    "df_test.loc[mask, 'MasVnrType'] = masvnrtype_mode"
   ]
  },
  {
   "cell_type": "code",
   "execution_count": 211,
   "metadata": {},
   "outputs": [],
   "source": [
    "df_test['MasVnrType'] = df_test['MasVnrType'].fillna('None')\n",
    "df_test['MasVnrArea'] = df_test['MasVnrArea'].fillna(0)"
   ]
  },
  {
   "cell_type": "code",
   "execution_count": 212,
   "metadata": {},
   "outputs": [
    {
     "data": {
      "text/plain": [
       "MasVnrType\n",
       "None       891\n",
       "BrkFace    437\n",
       "Stone      121\n",
       "BrkCmn      10\n",
       "Name: count, dtype: int64"
      ]
     },
     "execution_count": 212,
     "metadata": {},
     "output_type": "execute_result"
    }
   ],
   "source": [
    "df_test['MasVnrType'].value_counts(dropna=False)"
   ]
  },
  {
   "cell_type": "markdown",
   "metadata": {},
   "source": [
    "- We know that depending on the variable, imputing missing values with the mode may not always be the best choice. For instance, if there are outliers or skewed distributions, the median might be a better alternative.\n",
    "\n",
    "- However, since the number of missing values is small, this approach is unlikely to have a significant impact on model performance."
   ]
  },
  {
   "cell_type": "code",
   "execution_count": 213,
   "metadata": {},
   "outputs": [],
   "source": [
    "cols_to_fill = ['MSZoning', 'KitchenQual','Utilities' ,'Functional', 'SaleType', 'Exterior2nd', 'Exterior1st']\n",
    "\n",
    "for col in cols_to_fill:\n",
    "    mode_value = df_test[col].mode()[0]\n",
    "    df_test[col] = df_test[col].fillna(mode_value)"
   ]
  },
  {
   "cell_type": "code",
   "execution_count": 214,
   "metadata": {},
   "outputs": [
    {
     "name": "stdout",
     "output_type": "stream",
     "text": [
      "Id              0.00%\n",
      "MSSubClass      0.00%\n",
      "MSZoning        0.00%\n",
      "LotFrontage     0.00%\n",
      "LotArea         0.00%\n",
      "Street          0.00%\n",
      "Alley           0.00%\n",
      "LotShape        0.00%\n",
      "LandContour     0.00%\n",
      "Utilities       0.00%\n",
      "LotConfig       0.00%\n",
      "LandSlope       0.00%\n",
      "Neighborhood    0.00%\n",
      "Condition1      0.00%\n",
      "Condition2      0.00%\n",
      "BldgType        0.00%\n",
      "HouseStyle      0.00%\n",
      "OverallQual     0.00%\n",
      "OverallCond     0.00%\n",
      "YearBuilt       0.00%\n",
      "dtype: object\n"
     ]
    }
   ],
   "source": [
    "# Check Train data for missing values (Top 20)\n",
    "missing_percent = (df_test.isnull().sum() / df_test.shape[0] * 100).sort_values(ascending=False).head(20)\n",
    "missing_percent = missing_percent.apply(lambda x: f\"{x:.2f}%\")\n",
    "print(missing_percent)\n",
    "\n",
    "del missing_percent"
   ]
  },
  {
   "cell_type": "markdown",
   "metadata": {},
   "source": [
    "# General 1"
   ]
  },
  {
   "cell_type": "code",
   "execution_count": 215,
   "metadata": {},
   "outputs": [],
   "source": [
    "# We segment the dataset by its categorical columns in order to assess their relationship with price \n",
    "# and then handle them in the main analysis.\n",
    "\n",
    "obj_cols = df_train.columns[df_train.dtypes == 'object'].tolist()\n",
    "cols_to_copy = obj_cols + ['SalePrice']\n",
    "df_train2 = df_train[cols_to_copy].copy()"
   ]
  },
  {
   "cell_type": "code",
   "execution_count": 216,
   "metadata": {},
   "outputs": [],
   "source": [
    "# ──────────────────────────────────────────────────────────────────────────────\n",
    "# Create a new “price_band” column by cutting SalePrice into four equal‑frequency\n",
    "# bins (quartiles), and label them “cheap”, “medium”, “upper‑medium”, “expensive”.\n",
    "# ──────────────────────────────────────────────────────────────────────────────\n",
    "labels = ['cheap', 'medium', 'upper‑medium', 'expensive']\n",
    "df_train2['price_band'] = pd.qcut(\n",
    "    df_train2['SalePrice'],\n",
    "    q=[0, .25, .5, .75, 1.0],\n",
    "    labels=labels)"
   ]
  },
  {
   "cell_type": "code",
   "execution_count": 217,
   "metadata": {},
   "outputs": [
    {
     "name": "stdout",
     "output_type": "stream",
     "text": [
      "       variable   p_value  cramers_v\n",
      "33   Functional  0.000094   0.084706\n",
      "34    ExterCond  0.000035   0.082671\n",
      "35    LotConfig  0.000067   0.080285\n",
      "36     RoofMatl  0.034950   0.054813\n",
      "37       Street  0.110233   0.045545\n",
      "38   Condition2  0.112223   0.042942\n",
      "39    LandSlope  0.086700   0.041618\n",
      "40  MiscFeature  0.246229   0.025779\n",
      "41       PoolQC  0.427916   0.004681\n",
      "42    Utilities  0.394681   0.000000\n"
     ]
    }
   ],
   "source": [
    "# ──────────────────────────────────────────────────────────────────────────────\n",
    "# Now we analyze the association of each categorical variable with price_band:\n",
    "# we compute Cramer's V for every categorical column and rank them by\n",
    "# strongest vs. weakest association.\n",
    "# ──────────────────────────────────────────────────────────────────────────────\n",
    "\n",
    "def cramers_v(confusion_matrix):\n",
    "    \"\"\"\n",
    "    Returns Cramer's V statistic for a given contingency table.\n",
    "    Applies bias correction as in Bergsma & Wicher (2013).\n",
    "    \"\"\"\n",
    "    chi2 = chi2_contingency(confusion_matrix)[0]\n",
    "    n = confusion_matrix.sum().sum()\n",
    "    phi2 = chi2 / n\n",
    "    r, k = confusion_matrix.shape\n",
    "    # bias correction\n",
    "    phi2corr = max(0, phi2 - ((k - 1) * (r - 1)) / (n - 1))\n",
    "    rcorr = r - ((r - 1) ** 2) / (n - 1)\n",
    "    kcorr = k - ((k - 1) ** 2) / (n - 1)\n",
    "    return np.sqrt(phi2corr / min((kcorr - 1), (rcorr - 1)))\n",
    "\n",
    "# 1) Ensure price_band is treated as string\n",
    "df_train2['price_band'] = df_train2['price_band'].astype(str)\n",
    "\n",
    "results = []\n",
    "for col in df_train2.columns[df_train2.dtypes == 'object']:\n",
    "    if col == 'price_band':\n",
    "        continue\n",
    "\n",
    "    # build contingency table\n",
    "    ct = pd.crosstab(df_train2['price_band'], df_train2[col])\n",
    "    if ct.shape[1] < 2:\n",
    "        continue\n",
    "\n",
    "    # chi‑squared test\n",
    "    chi2, p, _, _ = chi2_contingency(ct)\n",
    "\n",
    "    # compute Cramer's V\n",
    "    v = cramers_v(ct)\n",
    "\n",
    "    results.append({\n",
    "        'variable': col,\n",
    "        'p_value': p,\n",
    "        'cramers_v': v\n",
    "    })\n",
    "\n",
    "# 2) Build a DataFrame and sort by descending Cramer's V, then ascending p‑value\n",
    "res = pd.DataFrame(results)\n",
    "res = res.sort_values(['cramers_v', 'p_value'], ascending=[False, True]).reset_index(drop=True)\n",
    "\n",
    "# 3) Display the top 10 variables with the strongest association\n",
    "rank = res.tail(10)\n",
    "print(rank)"
   ]
  },
  {
   "cell_type": "code",
   "execution_count": 218,
   "metadata": {},
   "outputs": [
    {
     "name": "stdout",
     "output_type": "stream",
     "text": [
      "Utilities value counts in df_train:\n",
      "Utilities\n",
      "AllPub    1459\n",
      "NoSeWa       1\n",
      "Name: count, dtype: int64\n",
      "\n",
      "Utilities value counts in df_test:\n",
      "Utilities\n",
      "AllPub    1459\n",
      "Name: count, dtype: int64\n"
     ]
    }
   ],
   "source": [
    "# Display value counts for Utilities in df_train with a label\n",
    "print(\"Utilities value counts in df_train:\")\n",
    "print(df_train.Utilities.value_counts().sort_values(ascending=False))\n",
    "\n",
    "# Display value counts for Utilities in df_test with a label\n",
    "print(\"\\nUtilities value counts in df_test:\")\n",
    "print(df_test.Utilities.value_counts().sort_values(ascending=False))"
   ]
  },
  {
   "cell_type": "markdown",
   "metadata": {},
   "source": [
    "The `Utilities` column clearly has minimal importance, as indicated by its low Cramer's V value. Therefore, we can safely drop it from the dataset."
   ]
  },
  {
   "cell_type": "code",
   "execution_count": 219,
   "metadata": {},
   "outputs": [],
   "source": [
    "df_train = df_train.drop('Utilities',axis=1)\n",
    "df_test = df_test.drop('Utilities',axis=1)"
   ]
  },
  {
   "cell_type": "markdown",
   "metadata": {},
   "source": [
    "<a id='centralair-analysis'></a>\n",
    "- **Upon inspecting the training set, we see that the <font color='#A22538'>CentralAir</font> feature is binary (Y/N) and may have a strong influence on SalePrice. Let’s explore this relationship.**\n"
   ]
  },
  {
   "cell_type": "code",
   "execution_count": 220,
   "metadata": {},
   "outputs": [
    {
     "data": {
      "text/plain": [
       "CentralAir\n",
       "Y    1365\n",
       "N      95\n",
       "Name: count, dtype: int64"
      ]
     },
     "execution_count": 220,
     "metadata": {},
     "output_type": "execute_result"
    }
   ],
   "source": [
    "df_train.CentralAir.value_counts()"
   ]
  },
  {
   "cell_type": "code",
   "execution_count": 221,
   "metadata": {},
   "outputs": [
    {
     "data": {
      "image/png": "[encoded data removed]",
      "text/plain": [
       "<Figure size 1400x500 with 2 Axes>"
      ]
     },
     "metadata": {},
     "output_type": "display_data"
    }
   ],
   "source": [
    "test_name, pval = analyze_cat_vs_price(\n",
    "    df_train2,\n",
    "    cat_col='CentralAir',\n",
    "    palette={\"Y\":\"#4C72B0\",\"N\":\"#55A868\"},\n",
    "    nonparametric=False\n",
    ")\n"
   ]
  },
  {
   "cell_type": "markdown",
   "metadata": {},
   "source": [
    "The t‑test annotation (p ≈ 2 × 10⁻³⁷) confirms that the difference in means is overwhelmingly significant"
   ]
  },
  {
   "cell_type": "code",
   "execution_count": 222,
   "metadata": {},
   "outputs": [],
   "source": [
    "# Simple binary flag without backup column on both datasets\n",
    "df_train['CentralAir'] = (df_train['CentralAir'] == 'Y').astype(int)\n",
    "\n",
    "df_test['CentralAir'] = (df_test['CentralAir'] == 'Y').astype(int)"
   ]
  },
  {
   "cell_type": "markdown",
   "metadata": {},
   "source": [
    "<a id='centralair-analysis'></a>\n",
    "- **Now, let's check <font color='#A22538'>PavedDrive</font>**\n"
   ]
  },
  {
   "cell_type": "code",
   "execution_count": 223,
   "metadata": {},
   "outputs": [
    {
     "data": {
      "image/png": "[encoded data removed]",
      "text/plain": [
       "<Figure size 1400x500 with 2 Axes>"
      ]
     },
     "metadata": {},
     "output_type": "display_data"
    }
   ],
   "source": [
    "test_name, pval = analyze_cat_vs_price(\n",
    "    df_train2,\n",
    "    cat_col='PavedDrive',\n",
    "    nonparametric=False\n",
    ")"
   ]
  },
  {
   "cell_type": "code",
   "execution_count": 224,
   "metadata": {},
   "outputs": [],
   "source": [
    "# Mapping function\n",
    "def DefinePavedDrive(x):\n",
    "    if x == 'Y':\n",
    "        return 1.0\n",
    "    elif x == 'P':\n",
    "        return 0.5\n",
    "    elif x == 'N':\n",
    "        return 0.0\n",
    "    else:\n",
    "        return -1.0\n",
    "\n",
    "df_train['PavedDrive'] = df_train.PavedDrive.apply(DefinePavedDrive)\n",
    "\n",
    "df_test['PavedDrive'] = df_test.PavedDrive.apply(DefinePavedDrive)"
   ]
  },
  {
   "cell_type": "markdown",
   "metadata": {},
   "source": [
    "<a id=\"MSZoning\"></a>\n",
    "\n",
    "- Evaluating the <span style=\"color:#A22538\">MSZoning</span> column\n",
    "\n",
    "**MSZoning** identifies the general zoning classification of the sale. Possible values:\n",
    "\n",
    "| Code | Description                              |\n",
    "|:-----|:-----------------------------------------|\n",
    "| A    | Agriculture                              |\n",
    "| C    | Commercial                               |\n",
    "| FV   | Floating Village Residential             |\n",
    "| I    | Industrial                               |\n",
    "| RH   | Residential High Density                 |\n",
    "| RL   | Residential Low Density                  |\n",
    "| RP   | Residential Low Density Park             |\n",
    "| RM   | Residential Medium Density               |"
   ]
  },
  {
   "cell_type": "code",
   "execution_count": 225,
   "metadata": {},
   "outputs": [
    {
     "data": {
      "application/vnd.microsoft.datawrangler.viewer.v0+json": {
       "columns": [
        {
         "name": "MSZoning",
         "rawType": "object",
         "type": "string"
        },
        {
         "name": "count",
         "rawType": "float64",
         "type": "float"
        },
        {
         "name": "mean",
         "rawType": "float64",
         "type": "float"
        },
        {
         "name": "std",
         "rawType": "float64",
         "type": "float"
        },
        {
         "name": "min",
         "rawType": "float64",
         "type": "float"
        },
        {
         "name": "25%",
         "rawType": "float64",
         "type": "float"
        },
        {
         "name": "50%",
         "rawType": "float64",
         "type": "float"
        },
        {
         "name": "75%",
         "rawType": "float64",
         "type": "float"
        },
        {
         "name": "max",
         "rawType": "float64",
         "type": "float"
        }
       ],
       "conversionMethod": "pd.DataFrame",
       "ref": "d3025c66-6762-45b4-a34d-70acdffd07e3",
       "rows": [
        [
         "C (all)",
         "10.0",
         "74528.0",
         "33791.092031283435",
         "34900.0",
         "43998.25",
         "74700.0",
         "98332.0",
         "133900.0"
        ],
        [
         "FV",
         "65.0",
         "214014.06153846154",
         "52369.66206744754",
         "144152.0",
         "174000.0",
         "205950.0",
         "250000.0",
         "370878.0"
        ],
        [
         "RH",
         "16.0",
         "131558.375",
         "35714.11843491777",
         "76000.0",
         "106150.0",
         "136500.0",
         "148608.5",
         "200000.0"
        ],
        [
         "RL",
         "1151.0",
         "191004.99478714162",
         "80766.34131930243",
         "39300.0",
         "137700.0",
         "174000.0",
         "224700.0",
         "755000.0"
        ],
        [
         "RM",
         "218.0",
         "126316.83027522935",
         "48521.689832548946",
         "37900.0",
         "100000.0",
         "120500.0",
         "140000.0",
         "475000.0"
        ]
       ],
       "shape": {
        "columns": 8,
        "rows": 5
       }
      },
      "text/html": [
       "<div>\n",
       "<style scoped>\n",
       "    .dataframe tbody tr th:only-of-type {\n",
       "        vertical-align: middle;\n",
       "    }\n",
       "\n",
       "    .dataframe tbody tr th {\n",
       "        vertical-align: top;\n",
       "    }\n",
       "\n",
       "    .dataframe thead th {\n",
       "        text-align: right;\n",
       "    }\n",
       "</style>\n",
       "<table border=\"1\" class=\"dataframe\">\n",
       "  <thead>\n",
       "    <tr style=\"text-align: right;\">\n",
       "      <th></th>\n",
       "      <th>count</th>\n",
       "      <th>mean</th>\n",
       "      <th>std</th>\n",
       "      <th>min</th>\n",
       "      <th>25%</th>\n",
       "      <th>50%</th>\n",
       "      <th>75%</th>\n",
       "      <th>max</th>\n",
       "    </tr>\n",
       "    <tr>\n",
       "      <th>MSZoning</th>\n",
       "      <th></th>\n",
       "      <th></th>\n",
       "      <th></th>\n",
       "      <th></th>\n",
       "      <th></th>\n",
       "      <th></th>\n",
       "      <th></th>\n",
       "      <th></th>\n",
       "    </tr>\n",
       "  </thead>\n",
       "  <tbody>\n",
       "    <tr>\n",
       "      <th>C (all)</th>\n",
       "      <td>10.0</td>\n",
       "      <td>74528.000000</td>\n",
       "      <td>33791.092031</td>\n",
       "      <td>34900.0</td>\n",
       "      <td>43998.25</td>\n",
       "      <td>74700.0</td>\n",
       "      <td>98332.0</td>\n",
       "      <td>133900.0</td>\n",
       "    </tr>\n",
       "    <tr>\n",
       "      <th>FV</th>\n",
       "      <td>65.0</td>\n",
       "      <td>214014.061538</td>\n",
       "      <td>52369.662067</td>\n",
       "      <td>144152.0</td>\n",
       "      <td>174000.00</td>\n",
       "      <td>205950.0</td>\n",
       "      <td>250000.0</td>\n",
       "      <td>370878.0</td>\n",
       "    </tr>\n",
       "    <tr>\n",
       "      <th>RH</th>\n",
       "      <td>16.0</td>\n",
       "      <td>131558.375000</td>\n",
       "      <td>35714.118435</td>\n",
       "      <td>76000.0</td>\n",
       "      <td>106150.00</td>\n",
       "      <td>136500.0</td>\n",
       "      <td>148608.5</td>\n",
       "      <td>200000.0</td>\n",
       "    </tr>\n",
       "    <tr>\n",
       "      <th>RL</th>\n",
       "      <td>1151.0</td>\n",
       "      <td>191004.994787</td>\n",
       "      <td>80766.341319</td>\n",
       "      <td>39300.0</td>\n",
       "      <td>137700.00</td>\n",
       "      <td>174000.0</td>\n",
       "      <td>224700.0</td>\n",
       "      <td>755000.0</td>\n",
       "    </tr>\n",
       "    <tr>\n",
       "      <th>RM</th>\n",
       "      <td>218.0</td>\n",
       "      <td>126316.830275</td>\n",
       "      <td>48521.689833</td>\n",
       "      <td>37900.0</td>\n",
       "      <td>100000.00</td>\n",
       "      <td>120500.0</td>\n",
       "      <td>140000.0</td>\n",
       "      <td>475000.0</td>\n",
       "    </tr>\n",
       "  </tbody>\n",
       "</table>\n",
       "</div>"
      ],
      "text/plain": [
       "           count           mean           std       min        25%       50%  \\\n",
       "MSZoning                                                                       \n",
       "C (all)     10.0   74528.000000  33791.092031   34900.0   43998.25   74700.0   \n",
       "FV          65.0  214014.061538  52369.662067  144152.0  174000.00  205950.0   \n",
       "RH          16.0  131558.375000  35714.118435   76000.0  106150.00  136500.0   \n",
       "RL        1151.0  191004.994787  80766.341319   39300.0  137700.00  174000.0   \n",
       "RM         218.0  126316.830275  48521.689833   37900.0  100000.00  120500.0   \n",
       "\n",
       "               75%       max  \n",
       "MSZoning                      \n",
       "C (all)    98332.0  133900.0  \n",
       "FV        250000.0  370878.0  \n",
       "RH        148608.5  200000.0  \n",
       "RL        224700.0  755000.0  \n",
       "RM        140000.0  475000.0  "
      ]
     },
     "execution_count": 225,
     "metadata": {},
     "output_type": "execute_result"
    }
   ],
   "source": [
    "df_train.groupby('MSZoning')['SalePrice'].describe()"
   ]
  },
  {
   "cell_type": "code",
   "execution_count": 226,
   "metadata": {},
   "outputs": [
    {
     "data": {
      "image/png": "[encoded data removed]",
      "text/plain": [
       "<Figure size 1600x800 with 8 Axes>"
      ]
     },
     "metadata": {},
     "output_type": "display_data"
    }
   ],
   "source": [
    "# 2) Compute the grouped describe table\n",
    "stats = df_train2.groupby('MSZoning')['SalePrice'].describe()\n",
    "\n",
    "# 3) Stats to visualize\n",
    "stats_cols = ['count', 'mean', 'std', 'min', '25%', '50%', '75%', 'max']\n",
    "\n",
    "# 4) Single bar color\n",
    "bar_color = sns.color_palette(\"viridis\", 1)[0]\n",
    "\n",
    "# 5) Create subplots\n",
    "fig, axes = plt.subplots(2, 4, figsize=(16, 8), constrained_layout=True)\n",
    "axes = axes.flatten()\n",
    "\n",
    "for ax, col in zip(axes, stats_cols):\n",
    "    vals = stats[col].values\n",
    "    cats = stats.index.tolist()\n",
    "    \n",
    "    # draw bars\n",
    "    ax.bar(cats, vals, color=bar_color)\n",
    "    ax.set_title(col.capitalize())\n",
    "    ax.set_ylabel(col.capitalize())\n",
    "    \n",
    "    # set ticks THEN labels\n",
    "    ax.set_xticks(range(len(cats)))\n",
    "    ax.set_xticklabels(cats, rotation=45, ha='right')\n",
    "\n",
    "plt.show()\n"
   ]
  },
  {
   "cell_type": "code",
   "execution_count": 227,
   "metadata": {},
   "outputs": [
    {
     "data": {
      "image/png": "[encoded data removed]",
      "text/plain": [
       "<Figure size 1400x500 with 2 Axes>"
      ]
     },
     "metadata": {},
     "output_type": "display_data"
    }
   ],
   "source": [
    "test_name, pval = analyze_cat_vs_price(\n",
    "    df_train2,\n",
    "    cat_col='MSZoning',\n",
    "    nonparametric=False\n",
    ")"
   ]
  },
  {
   "cell_type": "markdown",
   "metadata": {},
   "source": [
    "To address the issue of textual variables, we can now apply a OneHotEncoder to convert each category into its own new column"
   ]
  },
  {
   "cell_type": "code",
   "execution_count": 228,
   "metadata": {},
   "outputs": [],
   "source": [
    "# For train data\n",
    "\n",
    "# instantiate with the new parameter name\n",
    "ohe_MSZoning = OneHotEncoder(handle_unknown='ignore', sparse_output=False)\n",
    "\n",
    "# fit once\n",
    "ohe_MSZoning.fit(df_train[['MSZoning']])\n",
    "\n",
    "# transform and build DataFrame\n",
    "arr = ohe_MSZoning.transform(df_train[['MSZoning']])\n",
    "cols = ohe_MSZoning.get_feature_names_out(['MSZoning'])\n",
    "ohe_MSZoning_df = pd.DataFrame(arr, columns=cols, index=df_train.index)\n",
    "\n",
    "# concatenate and drop original\n",
    "df_train = pd.concat([df_train, ohe_MSZoning_df], axis=1).drop(columns=['MSZoning'])\n",
    "\n",
    "\n",
    "# For test data\n",
    "\n",
    "# instantiate with the new parameter name\n",
    "ohe_MSZoning = OneHotEncoder(handle_unknown='ignore', sparse_output=False)\n",
    "\n",
    "# fit once\n",
    "ohe_MSZoning.fit(df_test[['MSZoning']])\n",
    "\n",
    "# transform and build DataFrame\n",
    "arr = ohe_MSZoning.transform(df_test[['MSZoning']])\n",
    "cols = ohe_MSZoning.get_feature_names_out(['MSZoning'])\n",
    "ohe_MSZoning_df = pd.DataFrame(arr, columns=cols, index=df_test.index)\n",
    "\n",
    "# concatenate and drop original\n",
    "df_test = pd.concat([df_test, ohe_MSZoning_df], axis=1).drop(columns=['MSZoning'])\n"
   ]
  },
  {
   "cell_type": "markdown",
   "metadata": {},
   "source": [
    "<a id=\"GarageQual\"></a>\n",
    "\n",
    "- Evaluating the <span style=\"color:#A22538\">GarageQual</span> column\n"
   ]
  },
  {
   "cell_type": "code",
   "execution_count": 229,
   "metadata": {},
   "outputs": [
    {
     "data": {
      "text/plain": [
       "GarageQual\n",
       "TA    1311\n",
       "-1      81\n",
       "Fa      48\n",
       "Gd      14\n",
       "Ex       3\n",
       "Po       3\n",
       "Name: count, dtype: int64"
      ]
     },
     "execution_count": 229,
     "metadata": {},
     "output_type": "execute_result"
    }
   ],
   "source": [
    "df_train.GarageQual.value_counts()"
   ]
  },
  {
   "cell_type": "code",
   "execution_count": 230,
   "metadata": {},
   "outputs": [
    {
     "data": {
      "image/png": "[encoded data removed]",
      "text/plain": [
       "<Figure size 1400x500 with 2 Axes>"
      ]
     },
     "metadata": {},
     "output_type": "display_data"
    }
   ],
   "source": [
    "test_name, pval = analyze_cat_vs_price(\n",
    "    df_train2,\n",
    "    cat_col='GarageQual',\n",
    "    nonparametric=False\n",
    ")"
   ]
  },
  {
   "cell_type": "markdown",
   "metadata": {},
   "source": [
    "By examining the data_description file, we noticed there are multiple garage-related columns (as also identified during Data Cleaning). We can now visualize these garage features."
   ]
  },
  {
   "cell_type": "code",
   "execution_count": 231,
   "metadata": {},
   "outputs": [
    {
     "data": {
      "application/vnd.microsoft.datawrangler.viewer.v0+json": {
       "columns": [
        {
         "name": "index",
         "rawType": "int64",
         "type": "integer"
        },
        {
         "name": "GarageType",
         "rawType": "object",
         "type": "string"
        },
        {
         "name": "GarageYrBlt",
         "rawType": "float64",
         "type": "float"
        },
        {
         "name": "GarageFinish",
         "rawType": "object",
         "type": "string"
        },
        {
         "name": "GarageCars",
         "rawType": "int64",
         "type": "integer"
        },
        {
         "name": "GarageArea",
         "rawType": "int64",
         "type": "integer"
        },
        {
         "name": "GarageQual",
         "rawType": "object",
         "type": "string"
        },
        {
         "name": "GarageCond",
         "rawType": "object",
         "type": "string"
        }
       ],
       "conversionMethod": "pd.DataFrame",
       "ref": "94bfe795-e07d-4fb8-9f1b-4fe844926ba4",
       "rows": [
        [
         "0",
         "Attchd",
         "2003.0",
         "RFn",
         "2",
         "548",
         "TA",
         "TA"
        ],
        [
         "1",
         "Attchd",
         "1976.0",
         "RFn",
         "2",
         "460",
         "TA",
         "TA"
        ],
        [
         "2",
         "Attchd",
         "2001.0",
         "RFn",
         "2",
         "608",
         "TA",
         "TA"
        ],
        [
         "3",
         "Detchd",
         "1998.0",
         "Unf",
         "3",
         "642",
         "TA",
         "TA"
        ],
        [
         "4",
         "Attchd",
         "2000.0",
         "RFn",
         "3",
         "836",
         "TA",
         "TA"
        ]
       ],
       "shape": {
        "columns": 7,
        "rows": 5
       }
      },
      "text/html": [
       "<div>\n",
       "<style scoped>\n",
       "    .dataframe tbody tr th:only-of-type {\n",
       "        vertical-align: middle;\n",
       "    }\n",
       "\n",
       "    .dataframe tbody tr th {\n",
       "        vertical-align: top;\n",
       "    }\n",
       "\n",
       "    .dataframe thead th {\n",
       "        text-align: right;\n",
       "    }\n",
       "</style>\n",
       "<table border=\"1\" class=\"dataframe\">\n",
       "  <thead>\n",
       "    <tr style=\"text-align: right;\">\n",
       "      <th></th>\n",
       "      <th>GarageType</th>\n",
       "      <th>GarageYrBlt</th>\n",
       "      <th>GarageFinish</th>\n",
       "      <th>GarageCars</th>\n",
       "      <th>GarageArea</th>\n",
       "      <th>GarageQual</th>\n",
       "      <th>GarageCond</th>\n",
       "    </tr>\n",
       "  </thead>\n",
       "  <tbody>\n",
       "    <tr>\n",
       "      <th>0</th>\n",
       "      <td>Attchd</td>\n",
       "      <td>2003.0</td>\n",
       "      <td>RFn</td>\n",
       "      <td>2</td>\n",
       "      <td>548</td>\n",
       "      <td>TA</td>\n",
       "      <td>TA</td>\n",
       "    </tr>\n",
       "    <tr>\n",
       "      <th>1</th>\n",
       "      <td>Attchd</td>\n",
       "      <td>1976.0</td>\n",
       "      <td>RFn</td>\n",
       "      <td>2</td>\n",
       "      <td>460</td>\n",
       "      <td>TA</td>\n",
       "      <td>TA</td>\n",
       "    </tr>\n",
       "    <tr>\n",
       "      <th>2</th>\n",
       "      <td>Attchd</td>\n",
       "      <td>2001.0</td>\n",
       "      <td>RFn</td>\n",
       "      <td>2</td>\n",
       "      <td>608</td>\n",
       "      <td>TA</td>\n",
       "      <td>TA</td>\n",
       "    </tr>\n",
       "    <tr>\n",
       "      <th>3</th>\n",
       "      <td>Detchd</td>\n",
       "      <td>1998.0</td>\n",
       "      <td>Unf</td>\n",
       "      <td>3</td>\n",
       "      <td>642</td>\n",
       "      <td>TA</td>\n",
       "      <td>TA</td>\n",
       "    </tr>\n",
       "    <tr>\n",
       "      <th>4</th>\n",
       "      <td>Attchd</td>\n",
       "      <td>2000.0</td>\n",
       "      <td>RFn</td>\n",
       "      <td>3</td>\n",
       "      <td>836</td>\n",
       "      <td>TA</td>\n",
       "      <td>TA</td>\n",
       "    </tr>\n",
       "  </tbody>\n",
       "</table>\n",
       "</div>"
      ],
      "text/plain": [
       "  GarageType  GarageYrBlt GarageFinish  GarageCars  GarageArea GarageQual  \\\n",
       "0     Attchd       2003.0          RFn           2         548         TA   \n",
       "1     Attchd       1976.0          RFn           2         460         TA   \n",
       "2     Attchd       2001.0          RFn           2         608         TA   \n",
       "3     Detchd       1998.0          Unf           3         642         TA   \n",
       "4     Attchd       2000.0          RFn           3         836         TA   \n",
       "\n",
       "  GarageCond  \n",
       "0         TA  \n",
       "1         TA  \n",
       "2         TA  \n",
       "3         TA  \n",
       "4         TA  "
      ]
     },
     "execution_count": 231,
     "metadata": {},
     "output_type": "execute_result"
    }
   ],
   "source": [
    "col_garage = df_train.columns[df_train.columns.str.contains(\"Garage\")]\n",
    "\n",
    "df_train[col_garage].head(5)"
   ]
  },
  {
   "cell_type": "markdown",
   "metadata": {},
   "source": [
    "Could it be that GarageQual and GarageCond are representing the same information?"
   ]
  },
  {
   "cell_type": "code",
   "execution_count": 232,
   "metadata": {},
   "outputs": [
    {
     "data": {
      "text/plain": [
       "GarageQual  GarageCond\n",
       "TA          TA            1291\n",
       "-1          -1              81\n",
       "Fa          TA              24\n",
       "            Fa              20\n",
       "TA          Fa              15\n",
       "Gd          TA              10\n",
       "TA          Gd               5\n",
       "Fa          Po               4\n",
       "Gd          Gd               4\n",
       "Po          Po               3\n",
       "Ex          Ex               2\n",
       "            TA               1\n",
       "Name: count, dtype: int64"
      ]
     },
     "execution_count": 232,
     "metadata": {},
     "output_type": "execute_result"
    }
   ],
   "source": [
    "df_train[['GarageQual','GarageCond']].value_counts()"
   ]
  },
  {
   "cell_type": "code",
   "execution_count": 233,
   "metadata": {},
   "outputs": [
    {
     "data": {
      "text/plain": [
       "np.float64(0.96)"
      ]
     },
     "execution_count": 233,
     "metadata": {},
     "output_type": "execute_result"
    }
   ],
   "source": [
    "# Count the proportion of rows where GarageQual equals GarageCond\n",
    "(df_train['GarageQual'] == df_train['GarageCond']).mean().round(2)"
   ]
  },
  {
   "cell_type": "code",
   "execution_count": 234,
   "metadata": {},
   "outputs": [],
   "source": [
    "# Drop GarageCond from the dataset as 96% of the rows have the same value as GarageQual\n",
    "df_train = df_train.drop('GarageCond',axis=1)"
   ]
  },
  {
   "cell_type": "code",
   "execution_count": 235,
   "metadata": {},
   "outputs": [],
   "source": [
    "df_test = df_test.drop('GarageCond',axis=1)"
   ]
  },
  {
   "cell_type": "markdown",
   "metadata": {},
   "source": [
    "<a id=\"GarageArea\"></a>\n",
    "\n",
    "- Evaluating the <span style=\"color:#A22538\">GarageArea</span> column\n"
   ]
  },
  {
   "cell_type": "code",
   "execution_count": 236,
   "metadata": {},
   "outputs": [
    {
     "data": {
      "application/vnd.microsoft.datawrangler.viewer.v0+json": {
       "columns": [
        {
         "name": "index",
         "rawType": "object",
         "type": "string"
        },
        {
         "name": "GarageCars",
         "rawType": "float64",
         "type": "float"
        },
        {
         "name": "GarageArea",
         "rawType": "float64",
         "type": "float"
        },
        {
         "name": "SalePrice",
         "rawType": "float64",
         "type": "float"
        }
       ],
       "conversionMethod": "pd.DataFrame",
       "ref": "12650f4c-6481-448f-b3b2-2472fa7ff38c",
       "rows": [
        [
         "GarageCars",
         "1.0",
         "0.882475414281462",
         "0.6404091972583519"
        ],
        [
         "GarageArea",
         "0.882475414281462",
         "1.0",
         "0.6234314389183622"
        ],
        [
         "SalePrice",
         "0.6404091972583519",
         "0.6234314389183622",
         "1.0"
        ]
       ],
       "shape": {
        "columns": 3,
        "rows": 3
       }
      },
      "text/html": [
       "<div>\n",
       "<style scoped>\n",
       "    .dataframe tbody tr th:only-of-type {\n",
       "        vertical-align: middle;\n",
       "    }\n",
       "\n",
       "    .dataframe tbody tr th {\n",
       "        vertical-align: top;\n",
       "    }\n",
       "\n",
       "    .dataframe thead th {\n",
       "        text-align: right;\n",
       "    }\n",
       "</style>\n",
       "<table border=\"1\" class=\"dataframe\">\n",
       "  <thead>\n",
       "    <tr style=\"text-align: right;\">\n",
       "      <th></th>\n",
       "      <th>GarageCars</th>\n",
       "      <th>GarageArea</th>\n",
       "      <th>SalePrice</th>\n",
       "    </tr>\n",
       "  </thead>\n",
       "  <tbody>\n",
       "    <tr>\n",
       "      <th>GarageCars</th>\n",
       "      <td>1.000000</td>\n",
       "      <td>0.882475</td>\n",
       "      <td>0.640409</td>\n",
       "    </tr>\n",
       "    <tr>\n",
       "      <th>GarageArea</th>\n",
       "      <td>0.882475</td>\n",
       "      <td>1.000000</td>\n",
       "      <td>0.623431</td>\n",
       "    </tr>\n",
       "    <tr>\n",
       "      <th>SalePrice</th>\n",
       "      <td>0.640409</td>\n",
       "      <td>0.623431</td>\n",
       "      <td>1.000000</td>\n",
       "    </tr>\n",
       "  </tbody>\n",
       "</table>\n",
       "</div>"
      ],
      "text/plain": [
       "            GarageCars  GarageArea  SalePrice\n",
       "GarageCars    1.000000    0.882475   0.640409\n",
       "GarageArea    0.882475    1.000000   0.623431\n",
       "SalePrice     0.640409    0.623431   1.000000"
      ]
     },
     "execution_count": 236,
     "metadata": {},
     "output_type": "execute_result"
    }
   ],
   "source": [
    "df_train[['GarageCars','GarageArea','SalePrice']].corr()"
   ]
  },
  {
   "cell_type": "code",
   "execution_count": 237,
   "metadata": {},
   "outputs": [],
   "source": [
    "# As GarageCars is more correlated with SalePrice, we will keep it and drop GarageArea\n",
    "df_train = df_train.drop('GarageArea',axis=1)"
   ]
  },
  {
   "cell_type": "code",
   "execution_count": 238,
   "metadata": {},
   "outputs": [],
   "source": [
    "df_test = df_test.drop('GarageArea',axis=1)"
   ]
  },
  {
   "cell_type": "markdown",
   "metadata": {},
   "source": [
    "- We can continue processing the garage columns, but relate them to other dataset features such as YearBuilt and YearRemodAdd"
   ]
  },
  {
   "cell_type": "code",
   "execution_count": 239,
   "metadata": {},
   "outputs": [
    {
     "data": {
      "application/vnd.microsoft.datawrangler.viewer.v0+json": {
       "columns": [
        {
         "name": "index",
         "rawType": "object",
         "type": "string"
        },
        {
         "name": "GarageYrBlt",
         "rawType": "float64",
         "type": "float"
        },
        {
         "name": "YearBuilt",
         "rawType": "float64",
         "type": "float"
        },
        {
         "name": "YearRemodAdd",
         "rawType": "float64",
         "type": "float"
        },
        {
         "name": "SalePrice",
         "rawType": "float64",
         "type": "float"
        }
       ],
       "conversionMethod": "pd.DataFrame",
       "ref": "9310b9be-59af-4b63-b442-060d39702d1d",
       "rows": [
        [
         "GarageYrBlt",
         "1.0",
         "0.2720088506425463",
         "0.146340915673215",
         "0.261354242496717"
        ],
        [
         "YearBuilt",
         "0.2720088506425463",
         "1.0",
         "0.5928549763436519",
         "0.5228973328794967"
        ],
        [
         "YearRemodAdd",
         "0.146340915673215",
         "0.5928549763436519",
         "1.0",
         "0.5071009671113866"
        ],
        [
         "SalePrice",
         "0.261354242496717",
         "0.5228973328794967",
         "0.5071009671113866",
         "1.0"
        ]
       ],
       "shape": {
        "columns": 4,
        "rows": 4
       }
      },
      "text/html": [
       "<div>\n",
       "<style scoped>\n",
       "    .dataframe tbody tr th:only-of-type {\n",
       "        vertical-align: middle;\n",
       "    }\n",
       "\n",
       "    .dataframe tbody tr th {\n",
       "        vertical-align: top;\n",
       "    }\n",
       "\n",
       "    .dataframe thead th {\n",
       "        text-align: right;\n",
       "    }\n",
       "</style>\n",
       "<table border=\"1\" class=\"dataframe\">\n",
       "  <thead>\n",
       "    <tr style=\"text-align: right;\">\n",
       "      <th></th>\n",
       "      <th>GarageYrBlt</th>\n",
       "      <th>YearBuilt</th>\n",
       "      <th>YearRemodAdd</th>\n",
       "      <th>SalePrice</th>\n",
       "    </tr>\n",
       "  </thead>\n",
       "  <tbody>\n",
       "    <tr>\n",
       "      <th>GarageYrBlt</th>\n",
       "      <td>1.000000</td>\n",
       "      <td>0.272009</td>\n",
       "      <td>0.146341</td>\n",
       "      <td>0.261354</td>\n",
       "    </tr>\n",
       "    <tr>\n",
       "      <th>YearBuilt</th>\n",
       "      <td>0.272009</td>\n",
       "      <td>1.000000</td>\n",
       "      <td>0.592855</td>\n",
       "      <td>0.522897</td>\n",
       "    </tr>\n",
       "    <tr>\n",
       "      <th>YearRemodAdd</th>\n",
       "      <td>0.146341</td>\n",
       "      <td>0.592855</td>\n",
       "      <td>1.000000</td>\n",
       "      <td>0.507101</td>\n",
       "    </tr>\n",
       "    <tr>\n",
       "      <th>SalePrice</th>\n",
       "      <td>0.261354</td>\n",
       "      <td>0.522897</td>\n",
       "      <td>0.507101</td>\n",
       "      <td>1.000000</td>\n",
       "    </tr>\n",
       "  </tbody>\n",
       "</table>\n",
       "</div>"
      ],
      "text/plain": [
       "              GarageYrBlt  YearBuilt  YearRemodAdd  SalePrice\n",
       "GarageYrBlt      1.000000   0.272009      0.146341   0.261354\n",
       "YearBuilt        0.272009   1.000000      0.592855   0.522897\n",
       "YearRemodAdd     0.146341   0.592855      1.000000   0.507101\n",
       "SalePrice        0.261354   0.522897      0.507101   1.000000"
      ]
     },
     "execution_count": 239,
     "metadata": {},
     "output_type": "execute_result"
    }
   ],
   "source": [
    "df_train[['GarageYrBlt','YearBuilt','YearRemodAdd','SalePrice']].corr()"
   ]
  },
  {
   "cell_type": "markdown",
   "metadata": {},
   "source": [
    "GarageYrBlt and YearBuilt shows a weak relationship"
   ]
  },
  {
   "cell_type": "code",
   "execution_count": 240,
   "metadata": {},
   "outputs": [
    {
     "data": {
      "image/png": "[encoded data removed]",
      "text/plain": [
       "<Figure size 1800x500 with 3 Axes>"
      ]
     },
     "metadata": {},
     "output_type": "display_data"
    }
   ],
   "source": [
    "# Remove seaborn grid style\n",
    "sns.set_style(\"white\")\n",
    "\n",
    "# Criando os subplots\n",
    "fig, ax = plt.subplots(ncols=3, figsize=(18, 5), constrained_layout=True)\n",
    "\n",
    "features = ['GarageYrBlt','YearRemodAdd','SalePrice']\n",
    "\n",
    "titles   = ['Garage Year Built', 'Year Remodeled', 'Sale Price']\n",
    "\n",
    "for i in range(3):\n",
    "    sns.regplot(\n",
    "        data=df_train,\n",
    "        x=features[i],\n",
    "        y='YearBuilt',\n",
    "        ax=ax[i],\n",
    "        scatter_kws={'alpha': 0.6, 'color': red_color},\n",
    "        line_kws={'color': red_color},  # Ainda aparece a linha de tendência\n",
    "    )\n",
    "    ax[i].set_title(f'{titles[i]} vs SalePrice', fontsize=12)\n",
    "    ax[i].set_xlabel(titles[i])\n",
    "    ax[i].set_ylabel('Sale Price' if i == 0 else '')\n",
    "    ax[i].grid(False)  # Remove grid\n",
    "    if i > 0:\n",
    "        ax[i].set_yticklabels([])\n",
    "\n",
    "plt.show()"
   ]
  },
  {
   "cell_type": "code",
   "execution_count": 241,
   "metadata": {},
   "outputs": [
    {
     "data": {
      "application/vnd.microsoft.datawrangler.viewer.v0+json": {
       "columns": [
        {
         "name": "index",
         "rawType": "object",
         "type": "string"
        },
        {
         "name": "GarageYrBlt",
         "rawType": "float64",
         "type": "float"
        },
        {
         "name": "YearBuilt",
         "rawType": "float64",
         "type": "float"
        },
        {
         "name": "YearRemodAdd",
         "rawType": "float64",
         "type": "float"
        },
        {
         "name": "SalePrice",
         "rawType": "float64",
         "type": "float"
        }
       ],
       "conversionMethod": "pd.DataFrame",
       "ref": "fe2353fe-51ef-4c1f-95fb-85f518e5cf44",
       "rows": [
        [
         "GarageYrBlt",
         "1.0",
         "0.8256674841743407",
         "0.6422767797035356",
         "0.4863616774878596"
        ],
        [
         "YearBuilt",
         "0.8256674841743407",
         "1.0",
         "0.6180580756791936",
         "0.5075840635608173"
        ],
        [
         "YearRemodAdd",
         "0.6422767797035356",
         "0.6180580756791936",
         "1.0",
         "0.5054340608594549"
        ],
        [
         "SalePrice",
         "0.4863616774878596",
         "0.5075840635608173",
         "0.5054340608594549",
         "1.0"
        ]
       ],
       "shape": {
        "columns": 4,
        "rows": 4
       }
      },
      "text/html": [
       "<div>\n",
       "<style scoped>\n",
       "    .dataframe tbody tr th:only-of-type {\n",
       "        vertical-align: middle;\n",
       "    }\n",
       "\n",
       "    .dataframe tbody tr th {\n",
       "        vertical-align: top;\n",
       "    }\n",
       "\n",
       "    .dataframe thead th {\n",
       "        text-align: right;\n",
       "    }\n",
       "</style>\n",
       "<table border=\"1\" class=\"dataframe\">\n",
       "  <thead>\n",
       "    <tr style=\"text-align: right;\">\n",
       "      <th></th>\n",
       "      <th>GarageYrBlt</th>\n",
       "      <th>YearBuilt</th>\n",
       "      <th>YearRemodAdd</th>\n",
       "      <th>SalePrice</th>\n",
       "    </tr>\n",
       "  </thead>\n",
       "  <tbody>\n",
       "    <tr>\n",
       "      <th>GarageYrBlt</th>\n",
       "      <td>1.000000</td>\n",
       "      <td>0.825667</td>\n",
       "      <td>0.642277</td>\n",
       "      <td>0.486362</td>\n",
       "    </tr>\n",
       "    <tr>\n",
       "      <th>YearBuilt</th>\n",
       "      <td>0.825667</td>\n",
       "      <td>1.000000</td>\n",
       "      <td>0.618058</td>\n",
       "      <td>0.507584</td>\n",
       "    </tr>\n",
       "    <tr>\n",
       "      <th>YearRemodAdd</th>\n",
       "      <td>0.642277</td>\n",
       "      <td>0.618058</td>\n",
       "      <td>1.000000</td>\n",
       "      <td>0.505434</td>\n",
       "    </tr>\n",
       "    <tr>\n",
       "      <th>SalePrice</th>\n",
       "      <td>0.486362</td>\n",
       "      <td>0.507584</td>\n",
       "      <td>0.505434</td>\n",
       "      <td>1.000000</td>\n",
       "    </tr>\n",
       "  </tbody>\n",
       "</table>\n",
       "</div>"
      ],
      "text/plain": [
       "              GarageYrBlt  YearBuilt  YearRemodAdd  SalePrice\n",
       "GarageYrBlt      1.000000   0.825667      0.642277   0.486362\n",
       "YearBuilt        0.825667   1.000000      0.618058   0.507584\n",
       "YearRemodAdd     0.642277   0.618058      1.000000   0.505434\n",
       "SalePrice        0.486362   0.507584      0.505434   1.000000"
      ]
     },
     "execution_count": 241,
     "metadata": {},
     "output_type": "execute_result"
    }
   ],
   "source": [
    "df_train.loc[df_train.GarageYrBlt != -1,['GarageYrBlt','YearBuilt','YearRemodAdd','SalePrice']].corr()"
   ]
  },
  {
   "cell_type": "code",
   "execution_count": 242,
   "metadata": {},
   "outputs": [],
   "source": [
    "# Drop GarageYrBlt from the dataset as it is not useful for our analysis\n",
    "df_train = df_train.drop('GarageYrBlt',axis=1)"
   ]
  },
  {
   "cell_type": "code",
   "execution_count": 243,
   "metadata": {},
   "outputs": [],
   "source": [
    "df_test = df_test.drop('GarageYrBlt',axis=1)"
   ]
  },
  {
   "cell_type": "markdown",
   "metadata": {},
   "source": [
    "- GarageType"
   ]
  },
  {
   "cell_type": "code",
   "execution_count": 244,
   "metadata": {},
   "outputs": [
    {
     "data": {
      "text/plain": [
       "GarageType\n",
       "Attchd     870\n",
       "Detchd     387\n",
       "BuiltIn     88\n",
       "-1          81\n",
       "Basment     19\n",
       "CarPort      9\n",
       "2Types       6\n",
       "Name: count, dtype: int64"
      ]
     },
     "execution_count": 244,
     "metadata": {},
     "output_type": "execute_result"
    }
   ],
   "source": [
    "df_train.GarageType.value_counts()"
   ]
  },
  {
   "cell_type": "code",
   "execution_count": 245,
   "metadata": {},
   "outputs": [],
   "source": [
    "# For train data\n",
    "\n",
    "# 1) Instantiate the encoder (with modern parameters)\n",
    "ohe_garage = OneHotEncoder(\n",
    "    handle_unknown='ignore',\n",
    "    min_frequency=25,\n",
    "    sparse_output=False\n",
    ")\n",
    "\n",
    "# 2) Fit only on training data, making sure all values are strings\n",
    "ohe_garage.fit(df_train[['GarageType']].astype(str))\n",
    "\n",
    "# 3) Transform training data\n",
    "arr_train = ohe_garage.transform(df_train[['GarageType']].astype(str))\n",
    "cols = ohe_garage.get_feature_names_out(['GarageType'])\n",
    "garage_ohe_train = pd.DataFrame(arr_train, columns=cols, index=df_train.index)\n",
    "\n",
    "# 4) Concatenate encoded columns and drop original\n",
    "df_train = pd.concat([df_train, garage_ohe_train], axis=1).drop(columns=['GarageType'])"
   ]
  },
  {
   "cell_type": "code",
   "execution_count": 246,
   "metadata": {},
   "outputs": [],
   "source": [
    "# For test data\n",
    "\n",
    "# 2) Fit only on test data, making sure all values are strings\n",
    "ohe_garage.fit(df_test[['GarageType']].astype(str))\n",
    "\n",
    "# 3) Transform test data\n",
    "arr_test = ohe_garage.transform(df_test[['GarageType']].astype(str))\n",
    "cols = ohe_garage.get_feature_names_out(['GarageType'])\n",
    "garage_ohe_test = pd.DataFrame(arr_test, columns=cols, index=df_test.index)\n",
    "\n",
    "# 4) Concatenate encoded columns and drop original\n",
    "df_test = pd.concat([df_test, garage_ohe_test], axis=1).drop(columns=['GarageType'])"
   ]
  },
  {
   "cell_type": "markdown",
   "metadata": {},
   "source": [
    "- Let's apply the **OrdinalEncoder** to the other two columns:\n",
    "    - **GarageFinish**: Interior finish of the garage  \n",
    "        - Fin: Finished  \n",
    "        - RFn: Rough Finished  \n",
    "        - Unf: Unfinished  \n",
    "        - NA: No Garage → we will use -1\n",
    "    - **GarageQual**: Garage quality  \n",
    "        - Ex: Excellent  \n",
    "        - Gd: Good  \n",
    "        - TA: Typical/Average  \n",
    "        - Fa: Fair  \n",
    "        - Po: Poor  \n",
    "        - NA: No Garage"
   ]
  },
  {
   "cell_type": "code",
   "execution_count": 247,
   "metadata": {},
   "outputs": [],
   "source": [
    "# For train data\n",
    "# 1) Define the category order for each column\n",
    "GarageFinish_order = ['Unf', 'RFn', 'Fin']\n",
    "GarageQual_order   = ['Po', 'Fa', 'TA', 'Gd', 'Ex']\n",
    "\n",
    "# 2) Instantiate the encoder\n",
    "oe_garage = OrdinalEncoder(\n",
    "    categories=[GarageFinish_order, GarageQual_order],\n",
    "    handle_unknown='use_encoded_value',\n",
    "    unknown_value=-1,\n",
    "    dtype='int32'\n",
    ")\n",
    "\n",
    "# 3) Fit only on training data\n",
    "oe_garage.fit(df_train[['GarageFinish', 'GarageQual']])\n",
    "\n",
    "# 5) Transform training set\n",
    "df_train[['GarageFinish', 'GarageQual']] = oe_garage.transform(df_train[['GarageFinish', 'GarageQual']])"
   ]
  },
  {
   "cell_type": "code",
   "execution_count": 248,
   "metadata": {},
   "outputs": [],
   "source": [
    "# For test data\n",
    "\n",
    "# 1) Define the category order for each column\n",
    "GarageFinish_order = ['Unf', 'RFn', 'Fin']\n",
    "GarageQual_order   = ['Po', 'Fa', 'TA', 'Gd', 'Ex']\n",
    "\n",
    "# 2) Instantiate the encoder\n",
    "oe_garage = OrdinalEncoder(\n",
    "    categories=[GarageFinish_order, GarageQual_order],\n",
    "    handle_unknown='use_encoded_value',\n",
    "    unknown_value=-1,\n",
    "    dtype='int32'\n",
    ")\n",
    "\n",
    "# 3) Fit only on training data\n",
    "oe_garage.fit(df_test[['GarageFinish', 'GarageQual']])\n",
    "\n",
    "# 5) Transform training set\n",
    "df_test[['GarageFinish', 'GarageQual']] = oe_garage.transform(df_test[['GarageFinish', 'GarageQual']])"
   ]
  },
  {
   "cell_type": "markdown",
   "metadata": {},
   "source": [
    "## General 2"
   ]
  },
  {
   "cell_type": "code",
   "execution_count": null,
   "metadata": {},
   "outputs": [],
   "source": []
  },
  {
   "cell_type": "code",
   "execution_count": null,
   "metadata": {},
   "outputs": [],
   "source": []
  },
  {
   "cell_type": "code",
   "execution_count": null,
   "metadata": {},
   "outputs": [],
   "source": []
  },
  {
   "cell_type": "markdown",
   "metadata": {},
   "source": [
    "## Save data"
   ]
  },
  {
   "cell_type": "code",
   "execution_count": 249,
   "metadata": {},
   "outputs": [],
   "source": [
    "df_train.to_csv(os.path.join(path, 'Data', 'train_2.csv'), index=False)\n",
    "df_test.to_csv(os.path.join(path, 'Data', 'test_2.csv'), index=False)"
   ]
  }
 ],
 "metadata": {
  "kernelspec": {
   "display_name": "Python 3",
   "language": "python",
   "name": "python3"
  },
  "language_info": {
   "codemirror_mode": {
    "name": "ipython",
    "version": 3
   },
   "file_extension": ".py",
   "mimetype": "text/x-python",
   "name": "python",
   "nbconvert_exporter": "python",
   "pygments_lexer": "ipython3",
   "version": "3.13.2"
  }
 },
 "nbformat": 4,
 "nbformat_minor": 2
}
