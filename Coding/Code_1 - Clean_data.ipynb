{
 "cells": [
  {
   "cell_type": "markdown",
   "metadata": {},
   "source": [
    "<span style=\"font-size: 15px;\">\n",
    " ----------------------------------------------------------------- <br>\n",
    " Project: House Prices Prediction <br>\n",
    " Author: Jairo Macedo <br>\n",
    " Created: June 2024 <br>\n",
    " Last Modified: [04, 2025] | By: Jairo Macedo <br>\n",
    " ----------------------------------------------------------------- <br>\n",
    " Description: <br>\n",
    " This Python notebook contains the code and analysis for the project <br>\n",
    " <b>House Prices Prediction</b>. The goal is to model and predict house prices <br>\n",
    " using a variety of property features. The dataset comes from a Kaggle <br>\n",
    " competition and includes rich details about homes and their sale prices. <br>\n",
    " ----------------------------------------------------------------- <br>\n",
    " The analysis is structured as follows: <br>\n",
    " 1. Data Import and Exploration: Loading and understanding the dataset. <br>\n",
    " 2. Feature Engineering: Creating and selecting relevant variables. <br>\n",
    " 3. Modeling: Applying and tuning machine learning models to predict prices. <br>\n",
    " 4. Evaluation: Assessing model performance and accuracy. <br>\n",
    " 5. Submission: Preparing results for Kaggle submission. <br>\n",
    " ----------------------------------------------------------------- <br>\n",
    "\n",
    "<br>\n",
    "<b>Clean Dataset Files</b> <br>\n",
    "- <code>train_2.csv</code> – The cleaned and preprocessed training set <br>\n",
    "- <code>test_2.csv</code> – The cleaned and preprocessed test set <br>\n",
    "</span>\n",
    "\n"
   ]
  },
  {
   "cell_type": "markdown",
   "metadata": {},
   "source": [
    "# Packages ⚙️ and data 🗂️"
   ]
  },
  {
   "cell_type": "code",
   "execution_count": 1,
   "metadata": {},
   "outputs": [],
   "source": [
    "# ================================\n",
    "# Data Handling and Utilities\n",
    "# ================================\n",
    "import pandas as pd            # Data manipulation\n",
    "import numpy as np             # Numerical operations\n",
    "\n",
    "import matplotlib.pyplot as plt # Visualization and diagnostic plots\n",
    "\n",
    "import zipfile                 # Reading compressed .zip files\n",
    "from support import zip_path   # Path to the .zip file\n",
    "from support import results_path  # Importing the path for saving results\n",
    "\n",
    "import matplotlib.pyplot as plt\n",
    "import seaborn as sns\n",
    "\n",
    "# ================================\n",
    "# Machine Learning Models\n",
    "# ================================\n",
    "from sklearn.model_selection import train_test_split   # Splitting dataset into training and testing sets\n",
    "from sklearn.linear_model import LinearRegression      # Ordinary Least Squares (baseline model)\n",
    "from sklearn import tree                               # Decision Tree Regressor (non-parametric model)\n",
    "from sklearn.neighbors import KNeighborsRegressor      # K-Nearest Neighbors Regressor (non-parametric model)\n",
    "\n",
    "# ================================\n",
    "# Model Evaluation Metrics\n",
    "# ================================\n",
    "from sklearn.metrics import mean_absolute_error        # Mean Absolute Error (MAE)\n",
    "from sklearn.metrics import mean_squared_error         # Mean Squared Error (MSE and RMSE)\n",
    "from sklearn.metrics import r2_score                   # R-squared (goodness-of-fit)\n",
    "\n",
    "\n",
    "\n",
    "\n",
    "# Custom color (dark wine red)\n",
    "red_color = (162 / 255, 37 / 255, 56 / 255)\n",
    "\n",
    "\n",
    "\n",
    "\n",
    "from support import plot_categorical_boxplots  # Path to the .zip file\n",
    "\n",
    "\n",
    "\n",
    "\n",
    "import math"
   ]
  },
  {
   "cell_type": "code",
   "execution_count": 2,
   "metadata": {},
   "outputs": [],
   "source": [
    "# Setting the global random seed for reproducibility\n",
    "np.random.seed(42)"
   ]
  },
  {
   "cell_type": "code",
   "execution_count": 3,
   "metadata": {},
   "outputs": [],
   "source": [
    "# Open the zip and read train.csv directly\n",
    "with zipfile.ZipFile(zip_path) as z:\n",
    "    with z.open('train.csv') as f:\n",
    "        df_train = pd.read_csv(f)"
   ]
  },
  {
   "cell_type": "code",
   "execution_count": 4,
   "metadata": {},
   "outputs": [],
   "source": [
    "# Open the zip and read test.csv directly\n",
    "with zipfile.ZipFile(zip_path) as z:\n",
    "    with z.open('test.csv') as f:\n",
    "        df_test = pd.read_csv(f)"
   ]
  },
  {
   "cell_type": "markdown",
   "metadata": {},
   "source": [
    "# Hi, data! 👋"
   ]
  },
  {
   "cell_type": "markdown",
   "metadata": {},
   "source": [
    "### Train data"
   ]
  },
  {
   "cell_type": "code",
   "execution_count": 5,
   "metadata": {},
   "outputs": [
    {
     "name": "stdout",
     "output_type": "stream",
     "text": [
      "<class 'pandas.core.frame.DataFrame'>\n",
      "RangeIndex: 1460 entries, 0 to 1459\n",
      "Data columns (total 81 columns):\n",
      " #   Column         Non-Null Count  Dtype  \n",
      "---  ------         --------------  -----  \n",
      " 0   Id             1460 non-null   int64  \n",
      " 1   MSSubClass     1460 non-null   int64  \n",
      " 2   MSZoning       1460 non-null   object \n",
      " 3   LotFrontage    1201 non-null   float64\n",
      " 4   LotArea        1460 non-null   int64  \n",
      " 5   Street         1460 non-null   object \n",
      " 6   Alley          91 non-null     object \n",
      " 7   LotShape       1460 non-null   object \n",
      " 8   LandContour    1460 non-null   object \n",
      " 9   Utilities      1460 non-null   object \n",
      " 10  LotConfig      1460 non-null   object \n",
      " 11  LandSlope      1460 non-null   object \n",
      " 12  Neighborhood   1460 non-null   object \n",
      " 13  Condition1     1460 non-null   object \n",
      " 14  Condition2     1460 non-null   object \n",
      " 15  BldgType       1460 non-null   object \n",
      " 16  HouseStyle     1460 non-null   object \n",
      " 17  OverallQual    1460 non-null   int64  \n",
      " 18  OverallCond    1460 non-null   int64  \n",
      " 19  YearBuilt      1460 non-null   int64  \n",
      " 20  YearRemodAdd   1460 non-null   int64  \n",
      " 21  RoofStyle      1460 non-null   object \n",
      " 22  RoofMatl       1460 non-null   object \n",
      " 23  Exterior1st    1460 non-null   object \n",
      " 24  Exterior2nd    1460 non-null   object \n",
      " 25  MasVnrType     588 non-null    object \n",
      " 26  MasVnrArea     1452 non-null   float64\n",
      " 27  ExterQual      1460 non-null   object \n",
      " 28  ExterCond      1460 non-null   object \n",
      " 29  Foundation     1460 non-null   object \n",
      " 30  BsmtQual       1423 non-null   object \n",
      " 31  BsmtCond       1423 non-null   object \n",
      " 32  BsmtExposure   1422 non-null   object \n",
      " 33  BsmtFinType1   1423 non-null   object \n",
      " 34  BsmtFinSF1     1460 non-null   int64  \n",
      " 35  BsmtFinType2   1422 non-null   object \n",
      " 36  BsmtFinSF2     1460 non-null   int64  \n",
      " 37  BsmtUnfSF      1460 non-null   int64  \n",
      " 38  TotalBsmtSF    1460 non-null   int64  \n",
      " 39  Heating        1460 non-null   object \n",
      " 40  HeatingQC      1460 non-null   object \n",
      " 41  CentralAir     1460 non-null   object \n",
      " 42  Electrical     1459 non-null   object \n",
      " 43  1stFlrSF       1460 non-null   int64  \n",
      " 44  2ndFlrSF       1460 non-null   int64  \n",
      " 45  LowQualFinSF   1460 non-null   int64  \n",
      " 46  GrLivArea      1460 non-null   int64  \n",
      " 47  BsmtFullBath   1460 non-null   int64  \n",
      " 48  BsmtHalfBath   1460 non-null   int64  \n",
      " 49  FullBath       1460 non-null   int64  \n",
      " 50  HalfBath       1460 non-null   int64  \n",
      " 51  BedroomAbvGr   1460 non-null   int64  \n",
      " 52  KitchenAbvGr   1460 non-null   int64  \n",
      " 53  KitchenQual    1460 non-null   object \n",
      " 54  TotRmsAbvGrd   1460 non-null   int64  \n",
      " 55  Functional     1460 non-null   object \n",
      " 56  Fireplaces     1460 non-null   int64  \n",
      " 57  FireplaceQu    770 non-null    object \n",
      " 58  GarageType     1379 non-null   object \n",
      " 59  GarageYrBlt    1379 non-null   float64\n",
      " 60  GarageFinish   1379 non-null   object \n",
      " 61  GarageCars     1460 non-null   int64  \n",
      " 62  GarageArea     1460 non-null   int64  \n",
      " 63  GarageQual     1379 non-null   object \n",
      " 64  GarageCond     1379 non-null   object \n",
      " 65  PavedDrive     1460 non-null   object \n",
      " 66  WoodDeckSF     1460 non-null   int64  \n",
      " 67  OpenPorchSF    1460 non-null   int64  \n",
      " 68  EnclosedPorch  1460 non-null   int64  \n",
      " 69  3SsnPorch      1460 non-null   int64  \n",
      " 70  ScreenPorch    1460 non-null   int64  \n",
      " 71  PoolArea       1460 non-null   int64  \n",
      " 72  PoolQC         7 non-null      object \n",
      " 73  Fence          281 non-null    object \n",
      " 74  MiscFeature    54 non-null     object \n",
      " 75  MiscVal        1460 non-null   int64  \n",
      " 76  MoSold         1460 non-null   int64  \n",
      " 77  YrSold         1460 non-null   int64  \n",
      " 78  SaleType       1460 non-null   object \n",
      " 79  SaleCondition  1460 non-null   object \n",
      " 80  SalePrice      1460 non-null   int64  \n",
      "dtypes: float64(3), int64(35), object(43)\n",
      "memory usage: 924.0+ KB\n"
     ]
    }
   ],
   "source": [
    "df_train.info()"
   ]
  },
  {
   "cell_type": "code",
   "execution_count": 6,
   "metadata": {},
   "outputs": [
    {
     "name": "stdout",
     "output_type": "stream",
     "text": [
      "PoolQC          99.52%\n",
      "MiscFeature     96.30%\n",
      "Alley           93.77%\n",
      "Fence           80.75%\n",
      "MasVnrType      59.73%\n",
      "FireplaceQu     47.26%\n",
      "LotFrontage     17.74%\n",
      "GarageQual       5.55%\n",
      "GarageFinish     5.55%\n",
      "GarageType       5.55%\n",
      "GarageYrBlt      5.55%\n",
      "GarageCond       5.55%\n",
      "BsmtFinType2     2.60%\n",
      "BsmtExposure     2.60%\n",
      "BsmtCond         2.53%\n",
      "BsmtQual         2.53%\n",
      "BsmtFinType1     2.53%\n",
      "MasVnrArea       0.55%\n",
      "Electrical       0.07%\n",
      "Condition2       0.00%\n",
      "dtype: object\n"
     ]
    }
   ],
   "source": [
    "# Check Train data for missing values (Top 20)\n",
    "missing_percent = (df_train.isnull().sum() / df_train.shape[0] * 100).sort_values(ascending=False).head(20)\n",
    "missing_percent = missing_percent.apply(lambda x: f\"{x:.2f}%\")\n",
    "print(missing_percent)\n",
    "\n",
    "del missing_percent"
   ]
  },
  {
   "cell_type": "markdown",
   "metadata": {},
   "source": [
    "<a id='4top'></a>\n",
    "\n",
    "- **The first 4 columns have more than 80% missing values in the training set**\n",
    "    - Instead of dropping these columns, let's understand what each one represents:\n",
    "        - **PoolQC**: **Quality** of the pool  \n",
    "            - NA: No Pool  \n",
    "        - **MiscFeature**: Miscellaneous features not covered in other categories  \n",
    "            - NA: None  \n",
    "        - **Alley**: Type of alley access to the property  \n",
    "            - NA: No alley access  \n",
    "        - **Fence**: **Quality** of the fence  \n",
    "            - NA: No Fence  \n",
    "\n",
    "- In these cases, **NA is not missing data, <font color= '#A22538' >it is information</font>**\n",
    "\n",
    "- Therefore, we should explore the values in these columns and their **relationship with the sale price**\n"
   ]
  },
  {
   "cell_type": "code",
   "execution_count": 7,
   "metadata": {},
   "outputs": [],
   "source": [
    "# We can replace the missing values in the first column with -1\n",
    "df_train[['PoolQC','MiscFeature','Alley','Fence']] = df_train[['PoolQC','MiscFeature','Alley','Fence']].fillna(-1)"
   ]
  },
  {
   "cell_type": "code",
   "execution_count": 8,
   "metadata": {},
   "outputs": [
    {
     "data": {
      "image/png": "[encoded data removed]",
      "text/plain": [
       "<Figure size 1000x700 with 4 Axes>"
      ]
     },
     "metadata": {},
     "output_type": "display_data"
    }
   ],
   "source": [
    "# Plot boxplots showing the relationship between SalePrice and selected categorical features\n",
    "plot_categorical_boxplots(\n",
    "    df=df_train,\n",
    "    cat_vars=['PoolQC', 'MiscFeature', 'Alley', 'Fence'],\n",
    "    target='SalePrice',\n",
    "    color=red_color,\n",
    "    title='Sale Price vs Categorical Features',\n",
    "    figsize=(10, 7)\n",
    ")"
   ]
  },
  {
   "cell_type": "markdown",
   "metadata": {},
   "source": [
    "We can see that houses with excellent pool quality (‘Ex’) clearly exhibit higher sale prices, indicating that this feature significantly adds value to the property."
   ]
  },
  {
   "cell_type": "markdown",
   "metadata": {},
   "source": [
    "<a id='FireplaceQu'></a>\n",
    "- **<font color='#A22538'>FireplaceQu</font>: Fireplace quality**  \n",
    "  - There are two fireplace-related columns:  \n",
    "    - **Fireplaces**: Number of fireplaces  \n",
    "    - **FireplaceQu**: Quality of the fireplace, if present  \n",
    "  - **Ex**: Excellent – Exceptional masonry fireplace  \n",
    "  - **Gd**: Good – Masonry fireplace on main level  \n",
    "  - **TA**: Average – Prefabricated fireplace in living area or masonry in basement  \n",
    "  - **Fa**: Fair – Prefabricated fireplace in basement  \n",
    "  - **Po**: Poor – Ben Franklin stove  \n",
    "  - **NA**: No fireplace present  \n",
    "    <!-- Missing values here are genuine: they indicate absence of a fireplace -->\n"
   ]
  },
  {
   "cell_type": "code",
   "execution_count": 9,
   "metadata": {},
   "outputs": [
    {
     "data": {
      "text/plain": [
       "Fireplaces  FireplaceQu\n",
       "0           NaN            690\n",
       "1           Gd             324\n",
       "            TA             259\n",
       "2           Gd              54\n",
       "            TA              53\n",
       "1           Fa              28\n",
       "            Po              20\n",
       "            Ex              19\n",
       "2           Fa               4\n",
       "            Ex               4\n",
       "3           Gd               2\n",
       "            Ex               1\n",
       "            Fa               1\n",
       "            TA               1\n",
       "Name: count, dtype: int64"
      ]
     },
     "execution_count": 9,
     "metadata": {},
     "output_type": "execute_result"
    }
   ],
   "source": [
    "# Visualizing the number of fireplaces\n",
    "df_train[['Fireplaces', 'FireplaceQu']].value_counts(dropna=False)"
   ]
  },
  {
   "cell_type": "code",
   "execution_count": 10,
   "metadata": {},
   "outputs": [],
   "source": [
    "# Adjusting this column\n",
    "# This NaN is also meaningful — it indicates that \"there is no fireplace\"\n",
    "df_train[['FireplaceQu']] = df_train[['FireplaceQu']].fillna(-1)"
   ]
  },
  {
   "cell_type": "markdown",
   "metadata": {},
   "source": [
    "<a id='LotFrontage'></a>\n",
    "- **<font color='#A22538'>LotFrontage</font>: Linear feet of street connected to the property**  \n",
    "  - Missing values are likely due to data omission, not true absence of frontage.  \n",
    "  - They will be imputed using the neighborhood mean to preserve geographic consistency.\n",
    "\n",
    "<a id='LotConfig'></a>\n",
    "- **<font color='#A22538'>LotConfig</font>: Lot configuration**  \n",
    "  - **Inside**: Inside lot, surrounded by other lots with no street corner  \n",
    "  - **Corner**: Corner lot, facing two intersecting streets  \n",
    "  - **CulDSac**: Located in a cul-de-sac, offering more privacy  \n",
    "  - **FR2**: Frontage on two sides of the property  \n",
    "  - **FR3**: Frontage on three sides of the property"
   ]
  },
  {
   "cell_type": "code",
   "execution_count": 11,
   "metadata": {},
   "outputs": [
    {
     "data": {
      "text/plain": [
       "LotConfig\n",
       "Inside     134\n",
       "Corner      62\n",
       "CulDSac     49\n",
       "FR2         14\n",
       "Name: count, dtype: int64"
      ]
     },
     "execution_count": 11,
     "metadata": {},
     "output_type": "execute_result"
    }
   ],
   "source": [
    "# Understanding the types of properties with missing values\n",
    "df_train.loc[df_train.LotFrontage.isnull(), 'LotConfig'].value_counts()"
   ]
  },
  {
   "cell_type": "code",
   "execution_count": 12,
   "metadata": {},
   "outputs": [
    {
     "data": {
      "text/plain": [
       "LotConfig\n",
       "Corner     84.039801\n",
       "CulDSac    59.911111\n",
       "FR2        63.515152\n",
       "FR3        70.750000\n",
       "Inside     67.715686\n",
       "Name: LotFrontage, dtype: float64"
      ]
     },
     "execution_count": 12,
     "metadata": {},
     "output_type": "execute_result"
    }
   ],
   "source": [
    "# Checking the average LotFrontage by property type\n",
    "df_train.groupby('LotConfig')['LotFrontage'].mean()"
   ]
  },
  {
   "cell_type": "code",
   "execution_count": 13,
   "metadata": {},
   "outputs": [],
   "source": [
    "# Missing values in LotFrontage are likely due to data recording issues, not absence of frontage\n",
    "# Imputing missing values using the mean LotFrontage grouped by LotConfig (preserves contextual variation)\n",
    "df_train['LotFrontage'] = df_train['LotFrontage'].fillna(\n",
    "    df_train.groupby('LotConfig')['LotFrontage'].transform('mean'))"
   ]
  },
  {
   "cell_type": "markdown",
   "metadata": {},
   "source": [
    "<a id=\"garagem\"></a>\n",
    "- **Evaluating the <font color='#A22538'>garage-related columns</font>**\n",
    "    - **GarageType**: Garage location  \n",
    "        - **NA: No Garage**  \n",
    "    - **GarageYrBlt**: Year garage was built  \n",
    "    - **GarageFinish**: Interior finish of the garage  \n",
    "        - **NA: No Garage**  \n",
    "    - **GarageCars**: Size of garage in car capacity\n",
    "    - **GarageArea**: Size of garage in square feet\n",
    "    - **GarageQual**: Garage quality  \n",
    "        - **NA: No Garage**  \n",
    "    - **GarageCond**: Garage condition  \n",
    "        - **NA: No Garage**"
   ]
  },
  {
   "cell_type": "code",
   "execution_count": 14,
   "metadata": {},
   "outputs": [
    {
     "data": {
      "text/plain": [
       "GarageType  GarageYrBlt  GarageFinish  GarageCars  GarageArea  GarageQual  GarageCond\n",
       "NaN         NaN          NaN           0           0           NaN         NaN           81\n",
       "Name: count, dtype: int64"
      ]
     },
     "execution_count": 14,
     "metadata": {},
     "output_type": "execute_result"
    }
   ],
   "source": [
    "# Checking for columns that contain 'Garage' in their name\n",
    "col_garage = df_train.columns[df_train.columns.str.contains(\"Garage\")]\n",
    "\n",
    "# Filtering the dataset\n",
    "df_train.loc[df_train.GarageType.isnull(), col_garage].value_counts(dropna=False)"
   ]
  },
  {
   "cell_type": "code",
   "execution_count": 15,
   "metadata": {},
   "outputs": [
    {
     "data": {
      "application/vnd.microsoft.datawrangler.viewer.v0+json": {
       "columns": [
        {
         "name": "index",
         "rawType": "int64",
         "type": "integer"
        },
        {
         "name": "GarageType",
         "rawType": "object",
         "type": "unknown"
        },
        {
         "name": "GarageYrBlt",
         "rawType": "float64",
         "type": "float"
        },
        {
         "name": "GarageFinish",
         "rawType": "object",
         "type": "unknown"
        },
        {
         "name": "GarageCars",
         "rawType": "int64",
         "type": "integer"
        },
        {
         "name": "GarageArea",
         "rawType": "int64",
         "type": "integer"
        },
        {
         "name": "GarageQual",
         "rawType": "object",
         "type": "unknown"
        },
        {
         "name": "GarageCond",
         "rawType": "object",
         "type": "unknown"
        }
       ],
       "conversionMethod": "pd.DataFrame",
       "ref": "e6ad8221-6453-40ca-8442-d17e55f64ae3",
       "rows": [
        [
         "39",
         null,
         null,
         null,
         "0",
         "0",
         null,
         null
        ],
        [
         "48",
         null,
         null,
         null,
         "0",
         "0",
         null,
         null
        ],
        [
         "78",
         null,
         null,
         null,
         "0",
         "0",
         null,
         null
        ]
       ],
       "shape": {
        "columns": 7,
        "rows": 3
       }
      },
      "text/html": [
       "<div>\n",
       "<style scoped>\n",
       "    .dataframe tbody tr th:only-of-type {\n",
       "        vertical-align: middle;\n",
       "    }\n",
       "\n",
       "    .dataframe tbody tr th {\n",
       "        vertical-align: top;\n",
       "    }\n",
       "\n",
       "    .dataframe thead th {\n",
       "        text-align: right;\n",
       "    }\n",
       "</style>\n",
       "<table border=\"1\" class=\"dataframe\">\n",
       "  <thead>\n",
       "    <tr style=\"text-align: right;\">\n",
       "      <th></th>\n",
       "      <th>GarageType</th>\n",
       "      <th>GarageYrBlt</th>\n",
       "      <th>GarageFinish</th>\n",
       "      <th>GarageCars</th>\n",
       "      <th>GarageArea</th>\n",
       "      <th>GarageQual</th>\n",
       "      <th>GarageCond</th>\n",
       "    </tr>\n",
       "  </thead>\n",
       "  <tbody>\n",
       "    <tr>\n",
       "      <th>39</th>\n",
       "      <td>NaN</td>\n",
       "      <td>NaN</td>\n",
       "      <td>NaN</td>\n",
       "      <td>0</td>\n",
       "      <td>0</td>\n",
       "      <td>NaN</td>\n",
       "      <td>NaN</td>\n",
       "    </tr>\n",
       "    <tr>\n",
       "      <th>48</th>\n",
       "      <td>NaN</td>\n",
       "      <td>NaN</td>\n",
       "      <td>NaN</td>\n",
       "      <td>0</td>\n",
       "      <td>0</td>\n",
       "      <td>NaN</td>\n",
       "      <td>NaN</td>\n",
       "    </tr>\n",
       "    <tr>\n",
       "      <th>78</th>\n",
       "      <td>NaN</td>\n",
       "      <td>NaN</td>\n",
       "      <td>NaN</td>\n",
       "      <td>0</td>\n",
       "      <td>0</td>\n",
       "      <td>NaN</td>\n",
       "      <td>NaN</td>\n",
       "    </tr>\n",
       "  </tbody>\n",
       "</table>\n",
       "</div>"
      ],
      "text/plain": [
       "   GarageType  GarageYrBlt GarageFinish  GarageCars  GarageArea GarageQual  \\\n",
       "39        NaN          NaN          NaN           0           0        NaN   \n",
       "48        NaN          NaN          NaN           0           0        NaN   \n",
       "78        NaN          NaN          NaN           0           0        NaN   \n",
       "\n",
       "   GarageCond  \n",
       "39        NaN  \n",
       "48        NaN  \n",
       "78        NaN  "
      ]
     },
     "execution_count": 15,
     "metadata": {},
     "output_type": "execute_result"
    }
   ],
   "source": [
    "# We can select only the columns with missing values\n",
    "df_train.loc[df_train.GarageType.isnull(), col_garage[[0,1,2,3,4,5,6]]].head(3)  "
   ]
  },
  {
   "cell_type": "code",
   "execution_count": 16,
   "metadata": {},
   "outputs": [
    {
     "name": "stdout",
     "output_type": "stream",
     "text": [
      "\n",
      "Checking when 'GarageType' is NaN:\n",
      "GarageType  GarageYrBlt  GarageFinish  GarageCars  GarageArea  GarageQual  GarageCond\n",
      "True        True         True          False       False       True        True          81\n",
      "Name: count, dtype: int64\n",
      "\n",
      "Checking when 'GarageYrBlt' is NaN:\n",
      "GarageType  GarageYrBlt  GarageFinish  GarageCars  GarageArea  GarageQual  GarageCond\n",
      "True        True         True          False       False       True        True          81\n",
      "Name: count, dtype: int64\n",
      "\n",
      "Checking when 'GarageFinish' is NaN:\n",
      "GarageType  GarageYrBlt  GarageFinish  GarageCars  GarageArea  GarageQual  GarageCond\n",
      "True        True         True          False       False       True        True          81\n",
      "Name: count, dtype: int64\n",
      "\n",
      "Checking when 'GarageCars' is NaN:\n",
      "Series([], Name: count, dtype: int64)\n",
      "\n",
      "Checking when 'GarageArea' is NaN:\n",
      "Series([], Name: count, dtype: int64)\n",
      "\n",
      "Checking when 'GarageQual' is NaN:\n",
      "GarageType  GarageYrBlt  GarageFinish  GarageCars  GarageArea  GarageQual  GarageCond\n",
      "True        True         True          False       False       True        True          81\n",
      "Name: count, dtype: int64\n",
      "\n",
      "Checking when 'GarageCond' is NaN:\n",
      "GarageType  GarageYrBlt  GarageFinish  GarageCars  GarageArea  GarageQual  GarageCond\n",
      "True        True         True          False       False       True        True          81\n",
      "Name: count, dtype: int64\n"
     ]
    }
   ],
   "source": [
    "# Loop to check whether, when one column is NaN, the others are also NaN\n",
    "for col in col_garage:\n",
    "    print(f\"\\nChecking when '{col}' is NaN:\")\n",
    "    \n",
    "    # Filter rows where the current column is NaN\n",
    "    subset = df_train.loc[df_train[col].isna(), col_garage]\n",
    "    \n",
    "    # Count the patterns of NaN values across the garage-related columns\n",
    "    pattern_counts = subset.isna().value_counts(dropna=False)\n",
    "    print(pattern_counts)"
   ]
  },
  {
   "cell_type": "code",
   "execution_count": 17,
   "metadata": {},
   "outputs": [],
   "source": [
    "# Replace these values with -1\n",
    "df_train.loc[df_train.GarageType.isnull(), col_garage[[0,1,2,5,6]]] = -1"
   ]
  },
  {
   "cell_type": "code",
   "execution_count": 18,
   "metadata": {},
   "outputs": [
    {
     "data": {
      "text/plain": [
       "GarageType  GarageYrBlt  GarageFinish  GarageCars  GarageArea  GarageQual  GarageCond\n",
       "-1          -1.0         -1            0           0           -1          -1            81\n",
       "Name: count, dtype: int64"
      ]
     },
     "execution_count": 18,
     "metadata": {},
     "output_type": "execute_result"
    }
   ],
   "source": [
    "# Checking again when the number of cars is equal to 0\n",
    "df_train.loc[df_train.GarageCars == 0, col_garage].value_counts(dropna=False)"
   ]
  },
  {
   "cell_type": "markdown",
   "metadata": {},
   "source": [
    "<a id=\"basement\"></a>\n",
    "- **Evaluating the <font color= '#A22538' >basement-related columns</font>**\n",
    "    - **NA: No Basement**"
   ]
  },
  {
   "cell_type": "code",
   "execution_count": 19,
   "metadata": {},
   "outputs": [
    {
     "data": {
      "text/plain": [
       "Index(['BsmtQual', 'BsmtCond', 'BsmtExposure', 'BsmtFinType1', 'BsmtFinType2'], dtype='object')"
      ]
     },
     "execution_count": 19,
     "metadata": {},
     "output_type": "execute_result"
    }
   ],
   "source": [
    "# Checking for columns that contain 'Bsmt' in their name\n",
    "col_Bsmt = df_train.columns[df_train.columns.str.contains(\"Bsmt\") & (df_train.isnull().any())]\n",
    "\n",
    "col_Bsmt"
   ]
  },
  {
   "cell_type": "code",
   "execution_count": 20,
   "metadata": {},
   "outputs": [
    {
     "name": "stdout",
     "output_type": "stream",
     "text": [
      "\n",
      "Checking when 'BsmtQual' is NaN:\n",
      "BsmtQual  BsmtCond  BsmtExposure  BsmtFinType1  BsmtFinType2\n",
      "True      True      True          True          True            37\n",
      "Name: count, dtype: int64\n",
      "\n",
      "Checking when 'BsmtCond' is NaN:\n",
      "BsmtQual  BsmtCond  BsmtExposure  BsmtFinType1  BsmtFinType2\n",
      "True      True      True          True          True            37\n",
      "Name: count, dtype: int64\n",
      "\n",
      "Checking when 'BsmtExposure' is NaN:\n",
      "BsmtQual  BsmtCond  BsmtExposure  BsmtFinType1  BsmtFinType2\n",
      "True      True      True          True          True            37\n",
      "False     False     True          False         False            1\n",
      "Name: count, dtype: int64\n",
      "\n",
      "Checking when 'BsmtFinType1' is NaN:\n",
      "BsmtQual  BsmtCond  BsmtExposure  BsmtFinType1  BsmtFinType2\n",
      "True      True      True          True          True            37\n",
      "Name: count, dtype: int64\n",
      "\n",
      "Checking when 'BsmtFinType2' is NaN:\n",
      "BsmtQual  BsmtCond  BsmtExposure  BsmtFinType1  BsmtFinType2\n",
      "True      True      True          True          True            37\n",
      "False     False     False         False         True             1\n",
      "Name: count, dtype: int64\n"
     ]
    }
   ],
   "source": [
    "# Loop to check whether, when one column is NaN, the others are also NaN\n",
    "for col in col_Bsmt:\n",
    "    print(f\"\\nChecking when '{col}' is NaN:\")\n",
    "    \n",
    "    # Filter rows where the current column is NaN\n",
    "    subset = df_train.loc[df_train[col].isna(), col_Bsmt]\n",
    "    \n",
    "    # Count the patterns of NaN values across the garage-related columns\n",
    "    pattern_counts = subset.isna().value_counts(dropna=False)\n",
    "    print(pattern_counts)"
   ]
  },
  {
   "cell_type": "markdown",
   "metadata": {},
   "source": [
    "<a id=\"basement2\"></a>\n",
    "\n",
    "- **BsmtFinType2**: Rating of basement finished area (if multiple types)  \n",
    "    - **GLQ**: Good Living Quarters  \n",
    "    - **ALQ**: Average Living Quarters  \n",
    "    - **BLQ**: Below Average Living Quarters  \n",
    "    - **Rec**: Average Rec Room  \n",
    "    - **LwQ**: Low Quality  \n",
    "    - **Unf**: Unfinished  \n",
    "    - **NA**: No Basement  \n",
    "\n",
    "- **BsmtFinSF2**: Type 2 finished square feet"
   ]
  },
  {
   "cell_type": "code",
   "execution_count": 21,
   "metadata": {},
   "outputs": [
    {
     "data": {
      "text/plain": [
       "BsmtQual  BsmtCond  BsmtExposure  BsmtFinType1  BsmtFinType2\n",
       "NaN       NaN       NaN           NaN           NaN             37\n",
       "Gd        TA        No            GLQ           NaN              1\n",
       "Name: count, dtype: int64"
      ]
     },
     "execution_count": 21,
     "metadata": {},
     "output_type": "execute_result"
    }
   ],
   "source": [
    "# Analyzing the values\n",
    "df_train.loc[df_train.BsmtFinType2.isnull(), col_Bsmt].value_counts(dropna=False)"
   ]
  },
  {
   "cell_type": "code",
   "execution_count": 22,
   "metadata": {},
   "outputs": [
    {
     "data": {
      "text/plain": [
       "BsmtFinType2  BsmtFinSF2\n",
       "NaN           0             37\n",
       "              479            1\n",
       "Name: count, dtype: int64"
      ]
     },
     "execution_count": 22,
     "metadata": {},
     "output_type": "execute_result"
    }
   ],
   "source": [
    "# Checking the value combinations of 'BsmtFinType2' and 'BsmtFinSF2' where 'BsmtFinType2' is missing\n",
    "df_train.loc[df_train.BsmtFinType2.isnull(), ['BsmtFinType2', 'BsmtFinSF2']].value_counts(dropna=False)"
   ]
  },
  {
   "cell_type": "markdown",
   "metadata": {},
   "source": [
    "It doesn't make sense for **BsmtFinType2** to indicate that there is no basement (NA) while **BsmtFinSF2** reports a positive area value."
   ]
  },
  {
   "cell_type": "code",
   "execution_count": 23,
   "metadata": {},
   "outputs": [
    {
     "data": {
      "text/plain": [
       "BsmtFinType2\n",
       "Unf    1256\n",
       "Rec      54\n",
       "LwQ      46\n",
       "BLQ      33\n",
       "ALQ      19\n",
       "GLQ      14\n",
       "Name: count, dtype: int64"
      ]
     },
     "execution_count": 23,
     "metadata": {},
     "output_type": "execute_result"
    }
   ],
   "source": [
    "# Analyzing the values for BsmtExposure\n",
    "df_train.BsmtFinType2.value_counts()"
   ]
  },
  {
   "cell_type": "code",
   "execution_count": 24,
   "metadata": {},
   "outputs": [
    {
     "data": {
      "text/plain": [
       "'Unf'"
      ]
     },
     "execution_count": 24,
     "metadata": {},
     "output_type": "execute_result"
    }
   ],
   "source": [
    "# Checking the mode of BsmtFinType2\n",
    "mod_BsmtFinType2 = df_train.BsmtFinType2.mode()[0]\n",
    "mod_BsmtFinType2"
   ]
  },
  {
   "cell_type": "code",
   "execution_count": 25,
   "metadata": {},
   "outputs": [],
   "source": [
    "# Replacing missing values with 'Unf' where BsmtFinSF2 is not 0\n",
    "df_train.loc[(df_train.BsmtFinType2.isnull()) & (df_train.BsmtFinSF2 != 0), 'BsmtFinType2'] = mod_BsmtFinType2"
   ]
  },
  {
   "cell_type": "code",
   "execution_count": 26,
   "metadata": {},
   "outputs": [],
   "source": [
    "# Replace these values with -1\n",
    "df_train.loc[df_train.BsmtQual.isnull(), col_Bsmt] = -1"
   ]
  },
  {
   "cell_type": "markdown",
   "metadata": {},
   "source": [
    "<a id=\"bsmt_exposure\"></a>\n",
    "\n",
    "- **Now let's investigate the last basement-related variable: `BsmtExposure`**\n",
    "\n",
    "- **BsmtExposure**: Refers to walkout or garden level walls  \n",
    "    - **Gd**: Good Exposure  \n",
    "    - **Av**: Average Exposure (split levels or foyers typically score average or above)  \n",
    "    - **Mn**: Minimum Exposure  \n",
    "    - **No**: No Exposure  \n",
    "    - **NA**: No Basement  \n"
   ]
  },
  {
   "cell_type": "code",
   "execution_count": 27,
   "metadata": {},
   "outputs": [
    {
     "data": {
      "text/plain": [
       "BsmtExposure\n",
       "No    953\n",
       "Av    221\n",
       "Gd    134\n",
       "Mn    114\n",
       "-1     37\n",
       "Name: count, dtype: int64"
      ]
     },
     "execution_count": 27,
     "metadata": {},
     "output_type": "execute_result"
    }
   ],
   "source": [
    "# Analyzing the values for BsmtExposure\n",
    "df_train.BsmtExposure.value_counts()"
   ]
  },
  {
   "cell_type": "code",
   "execution_count": 28,
   "metadata": {},
   "outputs": [
    {
     "data": {
      "text/plain": [
       "'No'"
      ]
     },
     "execution_count": 28,
     "metadata": {},
     "output_type": "execute_result"
    }
   ],
   "source": [
    "# And again, we can see the most frequent value\n",
    "mod_BsmtExposure = df_train.BsmtExposure.mode()[0]\n",
    "mod_BsmtExposure"
   ]
  },
  {
   "cell_type": "code",
   "execution_count": 29,
   "metadata": {},
   "outputs": [],
   "source": [
    "# Replacing missing values with \"No\" (the most frequent value)\n",
    "df_train.loc[df_train.BsmtExposure.isnull(), 'BsmtExposure'] = mod_BsmtExposure"
   ]
  },
  {
   "cell_type": "code",
   "execution_count": 30,
   "metadata": {},
   "outputs": [
    {
     "data": {
      "text/plain": [
       "MasVnrType     872\n",
       "MasVnrArea       8\n",
       "Electrical       1\n",
       "MSSubClass       0\n",
       "LotArea          0\n",
       "Street           0\n",
       "MSZoning         0\n",
       "LotFrontage      0\n",
       "LandContour      0\n",
       "Utilities        0\n",
       "dtype: int64"
      ]
     },
     "execution_count": 30,
     "metadata": {},
     "output_type": "execute_result"
    }
   ],
   "source": [
    "# Verifying null values in the set\n",
    "df_train.isnull().sum().sort_values(ascending=False).head(10)"
   ]
  },
  {
   "cell_type": "markdown",
   "metadata": {},
   "source": [
    "<a id='MasVnrType'></a>  \n",
    "- **Now analyzing the <font color='#A22538'>MasVnrType</font> column**  \n",
    "- This column refers to the **type of masonry veneer** used in the house:  \n",
    "    - **BrkCmn**: Brick Common  \n",
    "    - **BrkFace**: Brick Face  \n",
    "    - **CBlock**: Cinder Block  \n",
    "    - **None**: No veneer  \n",
    "    - **Stone**: Stone veneer"
   ]
  },
  {
   "cell_type": "code",
   "execution_count": 31,
   "metadata": {},
   "outputs": [
    {
     "data": {
      "application/vnd.microsoft.datawrangler.viewer.v0+json": {
       "columns": [
        {
         "name": "index",
         "rawType": "int64",
         "type": "integer"
        },
        {
         "name": "MasVnrType",
         "rawType": "object",
         "type": "unknown"
        },
        {
         "name": "MasVnrArea",
         "rawType": "float64",
         "type": "float"
        }
       ],
       "conversionMethod": "pd.DataFrame",
       "ref": "646a035a-3f7a-4e9d-8074-16cf9ce98391",
       "rows": [
        [
         "1",
         null,
         "0.0"
        ],
        [
         "3",
         null,
         "0.0"
        ],
        [
         "5",
         null,
         "0.0"
        ],
        [
         "8",
         null,
         "0.0"
        ],
        [
         "9",
         null,
         "0.0"
        ],
        [
         "10",
         null,
         "0.0"
        ],
        [
         "12",
         null,
         "0.0"
        ],
        [
         "15",
         null,
         "0.0"
        ],
        [
         "17",
         null,
         "0.0"
        ],
        [
         "18",
         null,
         "0.0"
        ],
        [
         "19",
         null,
         "0.0"
        ],
        [
         "21",
         null,
         "0.0"
        ],
        [
         "23",
         null,
         "0.0"
        ],
        [
         "24",
         null,
         "0.0"
        ],
        [
         "26",
         null,
         "0.0"
        ],
        [
         "28",
         null,
         "0.0"
        ],
        [
         "29",
         null,
         "0.0"
        ],
        [
         "30",
         null,
         "0.0"
        ],
        [
         "31",
         null,
         "0.0"
        ],
        [
         "32",
         null,
         "0.0"
        ],
        [
         "33",
         null,
         "0.0"
        ],
        [
         "36",
         null,
         "0.0"
        ],
        [
         "38",
         null,
         "0.0"
        ],
        [
         "39",
         null,
         "0.0"
        ],
        [
         "41",
         null,
         "0.0"
        ],
        [
         "42",
         null,
         "0.0"
        ],
        [
         "43",
         null,
         "0.0"
        ],
        [
         "44",
         null,
         "0.0"
        ],
        [
         "46",
         null,
         "0.0"
        ],
        [
         "47",
         null,
         "0.0"
        ],
        [
         "48",
         null,
         "0.0"
        ],
        [
         "49",
         null,
         "0.0"
        ],
        [
         "50",
         null,
         "0.0"
        ],
        [
         "51",
         null,
         "0.0"
        ],
        [
         "52",
         null,
         "0.0"
        ],
        [
         "53",
         null,
         "0.0"
        ],
        [
         "54",
         null,
         "0.0"
        ],
        [
         "57",
         null,
         "0.0"
        ],
        [
         "59",
         null,
         "0.0"
        ],
        [
         "60",
         null,
         "0.0"
        ],
        [
         "61",
         null,
         "0.0"
        ],
        [
         "63",
         null,
         "0.0"
        ],
        [
         "68",
         null,
         "0.0"
        ],
        [
         "69",
         null,
         "0.0"
        ],
        [
         "71",
         null,
         "0.0"
        ],
        [
         "74",
         null,
         "0.0"
        ],
        [
         "75",
         null,
         "0.0"
        ],
        [
         "76",
         null,
         "0.0"
        ],
        [
         "77",
         null,
         "0.0"
        ],
        [
         "78",
         null,
         "0.0"
        ]
       ],
       "shape": {
        "columns": 2,
        "rows": 872
       }
      },
      "text/html": [
       "<div>\n",
       "<style scoped>\n",
       "    .dataframe tbody tr th:only-of-type {\n",
       "        vertical-align: middle;\n",
       "    }\n",
       "\n",
       "    .dataframe tbody tr th {\n",
       "        vertical-align: top;\n",
       "    }\n",
       "\n",
       "    .dataframe thead th {\n",
       "        text-align: right;\n",
       "    }\n",
       "</style>\n",
       "<table border=\"1\" class=\"dataframe\">\n",
       "  <thead>\n",
       "    <tr style=\"text-align: right;\">\n",
       "      <th></th>\n",
       "      <th>MasVnrType</th>\n",
       "      <th>MasVnrArea</th>\n",
       "    </tr>\n",
       "  </thead>\n",
       "  <tbody>\n",
       "    <tr>\n",
       "      <th>1</th>\n",
       "      <td>NaN</td>\n",
       "      <td>0.0</td>\n",
       "    </tr>\n",
       "    <tr>\n",
       "      <th>3</th>\n",
       "      <td>NaN</td>\n",
       "      <td>0.0</td>\n",
       "    </tr>\n",
       "    <tr>\n",
       "      <th>5</th>\n",
       "      <td>NaN</td>\n",
       "      <td>0.0</td>\n",
       "    </tr>\n",
       "    <tr>\n",
       "      <th>8</th>\n",
       "      <td>NaN</td>\n",
       "      <td>0.0</td>\n",
       "    </tr>\n",
       "    <tr>\n",
       "      <th>9</th>\n",
       "      <td>NaN</td>\n",
       "      <td>0.0</td>\n",
       "    </tr>\n",
       "    <tr>\n",
       "      <th>...</th>\n",
       "      <td>...</td>\n",
       "      <td>...</td>\n",
       "    </tr>\n",
       "    <tr>\n",
       "      <th>1454</th>\n",
       "      <td>NaN</td>\n",
       "      <td>0.0</td>\n",
       "    </tr>\n",
       "    <tr>\n",
       "      <th>1455</th>\n",
       "      <td>NaN</td>\n",
       "      <td>0.0</td>\n",
       "    </tr>\n",
       "    <tr>\n",
       "      <th>1457</th>\n",
       "      <td>NaN</td>\n",
       "      <td>0.0</td>\n",
       "    </tr>\n",
       "    <tr>\n",
       "      <th>1458</th>\n",
       "      <td>NaN</td>\n",
       "      <td>0.0</td>\n",
       "    </tr>\n",
       "    <tr>\n",
       "      <th>1459</th>\n",
       "      <td>NaN</td>\n",
       "      <td>0.0</td>\n",
       "    </tr>\n",
       "  </tbody>\n",
       "</table>\n",
       "<p>872 rows × 2 columns</p>\n",
       "</div>"
      ],
      "text/plain": [
       "     MasVnrType  MasVnrArea\n",
       "1           NaN         0.0\n",
       "3           NaN         0.0\n",
       "5           NaN         0.0\n",
       "8           NaN         0.0\n",
       "9           NaN         0.0\n",
       "...         ...         ...\n",
       "1454        NaN         0.0\n",
       "1455        NaN         0.0\n",
       "1457        NaN         0.0\n",
       "1458        NaN         0.0\n",
       "1459        NaN         0.0\n",
       "\n",
       "[872 rows x 2 columns]"
      ]
     },
     "execution_count": 31,
     "metadata": {},
     "output_type": "execute_result"
    }
   ],
   "source": [
    "# Filtering the dataset\n",
    "df_train.loc[df_train.MasVnrType.isnull(),['MasVnrType','MasVnrArea']]"
   ]
  },
  {
   "cell_type": "markdown",
   "metadata": {},
   "source": [
    "There shouldn't be cases where MasVnrArea has a positive value but MasVnrType is missing. Therefore, we fill MasVnrType with its unconditional mode only for rows where MasVnrArea is not null and MasVnrType is null."
   ]
  },
  {
   "cell_type": "code",
   "execution_count": 32,
   "metadata": {},
   "outputs": [],
   "source": [
    "masvnrtype_mode = df_train['MasVnrType'].mode()[0]\n",
    "\n",
    "mask = (df_train['MasVnrType'].isnull()) & (df_train['MasVnrArea'] > 0)\n",
    "\n",
    "df_train.loc[mask, 'MasVnrType'] = masvnrtype_mode"
   ]
  },
  {
   "cell_type": "code",
   "execution_count": 33,
   "metadata": {},
   "outputs": [],
   "source": [
    "df_train['MasVnrType'] = df_train['MasVnrType'].fillna('None')\n",
    "df_train['MasVnrArea'] = df_train['MasVnrArea'].fillna(0)"
   ]
  },
  {
   "cell_type": "code",
   "execution_count": 34,
   "metadata": {},
   "outputs": [
    {
     "data": {
      "text/plain": [
       "MasVnrType\n",
       "None       867\n",
       "BrkFace    450\n",
       "Stone      128\n",
       "BrkCmn      15\n",
       "Name: count, dtype: int64"
      ]
     },
     "execution_count": 34,
     "metadata": {},
     "output_type": "execute_result"
    }
   ],
   "source": [
    "df_train['MasVnrType'].value_counts()"
   ]
  },
  {
   "cell_type": "markdown",
   "metadata": {},
   "source": [
    "<a id=''></a>\n",
    "- **Analyzing the remaining train dataset**\n",
    "- **Understanding these columns**\n",
    "    - **<font color='#A22538'>MSZoning</font>**: Area where the house is located  \n",
    "        - NA: The information was not added to the dataset (missing information)\n",
    "    - **<font color='#A22538'>Functional</font>**: House functionalities  \n",
    "        - NA: The information was not added to the dataset (missing information)\n",
    "    - **<font color='#A22538'>Utilities</font>**: Available utilities  \n",
    "        - NA: The information was not added to the dataset (missing information)\n"
   ]
  },
  {
   "cell_type": "code",
   "execution_count": 35,
   "metadata": {},
   "outputs": [
    {
     "data": {
      "text/plain": [
       "Electrical\n",
       "SBrkr    1334\n",
       "FuseA      94\n",
       "FuseF      27\n",
       "FuseP       3\n",
       "Mix         1\n",
       "NaN         1\n",
       "Name: count, dtype: int64"
      ]
     },
     "execution_count": 35,
     "metadata": {},
     "output_type": "execute_result"
    }
   ],
   "source": [
    "df_train['Electrical'].value_counts(dropna=False)"
   ]
  },
  {
   "cell_type": "code",
   "execution_count": 36,
   "metadata": {},
   "outputs": [],
   "source": [
    "# Checking the mode of Electrical\n",
    "mod_Electrical = df_train.Electrical.mode()[0]\n",
    "\n",
    "# Replacing missing values in the Electrical column\n",
    "df_train.loc[df_train.Electrical.isnull(), 'Electrical'] = mod_Electrical"
   ]
  },
  {
   "cell_type": "code",
   "execution_count": 89,
   "metadata": {},
   "outputs": [
    {
     "name": "stdout",
     "output_type": "stream",
     "text": [
      "Id              0.00%\n",
      "MSSubClass      0.00%\n",
      "MSZoning        0.00%\n",
      "LotFrontage     0.00%\n",
      "LotArea         0.00%\n",
      "Street          0.00%\n",
      "Alley           0.00%\n",
      "LotShape        0.00%\n",
      "LandContour     0.00%\n",
      "Utilities       0.00%\n",
      "LotConfig       0.00%\n",
      "LandSlope       0.00%\n",
      "Neighborhood    0.00%\n",
      "Condition1      0.00%\n",
      "Condition2      0.00%\n",
      "BldgType        0.00%\n",
      "HouseStyle      0.00%\n",
      "OverallQual     0.00%\n",
      "OverallCond     0.00%\n",
      "YearBuilt       0.00%\n",
      "dtype: object\n"
     ]
    }
   ],
   "source": [
    "# Check Train data for missing values (Top 20)\n",
    "missing_percent = (df_train.isnull().sum() / df_train.shape[0] * 100).sort_values(ascending=False).head(20)\n",
    "missing_percent = missing_percent.apply(lambda x: f\"{x:.2f}%\")\n",
    "print(missing_percent)\n",
    "\n",
    "del missing_percent"
   ]
  },
  {
   "cell_type": "markdown",
   "metadata": {},
   "source": [
    "### Test data"
   ]
  },
  {
   "cell_type": "code",
   "execution_count": 38,
   "metadata": {},
   "outputs": [
    {
     "name": "stdout",
     "output_type": "stream",
     "text": [
      "<class 'pandas.core.frame.DataFrame'>\n",
      "RangeIndex: 1459 entries, 0 to 1458\n",
      "Data columns (total 80 columns):\n",
      " #   Column         Non-Null Count  Dtype  \n",
      "---  ------         --------------  -----  \n",
      " 0   Id             1459 non-null   int64  \n",
      " 1   MSSubClass     1459 non-null   int64  \n",
      " 2   MSZoning       1455 non-null   object \n",
      " 3   LotFrontage    1232 non-null   float64\n",
      " 4   LotArea        1459 non-null   int64  \n",
      " 5   Street         1459 non-null   object \n",
      " 6   Alley          107 non-null    object \n",
      " 7   LotShape       1459 non-null   object \n",
      " 8   LandContour    1459 non-null   object \n",
      " 9   Utilities      1457 non-null   object \n",
      " 10  LotConfig      1459 non-null   object \n",
      " 11  LandSlope      1459 non-null   object \n",
      " 12  Neighborhood   1459 non-null   object \n",
      " 13  Condition1     1459 non-null   object \n",
      " 14  Condition2     1459 non-null   object \n",
      " 15  BldgType       1459 non-null   object \n",
      " 16  HouseStyle     1459 non-null   object \n",
      " 17  OverallQual    1459 non-null   int64  \n",
      " 18  OverallCond    1459 non-null   int64  \n",
      " 19  YearBuilt      1459 non-null   int64  \n",
      " 20  YearRemodAdd   1459 non-null   int64  \n",
      " 21  RoofStyle      1459 non-null   object \n",
      " 22  RoofMatl       1459 non-null   object \n",
      " 23  Exterior1st    1458 non-null   object \n",
      " 24  Exterior2nd    1458 non-null   object \n",
      " 25  MasVnrType     565 non-null    object \n",
      " 26  MasVnrArea     1444 non-null   float64\n",
      " 27  ExterQual      1459 non-null   object \n",
      " 28  ExterCond      1459 non-null   object \n",
      " 29  Foundation     1459 non-null   object \n",
      " 30  BsmtQual       1415 non-null   object \n",
      " 31  BsmtCond       1414 non-null   object \n",
      " 32  BsmtExposure   1415 non-null   object \n",
      " 33  BsmtFinType1   1417 non-null   object \n",
      " 34  BsmtFinSF1     1458 non-null   float64\n",
      " 35  BsmtFinType2   1417 non-null   object \n",
      " 36  BsmtFinSF2     1458 non-null   float64\n",
      " 37  BsmtUnfSF      1458 non-null   float64\n",
      " 38  TotalBsmtSF    1458 non-null   float64\n",
      " 39  Heating        1459 non-null   object \n",
      " 40  HeatingQC      1459 non-null   object \n",
      " 41  CentralAir     1459 non-null   object \n",
      " 42  Electrical     1459 non-null   object \n",
      " 43  1stFlrSF       1459 non-null   int64  \n",
      " 44  2ndFlrSF       1459 non-null   int64  \n",
      " 45  LowQualFinSF   1459 non-null   int64  \n",
      " 46  GrLivArea      1459 non-null   int64  \n",
      " 47  BsmtFullBath   1457 non-null   float64\n",
      " 48  BsmtHalfBath   1457 non-null   float64\n",
      " 49  FullBath       1459 non-null   int64  \n",
      " 50  HalfBath       1459 non-null   int64  \n",
      " 51  BedroomAbvGr   1459 non-null   int64  \n",
      " 52  KitchenAbvGr   1459 non-null   int64  \n",
      " 53  KitchenQual    1458 non-null   object \n",
      " 54  TotRmsAbvGrd   1459 non-null   int64  \n",
      " 55  Functional     1457 non-null   object \n",
      " 56  Fireplaces     1459 non-null   int64  \n",
      " 57  FireplaceQu    729 non-null    object \n",
      " 58  GarageType     1383 non-null   object \n",
      " 59  GarageYrBlt    1381 non-null   float64\n",
      " 60  GarageFinish   1381 non-null   object \n",
      " 61  GarageCars     1458 non-null   float64\n",
      " 62  GarageArea     1458 non-null   float64\n",
      " 63  GarageQual     1381 non-null   object \n",
      " 64  GarageCond     1381 non-null   object \n",
      " 65  PavedDrive     1459 non-null   object \n",
      " 66  WoodDeckSF     1459 non-null   int64  \n",
      " 67  OpenPorchSF    1459 non-null   int64  \n",
      " 68  EnclosedPorch  1459 non-null   int64  \n",
      " 69  3SsnPorch      1459 non-null   int64  \n",
      " 70  ScreenPorch    1459 non-null   int64  \n",
      " 71  PoolArea       1459 non-null   int64  \n",
      " 72  PoolQC         3 non-null      object \n",
      " 73  Fence          290 non-null    object \n",
      " 74  MiscFeature    51 non-null     object \n",
      " 75  MiscVal        1459 non-null   int64  \n",
      " 76  MoSold         1459 non-null   int64  \n",
      " 77  YrSold         1459 non-null   int64  \n",
      " 78  SaleType       1458 non-null   object \n",
      " 79  SaleCondition  1459 non-null   object \n",
      "dtypes: float64(11), int64(26), object(43)\n",
      "memory usage: 912.0+ KB\n"
     ]
    }
   ],
   "source": [
    "df_test.info()"
   ]
  },
  {
   "cell_type": "code",
   "execution_count": 39,
   "metadata": {},
   "outputs": [
    {
     "name": "stdout",
     "output_type": "stream",
     "text": [
      "PoolQC          99.79%\n",
      "MiscFeature     96.50%\n",
      "Alley           92.67%\n",
      "Fence           80.12%\n",
      "MasVnrType      61.27%\n",
      "FireplaceQu     50.03%\n",
      "LotFrontage     15.56%\n",
      "GarageYrBlt      5.35%\n",
      "GarageCond       5.35%\n",
      "GarageFinish     5.35%\n",
      "GarageQual       5.35%\n",
      "GarageType       5.21%\n",
      "BsmtCond         3.08%\n",
      "BsmtQual         3.02%\n",
      "BsmtExposure     3.02%\n",
      "BsmtFinType1     2.88%\n",
      "BsmtFinType2     2.88%\n",
      "MasVnrArea       1.03%\n",
      "MSZoning         0.27%\n",
      "BsmtHalfBath     0.14%\n",
      "dtype: object\n"
     ]
    }
   ],
   "source": [
    "# Check Test data for missing values (Top 20)\n",
    "missing_percent = (df_test.isnull().sum() / df_test.shape[0] * 100).sort_values(ascending=False).head(20)\n",
    "missing_percent = missing_percent.apply(lambda x: f\"{x:.2f}%\")\n",
    "print(missing_percent)\n",
    "\n",
    "del missing_percent"
   ]
  },
  {
   "cell_type": "code",
   "execution_count": 40,
   "metadata": {},
   "outputs": [],
   "source": [
    "# We can replace the missing values in the first column with -1\n",
    "df_test[['PoolQC','MiscFeature','Alley','Fence']] = df_test[['PoolQC','MiscFeature','Alley','Fence']].fillna(-1)"
   ]
  },
  {
   "cell_type": "markdown",
   "metadata": {},
   "source": [
    "<a id='FireplaceQu'></a>\n",
    "- **Now analyzing the <font color='#A22538'>FireplaceQu</font> column**\n",
    "- There are 2 fireplace-related columns:\n",
    "    - **Fireplaces**: Number of fireplaces  \n",
    "    - **FireplaceQu**: Fireplace quality"
   ]
  },
  {
   "cell_type": "code",
   "execution_count": 41,
   "metadata": {},
   "outputs": [
    {
     "data": {
      "text/plain": [
       "Fireplaces  FireplaceQu\n",
       "0           NaN            730\n",
       "1           Gd             303\n",
       "            TA             236\n",
       "2           Gd              58\n",
       "            TA              39\n",
       "1           Fa              35\n",
       "            Po              26\n",
       "            Ex              18\n",
       "2           Fa               6\n",
       "3           TA               3\n",
       "            Gd               3\n",
       "2           Ex               1\n",
       "4           TA               1\n",
       "Name: count, dtype: int64"
      ]
     },
     "execution_count": 41,
     "metadata": {},
     "output_type": "execute_result"
    }
   ],
   "source": [
    "# Visualizing the number of records in each label\n",
    "df_test[['Fireplaces', 'FireplaceQu']].value_counts(dropna=False)"
   ]
  },
  {
   "cell_type": "code",
   "execution_count": 42,
   "metadata": {},
   "outputs": [],
   "source": [
    "# Adjusting this column\n",
    "# This NaN is also meaningful — it indicates that there is no fireplace\n",
    "df_test[['FireplaceQu']] = df_test[['FireplaceQu']].fillna(-1)"
   ]
  },
  {
   "cell_type": "markdown",
   "metadata": {},
   "source": [
    "<a id='LotFrontage'></a>\n",
    "- **<font color='#A22538'>LotFrontage</font>: Linear feet of street connected to the property**  \n",
    "  - Missing values are likely due to data omission, not true absence of frontage.  \n",
    "  - They will be imputed using the neighborhood mean to preserve geographic consistency.\n",
    "\n",
    "<a id='LotConfig'></a>\n",
    "- **<font color='#A22538'>LotConfig</font>: Lot configuration**  \n",
    "  - **Inside**: Inside lot, surrounded by other lots with no street corner  \n",
    "  - **Corner**: Corner lot, facing two intersecting streets  \n",
    "  - **CulDSac**: Located in a cul-de-sac, offering more privacy  \n",
    "  - **FR2**: Frontage on two sides of the property  \n",
    "  - **FR3**: Frontage on three sides of the property"
   ]
  },
  {
   "cell_type": "code",
   "execution_count": 43,
   "metadata": {},
   "outputs": [
    {
     "data": {
      "text/plain": [
       "LotConfig\n",
       "Inside     137\n",
       "Corner      42\n",
       "CulDSac     38\n",
       "FR2          6\n",
       "FR3          4\n",
       "Name: count, dtype: int64"
      ]
     },
     "execution_count": 43,
     "metadata": {},
     "output_type": "execute_result"
    }
   ],
   "source": [
    "# Understanding the types of properties with missing values\n",
    "df_test.loc[df_test.LotFrontage.isnull(), 'LotConfig'].value_counts()"
   ]
  },
  {
   "cell_type": "code",
   "execution_count": 44,
   "metadata": {},
   "outputs": [
    {
     "data": {
      "text/plain": [
       "LotConfig\n",
       "Corner     81.373786\n",
       "CulDSac    53.568182\n",
       "FR2        58.968750\n",
       "FR3        85.000000\n",
       "Inside     66.709746\n",
       "Name: LotFrontage, dtype: float64"
      ]
     },
     "execution_count": 44,
     "metadata": {},
     "output_type": "execute_result"
    }
   ],
   "source": [
    "# Checking the average LotFrontage by property type\n",
    "df_test.groupby('LotConfig')['LotFrontage'].mean()"
   ]
  },
  {
   "cell_type": "code",
   "execution_count": 45,
   "metadata": {},
   "outputs": [],
   "source": [
    "# Missing values in LotFrontage are likely due to data recording issues, not absence of frontage\n",
    "# Imputing missing values using the mean LotFrontage grouped by LotConfig (preserves contextual variation)\n",
    "df_test['LotFrontage'] = df_test['LotFrontage'].fillna(\n",
    "    df_test.groupby('LotConfig')['LotFrontage'].transform('mean'))"
   ]
  },
  {
   "cell_type": "markdown",
   "metadata": {},
   "source": [
    "<a id=\"garagem\"></a>\n",
    "- **Evaluating the <font color='#A22538'>garage-related columns</font>**\n",
    "    - **GarageType**: Garage location  \n",
    "        - **NA: No Garage**  \n",
    "    - **GarageYrBlt**: Year garage was built  \n",
    "    - **GarageFinish**: Interior finish of the garage  \n",
    "        - **NA: No Garage**  \n",
    "    - **GarageCars**: Size of garage in car capacity\n",
    "    - **GarageArea**: Size of garage in square feet\n",
    "    - **GarageQual**: Garage quality  \n",
    "        - **NA: No Garage**  \n",
    "    - **GarageCond**: Garage condition  \n",
    "        - **NA: No Garage**"
   ]
  },
  {
   "cell_type": "code",
   "execution_count": 46,
   "metadata": {},
   "outputs": [
    {
     "data": {
      "text/plain": [
       "GarageType  GarageYrBlt  GarageFinish  GarageCars  GarageArea  GarageQual  GarageCond\n",
       "NaN         NaN          NaN           0.0         0.0         NaN         NaN           76\n",
       "Name: count, dtype: int64"
      ]
     },
     "execution_count": 46,
     "metadata": {},
     "output_type": "execute_result"
    }
   ],
   "source": [
    "# Checking for columns that contain 'Garage' in their name\n",
    "col_garage = df_test.columns[df_test.columns.str.contains(\"Garage\")]\n",
    "\n",
    "# Filtering the dataset\n",
    "df_test.loc[df_test.GarageType.isnull(), col_garage].value_counts(dropna=False)"
   ]
  },
  {
   "cell_type": "code",
   "execution_count": 47,
   "metadata": {},
   "outputs": [
    {
     "name": "stdout",
     "output_type": "stream",
     "text": [
      "\n",
      "Checking when 'GarageType' is NaN:\n",
      "GarageType  GarageYrBlt  GarageFinish  GarageCars  GarageArea  GarageQual  GarageCond\n",
      "True        True         True          False       False       True        True          76\n",
      "Name: count, dtype: int64\n",
      "\n",
      "Checking when 'GarageYrBlt' is NaN:\n",
      "GarageType  GarageYrBlt  GarageFinish  GarageCars  GarageArea  GarageQual  GarageCond\n",
      "True        True         True          False       False       True        True          76\n",
      "False       True         True          False       False       True        True           1\n",
      "                                       True        True        True        True           1\n",
      "Name: count, dtype: int64\n",
      "\n",
      "Checking when 'GarageFinish' is NaN:\n",
      "GarageType  GarageYrBlt  GarageFinish  GarageCars  GarageArea  GarageQual  GarageCond\n",
      "True        True         True          False       False       True        True          76\n",
      "False       True         True          False       False       True        True           1\n",
      "                                       True        True        True        True           1\n",
      "Name: count, dtype: int64\n",
      "\n",
      "Checking when 'GarageCars' is NaN:\n",
      "GarageType  GarageYrBlt  GarageFinish  GarageCars  GarageArea  GarageQual  GarageCond\n",
      "False       True         True          True        True        True        True          1\n",
      "Name: count, dtype: int64\n",
      "\n",
      "Checking when 'GarageArea' is NaN:\n",
      "GarageType  GarageYrBlt  GarageFinish  GarageCars  GarageArea  GarageQual  GarageCond\n",
      "False       True         True          True        True        True        True          1\n",
      "Name: count, dtype: int64\n",
      "\n",
      "Checking when 'GarageQual' is NaN:\n",
      "GarageType  GarageYrBlt  GarageFinish  GarageCars  GarageArea  GarageQual  GarageCond\n",
      "True        True         True          False       False       True        True          76\n",
      "False       True         True          False       False       True        True           1\n",
      "                                       True        True        True        True           1\n",
      "Name: count, dtype: int64\n",
      "\n",
      "Checking when 'GarageCond' is NaN:\n",
      "GarageType  GarageYrBlt  GarageFinish  GarageCars  GarageArea  GarageQual  GarageCond\n",
      "True        True         True          False       False       True        True          76\n",
      "False       True         True          False       False       True        True           1\n",
      "                                       True        True        True        True           1\n",
      "Name: count, dtype: int64\n"
     ]
    }
   ],
   "source": [
    "# Loop to check whether, when one column is NaN, the others are also NaN\n",
    "for col in col_garage:\n",
    "    print(f\"\\nChecking when '{col}' is NaN:\")\n",
    "    \n",
    "    # Filter rows where the current column is NaN\n",
    "    subset = df_test.loc[df_test[col].isna(), col_garage]\n",
    "    \n",
    "    # Count the patterns of NaN values across the garage-related columns\n",
    "    pattern_counts = subset.isna().value_counts(dropna=False)\n",
    "    print(pattern_counts)"
   ]
  },
  {
   "cell_type": "code",
   "execution_count": 48,
   "metadata": {},
   "outputs": [],
   "source": [
    "# If GarageType is NaN, then GarageFinish, GarageQual, and GarageCond are also assumed to be NaN\n",
    "# In those cases, replace the selected garage-related columns with -1\n",
    "\n",
    "df_test.loc[df_test.GarageType.isnull(), col_garage[[0,1,2,5,6]]] = -1"
   ]
  },
  {
   "cell_type": "code",
   "execution_count": 49,
   "metadata": {},
   "outputs": [
    {
     "data": {
      "text/plain": [
       "GarageType  GarageYrBlt  GarageFinish  GarageCars  GarageArea  GarageQual  GarageCond\n",
       "Detchd      NaN          NaN           1.0         360.0       NaN         NaN           1\n",
       "                                       NaN         NaN         NaN         NaN           1\n",
       "Name: count, dtype: int64"
      ]
     },
     "execution_count": 49,
     "metadata": {},
     "output_type": "execute_result"
    }
   ],
   "source": [
    "# Filtering the dataset\n",
    "df_test.loc[df_test.GarageYrBlt.isnull(), col_garage].value_counts(dropna=False)"
   ]
  },
  {
   "cell_type": "markdown",
   "metadata": {},
   "source": [
    "<a id=\"garagem\"></a>\n",
    "\n",
    "- **Now let's investigate the rows where all garage-related columns are empty but `GarageType` is <font color='#A22538'>Detchd</font>**\n",
    "    - **GarageType**: Garage location  \n",
    "        - **2Types**: More than one type of garage  \n",
    "        - **Attchd**: Attached to home  \n",
    "        - **Basment**: Basement garage  \n",
    "        - **BuiltIn**: Built-in (garage is part of the house — typically with a room above)  \n",
    "        - **CarPort**: Car port  \n",
    "        - **Detchd**: Detached from home  \n",
    "        - **NA**: No garage "
   ]
  },
  {
   "cell_type": "code",
   "execution_count": 50,
   "metadata": {},
   "outputs": [
    {
     "data": {
      "text/plain": [
       "GarageType  GarageYrBlt  GarageFinish  GarageCars  GarageArea  GarageQual  GarageCond\n",
       "Detchd      NaN          NaN           1.0         360.0       NaN         NaN           1\n",
       "                                       NaN         NaN         NaN         NaN           1\n",
       "Name: count, dtype: int64"
      ]
     },
     "execution_count": 50,
     "metadata": {},
     "output_type": "execute_result"
    }
   ],
   "source": [
    "# Let's check how many rows have all garage-related columns missing when `GarageType` is Detchd:\n",
    "df_test.loc[df_test.GarageCond.isnull(), col_garage].value_counts(dropna=False)"
   ]
  },
  {
   "cell_type": "markdown",
   "metadata": {},
   "source": [
    "The presence of values in GarageCars and GarageArea indicates that the property has a garage.\n",
    "\n",
    "- Now let's investigate column GarageYrBlt"
   ]
  },
  {
   "cell_type": "code",
   "execution_count": 51,
   "metadata": {},
   "outputs": [
    {
     "name": "stdout",
     "output_type": "stream",
     "text": [
      "GarageYrBlt     1.000000\n",
      "YearBuilt       0.615951\n",
      "GarageArea      0.494670\n",
      "GarageCars      0.413711\n",
      "YearRemodAdd    0.321667\n",
      "Name: GarageYrBlt, dtype: float64\n"
     ]
    }
   ],
   "source": [
    "# 1. Filter the DataFrame to include only detached garages (Detchd) with valid year built\n",
    "df_test2 = df_test.loc[(df_test.GarageType == 'Detchd') & (df_test.GarageYrBlt != -1)]\n",
    "\n",
    "# 2. Select only numeric columns to avoid \"could not convert string to float\" error\n",
    "df_test_numeric = df_test2.select_dtypes(include='number')\n",
    "\n",
    "# 3. Calculate the correlation of all numeric variables with 'GarageYrBlt'\n",
    "top_corrs = df_test_numeric.corr()['GarageYrBlt'].sort_values(ascending=False).head(5)\n",
    "print(top_corrs)"
   ]
  },
  {
   "cell_type": "code",
   "execution_count": 52,
   "metadata": {},
   "outputs": [
    {
     "data": {
      "image/png": "[encoded data removed]",
      "text/plain": [
       "<Figure size 500x400 with 1 Axes>"
      ]
     },
     "metadata": {},
     "output_type": "display_data"
    }
   ],
   "source": [
    "# Set up a smaller figure\n",
    "fig, ax = plt.subplots(figsize=(5, 4))  # smaller size\n",
    "\n",
    "# Scatter plot\n",
    "ax.scatter(df_test_numeric.GarageYrBlt, df_test_numeric.YearBuilt, color=red_color, alpha=0.7, edgecolors='none', s=60)\n",
    "\n",
    "# Labels and title\n",
    "ax.set_xlabel('Garage Year Built', fontsize=11)\n",
    "ax.set_ylabel('House Year Built', fontsize=11)\n",
    "ax.set_title('Garage vs House Year Built (Detached)', fontsize=13)\n",
    "\n",
    "# No grid\n",
    "ax.grid(False)\n",
    "\n",
    "# Clean layout\n",
    "plt.tight_layout()\n",
    "plt.show()"
   ]
  },
  {
   "cell_type": "code",
   "execution_count": 53,
   "metadata": {},
   "outputs": [
    {
     "data": {
      "text/plain": [
       "CheckYears\n",
       "True     1127\n",
       "False     332\n",
       "Name: count, dtype: int64"
      ]
     },
     "execution_count": 53,
     "metadata": {},
     "output_type": "execute_result"
    }
   ],
   "source": [
    "# Create a new column that checks if the garage year is the same as the house year\n",
    "df_test['CheckYears'] = df_test.GarageYrBlt == df_test.YearBuilt\n",
    "\n",
    "# Count how many times the condition is True or False\n",
    "df_test.CheckYears.value_counts()"
   ]
  },
  {
   "cell_type": "code",
   "execution_count": 54,
   "metadata": {},
   "outputs": [
    {
     "data": {
      "text/plain": [
       "76"
      ]
     },
     "execution_count": 54,
     "metadata": {},
     "output_type": "execute_result"
    }
   ],
   "source": [
    "# Checking the values when there is no garage\n",
    "df_test.loc[(df_test.CheckYears == False) & (df_test.GarageYrBlt == -1)].shape[0]"
   ]
  },
  {
   "cell_type": "markdown",
   "metadata": {},
   "source": [
    "In most cases where a garage exists, it appears to have been built at the same time as the house."
   ]
  },
  {
   "cell_type": "code",
   "execution_count": 55,
   "metadata": {},
   "outputs": [],
   "source": [
    "df_test = df_test.drop('CheckYears',axis=1)"
   ]
  },
  {
   "cell_type": "code",
   "execution_count": 56,
   "metadata": {},
   "outputs": [
    {
     "data": {
      "text/plain": [
       "666     1910\n",
       "1116    1923\n",
       "Name: YearBuilt, dtype: int64"
      ]
     },
     "execution_count": 56,
     "metadata": {},
     "output_type": "execute_result"
    }
   ],
   "source": [
    "# Check the house construction years for rows where GarageCond is missing\n",
    "df_test.loc[df_test.GarageCond.isnull(), 'YearBuilt']"
   ]
  },
  {
   "cell_type": "code",
   "execution_count": 57,
   "metadata": {},
   "outputs": [],
   "source": [
    "# Replace missing GarageYrBlt values with the house's construction year (YearBuilt)\n",
    "df_test.loc[df_test.GarageCond.isnull(), 'GarageYrBlt'] = df_test.loc[df_test.GarageCond.isnull(), 'YearBuilt']"
   ]
  },
  {
   "cell_type": "markdown",
   "metadata": {},
   "source": [
    "We used two closely related columns — the year the house was built and the year the garage was built — and used one to validate the other."
   ]
  },
  {
   "cell_type": "code",
   "execution_count": 58,
   "metadata": {},
   "outputs": [
    {
     "data": {
      "text/plain": [
       "GarageType  GarageYrBlt  GarageFinish  GarageCars  GarageArea  GarageQual  GarageCond\n",
       "Detchd      1910.0       NaN           1.0         360.0       NaN         NaN           1\n",
       "            1923.0       NaN           NaN         NaN         NaN         NaN           1\n",
       "Name: count, dtype: int64"
      ]
     },
     "execution_count": 58,
     "metadata": {},
     "output_type": "execute_result"
    }
   ],
   "source": [
    "# Let's check how many rows have all garage-related columns missing when `GarageType` is Detchd:\n",
    "df_test.loc[df_test.GarageFinish.isnull(), col_garage].value_counts(dropna=False)"
   ]
  },
  {
   "cell_type": "markdown",
   "metadata": {},
   "source": [
    "<a id=\"garagem\"></a>\n",
    "\n",
    "- **GarageFinish**: Interior finish of the garage\n",
    "    - **Fin**: Finished\n",
    "    - **RFn**: Rough Finished\n",
    "    - **Unf**: Unfinished \n",
    "    - **NA**: No garage "
   ]
  },
  {
   "cell_type": "code",
   "execution_count": 59,
   "metadata": {},
   "outputs": [
    {
     "data": {
      "text/plain": [
       "GarageFinish\n",
       "Unf    365\n",
       "RFn     15\n",
       "Fin     10\n",
       "Name: count, dtype: int64"
      ]
     },
     "execution_count": 59,
     "metadata": {},
     "output_type": "execute_result"
    }
   ],
   "source": [
    "# Check the most frequent values of GarageFinish when GarageType is 'Detchd'\n",
    "df_test.loc[(df_test.GarageType == 'Detchd'), 'GarageFinish'].value_counts()"
   ]
  },
  {
   "cell_type": "code",
   "execution_count": 60,
   "metadata": {},
   "outputs": [
    {
     "name": "stdout",
     "output_type": "stream",
     "text": [
      "Unf\n"
     ]
    }
   ],
   "source": [
    "# Get the mode of GarageFinish for 'Detchd' garage type and there is only one value as the most common\n",
    "most_common_finish = df_test.loc[(df_test.GarageType == 'Detchd'), 'GarageFinish'].mode()[0]\n",
    "print(most_common_finish)"
   ]
  },
  {
   "cell_type": "code",
   "execution_count": 61,
   "metadata": {},
   "outputs": [],
   "source": [
    "# Replace missing GarageFinish values with the mode, only for 'Detchd' garages\n",
    "df_test.loc[(df_test.GarageType == 'Detchd') & (df_test.GarageFinish.isnull()), 'GarageFinish'] = most_common_finish"
   ]
  },
  {
   "cell_type": "markdown",
   "metadata": {},
   "source": [
    "<a id=\"garagem\"></a>\n",
    "\n",
    "Now let's investigate:\n",
    "- **GarageQual**: Garage quality  \n",
    "    - **Ex**: Excellent  \n",
    "    - **Gd**: Good  \n",
    "    - **TA**: Typical/Average  \n",
    "    - **Fa**: Fair  \n",
    "    - **Po**: Poor  \n",
    "    - **NA**: No Garage  \n",
    "\n",
    "- **GarageCond**: Garage condition  \n",
    "    - **Ex**: Excellent  \n",
    "    - **Gd**: Good  \n",
    "    - **TA**: Typical/Average  \n",
    "    - **Fa**: Fair  \n",
    "    - **Po**: Poor  \n",
    "    - **NA**: No Garage "
   ]
  },
  {
   "cell_type": "code",
   "execution_count": 62,
   "metadata": {},
   "outputs": [
    {
     "data": {
      "text/plain": [
       "GarageQual  GarageCond\n",
       "TA          TA            309\n",
       "Fa          TA             38\n",
       "            Fa             19\n",
       "TA          Fa             16\n",
       "Fa          Po              3\n",
       "Gd          Ex              1\n",
       "Po          Po              1\n",
       "            Fa              1\n",
       "TA          Gd              1\n",
       "            Po              1\n",
       "Name: count, dtype: int64"
      ]
     },
     "execution_count": 62,
     "metadata": {},
     "output_type": "execute_result"
    }
   ],
   "source": [
    "# Check value combinations of GarageQual and GarageCond when GarageType is 'Detchd'\n",
    "df_test.loc[(df_test.GarageType == 'Detchd'), ['GarageQual', 'GarageCond']].value_counts()"
   ]
  },
  {
   "cell_type": "markdown",
   "metadata": {},
   "source": [
    "There may have been issues during the audit process that introduced bias into the data, possibly leading evaluators to record values that did not reflect the actual conditions."
   ]
  },
  {
   "cell_type": "code",
   "execution_count": 63,
   "metadata": {},
   "outputs": [
    {
     "name": "stdout",
     "output_type": "stream",
     "text": [
      "TA TA\n"
     ]
    }
   ],
   "source": [
    "# Get the mode for GarageQual and GarageCond among 'Detchd' garages\n",
    "mode_garage_qual = df_test.loc[(df_test.GarageType == 'Detchd'), 'GarageQual'].mode()[0]\n",
    "mode_garage_cond = df_test.loc[(df_test.GarageType == 'Detchd'), 'GarageCond'].mode()[0]\n",
    "print(mode_garage_qual, mode_garage_cond)"
   ]
  },
  {
   "cell_type": "code",
   "execution_count": 64,
   "metadata": {},
   "outputs": [],
   "source": [
    "# Replace missing GarageQual values with the most common one\n",
    "df_test.loc[(df_test.GarageType == 'Detchd') & (df_test.GarageQual.isnull()), 'GarageQual'] = mode_garage_qual\n",
    "# Replace missing GarageCond values with the most common one\n",
    "df_test.loc[(df_test.GarageType == 'Detchd') & (df_test.GarageCond.isnull()), 'GarageCond'] = mode_garage_cond"
   ]
  },
  {
   "cell_type": "markdown",
   "metadata": {},
   "source": [
    "<a id=\"garagem\"></a>\n",
    "\n",
    "Now let's investigate:\n",
    "- **GarageCars**: Size of garage in car capacity\n",
    "\n",
    "- **GarageArea**: Size of garage in square feet "
   ]
  },
  {
   "cell_type": "code",
   "execution_count": 65,
   "metadata": {},
   "outputs": [
    {
     "name": "stdout",
     "output_type": "stream",
     "text": [
      "GarageCars      1.519182\n",
      "GarageArea    412.202046\n",
      "dtype: float64\n"
     ]
    }
   ],
   "source": [
    "# Calculate the mean of GarageCars and GarageArea for detached garages\n",
    "mean_values = df_test.loc[df_test.GarageType == 'Detchd', ['GarageCars', 'GarageArea']].mean()\n",
    "print(mean_values)"
   ]
  },
  {
   "cell_type": "code",
   "execution_count": 66,
   "metadata": {},
   "outputs": [
    {
     "name": "stdout",
     "output_type": "stream",
     "text": [
      "[  2. 412.]\n"
     ]
    }
   ],
   "source": [
    "# We can't have half a car!\n",
    "mean_values = round(mean_values, 0)\n",
    "print(mean_values.values)"
   ]
  },
  {
   "cell_type": "code",
   "execution_count": 67,
   "metadata": {},
   "outputs": [],
   "source": [
    "# Fill missing values ONLY for GarageCars and GarageArea, for detached garages\n",
    "df_test.loc[(df_test.GarageType == 'Detchd') & (df_test.GarageCars.isnull()), 'GarageCars'] = mean_values['GarageCars']\n",
    "df_test.loc[(df_test.GarageType == 'Detchd') & (df_test.GarageArea.isnull()), 'GarageArea'] = mean_values['GarageArea']"
   ]
  },
  {
   "cell_type": "code",
   "execution_count": 68,
   "metadata": {},
   "outputs": [
    {
     "data": {
      "application/vnd.microsoft.datawrangler.viewer.v0+json": {
       "columns": [
        {
         "name": "index",
         "rawType": "int64",
         "type": "integer"
        },
        {
         "name": "Functional",
         "rawType": "object",
         "type": "string"
        },
        {
         "name": "Fireplaces",
         "rawType": "int64",
         "type": "integer"
        },
        {
         "name": "FireplaceQu",
         "rawType": "object",
         "type": "unknown"
        },
        {
         "name": "GarageType",
         "rawType": "object",
         "type": "string"
        },
        {
         "name": "GarageYrBlt",
         "rawType": "float64",
         "type": "float"
        },
        {
         "name": "GarageFinish",
         "rawType": "object",
         "type": "string"
        },
        {
         "name": "GarageCars",
         "rawType": "float64",
         "type": "float"
        },
        {
         "name": "GarageArea",
         "rawType": "float64",
         "type": "float"
        },
        {
         "name": "GarageQual",
         "rawType": "object",
         "type": "string"
        },
        {
         "name": "GarageCond",
         "rawType": "object",
         "type": "string"
        },
        {
         "name": "PavedDrive",
         "rawType": "object",
         "type": "string"
        },
        {
         "name": "WoodDeckSF",
         "rawType": "int64",
         "type": "integer"
        },
        {
         "name": "OpenPorchSF",
         "rawType": "int64",
         "type": "integer"
        },
        {
         "name": "EnclosedPorch",
         "rawType": "int64",
         "type": "integer"
        },
        {
         "name": "3SsnPorch",
         "rawType": "int64",
         "type": "integer"
        }
       ],
       "conversionMethod": "pd.DataFrame",
       "ref": "00575b2f-b073-4d58-a24c-a57a3b272c13",
       "rows": [
        [
         "666",
         "Typ",
         "0",
         "-1",
         "Detchd",
         "1910.0",
         "Unf",
         "1.0",
         "360.0",
         "TA",
         "TA",
         "Y",
         "64",
         "0",
         "180",
         "0"
        ],
        [
         "1116",
         "Typ",
         "0",
         "-1",
         "Detchd",
         "1923.0",
         "Unf",
         "2.0",
         "412.0",
         "TA",
         "TA",
         "Y",
         "174",
         "0",
         "212",
         "0"
        ]
       ],
       "shape": {
        "columns": 15,
        "rows": 2
       }
      },
      "text/html": [
       "<div>\n",
       "<style scoped>\n",
       "    .dataframe tbody tr th:only-of-type {\n",
       "        vertical-align: middle;\n",
       "    }\n",
       "\n",
       "    .dataframe tbody tr th {\n",
       "        vertical-align: top;\n",
       "    }\n",
       "\n",
       "    .dataframe thead th {\n",
       "        text-align: right;\n",
       "    }\n",
       "</style>\n",
       "<table border=\"1\" class=\"dataframe\">\n",
       "  <thead>\n",
       "    <tr style=\"text-align: right;\">\n",
       "      <th></th>\n",
       "      <th>Functional</th>\n",
       "      <th>Fireplaces</th>\n",
       "      <th>FireplaceQu</th>\n",
       "      <th>GarageType</th>\n",
       "      <th>GarageYrBlt</th>\n",
       "      <th>GarageFinish</th>\n",
       "      <th>GarageCars</th>\n",
       "      <th>GarageArea</th>\n",
       "      <th>GarageQual</th>\n",
       "      <th>GarageCond</th>\n",
       "      <th>PavedDrive</th>\n",
       "      <th>WoodDeckSF</th>\n",
       "      <th>OpenPorchSF</th>\n",
       "      <th>EnclosedPorch</th>\n",
       "      <th>3SsnPorch</th>\n",
       "    </tr>\n",
       "  </thead>\n",
       "  <tbody>\n",
       "    <tr>\n",
       "      <th>666</th>\n",
       "      <td>Typ</td>\n",
       "      <td>0</td>\n",
       "      <td>-1</td>\n",
       "      <td>Detchd</td>\n",
       "      <td>1910.0</td>\n",
       "      <td>Unf</td>\n",
       "      <td>1.0</td>\n",
       "      <td>360.0</td>\n",
       "      <td>TA</td>\n",
       "      <td>TA</td>\n",
       "      <td>Y</td>\n",
       "      <td>64</td>\n",
       "      <td>0</td>\n",
       "      <td>180</td>\n",
       "      <td>0</td>\n",
       "    </tr>\n",
       "    <tr>\n",
       "      <th>1116</th>\n",
       "      <td>Typ</td>\n",
       "      <td>0</td>\n",
       "      <td>-1</td>\n",
       "      <td>Detchd</td>\n",
       "      <td>1923.0</td>\n",
       "      <td>Unf</td>\n",
       "      <td>2.0</td>\n",
       "      <td>412.0</td>\n",
       "      <td>TA</td>\n",
       "      <td>TA</td>\n",
       "      <td>Y</td>\n",
       "      <td>174</td>\n",
       "      <td>0</td>\n",
       "      <td>212</td>\n",
       "      <td>0</td>\n",
       "    </tr>\n",
       "  </tbody>\n",
       "</table>\n",
       "</div>"
      ],
      "text/plain": [
       "     Functional  Fireplaces FireplaceQu GarageType  GarageYrBlt GarageFinish  \\\n",
       "666         Typ           0          -1     Detchd       1910.0          Unf   \n",
       "1116        Typ           0          -1     Detchd       1923.0          Unf   \n",
       "\n",
       "      GarageCars  GarageArea GarageQual GarageCond PavedDrive  WoodDeckSF  \\\n",
       "666          1.0       360.0         TA         TA          Y          64   \n",
       "1116         2.0       412.0         TA         TA          Y         174   \n",
       "\n",
       "      OpenPorchSF  EnclosedPorch  3SsnPorch  \n",
       "666             0            180          0  \n",
       "1116            0            212          0  "
      ]
     },
     "execution_count": 68,
     "metadata": {},
     "output_type": "execute_result"
    }
   ],
   "source": [
    "# Check how those values look in specific rows\n",
    "df_test.iloc[[666, 1116], 55:70]"
   ]
  },
  {
   "cell_type": "markdown",
   "metadata": {},
   "source": [
    "We have now completed the analysis of the garage-related variables."
   ]
  },
  {
   "cell_type": "markdown",
   "metadata": {},
   "source": [
    "<a id=\"basement\"></a>\n",
    "- **Evaluating the <font color= '#A22538' >basement-related columns</font>**\n",
    "    - **NA: No Basement**"
   ]
  },
  {
   "cell_type": "code",
   "execution_count": 69,
   "metadata": {},
   "outputs": [
    {
     "data": {
      "text/plain": [
       "Index(['BsmtQual', 'BsmtCond', 'BsmtExposure', 'BsmtFinType1', 'BsmtFinSF1',\n",
       "       'BsmtFinType2', 'BsmtFinSF2', 'BsmtUnfSF', 'TotalBsmtSF',\n",
       "       'BsmtFullBath', 'BsmtHalfBath'],\n",
       "      dtype='object')"
      ]
     },
     "execution_count": 69,
     "metadata": {},
     "output_type": "execute_result"
    }
   ],
   "source": [
    "# Checking for columns that contain 'Bsmt' in their name\n",
    "col_Bsmt = df_test.columns[df_test.columns.str.contains(\"Bsmt\") & (df_test.isnull().any())]\n",
    "\n",
    "col_Bsmt"
   ]
  },
  {
   "cell_type": "code",
   "execution_count": 70,
   "metadata": {},
   "outputs": [
    {
     "name": "stdout",
     "output_type": "stream",
     "text": [
      "\n",
      "Checking when 'BsmtQual' is NaN:\n",
      "BsmtQual  BsmtCond  BsmtExposure  BsmtFinType1  BsmtFinSF1  BsmtFinType2  BsmtFinSF2  BsmtUnfSF  TotalBsmtSF  BsmtFullBath  BsmtHalfBath\n",
      "True      True      True          True          False       True          False       False      False        False         False           40\n",
      "          False     False         False         False       False         False       False      False        False         False            2\n",
      "          True      True          True          False       True          False       False      False        True          True             1\n",
      "                                                True        True          True        True       True         True          True             1\n",
      "Name: count, dtype: int64\n",
      "\n",
      "Checking when 'BsmtCond' is NaN:\n",
      "BsmtQual  BsmtCond  BsmtExposure  BsmtFinType1  BsmtFinSF1  BsmtFinType2  BsmtFinSF2  BsmtUnfSF  TotalBsmtSF  BsmtFullBath  BsmtHalfBath\n",
      "True      True      True          True          False       True          False       False      False        False         False           40\n",
      "False     True      False         False         False       False         False       False      False        False         False            3\n",
      "True      True      True          True          False       True          False       False      False        True          True             1\n",
      "                                                True        True          True        True       True         True          True             1\n",
      "Name: count, dtype: int64\n",
      "\n",
      "Checking when 'BsmtExposure' is NaN:\n",
      "BsmtQual  BsmtCond  BsmtExposure  BsmtFinType1  BsmtFinSF1  BsmtFinType2  BsmtFinSF2  BsmtUnfSF  TotalBsmtSF  BsmtFullBath  BsmtHalfBath\n",
      "True      True      True          True          False       True          False       False      False        False         False           40\n",
      "False     False     True          False         False       False         False       False      False        False         False            2\n",
      "True      True      True          True          False       True          False       False      False        True          True             1\n",
      "                                                True        True          True        True       True         True          True             1\n",
      "Name: count, dtype: int64\n",
      "\n",
      "Checking when 'BsmtFinType1' is NaN:\n",
      "BsmtQual  BsmtCond  BsmtExposure  BsmtFinType1  BsmtFinSF1  BsmtFinType2  BsmtFinSF2  BsmtUnfSF  TotalBsmtSF  BsmtFullBath  BsmtHalfBath\n",
      "True      True      True          True          False       True          False       False      False        False         False           40\n",
      "                                                                                                              True          True             1\n",
      "                                                True        True          True        True       True         True          True             1\n",
      "Name: count, dtype: int64\n",
      "\n",
      "Checking when 'BsmtFinSF1' is NaN:\n",
      "BsmtQual  BsmtCond  BsmtExposure  BsmtFinType1  BsmtFinSF1  BsmtFinType2  BsmtFinSF2  BsmtUnfSF  TotalBsmtSF  BsmtFullBath  BsmtHalfBath\n",
      "True      True      True          True          True        True          True        True       True         True          True            1\n",
      "Name: count, dtype: int64\n",
      "\n",
      "Checking when 'BsmtFinType2' is NaN:\n",
      "BsmtQual  BsmtCond  BsmtExposure  BsmtFinType1  BsmtFinSF1  BsmtFinType2  BsmtFinSF2  BsmtUnfSF  TotalBsmtSF  BsmtFullBath  BsmtHalfBath\n",
      "True      True      True          True          False       True          False       False      False        False         False           40\n",
      "                                                                                                              True          True             1\n",
      "                                                True        True          True        True       True         True          True             1\n",
      "Name: count, dtype: int64\n",
      "\n",
      "Checking when 'BsmtFinSF2' is NaN:\n",
      "BsmtQual  BsmtCond  BsmtExposure  BsmtFinType1  BsmtFinSF1  BsmtFinType2  BsmtFinSF2  BsmtUnfSF  TotalBsmtSF  BsmtFullBath  BsmtHalfBath\n",
      "True      True      True          True          True        True          True        True       True         True          True            1\n",
      "Name: count, dtype: int64\n",
      "\n",
      "Checking when 'BsmtUnfSF' is NaN:\n",
      "BsmtQual  BsmtCond  BsmtExposure  BsmtFinType1  BsmtFinSF1  BsmtFinType2  BsmtFinSF2  BsmtUnfSF  TotalBsmtSF  BsmtFullBath  BsmtHalfBath\n",
      "True      True      True          True          True        True          True        True       True         True          True            1\n",
      "Name: count, dtype: int64\n",
      "\n",
      "Checking when 'TotalBsmtSF' is NaN:\n",
      "BsmtQual  BsmtCond  BsmtExposure  BsmtFinType1  BsmtFinSF1  BsmtFinType2  BsmtFinSF2  BsmtUnfSF  TotalBsmtSF  BsmtFullBath  BsmtHalfBath\n",
      "True      True      True          True          True        True          True        True       True         True          True            1\n",
      "Name: count, dtype: int64\n",
      "\n",
      "Checking when 'BsmtFullBath' is NaN:\n",
      "BsmtQual  BsmtCond  BsmtExposure  BsmtFinType1  BsmtFinSF1  BsmtFinType2  BsmtFinSF2  BsmtUnfSF  TotalBsmtSF  BsmtFullBath  BsmtHalfBath\n",
      "True      True      True          True          False       True          False       False      False        True          True            1\n",
      "                                                True        True          True        True       True         True          True            1\n",
      "Name: count, dtype: int64\n",
      "\n",
      "Checking when 'BsmtHalfBath' is NaN:\n",
      "BsmtQual  BsmtCond  BsmtExposure  BsmtFinType1  BsmtFinSF1  BsmtFinType2  BsmtFinSF2  BsmtUnfSF  TotalBsmtSF  BsmtFullBath  BsmtHalfBath\n",
      "True      True      True          True          False       True          False       False      False        True          True            1\n",
      "                                                True        True          True        True       True         True          True            1\n",
      "Name: count, dtype: int64\n"
     ]
    }
   ],
   "source": [
    "# Loop to check whether, when one column is NaN, the others are also NaN\n",
    "for col in col_Bsmt:\n",
    "    print(f\"\\nChecking when '{col}' is NaN:\")\n",
    "    \n",
    "    # Filter rows where the current column is NaN\n",
    "    subset = df_test.loc[df_test[col].isna(), col_Bsmt]\n",
    "    \n",
    "    # Count the patterns of NaN values across the garage-related columns\n",
    "    pattern_counts = subset.isna().value_counts(dropna=False)\n",
    "    print(pattern_counts)"
   ]
  },
  {
   "cell_type": "markdown",
   "metadata": {},
   "source": [
    "- Evaluating the BsmtQual"
   ]
  },
  {
   "cell_type": "code",
   "execution_count": 71,
   "metadata": {},
   "outputs": [
    {
     "data": {
      "application/vnd.microsoft.datawrangler.viewer.v0+json": {
       "columns": [
        {
         "name": "index",
         "rawType": "int64",
         "type": "integer"
        },
        {
         "name": "BsmtQual",
         "rawType": "object",
         "type": "unknown"
        },
        {
         "name": "BsmtCond",
         "rawType": "object",
         "type": "string"
        },
        {
         "name": "BsmtExposure",
         "rawType": "object",
         "type": "string"
        },
        {
         "name": "BsmtFinType1",
         "rawType": "object",
         "type": "string"
        },
        {
         "name": "BsmtFinSF1",
         "rawType": "float64",
         "type": "float"
        },
        {
         "name": "BsmtFinType2",
         "rawType": "object",
         "type": "string"
        },
        {
         "name": "BsmtFinSF2",
         "rawType": "float64",
         "type": "float"
        },
        {
         "name": "BsmtUnfSF",
         "rawType": "float64",
         "type": "float"
        },
        {
         "name": "TotalBsmtSF",
         "rawType": "float64",
         "type": "float"
        },
        {
         "name": "BsmtFullBath",
         "rawType": "float64",
         "type": "float"
        },
        {
         "name": "BsmtHalfBath",
         "rawType": "float64",
         "type": "float"
        }
       ],
       "conversionMethod": "pd.DataFrame",
       "ref": "20cf61d7-bbf4-4e20-8951-e0bbab144c04",
       "rows": [
        [
         "757",
         null,
         "Fa",
         "No",
         "Unf",
         "0.0",
         "Unf",
         "0.0",
         "173.0",
         "173.0",
         "0.0",
         "0.0"
        ],
        [
         "758",
         null,
         "TA",
         "No",
         "Unf",
         "0.0",
         "Unf",
         "0.0",
         "356.0",
         "356.0",
         "0.0",
         "0.0"
        ]
       ],
       "shape": {
        "columns": 11,
        "rows": 2
       }
      },
      "text/html": [
       "<div>\n",
       "<style scoped>\n",
       "    .dataframe tbody tr th:only-of-type {\n",
       "        vertical-align: middle;\n",
       "    }\n",
       "\n",
       "    .dataframe tbody tr th {\n",
       "        vertical-align: top;\n",
       "    }\n",
       "\n",
       "    .dataframe thead th {\n",
       "        text-align: right;\n",
       "    }\n",
       "</style>\n",
       "<table border=\"1\" class=\"dataframe\">\n",
       "  <thead>\n",
       "    <tr style=\"text-align: right;\">\n",
       "      <th></th>\n",
       "      <th>BsmtQual</th>\n",
       "      <th>BsmtCond</th>\n",
       "      <th>BsmtExposure</th>\n",
       "      <th>BsmtFinType1</th>\n",
       "      <th>BsmtFinSF1</th>\n",
       "      <th>BsmtFinType2</th>\n",
       "      <th>BsmtFinSF2</th>\n",
       "      <th>BsmtUnfSF</th>\n",
       "      <th>TotalBsmtSF</th>\n",
       "      <th>BsmtFullBath</th>\n",
       "      <th>BsmtHalfBath</th>\n",
       "    </tr>\n",
       "  </thead>\n",
       "  <tbody>\n",
       "    <tr>\n",
       "      <th>757</th>\n",
       "      <td>NaN</td>\n",
       "      <td>Fa</td>\n",
       "      <td>No</td>\n",
       "      <td>Unf</td>\n",
       "      <td>0.0</td>\n",
       "      <td>Unf</td>\n",
       "      <td>0.0</td>\n",
       "      <td>173.0</td>\n",
       "      <td>173.0</td>\n",
       "      <td>0.0</td>\n",
       "      <td>0.0</td>\n",
       "    </tr>\n",
       "    <tr>\n",
       "      <th>758</th>\n",
       "      <td>NaN</td>\n",
       "      <td>TA</td>\n",
       "      <td>No</td>\n",
       "      <td>Unf</td>\n",
       "      <td>0.0</td>\n",
       "      <td>Unf</td>\n",
       "      <td>0.0</td>\n",
       "      <td>356.0</td>\n",
       "      <td>356.0</td>\n",
       "      <td>0.0</td>\n",
       "      <td>0.0</td>\n",
       "    </tr>\n",
       "  </tbody>\n",
       "</table>\n",
       "</div>"
      ],
      "text/plain": [
       "    BsmtQual BsmtCond BsmtExposure BsmtFinType1  BsmtFinSF1 BsmtFinType2  \\\n",
       "757      NaN       Fa           No          Unf         0.0          Unf   \n",
       "758      NaN       TA           No          Unf         0.0          Unf   \n",
       "\n",
       "     BsmtFinSF2  BsmtUnfSF  TotalBsmtSF  BsmtFullBath  BsmtHalfBath  \n",
       "757         0.0      173.0        173.0           0.0           0.0  \n",
       "758         0.0      356.0        356.0           0.0           0.0  "
      ]
     },
     "execution_count": 71,
     "metadata": {},
     "output_type": "execute_result"
    }
   ],
   "source": [
    "# Selecting rows where BsmtQual is missing but BsmtCond is present, we cannot fill it with -1, because -1 means \"No basement\"\n",
    "df_test.loc[(df_test.BsmtQual.isnull()) & (df_test.BsmtCond.notnull()),col_Bsmt]"
   ]
  },
  {
   "cell_type": "code",
   "execution_count": 72,
   "metadata": {},
   "outputs": [
    {
     "data": {
      "text/plain": [
       "0       TA\n",
       "1       TA\n",
       "2       Gd\n",
       "3       Gd\n",
       "4       TA\n",
       "        ..\n",
       "1454    TA\n",
       "1455    TA\n",
       "1456    TA\n",
       "1457    Gd\n",
       "1458    Gd\n",
       "Name: BsmtQual, Length: 1459, dtype: object"
      ]
     },
     "execution_count": 72,
     "metadata": {},
     "output_type": "execute_result"
    }
   ],
   "source": [
    "# Fill missing values in BsmtQual using the conditional mode\n",
    "\n",
    "df_test.groupby(['BsmtCond', 'BsmtExposure', 'BsmtFinType1', 'BsmtFinType2'])['BsmtQual'].transform(lambda x : pd.Series.mode(x)[0])"
   ]
  },
  {
   "cell_type": "code",
   "execution_count": 73,
   "metadata": {},
   "outputs": [],
   "source": [
    "# Compute the mode for each group\n",
    "groupwise_mode = df_test.groupby(['BsmtCond', 'BsmtExposure', 'BsmtFinType1', 'BsmtFinType2'])['BsmtQual']\\\n",
    "                        .transform(lambda x: pd.Series.mode(x)[0])\n",
    "\n",
    "# Create a mask for rows where BsmtQual is missing but BsmtCond is present\n",
    "mask = (df_test['BsmtQual'].isnull()) & (df_test['BsmtCond'].notnull())\n",
    "\n",
    "# Fill only those values\n",
    "df_test.loc[mask, 'BsmtQual'] = groupwise_mode[mask]\n"
   ]
  },
  {
   "cell_type": "code",
   "execution_count": 74,
   "metadata": {},
   "outputs": [
    {
     "data": {
      "application/vnd.microsoft.datawrangler.viewer.v0+json": {
       "columns": [
        {
         "name": "index",
         "rawType": "int64",
         "type": "integer"
        },
        {
         "name": "BsmtQual",
         "rawType": "object",
         "type": "string"
        },
        {
         "name": "BsmtCond",
         "rawType": "object",
         "type": "string"
        },
        {
         "name": "BsmtExposure",
         "rawType": "object",
         "type": "string"
        },
        {
         "name": "BsmtFinType1",
         "rawType": "object",
         "type": "string"
        },
        {
         "name": "BsmtFinSF1",
         "rawType": "float64",
         "type": "float"
        },
        {
         "name": "BsmtFinType2",
         "rawType": "object",
         "type": "string"
        },
        {
         "name": "BsmtFinSF2",
         "rawType": "float64",
         "type": "float"
        },
        {
         "name": "BsmtUnfSF",
         "rawType": "float64",
         "type": "float"
        },
        {
         "name": "TotalBsmtSF",
         "rawType": "float64",
         "type": "float"
        },
        {
         "name": "Heating",
         "rawType": "object",
         "type": "string"
        }
       ],
       "conversionMethod": "pd.DataFrame",
       "ref": "f662186a-9880-4299-9a1e-775714a1d42b",
       "rows": [
        [
         "757",
         "TA",
         "Fa",
         "No",
         "Unf",
         "0.0",
         "Unf",
         "0.0",
         "173.0",
         "173.0",
         "GasA"
        ],
        [
         "758",
         "TA",
         "TA",
         "No",
         "Unf",
         "0.0",
         "Unf",
         "0.0",
         "356.0",
         "356.0",
         "GasA"
        ]
       ],
       "shape": {
        "columns": 10,
        "rows": 2
       }
      },
      "text/html": [
       "<div>\n",
       "<style scoped>\n",
       "    .dataframe tbody tr th:only-of-type {\n",
       "        vertical-align: middle;\n",
       "    }\n",
       "\n",
       "    .dataframe tbody tr th {\n",
       "        vertical-align: top;\n",
       "    }\n",
       "\n",
       "    .dataframe thead th {\n",
       "        text-align: right;\n",
       "    }\n",
       "</style>\n",
       "<table border=\"1\" class=\"dataframe\">\n",
       "  <thead>\n",
       "    <tr style=\"text-align: right;\">\n",
       "      <th></th>\n",
       "      <th>BsmtQual</th>\n",
       "      <th>BsmtCond</th>\n",
       "      <th>BsmtExposure</th>\n",
       "      <th>BsmtFinType1</th>\n",
       "      <th>BsmtFinSF1</th>\n",
       "      <th>BsmtFinType2</th>\n",
       "      <th>BsmtFinSF2</th>\n",
       "      <th>BsmtUnfSF</th>\n",
       "      <th>TotalBsmtSF</th>\n",
       "      <th>Heating</th>\n",
       "    </tr>\n",
       "  </thead>\n",
       "  <tbody>\n",
       "    <tr>\n",
       "      <th>757</th>\n",
       "      <td>TA</td>\n",
       "      <td>Fa</td>\n",
       "      <td>No</td>\n",
       "      <td>Unf</td>\n",
       "      <td>0.0</td>\n",
       "      <td>Unf</td>\n",
       "      <td>0.0</td>\n",
       "      <td>173.0</td>\n",
       "      <td>173.0</td>\n",
       "      <td>GasA</td>\n",
       "    </tr>\n",
       "    <tr>\n",
       "      <th>758</th>\n",
       "      <td>TA</td>\n",
       "      <td>TA</td>\n",
       "      <td>No</td>\n",
       "      <td>Unf</td>\n",
       "      <td>0.0</td>\n",
       "      <td>Unf</td>\n",
       "      <td>0.0</td>\n",
       "      <td>356.0</td>\n",
       "      <td>356.0</td>\n",
       "      <td>GasA</td>\n",
       "    </tr>\n",
       "  </tbody>\n",
       "</table>\n",
       "</div>"
      ],
      "text/plain": [
       "    BsmtQual BsmtCond BsmtExposure BsmtFinType1  BsmtFinSF1 BsmtFinType2  \\\n",
       "757       TA       Fa           No          Unf         0.0          Unf   \n",
       "758       TA       TA           No          Unf         0.0          Unf   \n",
       "\n",
       "     BsmtFinSF2  BsmtUnfSF  TotalBsmtSF Heating  \n",
       "757         0.0      173.0        173.0    GasA  \n",
       "758         0.0      356.0        356.0    GasA  "
      ]
     },
     "execution_count": 74,
     "metadata": {},
     "output_type": "execute_result"
    }
   ],
   "source": [
    "df_test.iloc[757:759,30:40]"
   ]
  },
  {
   "cell_type": "code",
   "execution_count": 75,
   "metadata": {},
   "outputs": [
    {
     "data": {
      "text/plain": [
       "BsmtQual  BsmtCond  BsmtExposure  BsmtFinType1  BsmtFinSF1  BsmtFinType2  BsmtFinSF2  BsmtUnfSF  TotalBsmtSF  BsmtFullBath  BsmtHalfBath\n",
       "NaN       NaN       NaN           NaN           0.0         NaN           0.0         0.0        0.0          0.0           0.0             40\n",
       "                                                                                                              NaN           NaN              1\n",
       "                                                NaN         NaN           NaN         NaN        NaN          NaN           NaN              1\n",
       "Name: count, dtype: int64"
      ]
     },
     "execution_count": 75,
     "metadata": {},
     "output_type": "execute_result"
    }
   ],
   "source": [
    "# Now, let's check the values of BsmtQual when it's missing\n",
    "df_test.loc[df_test.BsmtQual.isnull(),col_Bsmt].value_counts(dropna=False)"
   ]
  },
  {
   "cell_type": "code",
   "execution_count": 76,
   "metadata": {},
   "outputs": [],
   "source": [
    "df_test.loc[df_test.BsmtQual.isnull(),['BsmtFinSF1','BsmtFinSF2','BsmtUnfSF','TotalBsmtSF','BsmtFullBath','BsmtHalfBath']] = 0\n",
    "\n",
    "df_test.loc[df_test.BsmtQual.isnull(),['BsmtQual','BsmtCond','BsmtExposure','BsmtFinType1','BsmtFinType2']] = -1"
   ]
  },
  {
   "cell_type": "markdown",
   "metadata": {},
   "source": [
    "- Evaluating the BsmtCond"
   ]
  },
  {
   "cell_type": "code",
   "execution_count": 77,
   "metadata": {},
   "outputs": [
    {
     "data": {
      "text/plain": [
       "BsmtQual  BsmtCond  BsmtExposure  BsmtFinType1  BsmtFinSF1  BsmtFinType2  BsmtFinSF2  BsmtUnfSF  TotalBsmtSF  BsmtFullBath  BsmtHalfBath\n",
       "Gd        NaN       Mn            GLQ           1044.0      Rec           382.0       0.0        1426.0       1.0           0.0             1\n",
       "TA        NaN       Av            ALQ           755.0       Unf           0.0         240.0      995.0        0.0           0.0             1\n",
       "                    No            BLQ           1033.0      Unf           0.0         94.0       1127.0       0.0           1.0             1\n",
       "Name: count, dtype: int64"
      ]
     },
     "execution_count": 77,
     "metadata": {},
     "output_type": "execute_result"
    }
   ],
   "source": [
    "df_test.loc[df_test.BsmtCond.isnull(),col_Bsmt].value_counts(dropna=False)"
   ]
  },
  {
   "cell_type": "code",
   "execution_count": 78,
   "metadata": {},
   "outputs": [],
   "source": [
    "df_test.BsmtCond.mode()[0]\n",
    "df_test.loc[df_test.BsmtCond.isnull(),'BsmtCond'] = df_test.BsmtCond.mode()[0]"
   ]
  },
  {
   "cell_type": "markdown",
   "metadata": {},
   "source": [
    "- Evaluating the BsmtExposure"
   ]
  },
  {
   "cell_type": "code",
   "execution_count": 79,
   "metadata": {},
   "outputs": [
    {
     "data": {
      "text/plain": [
       "BsmtQual  BsmtCond  BsmtExposure  BsmtFinType1  BsmtFinSF1  BsmtFinType2  BsmtFinSF2  BsmtUnfSF  TotalBsmtSF  BsmtFullBath  BsmtHalfBath\n",
       "Gd        TA        NaN           Unf           0.0         Unf           0.0         725.0      725.0        0.0           0.0             1\n",
       "                                                                                      1595.0     1595.0       0.0           0.0             1\n",
       "Name: count, dtype: int64"
      ]
     },
     "execution_count": 79,
     "metadata": {},
     "output_type": "execute_result"
    }
   ],
   "source": [
    "df_test.loc[df_test.BsmtExposure.isnull(),col_Bsmt].value_counts(dropna=False)"
   ]
  },
  {
   "cell_type": "code",
   "execution_count": 80,
   "metadata": {},
   "outputs": [],
   "source": [
    "df_test.loc[df_test.BsmtExposure.isnull(),col_Bsmt].value_counts(dropna=False)\n",
    "df_test.loc[df_test.BsmtExposure.isnull(),'BsmtExposure'] = df_test.BsmtExposure.mode()[0]"
   ]
  },
  {
   "cell_type": "code",
   "execution_count": 81,
   "metadata": {},
   "outputs": [
    {
     "data": {
      "text/plain": [
       "MasVnrType     894\n",
       "MasVnrArea      15\n",
       "MSZoning         4\n",
       "Utilities        2\n",
       "Functional       2\n",
       "Exterior1st      1\n",
       "SaleType         1\n",
       "KitchenQual      1\n",
       "Exterior2nd      1\n",
       "LotShape         0\n",
       "dtype: int64"
      ]
     },
     "execution_count": 81,
     "metadata": {},
     "output_type": "execute_result"
    }
   ],
   "source": [
    "# Verifying null values in the set\n",
    "df_test.isnull().sum().sort_values(ascending=False).head(10)"
   ]
  },
  {
   "cell_type": "markdown",
   "metadata": {},
   "source": [
    "<a id='MasVnrType'></a>  \n",
    "- **Now analyzing the <font color='#A22538'>MasVnrType</font> column**  \n",
    "- This column refers to the **type of masonry veneer** used in the house:  \n",
    "    - **BrkCmn**: Brick Common  \n",
    "    - **BrkFace**: Brick Face  \n",
    "    - **CBlock**: Cinder Block  \n",
    "    - **None**: No veneer  \n",
    "    - **Stone**: Stone veneer"
   ]
  },
  {
   "cell_type": "code",
   "execution_count": 82,
   "metadata": {},
   "outputs": [
    {
     "data": {
      "application/vnd.microsoft.datawrangler.viewer.v0+json": {
       "columns": [
        {
         "name": "index",
         "rawType": "int64",
         "type": "integer"
        },
        {
         "name": "MasVnrType",
         "rawType": "object",
         "type": "unknown"
        },
        {
         "name": "MasVnrArea",
         "rawType": "float64",
         "type": "float"
        }
       ],
       "conversionMethod": "pd.DataFrame",
       "ref": "055df3f7-a1c0-48cd-80e8-d04d35535522",
       "rows": [
        [
         "0",
         null,
         "0.0"
        ],
        [
         "2",
         null,
         "0.0"
        ],
        [
         "4",
         null,
         "0.0"
        ],
        [
         "5",
         null,
         "0.0"
        ],
        [
         "6",
         null,
         "0.0"
        ],
        [
         "7",
         null,
         "0.0"
        ],
        [
         "8",
         null,
         "0.0"
        ],
        [
         "9",
         null,
         "0.0"
        ],
        [
         "10",
         null,
         "0.0"
        ],
        [
         "13",
         null,
         "0.0"
        ],
        [
         "14",
         null,
         "0.0"
        ],
        [
         "22",
         null,
         "0.0"
        ],
        [
         "24",
         null,
         "0.0"
        ],
        [
         "25",
         null,
         "0.0"
        ],
        [
         "28",
         null,
         "0.0"
        ],
        [
         "29",
         null,
         "0.0"
        ],
        [
         "31",
         null,
         "0.0"
        ],
        [
         "35",
         null,
         "0.0"
        ],
        [
         "36",
         null,
         "0.0"
        ],
        [
         "38",
         null,
         "0.0"
        ],
        [
         "41",
         null,
         "0.0"
        ],
        [
         "42",
         null,
         "0.0"
        ],
        [
         "43",
         null,
         "0.0"
        ],
        [
         "44",
         null,
         "0.0"
        ],
        [
         "46",
         null,
         "0.0"
        ],
        [
         "47",
         null,
         "0.0"
        ],
        [
         "48",
         null,
         "0.0"
        ],
        [
         "50",
         null,
         "0.0"
        ],
        [
         "52",
         null,
         "0.0"
        ],
        [
         "57",
         null,
         "0.0"
        ],
        [
         "62",
         null,
         "0.0"
        ],
        [
         "63",
         null,
         "0.0"
        ],
        [
         "64",
         null,
         "0.0"
        ],
        [
         "65",
         null,
         "0.0"
        ],
        [
         "66",
         null,
         "0.0"
        ],
        [
         "67",
         null,
         "0.0"
        ],
        [
         "68",
         null,
         "0.0"
        ],
        [
         "71",
         null,
         "0.0"
        ],
        [
         "72",
         null,
         "0.0"
        ],
        [
         "73",
         null,
         "0.0"
        ],
        [
         "74",
         null,
         "0.0"
        ],
        [
         "75",
         null,
         "0.0"
        ],
        [
         "76",
         null,
         "0.0"
        ],
        [
         "77",
         null,
         "0.0"
        ],
        [
         "78",
         null,
         "0.0"
        ],
        [
         "79",
         null,
         "0.0"
        ],
        [
         "80",
         null,
         "0.0"
        ],
        [
         "81",
         null,
         "0.0"
        ],
        [
         "82",
         null,
         "0.0"
        ],
        [
         "83",
         null,
         "0.0"
        ]
       ],
       "shape": {
        "columns": 2,
        "rows": 894
       }
      },
      "text/html": [
       "<div>\n",
       "<style scoped>\n",
       "    .dataframe tbody tr th:only-of-type {\n",
       "        vertical-align: middle;\n",
       "    }\n",
       "\n",
       "    .dataframe tbody tr th {\n",
       "        vertical-align: top;\n",
       "    }\n",
       "\n",
       "    .dataframe thead th {\n",
       "        text-align: right;\n",
       "    }\n",
       "</style>\n",
       "<table border=\"1\" class=\"dataframe\">\n",
       "  <thead>\n",
       "    <tr style=\"text-align: right;\">\n",
       "      <th></th>\n",
       "      <th>MasVnrType</th>\n",
       "      <th>MasVnrArea</th>\n",
       "    </tr>\n",
       "  </thead>\n",
       "  <tbody>\n",
       "    <tr>\n",
       "      <th>0</th>\n",
       "      <td>NaN</td>\n",
       "      <td>0.0</td>\n",
       "    </tr>\n",
       "    <tr>\n",
       "      <th>2</th>\n",
       "      <td>NaN</td>\n",
       "      <td>0.0</td>\n",
       "    </tr>\n",
       "    <tr>\n",
       "      <th>4</th>\n",
       "      <td>NaN</td>\n",
       "      <td>0.0</td>\n",
       "    </tr>\n",
       "    <tr>\n",
       "      <th>5</th>\n",
       "      <td>NaN</td>\n",
       "      <td>0.0</td>\n",
       "    </tr>\n",
       "    <tr>\n",
       "      <th>6</th>\n",
       "      <td>NaN</td>\n",
       "      <td>0.0</td>\n",
       "    </tr>\n",
       "    <tr>\n",
       "      <th>...</th>\n",
       "      <td>...</td>\n",
       "      <td>...</td>\n",
       "    </tr>\n",
       "    <tr>\n",
       "      <th>1453</th>\n",
       "      <td>NaN</td>\n",
       "      <td>0.0</td>\n",
       "    </tr>\n",
       "    <tr>\n",
       "      <th>1454</th>\n",
       "      <td>NaN</td>\n",
       "      <td>0.0</td>\n",
       "    </tr>\n",
       "    <tr>\n",
       "      <th>1455</th>\n",
       "      <td>NaN</td>\n",
       "      <td>0.0</td>\n",
       "    </tr>\n",
       "    <tr>\n",
       "      <th>1456</th>\n",
       "      <td>NaN</td>\n",
       "      <td>0.0</td>\n",
       "    </tr>\n",
       "    <tr>\n",
       "      <th>1457</th>\n",
       "      <td>NaN</td>\n",
       "      <td>0.0</td>\n",
       "    </tr>\n",
       "  </tbody>\n",
       "</table>\n",
       "<p>894 rows × 2 columns</p>\n",
       "</div>"
      ],
      "text/plain": [
       "     MasVnrType  MasVnrArea\n",
       "0           NaN         0.0\n",
       "2           NaN         0.0\n",
       "4           NaN         0.0\n",
       "5           NaN         0.0\n",
       "6           NaN         0.0\n",
       "...         ...         ...\n",
       "1453        NaN         0.0\n",
       "1454        NaN         0.0\n",
       "1455        NaN         0.0\n",
       "1456        NaN         0.0\n",
       "1457        NaN         0.0\n",
       "\n",
       "[894 rows x 2 columns]"
      ]
     },
     "execution_count": 82,
     "metadata": {},
     "output_type": "execute_result"
    }
   ],
   "source": [
    "# Filtering the dataset\n",
    "df_test.loc[df_test.MasVnrType.isnull(),['MasVnrType','MasVnrArea']]"
   ]
  },
  {
   "cell_type": "markdown",
   "metadata": {},
   "source": [
    "There shouldn't be cases where MasVnrArea has a positive value but MasVnrType is missing. Therefore, we fill MasVnrType with its unconditional mode only for rows where MasVnrArea is not null and MasVnrType is null."
   ]
  },
  {
   "cell_type": "code",
   "execution_count": 83,
   "metadata": {},
   "outputs": [],
   "source": [
    "masvnrtype_mode = df_test['MasVnrType'].mode()[0]\n",
    "\n",
    "mask = (df_test['MasVnrType'].isnull()) & (df_test['MasVnrArea'] > 0)\n",
    "\n",
    "df_test.loc[mask, 'MasVnrType'] = masvnrtype_mode"
   ]
  },
  {
   "cell_type": "code",
   "execution_count": 84,
   "metadata": {},
   "outputs": [],
   "source": [
    "df_test['MasVnrType'] = df_test['MasVnrType'].fillna('None')\n",
    "df_test['MasVnrArea'] = df_test['MasVnrArea'].fillna(0)"
   ]
  },
  {
   "cell_type": "code",
   "execution_count": 85,
   "metadata": {},
   "outputs": [
    {
     "data": {
      "text/plain": [
       "MasVnrType\n",
       "None       891\n",
       "BrkFace    437\n",
       "Stone      121\n",
       "BrkCmn      10\n",
       "Name: count, dtype: int64"
      ]
     },
     "execution_count": 85,
     "metadata": {},
     "output_type": "execute_result"
    }
   ],
   "source": [
    "df_test['MasVnrType'].value_counts(dropna=False)"
   ]
  },
  {
   "cell_type": "markdown",
   "metadata": {},
   "source": [
    "- We know that depending on the variable, imputing missing values with the mode may not always be the best choice. For instance, if there are outliers or skewed distributions, the median might be a better alternative.\n",
    "\n",
    "- However, since the number of missing values is small, this approach is unlikely to have a significant impact on model performance."
   ]
  },
  {
   "cell_type": "code",
   "execution_count": 86,
   "metadata": {},
   "outputs": [],
   "source": [
    "cols_to_fill = ['MSZoning', 'KitchenQual','Utilities' ,'Functional', 'SaleType', 'Exterior2nd', 'Exterior1st']\n",
    "\n",
    "for col in cols_to_fill:\n",
    "    mode_value = df_test[col].mode()[0]\n",
    "    df_test[col] = df_test[col].fillna(mode_value)"
   ]
  },
  {
   "cell_type": "code",
   "execution_count": 90,
   "metadata": {},
   "outputs": [
    {
     "name": "stdout",
     "output_type": "stream",
     "text": [
      "Id              0.00%\n",
      "MSSubClass      0.00%\n",
      "MSZoning        0.00%\n",
      "LotFrontage     0.00%\n",
      "LotArea         0.00%\n",
      "Street          0.00%\n",
      "Alley           0.00%\n",
      "LotShape        0.00%\n",
      "LandContour     0.00%\n",
      "Utilities       0.00%\n",
      "LotConfig       0.00%\n",
      "LandSlope       0.00%\n",
      "Neighborhood    0.00%\n",
      "Condition1      0.00%\n",
      "Condition2      0.00%\n",
      "BldgType        0.00%\n",
      "HouseStyle      0.00%\n",
      "OverallQual     0.00%\n",
      "OverallCond     0.00%\n",
      "YearBuilt       0.00%\n",
      "dtype: object\n"
     ]
    }
   ],
   "source": [
    "# Check Train data for missing values (Top 20)\n",
    "missing_percent = (df_test.isnull().sum() / df_test.shape[0] * 100).sort_values(ascending=False).head(20)\n",
    "missing_percent = missing_percent.apply(lambda x: f\"{x:.2f}%\")\n",
    "print(missing_percent)\n",
    "\n",
    "del missing_percent"
   ]
  },
  {
   "cell_type": "code",
   "execution_count": 88,
   "metadata": {},
   "outputs": [],
   "source": [
    "df_train.to_csv('train_2.csv', index=False)\n",
    "df_test.to_csv('test_2.csv', index=False)"
   ]
  }
 ],
 "metadata": {
  "kernelspec": {
   "display_name": "Python 3",
   "language": "python",
   "name": "python3"
  },
  "language_info": {
   "codemirror_mode": {
    "name": "ipython",
    "version": 3
   },
   "file_extension": ".py",
   "mimetype": "text/x-python",
   "name": "python",
   "nbconvert_exporter": "python",
   "pygments_lexer": "ipython3",
   "version": "3.13.2"
  }
 },
 "nbformat": 4,
 "nbformat_minor": 2
}
